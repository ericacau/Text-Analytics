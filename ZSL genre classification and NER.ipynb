{
  "cells": [
    {
      "cell_type": "code",
      "source": [
        "!pip install flair\n",
        "!pip install transformers==3.1.0"
      ],
      "metadata": {
        "id": "SXwzWelUEEAv"
      },
      "execution_count": 2,
      "outputs": []
    },
    {
      "cell_type": "markdown",
      "source": [
        "# Zero Shot Learning (ZSL)"
      ],
      "metadata": {
        "id": "vBKae-gDD3ed"
      }
    },
    {
      "cell_type": "code",
      "source": [
        "import pandas as pd\n",
        "import flair\n",
        "import tqdm\n",
        "\n",
        "from flair.models import SequenceTagger\n",
        "from itertools import islice\n"
      ],
      "metadata": {
        "id": "wcUYnoMZD2xJ"
      },
      "execution_count": 77,
      "outputs": []
    },
    {
      "cell_type": "code",
      "source": [
        "df = pd.read_csv(\"to_ZSL.csv\")"
      ],
      "metadata": {
        "id": "Chhdmq32EnnP"
      },
      "execution_count": 78,
      "outputs": []
    },
    {
      "cell_type": "code",
      "source": [
        "df.head()"
      ],
      "metadata": {
        "id": "m1zMAvQLEvxp",
        "colab": {
          "base_uri": "https://localhost:8080/",
          "height": 206
        },
        "outputId": "46b07136-4fb1-4689-9df9-d5a62725e6d6"
      },
      "execution_count": 79,
      "outputs": [
        {
          "output_type": "execute_result",
          "data": {
            "text/plain": [
              "                 book_authors                                 book_title  \\\n",
              "0             Suzanne Collins                           The Hunger Games   \n",
              "1  J.K. Rowling|Mary GrandPré  Harry Potter and the Order of the Phoenix   \n",
              "2                  Harper Lee                      To Kill a Mockingbird   \n",
              "3             Stephenie Meyer                                   Twilight   \n",
              "4                Markus Zusak                             The Book Thief   \n",
              "\n",
              "                                           book_desc        genre  \n",
              "0  Winning will make you famous. Losing means cer...  Young Adult  \n",
              "1  There is a door at the end of a silent corrido...      Fantasy  \n",
              "2  The unforgettable novel of a childhood in a sl...     Classics  \n",
              "3  About three things I was absolutely positive.F...  Young Adult  \n",
              "4  Trying to make sense of the horrors of World W...   Historical  "
            ],
            "text/html": [
              "<div>\n",
              "<style scoped>\n",
              "    .dataframe tbody tr th:only-of-type {\n",
              "        vertical-align: middle;\n",
              "    }\n",
              "\n",
              "    .dataframe tbody tr th {\n",
              "        vertical-align: top;\n",
              "    }\n",
              "\n",
              "    .dataframe thead th {\n",
              "        text-align: right;\n",
              "    }\n",
              "</style>\n",
              "<table border=\"1\" class=\"dataframe\">\n",
              "  <thead>\n",
              "    <tr style=\"text-align: right;\">\n",
              "      <th></th>\n",
              "      <th>book_authors</th>\n",
              "      <th>book_title</th>\n",
              "      <th>book_desc</th>\n",
              "      <th>genre</th>\n",
              "    </tr>\n",
              "  </thead>\n",
              "  <tbody>\n",
              "    <tr>\n",
              "      <th>0</th>\n",
              "      <td>Suzanne Collins</td>\n",
              "      <td>The Hunger Games</td>\n",
              "      <td>Winning will make you famous. Losing means cer...</td>\n",
              "      <td>Young Adult</td>\n",
              "    </tr>\n",
              "    <tr>\n",
              "      <th>1</th>\n",
              "      <td>J.K. Rowling|Mary GrandPré</td>\n",
              "      <td>Harry Potter and the Order of the Phoenix</td>\n",
              "      <td>There is a door at the end of a silent corrido...</td>\n",
              "      <td>Fantasy</td>\n",
              "    </tr>\n",
              "    <tr>\n",
              "      <th>2</th>\n",
              "      <td>Harper Lee</td>\n",
              "      <td>To Kill a Mockingbird</td>\n",
              "      <td>The unforgettable novel of a childhood in a sl...</td>\n",
              "      <td>Classics</td>\n",
              "    </tr>\n",
              "    <tr>\n",
              "      <th>3</th>\n",
              "      <td>Stephenie Meyer</td>\n",
              "      <td>Twilight</td>\n",
              "      <td>About three things I was absolutely positive.F...</td>\n",
              "      <td>Young Adult</td>\n",
              "    </tr>\n",
              "    <tr>\n",
              "      <th>4</th>\n",
              "      <td>Markus Zusak</td>\n",
              "      <td>The Book Thief</td>\n",
              "      <td>Trying to make sense of the horrors of World W...</td>\n",
              "      <td>Historical</td>\n",
              "    </tr>\n",
              "  </tbody>\n",
              "</table>\n",
              "</div>"
            ]
          },
          "metadata": {},
          "execution_count": 79
        }
      ]
    },
    {
      "cell_type": "code",
      "source": [
        "print(df.shape)\n"
      ],
      "metadata": {
        "colab": {
          "base_uri": "https://localhost:8080/"
        },
        "id": "kaV6DMaJLW7W",
        "outputId": "e9a7e8d1-f3e6-4283-d570-27925861caa8"
      },
      "execution_count": 80,
      "outputs": [
        {
          "output_type": "stream",
          "name": "stdout",
          "text": [
            "(43793, 4)\n"
          ]
        }
      ]
    },
    {
      "cell_type": "markdown",
      "source": [
        "### Genre prediction"
      ],
      "metadata": {
        "id": "PZo7KQ1BLcyS"
      }
    },
    {
      "cell_type": "code",
      "source": [
        "from flair.models import TARSClassifier\n",
        "from flair.data import Sentence"
      ],
      "metadata": {
        "id": "X9ryr83kEujL"
      },
      "execution_count": 81,
      "outputs": []
    },
    {
      "cell_type": "code",
      "source": [
        "# TARS: Task-aware representation of sentences\n",
        "tars = TARSClassifier.load('tars-base')\n",
        "existing_tasks = tars.list_existing_tasks()\n",
        "existing_tasks"
      ],
      "metadata": {
        "colab": {
          "base_uri": "https://localhost:8080/"
        },
        "id": "Q57F9lC1E4wu",
        "outputId": "319998de-c824-4974-e683-b3e6ddf1dab4"
      },
      "execution_count": 82,
      "outputs": [
        {
          "output_type": "stream",
          "name": "stdout",
          "text": [
            "2022-05-24 15:44:58,325 loading file /root/.flair/models/tars-base-v8.pt\n"
          ]
        },
        {
          "output_type": "execute_result",
          "data": {
            "text/plain": [
              "{'AGNews',\n",
              " 'Amazon',\n",
              " 'DBPedia',\n",
              " 'GO_EMOTIONS',\n",
              " 'IMDB',\n",
              " 'NEWS_CATEGORY',\n",
              " 'SST',\n",
              " 'TREC_6',\n",
              " 'Yelp'}"
            ]
          },
          "metadata": {},
          "execution_count": 82
        }
      ]
    },
    {
      "cell_type": "code",
      "source": [
        "# we try a different - smaller - taxonomy\n",
        "#genres_list = ['Books', 'Travel', \"Children's\", 'Science', 'Medical', 'Health,', 'Fitness', 'Dieting', 'Fiction', 'Business', 'Money', 'Crafts,', 'Hobbies', 'Home', 'Math', 'Christian', 'Bibles', 'Cookbooks,', 'Food', 'Wine', 'Computers', 'Technology', 'Literature', 'Religion', 'Spirituality', 'Teen', 'Young', 'Adult', 'Law', 'Humor', 'Entertainment', 'History', 'Arts', 'Photography', 'Sports', 'Outdoors', 'Romance', 'Biographies', 'Memoirs', 'Fantasy', 'Politics', 'Social', 'Sciences', 'Reference', 'Comics', 'Graphic', 'Novels', 'Test', 'Preparation', 'Self-Help', 'Engineering', 'Transportation', 'Calendars', 'Parenting', 'Relationships', 'Mystery,', 'Thriller', 'Suspense', 'Education', 'Teaching', 'Gay', 'Lesbian']"
      ],
      "metadata": {
        "id": "xJ5tIJT_Ib8v"
      },
      "execution_count": 181,
      "outputs": []
    },
    {
      "cell_type": "code",
      "source": [
        "genre = df.genre.unique()"
      ],
      "metadata": {
        "id": "ml5VS63GVg1p"
      },
      "execution_count": 83,
      "outputs": []
    },
    {
      "cell_type": "code",
      "source": [
        "df_pred_genres = df[:5].copy()\n",
        "df_pred_genres"
      ],
      "metadata": {
        "id": "CkfqtzJ-MOI0",
        "colab": {
          "base_uri": "https://localhost:8080/",
          "height": 206
        },
        "outputId": "ee815c1d-a3d6-45d3-f55e-30a385e242f4"
      },
      "execution_count": 89,
      "outputs": [
        {
          "output_type": "execute_result",
          "data": {
            "text/plain": [
              "                 book_authors                                 book_title  \\\n",
              "0             Suzanne Collins                           The Hunger Games   \n",
              "1  J.K. Rowling|Mary GrandPré  Harry Potter and the Order of the Phoenix   \n",
              "2                  Harper Lee                      To Kill a Mockingbird   \n",
              "3             Stephenie Meyer                                   Twilight   \n",
              "4                Markus Zusak                             The Book Thief   \n",
              "\n",
              "                                           book_desc        genre  \n",
              "0  Winning will make you famous. Losing means cer...  Young Adult  \n",
              "1  There is a door at the end of a silent corrido...      Fantasy  \n",
              "2  The unforgettable novel of a childhood in a sl...     Classics  \n",
              "3  About three things I was absolutely positive.F...  Young Adult  \n",
              "4  Trying to make sense of the horrors of World W...   Historical  "
            ],
            "text/html": [
              "<div>\n",
              "<style scoped>\n",
              "    .dataframe tbody tr th:only-of-type {\n",
              "        vertical-align: middle;\n",
              "    }\n",
              "\n",
              "    .dataframe tbody tr th {\n",
              "        vertical-align: top;\n",
              "    }\n",
              "\n",
              "    .dataframe thead th {\n",
              "        text-align: right;\n",
              "    }\n",
              "</style>\n",
              "<table border=\"1\" class=\"dataframe\">\n",
              "  <thead>\n",
              "    <tr style=\"text-align: right;\">\n",
              "      <th></th>\n",
              "      <th>book_authors</th>\n",
              "      <th>book_title</th>\n",
              "      <th>book_desc</th>\n",
              "      <th>genre</th>\n",
              "    </tr>\n",
              "  </thead>\n",
              "  <tbody>\n",
              "    <tr>\n",
              "      <th>0</th>\n",
              "      <td>Suzanne Collins</td>\n",
              "      <td>The Hunger Games</td>\n",
              "      <td>Winning will make you famous. Losing means cer...</td>\n",
              "      <td>Young Adult</td>\n",
              "    </tr>\n",
              "    <tr>\n",
              "      <th>1</th>\n",
              "      <td>J.K. Rowling|Mary GrandPré</td>\n",
              "      <td>Harry Potter and the Order of the Phoenix</td>\n",
              "      <td>There is a door at the end of a silent corrido...</td>\n",
              "      <td>Fantasy</td>\n",
              "    </tr>\n",
              "    <tr>\n",
              "      <th>2</th>\n",
              "      <td>Harper Lee</td>\n",
              "      <td>To Kill a Mockingbird</td>\n",
              "      <td>The unforgettable novel of a childhood in a sl...</td>\n",
              "      <td>Classics</td>\n",
              "    </tr>\n",
              "    <tr>\n",
              "      <th>3</th>\n",
              "      <td>Stephenie Meyer</td>\n",
              "      <td>Twilight</td>\n",
              "      <td>About three things I was absolutely positive.F...</td>\n",
              "      <td>Young Adult</td>\n",
              "    </tr>\n",
              "    <tr>\n",
              "      <th>4</th>\n",
              "      <td>Markus Zusak</td>\n",
              "      <td>The Book Thief</td>\n",
              "      <td>Trying to make sense of the horrors of World W...</td>\n",
              "      <td>Historical</td>\n",
              "    </tr>\n",
              "  </tbody>\n",
              "</table>\n",
              "</div>"
            ]
          },
          "metadata": {},
          "execution_count": 89
        }
      ]
    },
    {
      "cell_type": "code",
      "source": [
        "def genre_tagger(summary, genre, tars):\n",
        "  s = Sentence(summary)\n",
        "  tars.predict_zero_shot(s, genre, multi_label=True)\n",
        "  dict_tag = {}\n",
        "  for label in s.labels:\n",
        "      dict_tag[label.value] = label.score\n",
        "  sorted_tag = sorted(dict_tag, key=dict_tag.get, reverse=True)[:3]\n",
        "  return [sorted_tag[0], sorted_tag[1],sorted_tag[2]]"
      ],
      "metadata": {
        "id": "VdE1IiE8NzeF"
      },
      "execution_count": 184,
      "outputs": []
    },
    {
      "cell_type": "code",
      "source": [
        "df_pred_genres['tag_1'], df_pred_genres['tag_2'], df_pred_genres['tag_3'] = zip(*df_pred_genres[\"book_desc\"].apply(lambda x: genre_tagger(x, genre, tars)))"
      ],
      "metadata": {
        "id": "s4WN2udTOJ7g"
      },
      "execution_count": 185,
      "outputs": []
    },
    {
      "cell_type": "code",
      "source": [
        "df_pred_genres"
      ],
      "metadata": {
        "id": "L7N3v7fPQdfq",
        "colab": {
          "base_uri": "https://localhost:8080/",
          "height": 175
        },
        "outputId": "b4ba7e57-fcd8-4d0a-bfe4-8f1827c53542"
      },
      "execution_count": 186,
      "outputs": [
        {
          "output_type": "execute_result",
          "data": {
            "text/plain": [
              "                 book_authors                                 book_title  \\\n",
              "0             Suzanne Collins                           The Hunger Games   \n",
              "1  J.K. Rowling|Mary GrandPré  Harry Potter and the Order of the Phoenix   \n",
              "2                  Harper Lee                      To Kill a Mockingbird   \n",
              "3             Stephenie Meyer                                   Twilight   \n",
              "\n",
              "                                           book_desc        genre       tag_1  \\\n",
              "0  Winning will make you famous. Losing means cer...  Young Adult    Politics   \n",
              "1  There is a door at the end of a silent corrido...      Fantasy  True Story   \n",
              "2  The unforgettable novel of a childhood in a sl...     Classics  True Story   \n",
              "3  About three things I was absolutely positive.F...  Young Adult  True Story   \n",
              "\n",
              "               tag_2            tag_3  \n",
              "0         Retellings              Law  \n",
              "1  Realistic Fiction  Magical Realism  \n",
              "2          Book Club          Writing  \n",
              "3      Love Inspired             Love  "
            ],
            "text/html": [
              "\n",
              "  <div id=\"df-f6ef4908-4f1c-4251-b3ba-99af39d526b2\">\n",
              "    <div class=\"colab-df-container\">\n",
              "      <div>\n",
              "<style scoped>\n",
              "    .dataframe tbody tr th:only-of-type {\n",
              "        vertical-align: middle;\n",
              "    }\n",
              "\n",
              "    .dataframe tbody tr th {\n",
              "        vertical-align: top;\n",
              "    }\n",
              "\n",
              "    .dataframe thead th {\n",
              "        text-align: right;\n",
              "    }\n",
              "</style>\n",
              "<table border=\"1\" class=\"dataframe\">\n",
              "  <thead>\n",
              "    <tr style=\"text-align: right;\">\n",
              "      <th></th>\n",
              "      <th>book_authors</th>\n",
              "      <th>book_title</th>\n",
              "      <th>book_desc</th>\n",
              "      <th>genre</th>\n",
              "      <th>tag_1</th>\n",
              "      <th>tag_2</th>\n",
              "      <th>tag_3</th>\n",
              "    </tr>\n",
              "  </thead>\n",
              "  <tbody>\n",
              "    <tr>\n",
              "      <th>0</th>\n",
              "      <td>Suzanne Collins</td>\n",
              "      <td>The Hunger Games</td>\n",
              "      <td>Winning will make you famous. Losing means cer...</td>\n",
              "      <td>Young Adult</td>\n",
              "      <td>Politics</td>\n",
              "      <td>Retellings</td>\n",
              "      <td>Law</td>\n",
              "    </tr>\n",
              "    <tr>\n",
              "      <th>1</th>\n",
              "      <td>J.K. Rowling|Mary GrandPré</td>\n",
              "      <td>Harry Potter and the Order of the Phoenix</td>\n",
              "      <td>There is a door at the end of a silent corrido...</td>\n",
              "      <td>Fantasy</td>\n",
              "      <td>True Story</td>\n",
              "      <td>Realistic Fiction</td>\n",
              "      <td>Magical Realism</td>\n",
              "    </tr>\n",
              "    <tr>\n",
              "      <th>2</th>\n",
              "      <td>Harper Lee</td>\n",
              "      <td>To Kill a Mockingbird</td>\n",
              "      <td>The unforgettable novel of a childhood in a sl...</td>\n",
              "      <td>Classics</td>\n",
              "      <td>True Story</td>\n",
              "      <td>Book Club</td>\n",
              "      <td>Writing</td>\n",
              "    </tr>\n",
              "    <tr>\n",
              "      <th>3</th>\n",
              "      <td>Stephenie Meyer</td>\n",
              "      <td>Twilight</td>\n",
              "      <td>About three things I was absolutely positive.F...</td>\n",
              "      <td>Young Adult</td>\n",
              "      <td>True Story</td>\n",
              "      <td>Love Inspired</td>\n",
              "      <td>Love</td>\n",
              "    </tr>\n",
              "  </tbody>\n",
              "</table>\n",
              "</div>\n",
              "      <button class=\"colab-df-convert\" onclick=\"convertToInteractive('df-f6ef4908-4f1c-4251-b3ba-99af39d526b2')\"\n",
              "              title=\"Convert this dataframe to an interactive table.\"\n",
              "              style=\"display:none;\">\n",
              "        \n",
              "  <svg xmlns=\"http://www.w3.org/2000/svg\" height=\"24px\"viewBox=\"0 0 24 24\"\n",
              "       width=\"24px\">\n",
              "    <path d=\"M0 0h24v24H0V0z\" fill=\"none\"/>\n",
              "    <path d=\"M18.56 5.44l.94 2.06.94-2.06 2.06-.94-2.06-.94-.94-2.06-.94 2.06-2.06.94zm-11 1L8.5 8.5l.94-2.06 2.06-.94-2.06-.94L8.5 2.5l-.94 2.06-2.06.94zm10 10l.94 2.06.94-2.06 2.06-.94-2.06-.94-.94-2.06-.94 2.06-2.06.94z\"/><path d=\"M17.41 7.96l-1.37-1.37c-.4-.4-.92-.59-1.43-.59-.52 0-1.04.2-1.43.59L10.3 9.45l-7.72 7.72c-.78.78-.78 2.05 0 2.83L4 21.41c.39.39.9.59 1.41.59.51 0 1.02-.2 1.41-.59l7.78-7.78 2.81-2.81c.8-.78.8-2.07 0-2.86zM5.41 20L4 18.59l7.72-7.72 1.47 1.35L5.41 20z\"/>\n",
              "  </svg>\n",
              "      </button>\n",
              "      \n",
              "  <style>\n",
              "    .colab-df-container {\n",
              "      display:flex;\n",
              "      flex-wrap:wrap;\n",
              "      gap: 12px;\n",
              "    }\n",
              "\n",
              "    .colab-df-convert {\n",
              "      background-color: #E8F0FE;\n",
              "      border: none;\n",
              "      border-radius: 50%;\n",
              "      cursor: pointer;\n",
              "      display: none;\n",
              "      fill: #1967D2;\n",
              "      height: 32px;\n",
              "      padding: 0 0 0 0;\n",
              "      width: 32px;\n",
              "    }\n",
              "\n",
              "    .colab-df-convert:hover {\n",
              "      background-color: #E2EBFA;\n",
              "      box-shadow: 0px 1px 2px rgba(60, 64, 67, 0.3), 0px 1px 3px 1px rgba(60, 64, 67, 0.15);\n",
              "      fill: #174EA6;\n",
              "    }\n",
              "\n",
              "    [theme=dark] .colab-df-convert {\n",
              "      background-color: #3B4455;\n",
              "      fill: #D2E3FC;\n",
              "    }\n",
              "\n",
              "    [theme=dark] .colab-df-convert:hover {\n",
              "      background-color: #434B5C;\n",
              "      box-shadow: 0px 1px 3px 1px rgba(0, 0, 0, 0.15);\n",
              "      filter: drop-shadow(0px 1px 2px rgba(0, 0, 0, 0.3));\n",
              "      fill: #FFFFFF;\n",
              "    }\n",
              "  </style>\n",
              "\n",
              "      <script>\n",
              "        const buttonEl =\n",
              "          document.querySelector('#df-f6ef4908-4f1c-4251-b3ba-99af39d526b2 button.colab-df-convert');\n",
              "        buttonEl.style.display =\n",
              "          google.colab.kernel.accessAllowed ? 'block' : 'none';\n",
              "\n",
              "        async function convertToInteractive(key) {\n",
              "          const element = document.querySelector('#df-f6ef4908-4f1c-4251-b3ba-99af39d526b2');\n",
              "          const dataTable =\n",
              "            await google.colab.kernel.invokeFunction('convertToInteractive',\n",
              "                                                     [key], {});\n",
              "          if (!dataTable) return;\n",
              "\n",
              "          const docLinkHtml = 'Like what you see? Visit the ' +\n",
              "            '<a target=\"_blank\" href=https://colab.research.google.com/notebooks/data_table.ipynb>data table notebook</a>'\n",
              "            + ' to learn more about interactive tables.';\n",
              "          element.innerHTML = '';\n",
              "          dataTable['output_type'] = 'display_data';\n",
              "          await google.colab.output.renderOutput(dataTable, element);\n",
              "          const docLink = document.createElement('div');\n",
              "          docLink.innerHTML = docLinkHtml;\n",
              "          element.appendChild(docLink);\n",
              "        }\n",
              "      </script>\n",
              "    </div>\n",
              "  </div>\n",
              "  "
            ]
          },
          "metadata": {},
          "execution_count": 186
        }
      ]
    },
    {
      "cell_type": "markdown",
      "source": [
        "### Another ZSL model"
      ],
      "metadata": {
        "id": "cJ8w9WcceisL"
      }
    },
    {
      "cell_type": "code",
      "source": [
        "from transformers import pipeline\n",
        "\n",
        "classifier = pipeline(\"zero-shot-classification\")\n"
      ],
      "metadata": {
        "id": "8fyrb11NehyG"
      },
      "execution_count": 85,
      "outputs": []
    },
    {
      "cell_type": "code",
      "source": [
        "def genre_tagger_transformer(summary, genre, classifier):\n",
        "  genres = classifier(summary, candidate_labels)[\"labels\"]\n",
        "  return [genres[0], genres[1],genres[2]]"
      ],
      "metadata": {
        "id": "WAUeKolDgw0Y"
      },
      "execution_count": 90,
      "outputs": []
    },
    {
      "cell_type": "code",
      "source": [
        "df_pred_genres['tag_1'], df_pred_genres['tag_2'], df_pred_genres['tag_3'] = zip(*df_pred_genres[\"book_desc\"].apply(lambda x: genre_tagger_transformer(x, genre, classifier)))"
      ],
      "metadata": {
        "id": "5LcanrbEhTIc"
      },
      "execution_count": 91,
      "outputs": []
    },
    {
      "cell_type": "code",
      "source": [
        "df_pred_genres"
      ],
      "metadata": {
        "colab": {
          "base_uri": "https://localhost:8080/",
          "height": 206
        },
        "id": "atexFx7Ou2vE",
        "outputId": "90166a1e-ac16-444a-8f1c-6780a9e7b973"
      },
      "execution_count": 92,
      "outputs": [
        {
          "output_type": "execute_result",
          "data": {
            "text/plain": [
              "                 book_authors                                 book_title  \\\n",
              "0             Suzanne Collins                           The Hunger Games   \n",
              "1  J.K. Rowling|Mary GrandPré  Harry Potter and the Order of the Phoenix   \n",
              "2                  Harper Lee                      To Kill a Mockingbird   \n",
              "3             Stephenie Meyer                                   Twilight   \n",
              "4                Markus Zusak                             The Book Thief   \n",
              "\n",
              "                                           book_desc        genre  \\\n",
              "0  Winning will make you famous. Losing means cer...  Young Adult   \n",
              "1  There is a door at the end of a silent corrido...      Fantasy   \n",
              "2  The unforgettable novel of a childhood in a sl...     Classics   \n",
              "3  About three things I was absolutely positive.F...  Young Adult   \n",
              "4  Trying to make sense of the horrors of World W...   Historical   \n",
              "\n",
              "         tag_1        tag_2     tag_3  \n",
              "0  young adult     politics     novel  \n",
              "1  young adult        novel   fantasy  \n",
              "2        novel  young adult  politics  \n",
              "3        novel  young adult   fantasy  \n",
              "4        novel  young adult   fantasy  "
            ],
            "text/html": [
              "<div>\n",
              "<style scoped>\n",
              "    .dataframe tbody tr th:only-of-type {\n",
              "        vertical-align: middle;\n",
              "    }\n",
              "\n",
              "    .dataframe tbody tr th {\n",
              "        vertical-align: top;\n",
              "    }\n",
              "\n",
              "    .dataframe thead th {\n",
              "        text-align: right;\n",
              "    }\n",
              "</style>\n",
              "<table border=\"1\" class=\"dataframe\">\n",
              "  <thead>\n",
              "    <tr style=\"text-align: right;\">\n",
              "      <th></th>\n",
              "      <th>book_authors</th>\n",
              "      <th>book_title</th>\n",
              "      <th>book_desc</th>\n",
              "      <th>genre</th>\n",
              "      <th>tag_1</th>\n",
              "      <th>tag_2</th>\n",
              "      <th>tag_3</th>\n",
              "    </tr>\n",
              "  </thead>\n",
              "  <tbody>\n",
              "    <tr>\n",
              "      <th>0</th>\n",
              "      <td>Suzanne Collins</td>\n",
              "      <td>The Hunger Games</td>\n",
              "      <td>Winning will make you famous. Losing means cer...</td>\n",
              "      <td>Young Adult</td>\n",
              "      <td>young adult</td>\n",
              "      <td>politics</td>\n",
              "      <td>novel</td>\n",
              "    </tr>\n",
              "    <tr>\n",
              "      <th>1</th>\n",
              "      <td>J.K. Rowling|Mary GrandPré</td>\n",
              "      <td>Harry Potter and the Order of the Phoenix</td>\n",
              "      <td>There is a door at the end of a silent corrido...</td>\n",
              "      <td>Fantasy</td>\n",
              "      <td>young adult</td>\n",
              "      <td>novel</td>\n",
              "      <td>fantasy</td>\n",
              "    </tr>\n",
              "    <tr>\n",
              "      <th>2</th>\n",
              "      <td>Harper Lee</td>\n",
              "      <td>To Kill a Mockingbird</td>\n",
              "      <td>The unforgettable novel of a childhood in a sl...</td>\n",
              "      <td>Classics</td>\n",
              "      <td>novel</td>\n",
              "      <td>young adult</td>\n",
              "      <td>politics</td>\n",
              "    </tr>\n",
              "    <tr>\n",
              "      <th>3</th>\n",
              "      <td>Stephenie Meyer</td>\n",
              "      <td>Twilight</td>\n",
              "      <td>About three things I was absolutely positive.F...</td>\n",
              "      <td>Young Adult</td>\n",
              "      <td>novel</td>\n",
              "      <td>young adult</td>\n",
              "      <td>fantasy</td>\n",
              "    </tr>\n",
              "    <tr>\n",
              "      <th>4</th>\n",
              "      <td>Markus Zusak</td>\n",
              "      <td>The Book Thief</td>\n",
              "      <td>Trying to make sense of the horrors of World W...</td>\n",
              "      <td>Historical</td>\n",
              "      <td>novel</td>\n",
              "      <td>young adult</td>\n",
              "      <td>fantasy</td>\n",
              "    </tr>\n",
              "  </tbody>\n",
              "</table>\n",
              "</div>"
            ]
          },
          "metadata": {},
          "execution_count": 92
        }
      ]
    },
    {
      "cell_type": "markdown",
      "source": [
        "# NER & ZSL"
      ],
      "metadata": {
        "id": "0RMRFZx0fzyS"
      }
    },
    {
      "cell_type": "code",
      "source": [
        "tagger = SequenceTagger.load('ner')"
      ],
      "metadata": {
        "id": "PIVC464Wjicp",
        "colab": {
          "base_uri": "https://localhost:8080/",
          "height": 105,
          "referenced_widgets": [
            "f7e1df9ba59548b98b9401385a84c438",
            "9d2de31365e047eca953642e263ca593",
            "2e16672a532541bfb923b758909d88d2",
            "4c45dea8cb774b17bd44fc5bd3085d70",
            "beaf129223fd4a7ebdb47910619e7a7d",
            "5efb81dbde3144769f615955914f22f6",
            "63f50467ad514fd18fc1ee61a636dac2",
            "6201aa81d13b45439f9351e6f3de0fb7",
            "0153cc3f3818478398ec51a72ca01f15",
            "403c113dcff44f7cb3a5ce2bc708055f",
            "a2cf3143d002452babb1297f485a4f30"
          ]
        },
        "outputId": "d120bfd7-9383-439f-d076-ae427884223a"
      },
      "execution_count": 11,
      "outputs": [
        {
          "output_type": "display_data",
          "data": {
            "text/plain": [
              "Downloading:   0%|          | 0.00/432M [00:00<?, ?B/s]"
            ],
            "application/vnd.jupyter.widget-view+json": {
              "version_major": 2,
              "version_minor": 0,
              "model_id": "f7e1df9ba59548b98b9401385a84c438"
            }
          },
          "metadata": {}
        },
        {
          "output_type": "stream",
          "name": "stdout",
          "text": [
            "2022-05-24 14:50:29,451 loading file /root/.flair/models/ner-english/4f4cdab26f24cb98b732b389e6cebc646c36f54cfd6e0b7d3b90b25656e4262f.8baa8ae8795f4df80b28e7f7b61d788ecbb057d1dc85aacb316f1bd02837a4a4\n",
            "2022-05-24 14:50:31,905 SequenceTagger predicts: Dictionary with 20 tags: <unk>, O, S-ORG, S-MISC, B-PER, E-PER, S-LOC, B-ORG, E-ORG, I-PER, S-PER, B-MISC, I-MISC, E-MISC, I-ORG, B-LOC, E-LOC, I-LOC, <START>, <STOP>\n"
          ]
        }
      ]
    },
    {
      "cell_type": "code",
      "source": [
        "def ner_extraction(summary): \n",
        "  sentence = Sentence(summary)\n",
        "  tagger.predict(sentence)\n",
        "  misc = []\n",
        "  loc = []\n",
        "  org = []\n",
        "  per = []\n",
        "  for label in sentence.get_labels('ner'):\n",
        "    if label.value == \"MISC\": \n",
        "      misc.append(label.data_point.text)\n",
        "    elif label.value == \"LOC\":\n",
        "      loc.append(label.data_point.text)\n",
        "    elif label.value == \"ORG\":\n",
        "      org.append(label.data_point.text)\n",
        "    elif label.value == \"PER\":\n",
        "      per.append(label.data_point.text)\n",
        " \n",
        "  return [misc, loc, org, per]"
      ],
      "metadata": {
        "id": "83ST9HH-f2EX"
      },
      "execution_count": 52,
      "outputs": []
    },
    {
      "cell_type": "code",
      "source": [
        "df_pred_genres['MISC'], df_pred_genres['LOC'], df_pred_genres['ORG'], df_pred_genres[\"PER\"] = zip(*df_pred_genres[\"book_desc\"].apply(lambda x: ner_extraction(x)))"
      ],
      "metadata": {
        "id": "PnwWDveqgGVq"
      },
      "execution_count": 53,
      "outputs": []
    },
    {
      "cell_type": "code",
      "source": [
        "df_pred_genres"
      ],
      "metadata": {
        "id": "QM-SES5UiYF6",
        "colab": {
          "base_uri": "https://localhost:8080/",
          "height": 262
        },
        "outputId": "c439bcda-691b-4838-f235-2e49291da5b0"
      },
      "execution_count": 54,
      "outputs": [
        {
          "output_type": "execute_result",
          "data": {
            "text/plain": [
              "                 book_authors                                 book_title  \\\n",
              "0             Suzanne Collins                           The Hunger Games   \n",
              "1  J.K. Rowling|Mary GrandPré  Harry Potter and the Order of the Phoenix   \n",
              "2                  Harper Lee                      To Kill a Mockingbird   \n",
              "3             Stephenie Meyer                                   Twilight   \n",
              "\n",
              "                                           book_desc        genre  \\\n",
              "0  Winning will make you famous. Losing means cer...  Young Adult   \n",
              "1  There is a door at the end of a silent corrido...      Fantasy   \n",
              "2  The unforgettable novel of a childhood in a sl...     Classics   \n",
              "3  About three things I was absolutely positive.F...  Young Adult   \n",
              "\n",
              "                                                 ner  \\\n",
              "0  {'PER': ['Katniss', 'Prim', 'Katniss', 'Peeta'...   \n",
              "1  {'PER': ['Harry Pottter', 'Harry', 'Harry'], '...   \n",
              "2  {'PER': ['Harper Lee'], 'ORG': [], 'MISC': ['S...   \n",
              "3  {'PER': ['Edward', 'Stephenie Meyer', 'Bella S...   \n",
              "\n",
              "                                                MISC  \\\n",
              "0                     [Panem, Hunger Games, Reaping]   \n",
              "1                         [He-Who-Must-Not-Be-Named]   \n",
              "2  [Southern, To Kill A Mockingbird, Pulitzer Pri...   \n",
              "3                                    [Twilight Saga]   \n",
              "\n",
              "                                 LOC                                    ORG  \\\n",
              "0  [North America, Capitol, Capitol]                 [Capitol, District 12]   \n",
              "1                         [Hogwarts]  [Hogwarts, Gryffindor Quidditch team]   \n",
              "2                          [Alabama]                                     []   \n",
              "3                                 []                                     []   \n",
              "\n",
              "                                                 PER  \n",
              "0           [Katniss, Prim, Katniss, Peeta, Katniss]  \n",
              "1                      [Harry Pottter, Harry, Harry]  \n",
              "2                                       [Harper Lee]  \n",
              "3  [Edward, Stephenie Meyer, Bella Swan, Edward C...  "
            ],
            "text/html": [
              "<div>\n",
              "<style scoped>\n",
              "    .dataframe tbody tr th:only-of-type {\n",
              "        vertical-align: middle;\n",
              "    }\n",
              "\n",
              "    .dataframe tbody tr th {\n",
              "        vertical-align: top;\n",
              "    }\n",
              "\n",
              "    .dataframe thead th {\n",
              "        text-align: right;\n",
              "    }\n",
              "</style>\n",
              "<table border=\"1\" class=\"dataframe\">\n",
              "  <thead>\n",
              "    <tr style=\"text-align: right;\">\n",
              "      <th></th>\n",
              "      <th>book_authors</th>\n",
              "      <th>book_title</th>\n",
              "      <th>book_desc</th>\n",
              "      <th>genre</th>\n",
              "      <th>ner</th>\n",
              "      <th>MISC</th>\n",
              "      <th>LOC</th>\n",
              "      <th>ORG</th>\n",
              "      <th>PER</th>\n",
              "    </tr>\n",
              "  </thead>\n",
              "  <tbody>\n",
              "    <tr>\n",
              "      <th>0</th>\n",
              "      <td>Suzanne Collins</td>\n",
              "      <td>The Hunger Games</td>\n",
              "      <td>Winning will make you famous. Losing means cer...</td>\n",
              "      <td>Young Adult</td>\n",
              "      <td>{'PER': ['Katniss', 'Prim', 'Katniss', 'Peeta'...</td>\n",
              "      <td>[Panem, Hunger Games, Reaping]</td>\n",
              "      <td>[North America, Capitol, Capitol]</td>\n",
              "      <td>[Capitol, District 12]</td>\n",
              "      <td>[Katniss, Prim, Katniss, Peeta, Katniss]</td>\n",
              "    </tr>\n",
              "    <tr>\n",
              "      <th>1</th>\n",
              "      <td>J.K. Rowling|Mary GrandPré</td>\n",
              "      <td>Harry Potter and the Order of the Phoenix</td>\n",
              "      <td>There is a door at the end of a silent corrido...</td>\n",
              "      <td>Fantasy</td>\n",
              "      <td>{'PER': ['Harry Pottter', 'Harry', 'Harry'], '...</td>\n",
              "      <td>[He-Who-Must-Not-Be-Named]</td>\n",
              "      <td>[Hogwarts]</td>\n",
              "      <td>[Hogwarts, Gryffindor Quidditch team]</td>\n",
              "      <td>[Harry Pottter, Harry, Harry]</td>\n",
              "    </tr>\n",
              "    <tr>\n",
              "      <th>2</th>\n",
              "      <td>Harper Lee</td>\n",
              "      <td>To Kill a Mockingbird</td>\n",
              "      <td>The unforgettable novel of a childhood in a sl...</td>\n",
              "      <td>Classics</td>\n",
              "      <td>{'PER': ['Harper Lee'], 'ORG': [], 'MISC': ['S...</td>\n",
              "      <td>[Southern, To Kill A Mockingbird, Pulitzer Pri...</td>\n",
              "      <td>[Alabama]</td>\n",
              "      <td>[]</td>\n",
              "      <td>[Harper Lee]</td>\n",
              "    </tr>\n",
              "    <tr>\n",
              "      <th>3</th>\n",
              "      <td>Stephenie Meyer</td>\n",
              "      <td>Twilight</td>\n",
              "      <td>About three things I was absolutely positive.F...</td>\n",
              "      <td>Young Adult</td>\n",
              "      <td>{'PER': ['Edward', 'Stephenie Meyer', 'Bella S...</td>\n",
              "      <td>[Twilight Saga]</td>\n",
              "      <td>[]</td>\n",
              "      <td>[]</td>\n",
              "      <td>[Edward, Stephenie Meyer, Bella Swan, Edward C...</td>\n",
              "    </tr>\n",
              "  </tbody>\n",
              "</table>\n",
              "</div>"
            ]
          },
          "metadata": {},
          "execution_count": 54
        }
      ]
    },
    {
      "cell_type": "code",
      "source": [
        ""
      ],
      "metadata": {
        "id": "jdCaXrJSm0cR"
      },
      "execution_count": null,
      "outputs": []
    }
  ],
  "metadata": {
    "accelerator": "GPU",
    "colab": {
      "collapsed_sections": [],
      "name": "ZSL_genre_classification&NER.ipynb",
      "provenance": []
    },
    "kernelspec": {
      "display_name": "Python 3",
      "name": "python3"
    },
    "language_info": {
      "name": "python"
    },
    "widgets": {
      "application/vnd.jupyter.widget-state+json": {
        "f7e1df9ba59548b98b9401385a84c438": {
          "model_module": "@jupyter-widgets/controls",
          "model_name": "HBoxModel",
          "model_module_version": "1.5.0",
          "state": {
            "_dom_classes": [],
            "_model_module": "@jupyter-widgets/controls",
            "_model_module_version": "1.5.0",
            "_model_name": "HBoxModel",
            "_view_count": null,
            "_view_module": "@jupyter-widgets/controls",
            "_view_module_version": "1.5.0",
            "_view_name": "HBoxView",
            "box_style": "",
            "children": [
              "IPY_MODEL_9d2de31365e047eca953642e263ca593",
              "IPY_MODEL_2e16672a532541bfb923b758909d88d2",
              "IPY_MODEL_4c45dea8cb774b17bd44fc5bd3085d70"
            ],
            "layout": "IPY_MODEL_beaf129223fd4a7ebdb47910619e7a7d"
          }
        },
        "9d2de31365e047eca953642e263ca593": {
          "model_module": "@jupyter-widgets/controls",
          "model_name": "HTMLModel",
          "model_module_version": "1.5.0",
          "state": {
            "_dom_classes": [],
            "_model_module": "@jupyter-widgets/controls",
            "_model_module_version": "1.5.0",
            "_model_name": "HTMLModel",
            "_view_count": null,
            "_view_module": "@jupyter-widgets/controls",
            "_view_module_version": "1.5.0",
            "_view_name": "HTMLView",
            "description": "",
            "description_tooltip": null,
            "layout": "IPY_MODEL_5efb81dbde3144769f615955914f22f6",
            "placeholder": "​",
            "style": "IPY_MODEL_63f50467ad514fd18fc1ee61a636dac2",
            "value": "Downloading: 100%"
          }
        },
        "2e16672a532541bfb923b758909d88d2": {
          "model_module": "@jupyter-widgets/controls",
          "model_name": "FloatProgressModel",
          "model_module_version": "1.5.0",
          "state": {
            "_dom_classes": [],
            "_model_module": "@jupyter-widgets/controls",
            "_model_module_version": "1.5.0",
            "_model_name": "FloatProgressModel",
            "_view_count": null,
            "_view_module": "@jupyter-widgets/controls",
            "_view_module_version": "1.5.0",
            "_view_name": "ProgressView",
            "bar_style": "success",
            "description": "",
            "description_tooltip": null,
            "layout": "IPY_MODEL_6201aa81d13b45439f9351e6f3de0fb7",
            "max": 432176557,
            "min": 0,
            "orientation": "horizontal",
            "style": "IPY_MODEL_0153cc3f3818478398ec51a72ca01f15",
            "value": 432176557
          }
        },
        "4c45dea8cb774b17bd44fc5bd3085d70": {
          "model_module": "@jupyter-widgets/controls",
          "model_name": "HTMLModel",
          "model_module_version": "1.5.0",
          "state": {
            "_dom_classes": [],
            "_model_module": "@jupyter-widgets/controls",
            "_model_module_version": "1.5.0",
            "_model_name": "HTMLModel",
            "_view_count": null,
            "_view_module": "@jupyter-widgets/controls",
            "_view_module_version": "1.5.0",
            "_view_name": "HTMLView",
            "description": "",
            "description_tooltip": null,
            "layout": "IPY_MODEL_403c113dcff44f7cb3a5ce2bc708055f",
            "placeholder": "​",
            "style": "IPY_MODEL_a2cf3143d002452babb1297f485a4f30",
            "value": " 432M/432M [00:06&lt;00:00, 60.9MB/s]"
          }
        },
        "beaf129223fd4a7ebdb47910619e7a7d": {
          "model_module": "@jupyter-widgets/base",
          "model_name": "LayoutModel",
          "model_module_version": "1.2.0",
          "state": {
            "_model_module": "@jupyter-widgets/base",
            "_model_module_version": "1.2.0",
            "_model_name": "LayoutModel",
            "_view_count": null,
            "_view_module": "@jupyter-widgets/base",
            "_view_module_version": "1.2.0",
            "_view_name": "LayoutView",
            "align_content": null,
            "align_items": null,
            "align_self": null,
            "border": null,
            "bottom": null,
            "display": null,
            "flex": null,
            "flex_flow": null,
            "grid_area": null,
            "grid_auto_columns": null,
            "grid_auto_flow": null,
            "grid_auto_rows": null,
            "grid_column": null,
            "grid_gap": null,
            "grid_row": null,
            "grid_template_areas": null,
            "grid_template_columns": null,
            "grid_template_rows": null,
            "height": null,
            "justify_content": null,
            "justify_items": null,
            "left": null,
            "margin": null,
            "max_height": null,
            "max_width": null,
            "min_height": null,
            "min_width": null,
            "object_fit": null,
            "object_position": null,
            "order": null,
            "overflow": null,
            "overflow_x": null,
            "overflow_y": null,
            "padding": null,
            "right": null,
            "top": null,
            "visibility": null,
            "width": null
          }
        },
        "5efb81dbde3144769f615955914f22f6": {
          "model_module": "@jupyter-widgets/base",
          "model_name": "LayoutModel",
          "model_module_version": "1.2.0",
          "state": {
            "_model_module": "@jupyter-widgets/base",
            "_model_module_version": "1.2.0",
            "_model_name": "LayoutModel",
            "_view_count": null,
            "_view_module": "@jupyter-widgets/base",
            "_view_module_version": "1.2.0",
            "_view_name": "LayoutView",
            "align_content": null,
            "align_items": null,
            "align_self": null,
            "border": null,
            "bottom": null,
            "display": null,
            "flex": null,
            "flex_flow": null,
            "grid_area": null,
            "grid_auto_columns": null,
            "grid_auto_flow": null,
            "grid_auto_rows": null,
            "grid_column": null,
            "grid_gap": null,
            "grid_row": null,
            "grid_template_areas": null,
            "grid_template_columns": null,
            "grid_template_rows": null,
            "height": null,
            "justify_content": null,
            "justify_items": null,
            "left": null,
            "margin": null,
            "max_height": null,
            "max_width": null,
            "min_height": null,
            "min_width": null,
            "object_fit": null,
            "object_position": null,
            "order": null,
            "overflow": null,
            "overflow_x": null,
            "overflow_y": null,
            "padding": null,
            "right": null,
            "top": null,
            "visibility": null,
            "width": null
          }
        },
        "63f50467ad514fd18fc1ee61a636dac2": {
          "model_module": "@jupyter-widgets/controls",
          "model_name": "DescriptionStyleModel",
          "model_module_version": "1.5.0",
          "state": {
            "_model_module": "@jupyter-widgets/controls",
            "_model_module_version": "1.5.0",
            "_model_name": "DescriptionStyleModel",
            "_view_count": null,
            "_view_module": "@jupyter-widgets/base",
            "_view_module_version": "1.2.0",
            "_view_name": "StyleView",
            "description_width": ""
          }
        },
        "6201aa81d13b45439f9351e6f3de0fb7": {
          "model_module": "@jupyter-widgets/base",
          "model_name": "LayoutModel",
          "model_module_version": "1.2.0",
          "state": {
            "_model_module": "@jupyter-widgets/base",
            "_model_module_version": "1.2.0",
            "_model_name": "LayoutModel",
            "_view_count": null,
            "_view_module": "@jupyter-widgets/base",
            "_view_module_version": "1.2.0",
            "_view_name": "LayoutView",
            "align_content": null,
            "align_items": null,
            "align_self": null,
            "border": null,
            "bottom": null,
            "display": null,
            "flex": null,
            "flex_flow": null,
            "grid_area": null,
            "grid_auto_columns": null,
            "grid_auto_flow": null,
            "grid_auto_rows": null,
            "grid_column": null,
            "grid_gap": null,
            "grid_row": null,
            "grid_template_areas": null,
            "grid_template_columns": null,
            "grid_template_rows": null,
            "height": null,
            "justify_content": null,
            "justify_items": null,
            "left": null,
            "margin": null,
            "max_height": null,
            "max_width": null,
            "min_height": null,
            "min_width": null,
            "object_fit": null,
            "object_position": null,
            "order": null,
            "overflow": null,
            "overflow_x": null,
            "overflow_y": null,
            "padding": null,
            "right": null,
            "top": null,
            "visibility": null,
            "width": null
          }
        },
        "0153cc3f3818478398ec51a72ca01f15": {
          "model_module": "@jupyter-widgets/controls",
          "model_name": "ProgressStyleModel",
          "model_module_version": "1.5.0",
          "state": {
            "_model_module": "@jupyter-widgets/controls",
            "_model_module_version": "1.5.0",
            "_model_name": "ProgressStyleModel",
            "_view_count": null,
            "_view_module": "@jupyter-widgets/base",
            "_view_module_version": "1.2.0",
            "_view_name": "StyleView",
            "bar_color": null,
            "description_width": ""
          }
        },
        "403c113dcff44f7cb3a5ce2bc708055f": {
          "model_module": "@jupyter-widgets/base",
          "model_name": "LayoutModel",
          "model_module_version": "1.2.0",
          "state": {
            "_model_module": "@jupyter-widgets/base",
            "_model_module_version": "1.2.0",
            "_model_name": "LayoutModel",
            "_view_count": null,
            "_view_module": "@jupyter-widgets/base",
            "_view_module_version": "1.2.0",
            "_view_name": "LayoutView",
            "align_content": null,
            "align_items": null,
            "align_self": null,
            "border": null,
            "bottom": null,
            "display": null,
            "flex": null,
            "flex_flow": null,
            "grid_area": null,
            "grid_auto_columns": null,
            "grid_auto_flow": null,
            "grid_auto_rows": null,
            "grid_column": null,
            "grid_gap": null,
            "grid_row": null,
            "grid_template_areas": null,
            "grid_template_columns": null,
            "grid_template_rows": null,
            "height": null,
            "justify_content": null,
            "justify_items": null,
            "left": null,
            "margin": null,
            "max_height": null,
            "max_width": null,
            "min_height": null,
            "min_width": null,
            "object_fit": null,
            "object_position": null,
            "order": null,
            "overflow": null,
            "overflow_x": null,
            "overflow_y": null,
            "padding": null,
            "right": null,
            "top": null,
            "visibility": null,
            "width": null
          }
        },
        "a2cf3143d002452babb1297f485a4f30": {
          "model_module": "@jupyter-widgets/controls",
          "model_name": "DescriptionStyleModel",
          "model_module_version": "1.5.0",
          "state": {
            "_model_module": "@jupyter-widgets/controls",
            "_model_module_version": "1.5.0",
            "_model_name": "DescriptionStyleModel",
            "_view_count": null,
            "_view_module": "@jupyter-widgets/base",
            "_view_module_version": "1.2.0",
            "_view_name": "StyleView",
            "description_width": ""
          }
        }
      }
    }
  },
  "nbformat": 4,
  "nbformat_minor": 0
}