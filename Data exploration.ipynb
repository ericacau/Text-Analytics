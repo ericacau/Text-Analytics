{
 "cells": [
  {
   "cell_type": "markdown",
   "metadata": {},
   "source": [
    "# Data Exploration"
   ]
  },
  {
   "cell_type": "markdown",
   "metadata": {},
   "source": [
    "## Import libraries and dataset"
   ]
  },
  {
   "cell_type": "code",
   "execution_count": 3,
   "metadata": {},
   "outputs": [],
   "source": [
    "import pandas as pd\n",
    "import spacy\n",
    "import matplotlib.pyplot as plt\n",
    "import seaborn as sns\n",
    "import numpy as np\n"
   ]
  },
  {
   "cell_type": "code",
   "execution_count": 5,
   "metadata": {},
   "outputs": [],
   "source": [
    "clrs = [\"#fd7f6f\", \"#7eb0d5\", \"#b2e061\", \"#bd7ebe\", \"#ffb55a\", \"#ffee65\", \"#beb9db\", \"#fdcce5\", \"#8bd3c7\"]\n",
    "customPalette = sns.set_palette(sns.color_palette(clrs))\n"
   ]
  },
  {
   "cell_type": "code",
   "execution_count": 7,
   "metadata": {},
   "outputs": [],
   "source": [
    "nlp = spacy.load('en_core_web_sm')\n"
   ]
  },
  {
   "cell_type": "code",
   "execution_count": 8,
   "metadata": {},
   "outputs": [],
   "source": [
    "df = pd.read_csv(\"data/books_fgo.csv\")\n",
    "df_def = pd.read_csv(\"data/book_data.csv\")"
   ]
  },
  {
   "cell_type": "code",
   "execution_count": 9,
   "metadata": {},
   "outputs": [
    {
     "data": {
      "text/plain": [
       "30095"
      ]
     },
     "execution_count": 9,
     "metadata": {},
     "output_type": "execute_result"
    }
   ],
   "source": [
    "len(df_def.genres.unique())"
   ]
  },
  {
   "cell_type": "code",
   "execution_count": 10,
   "metadata": {},
   "outputs": [
    {
     "data": {
      "text/html": [
       "<div>\n",
       "<style scoped>\n",
       "    .dataframe tbody tr th:only-of-type {\n",
       "        vertical-align: middle;\n",
       "    }\n",
       "\n",
       "    .dataframe tbody tr th {\n",
       "        vertical-align: top;\n",
       "    }\n",
       "\n",
       "    .dataframe thead th {\n",
       "        text-align: right;\n",
       "    }\n",
       "</style>\n",
       "<table border=\"1\" class=\"dataframe\">\n",
       "  <thead>\n",
       "    <tr style=\"text-align: right;\">\n",
       "      <th></th>\n",
       "      <th>book_authors</th>\n",
       "      <th>book_desc</th>\n",
       "      <th>book_format</th>\n",
       "      <th>book_pages</th>\n",
       "      <th>book_rating</th>\n",
       "      <th>book_rating_count</th>\n",
       "      <th>book_review_count</th>\n",
       "      <th>book_title</th>\n",
       "      <th>genres</th>\n",
       "    </tr>\n",
       "  </thead>\n",
       "  <tbody>\n",
       "    <tr>\n",
       "      <th>0</th>\n",
       "      <td>Suzanne Collins</td>\n",
       "      <td>Winning will make you famous. Losing means cer...</td>\n",
       "      <td>Hardcover</td>\n",
       "      <td>374.0</td>\n",
       "      <td>4.33</td>\n",
       "      <td>5519135</td>\n",
       "      <td>160706</td>\n",
       "      <td>The Hunger Games</td>\n",
       "      <td>Young Adult</td>\n",
       "    </tr>\n",
       "    <tr>\n",
       "      <th>1</th>\n",
       "      <td>J.K. Rowling|Mary GrandPré</td>\n",
       "      <td>There is a door at the end of a silent corrido...</td>\n",
       "      <td>Paperback</td>\n",
       "      <td>870.0</td>\n",
       "      <td>4.48</td>\n",
       "      <td>2041594</td>\n",
       "      <td>33264</td>\n",
       "      <td>Harry Potter and the Order of the Phoenix</td>\n",
       "      <td>Fantasy</td>\n",
       "    </tr>\n",
       "    <tr>\n",
       "      <th>2</th>\n",
       "      <td>Harper Lee</td>\n",
       "      <td>The unforgettable novel of a childhood in a sl...</td>\n",
       "      <td>Paperback</td>\n",
       "      <td>324.0</td>\n",
       "      <td>4.27</td>\n",
       "      <td>3745197</td>\n",
       "      <td>79450</td>\n",
       "      <td>To Kill a Mockingbird</td>\n",
       "      <td>Classics</td>\n",
       "    </tr>\n",
       "    <tr>\n",
       "      <th>3</th>\n",
       "      <td>Stephenie Meyer</td>\n",
       "      <td>About three things I was absolutely positive.F...</td>\n",
       "      <td>Paperback</td>\n",
       "      <td>498.0</td>\n",
       "      <td>3.58</td>\n",
       "      <td>4281268</td>\n",
       "      <td>97991</td>\n",
       "      <td>Twilight</td>\n",
       "      <td>Young Adult</td>\n",
       "    </tr>\n",
       "    <tr>\n",
       "      <th>4</th>\n",
       "      <td>Markus Zusak</td>\n",
       "      <td>Trying to make sense of the horrors of World W...</td>\n",
       "      <td>Hardcover</td>\n",
       "      <td>552.0</td>\n",
       "      <td>4.36</td>\n",
       "      <td>1485632</td>\n",
       "      <td>100821</td>\n",
       "      <td>The Book Thief</td>\n",
       "      <td>Historical</td>\n",
       "    </tr>\n",
       "  </tbody>\n",
       "</table>\n",
       "</div>"
      ],
      "text/plain": [
       "                 book_authors  \\\n",
       "0             Suzanne Collins   \n",
       "1  J.K. Rowling|Mary GrandPré   \n",
       "2                  Harper Lee   \n",
       "3             Stephenie Meyer   \n",
       "4                Markus Zusak   \n",
       "\n",
       "                                           book_desc book_format  book_pages  \\\n",
       "0  Winning will make you famous. Losing means cer...   Hardcover       374.0   \n",
       "1  There is a door at the end of a silent corrido...   Paperback       870.0   \n",
       "2  The unforgettable novel of a childhood in a sl...   Paperback       324.0   \n",
       "3  About three things I was absolutely positive.F...   Paperback       498.0   \n",
       "4  Trying to make sense of the horrors of World W...   Hardcover       552.0   \n",
       "\n",
       "   book_rating  book_rating_count  book_review_count  \\\n",
       "0         4.33            5519135             160706   \n",
       "1         4.48            2041594              33264   \n",
       "2         4.27            3745197              79450   \n",
       "3         3.58            4281268              97991   \n",
       "4         4.36            1485632             100821   \n",
       "\n",
       "                                  book_title       genres  \n",
       "0                           The Hunger Games  Young Adult  \n",
       "1  Harry Potter and the Order of the Phoenix      Fantasy  \n",
       "2                      To Kill a Mockingbird     Classics  \n",
       "3                                   Twilight  Young Adult  \n",
       "4                             The Book Thief   Historical  "
      ]
     },
     "execution_count": 10,
     "metadata": {},
     "output_type": "execute_result"
    }
   ],
   "source": [
    "df.head()"
   ]
  },
  {
   "cell_type": "code",
   "execution_count": 11,
   "metadata": {},
   "outputs": [
    {
     "data": {
      "text/plain": [
       "(43797, 9)"
      ]
     },
     "execution_count": 11,
     "metadata": {},
     "output_type": "execute_result"
    }
   ],
   "source": [
    "df.shape"
   ]
  },
  {
   "cell_type": "code",
   "execution_count": 12,
   "metadata": {},
   "outputs": [
    {
     "name": "stdout",
     "output_type": "stream",
     "text": [
      "<class 'pandas.core.frame.DataFrame'>\n",
      "RangeIndex: 43797 entries, 0 to 43796\n",
      "Data columns (total 9 columns):\n",
      " #   Column             Non-Null Count  Dtype  \n",
      "---  ------             --------------  -----  \n",
      " 0   book_authors       43797 non-null  object \n",
      " 1   book_desc          43797 non-null  object \n",
      " 2   book_format        43068 non-null  object \n",
      " 3   book_pages         42280 non-null  float64\n",
      " 4   book_rating        43797 non-null  float64\n",
      " 5   book_rating_count  43797 non-null  int64  \n",
      " 6   book_review_count  43797 non-null  int64  \n",
      " 7   book_title         43797 non-null  object \n",
      " 8   genres             43797 non-null  object \n",
      "dtypes: float64(2), int64(2), object(5)\n",
      "memory usage: 3.0+ MB\n"
     ]
    }
   ],
   "source": [
    "df.info()"
   ]
  },
  {
   "cell_type": "code",
   "execution_count": 13,
   "metadata": {},
   "outputs": [
    {
     "data": {
      "text/html": [
       "<div>\n",
       "<style scoped>\n",
       "    .dataframe tbody tr th:only-of-type {\n",
       "        vertical-align: middle;\n",
       "    }\n",
       "\n",
       "    .dataframe tbody tr th {\n",
       "        vertical-align: top;\n",
       "    }\n",
       "\n",
       "    .dataframe thead th {\n",
       "        text-align: right;\n",
       "    }\n",
       "</style>\n",
       "<table border=\"1\" class=\"dataframe\">\n",
       "  <thead>\n",
       "    <tr style=\"text-align: right;\">\n",
       "      <th></th>\n",
       "      <th>book_pages</th>\n",
       "      <th>book_rating</th>\n",
       "      <th>book_rating_count</th>\n",
       "      <th>book_review_count</th>\n",
       "    </tr>\n",
       "  </thead>\n",
       "  <tbody>\n",
       "    <tr>\n",
       "      <th>count</th>\n",
       "      <td>42280.000000</td>\n",
       "      <td>43797.000000</td>\n",
       "      <td>4.379700e+04</td>\n",
       "      <td>43797.000000</td>\n",
       "    </tr>\n",
       "    <tr>\n",
       "      <th>mean</th>\n",
       "      <td>340.658893</td>\n",
       "      <td>4.007218</td>\n",
       "      <td>3.908215e+04</td>\n",
       "      <td>1874.366532</td>\n",
       "    </tr>\n",
       "    <tr>\n",
       "      <th>std</th>\n",
       "      <td>250.916782</td>\n",
       "      <td>0.292414</td>\n",
       "      <td>1.887978e+05</td>\n",
       "      <td>6891.203075</td>\n",
       "    </tr>\n",
       "    <tr>\n",
       "      <th>min</th>\n",
       "      <td>0.000000</td>\n",
       "      <td>0.000000</td>\n",
       "      <td>0.000000e+00</td>\n",
       "      <td>0.000000</td>\n",
       "    </tr>\n",
       "    <tr>\n",
       "      <th>25%</th>\n",
       "      <td>224.000000</td>\n",
       "      <td>3.830000</td>\n",
       "      <td>7.380000e+02</td>\n",
       "      <td>59.000000</td>\n",
       "    </tr>\n",
       "    <tr>\n",
       "      <th>50%</th>\n",
       "      <td>316.000000</td>\n",
       "      <td>4.020000</td>\n",
       "      <td>3.656000e+03</td>\n",
       "      <td>240.000000</td>\n",
       "    </tr>\n",
       "    <tr>\n",
       "      <th>75%</th>\n",
       "      <td>400.000000</td>\n",
       "      <td>4.200000</td>\n",
       "      <td>1.446000e+04</td>\n",
       "      <td>908.000000</td>\n",
       "    </tr>\n",
       "    <tr>\n",
       "      <th>max</th>\n",
       "      <td>14777.000000</td>\n",
       "      <td>5.000000</td>\n",
       "      <td>5.588580e+06</td>\n",
       "      <td>160762.000000</td>\n",
       "    </tr>\n",
       "  </tbody>\n",
       "</table>\n",
       "</div>"
      ],
      "text/plain": [
       "         book_pages   book_rating  book_rating_count  book_review_count\n",
       "count  42280.000000  43797.000000       4.379700e+04       43797.000000\n",
       "mean     340.658893      4.007218       3.908215e+04        1874.366532\n",
       "std      250.916782      0.292414       1.887978e+05        6891.203075\n",
       "min        0.000000      0.000000       0.000000e+00           0.000000\n",
       "25%      224.000000      3.830000       7.380000e+02          59.000000\n",
       "50%      316.000000      4.020000       3.656000e+03         240.000000\n",
       "75%      400.000000      4.200000       1.446000e+04         908.000000\n",
       "max    14777.000000      5.000000       5.588580e+06      160762.000000"
      ]
     },
     "execution_count": 13,
     "metadata": {},
     "output_type": "execute_result"
    }
   ],
   "source": [
    "df.describe()"
   ]
  },
  {
   "cell_type": "code",
   "execution_count": null,
   "metadata": {},
   "outputs": [],
   "source": []
  },
  {
   "cell_type": "markdown",
   "metadata": {},
   "source": [
    "## Plot"
   ]
  },
  {
   "cell_type": "code",
   "execution_count": 22,
   "metadata": {},
   "outputs": [
    {
     "data": {
      "image/png": "[encoded data removed]",
      "text/plain": [
       "<Figure size 432x288 with 1 Axes>"
      ]
     },
     "metadata": {
      "needs_background": "light"
     },
     "output_type": "display_data"
    }
   ],
   "source": [
    "\n",
    "ax = sns.countplot(data = df, y = df[\"book_format\"], palette=customPalette, order=df.book_format.value_counts().iloc[:10].index)\n",
    "plt.title(\"Book format\")\n",
    "plt.savefig(\"plots/book_format.png\", dpi = 80)"
   ]
  },
  {
   "cell_type": "code",
   "execution_count": 18,
   "metadata": {},
   "outputs": [
    {
     "data": {
      "image/png": "[encoded data removed]",
      "text/plain": [
       "<Figure size 432x288 with 1 Axes>"
      ]
     },
     "metadata": {
      "needs_background": "light"
     },
     "output_type": "display_data"
    }
   ],
   "source": [
    "# Avg rating per genre\n",
    "\n",
    "rating_per_genre = df_def.groupby('genres')['book_rating'].mean().sort_values(ascending=True)\n",
    "rating_per_genre.plot.barh(color = \"c\")\n",
    "plt.ylabel(\"Genres\")\n",
    "plt.xlabel(\"Avg. rating\")\n",
    "\n",
    "plt.title(\"Average book rating per genre\")\n",
    "plt.savefig(\"plots/avg_book_rating.png\", dpi = 80)"
   ]
  },
  {
   "cell_type": "code",
   "execution_count": null,
   "metadata": {},
   "outputs": [],
   "source": [
    "rating_per_genre"
   ]
  },
  {
   "cell_type": "markdown",
   "metadata": {},
   "source": [
    "### Correlation Matrix"
   ]
  },
  {
   "cell_type": "code",
   "execution_count": 17,
   "metadata": {},
   "outputs": [
    {
     "data": {
      "image/png": "[encoded data removed]",
      "text/plain": [
       "<Figure size 960x640 with 2 Axes>"
      ]
     },
     "metadata": {
      "needs_background": "light"
     },
     "output_type": "display_data"
    },
    {
     "data": {
      "text/plain": [
       "<Figure size 432x288 with 0 Axes>"
      ]
     },
     "metadata": {},
     "output_type": "display_data"
    }
   ],
   "source": [
    "plt.figure(figsize=(12, 8), dpi = 80)\n",
    "cm = df.corr()\n",
    "sns.heatmap(cm, annot=True)\n",
    "plt.show()\n",
    "plt.savefig(\"plots/CorrMatrix.png\", dpi = 80)"
   ]
  },
  {
   "cell_type": "code",
   "execution_count": null,
   "metadata": {},
   "outputs": [],
   "source": []
  },
  {
   "cell_type": "code",
   "execution_count": 7,
   "metadata": {},
   "outputs": [],
   "source": [
    "ner_fantasy = pd.read_csv(\"data/ner_fantasy.csv\", index_col=0)\n",
    "ner_mistery = pd.read_csv(\"data/ner_mistery.csv\", index_col=0)\n",
    "ner_romance = pd.read_csv(\"data/ner_romance.csv\", index_col=0)\n",
    "ner_scifi = pd.read_csv(\"data/ner_scifi.csv\", index_col=0)\n"
   ]
  },
  {
   "cell_type": "code",
   "execution_count": 8,
   "metadata": {},
   "outputs": [],
   "source": [
    "def eval_column(df):\n",
    "    df[\"PER\"] = df.PER.map(eval)\n",
    "    df[\"ORG\"] = df.ORG.map(eval)\n",
    "    df[\"LOC\"] = df.LOC.map(eval)\n",
    "    df[\"MISC\"] = df.MISC.map(eval)\n",
    "    \n",
    "def quantify_NER(df):\n",
    "    df['PER_len'] = df[\"PER\"].apply(lambda x: len(x))\n",
    "    df['ORG_len'] = df[\"ORG\"].apply(lambda x: len(x))\n",
    "    df['LOC_len'] = df[\"LOC\"].apply(lambda x: len(x))\n",
    "    df['MISC_len'] = df[\"MISC\"].apply(lambda x: len(x))\n"
   ]
  },
  {
   "cell_type": "code",
   "execution_count": 9,
   "metadata": {},
   "outputs": [],
   "source": [
    "eval_column(ner_fantasy)\n",
    "quantify_NER(ner_fantasy)"
   ]
  },
  {
   "cell_type": "code",
   "execution_count": 10,
   "metadata": {},
   "outputs": [],
   "source": [
    "eval_column(ner_mistery)\n",
    "quantify_NER(ner_mistery)"
   ]
  },
  {
   "cell_type": "code",
   "execution_count": 11,
   "metadata": {},
   "outputs": [],
   "source": [
    "eval_column(ner_scifi)\n",
    "quantify_NER(ner_scifi)"
   ]
  },
  {
   "cell_type": "code",
   "execution_count": 12,
   "metadata": {},
   "outputs": [],
   "source": [
    "eval_column(ner_romance)\n",
    "quantify_NER(ner_romance)"
   ]
  },
  {
   "cell_type": "code",
   "execution_count": 42,
   "metadata": {},
   "outputs": [
    {
     "data": {
      "text/html": [
       "<div>\n",
       "<style scoped>\n",
       "    .dataframe tbody tr th:only-of-type {\n",
       "        vertical-align: middle;\n",
       "    }\n",
       "\n",
       "    .dataframe tbody tr th {\n",
       "        vertical-align: top;\n",
       "    }\n",
       "\n",
       "    .dataframe thead th {\n",
       "        text-align: right;\n",
       "    }\n",
       "</style>\n",
       "<table border=\"1\" class=\"dataframe\">\n",
       "  <thead>\n",
       "    <tr style=\"text-align: right;\">\n",
       "      <th></th>\n",
       "      <th>book_authors</th>\n",
       "      <th>book_desc</th>\n",
       "      <th>book_rating</th>\n",
       "      <th>book_title</th>\n",
       "      <th>genres</th>\n",
       "      <th>MISC</th>\n",
       "      <th>LOC</th>\n",
       "      <th>ORG</th>\n",
       "      <th>PER</th>\n",
       "      <th>PER_len</th>\n",
       "      <th>ORG_len</th>\n",
       "      <th>LOC_len</th>\n",
       "      <th>MISC_len</th>\n",
       "    </tr>\n",
       "  </thead>\n",
       "  <tbody>\n",
       "    <tr>\n",
       "      <th>92</th>\n",
       "      <td>Cassandra Clare</td>\n",
       "      <td>In a time when Shadowhunters are barely winnin...</td>\n",
       "      <td>4.33</td>\n",
       "      <td>Clockwork Angel</td>\n",
       "      <td>Fantasy</td>\n",
       "      <td>[Shadowhunters]</td>\n",
       "      <td>[London, British Empire]</td>\n",
       "      <td>[Shadowhunters, New York Times, Pandemonium Club]</td>\n",
       "      <td>[Tessa Gray, Will, Jem, Tessa]</td>\n",
       "      <td>4</td>\n",
       "      <td>3</td>\n",
       "      <td>2</td>\n",
       "      <td>1</td>\n",
       "    </tr>\n",
       "    <tr>\n",
       "      <th>98</th>\n",
       "      <td>J.K. Rowling|Mary GrandPré</td>\n",
       "      <td>Harry Potter is midway through his training as...</td>\n",
       "      <td>4.54</td>\n",
       "      <td>Harry Potter and the Goblet of Fire</td>\n",
       "      <td>Fantasy</td>\n",
       "      <td>[International Quidditch Cup]</td>\n",
       "      <td>[Hogwarts]</td>\n",
       "      <td>[]</td>\n",
       "      <td>[Harry Potter, Harry, Dursleys, Harry Potter]</td>\n",
       "      <td>4</td>\n",
       "      <td>0</td>\n",
       "      <td>1</td>\n",
       "      <td>1</td>\n",
       "    </tr>\n",
       "    <tr>\n",
       "      <th>100</th>\n",
       "      <td>Christopher Paolini</td>\n",
       "      <td>Eragon and the fledgling dragon must navigate ...</td>\n",
       "      <td>3.88</td>\n",
       "      <td>Eragon</td>\n",
       "      <td>Fantasy</td>\n",
       "      <td>[Dragon Riders, Dragon Riders]</td>\n",
       "      <td>[Empire, Empire, Empire]</td>\n",
       "      <td>[]</td>\n",
       "      <td>[Eragon, Eragon, Eragon, Eragon, Eragon, Eragon]</td>\n",
       "      <td>6</td>\n",
       "      <td>0</td>\n",
       "      <td>3</td>\n",
       "      <td>2</td>\n",
       "    </tr>\n",
       "    <tr>\n",
       "      <th>104</th>\n",
       "      <td>Patrick Rothfuss</td>\n",
       "      <td>Told in Kvothe's own voice, this is the tale o...</td>\n",
       "      <td>4.55</td>\n",
       "      <td>The Name of the Wind</td>\n",
       "      <td>Fantasy</td>\n",
       "      <td>[The Name of the Wind]</td>\n",
       "      <td>[]</td>\n",
       "      <td>[]</td>\n",
       "      <td>[Kvothe]</td>\n",
       "      <td>1</td>\n",
       "      <td>0</td>\n",
       "      <td>0</td>\n",
       "      <td>1</td>\n",
       "    </tr>\n",
       "    <tr>\n",
       "      <th>111</th>\n",
       "      <td>J.K. Rowling|Mary GrandPré</td>\n",
       "      <td>When Harry Potter and the Half-Blood Prince op...</td>\n",
       "      <td>4.55</td>\n",
       "      <td>Harry Potter and the Half-Blood Prince</td>\n",
       "      <td>Fantasy</td>\n",
       "      <td>[the Half-Blood Prince, Wizarding, Muggles, Ap...</td>\n",
       "      <td>[Hogwarts, Parseltongue]</td>\n",
       "      <td>[Order of the Phoenix, Gryffindor Quidditch team]</td>\n",
       "      <td>[Harry Potter, Voldemort, Dumbledore, on.Harry...</td>\n",
       "      <td>22</td>\n",
       "      <td>2</td>\n",
       "      <td>2</td>\n",
       "      <td>8</td>\n",
       "    </tr>\n",
       "    <tr>\n",
       "      <th>...</th>\n",
       "      <td>...</td>\n",
       "      <td>...</td>\n",
       "      <td>...</td>\n",
       "      <td>...</td>\n",
       "      <td>...</td>\n",
       "      <td>...</td>\n",
       "      <td>...</td>\n",
       "      <td>...</td>\n",
       "      <td>...</td>\n",
       "      <td>...</td>\n",
       "      <td>...</td>\n",
       "      <td>...</td>\n",
       "      <td>...</td>\n",
       "    </tr>\n",
       "    <tr>\n",
       "      <th>2997</th>\n",
       "      <td>Abbi Glines</td>\n",
       "      <td>You would think after helping save her boyfrie...</td>\n",
       "      <td>4.09</td>\n",
       "      <td>Predestined</td>\n",
       "      <td>Fantasy</td>\n",
       "      <td>[]</td>\n",
       "      <td>[]</td>\n",
       "      <td>[]</td>\n",
       "      <td>[Hell, Pagan Moore, Leif Montgomery, Pagan, Le...</td>\n",
       "      <td>15</td>\n",
       "      <td>0</td>\n",
       "      <td>0</td>\n",
       "      <td>0</td>\n",
       "    </tr>\n",
       "    <tr>\n",
       "      <th>2998</th>\n",
       "      <td>Terry Pratchett|Stephen Briggs</td>\n",
       "      <td>In this latest #1 international bestseller, th...</td>\n",
       "      <td>4.39</td>\n",
       "      <td>Men at Arms: The Play</td>\n",
       "      <td>Fantasy</td>\n",
       "      <td>[Discworld, Discworld]</td>\n",
       "      <td>[]</td>\n",
       "      <td>[Soul Music, City Watch]</td>\n",
       "      <td>[]</td>\n",
       "      <td>0</td>\n",
       "      <td>2</td>\n",
       "      <td>0</td>\n",
       "      <td>2</td>\n",
       "    </tr>\n",
       "    <tr>\n",
       "      <th>2999</th>\n",
       "      <td>Mercedes Lackey</td>\n",
       "      <td>The wild magic is taking its toll on the land,...</td>\n",
       "      <td>4.21</td>\n",
       "      <td>Magic's Promise</td>\n",
       "      <td>Fantasy</td>\n",
       "      <td>[Herald-Mage, Yfandes, Herald-Mage]</td>\n",
       "      <td>[Lineas]</td>\n",
       "      <td>[Companion]</td>\n",
       "      <td>[Vanyel]</td>\n",
       "      <td>1</td>\n",
       "      <td>1</td>\n",
       "      <td>1</td>\n",
       "      <td>3</td>\n",
       "    </tr>\n",
       "    <tr>\n",
       "      <th>3000</th>\n",
       "      <td>Robin Hobb</td>\n",
       "      <td>King Shrewd is dead at the hands of his son Re...</td>\n",
       "      <td>4.18</td>\n",
       "      <td>Assassin's Quest</td>\n",
       "      <td>Fantasy</td>\n",
       "      <td>[Six Duchies, Assassin ’s Quest “ Fantasy, Kir...</td>\n",
       "      <td>[]</td>\n",
       "      <td>[]</td>\n",
       "      <td>[Shrewd, Regal, Fitz, Regal, Prince Verity, Ve...</td>\n",
       "      <td>13</td>\n",
       "      <td>0</td>\n",
       "      <td>0</td>\n",
       "      <td>3</td>\n",
       "    </tr>\n",
       "    <tr>\n",
       "      <th>3001</th>\n",
       "      <td>Brent LeVasseur</td>\n",
       "      <td>Crop circles magically appear in Farmer Johnso...</td>\n",
       "      <td>3.99</td>\n",
       "      <td>First Contact</td>\n",
       "      <td>Fantasy</td>\n",
       "      <td>[Martian, Aoléon, Martian, Mars]</td>\n",
       "      <td>[Farmer Johnson, Aoléon, Earth]</td>\n",
       "      <td>[U.S. Air Force.Gilbert]</td>\n",
       "      <td>[Farmer Johnson, Gilbert, Gilbert, Johnson, Gi...</td>\n",
       "      <td>9</td>\n",
       "      <td>1</td>\n",
       "      <td>3</td>\n",
       "      <td>4</td>\n",
       "    </tr>\n",
       "  </tbody>\n",
       "</table>\n",
       "<p>738 rows × 13 columns</p>\n",
       "</div>"
      ],
      "text/plain": [
       "                        book_authors  \\\n",
       "92                   Cassandra Clare   \n",
       "98        J.K. Rowling|Mary GrandPré   \n",
       "100              Christopher Paolini   \n",
       "104                 Patrick Rothfuss   \n",
       "111       J.K. Rowling|Mary GrandPré   \n",
       "...                              ...   \n",
       "2997                     Abbi Glines   \n",
       "2998  Terry Pratchett|Stephen Briggs   \n",
       "2999                 Mercedes Lackey   \n",
       "3000                      Robin Hobb   \n",
       "3001                 Brent LeVasseur   \n",
       "\n",
       "                                              book_desc  book_rating  \\\n",
       "92    In a time when Shadowhunters are barely winnin...         4.33   \n",
       "98    Harry Potter is midway through his training as...         4.54   \n",
       "100   Eragon and the fledgling dragon must navigate ...         3.88   \n",
       "104   Told in Kvothe's own voice, this is the tale o...         4.55   \n",
       "111   When Harry Potter and the Half-Blood Prince op...         4.55   \n",
       "...                                                 ...          ...   \n",
       "2997  You would think after helping save her boyfrie...         4.09   \n",
       "2998  In this latest #1 international bestseller, th...         4.39   \n",
       "2999  The wild magic is taking its toll on the land,...         4.21   \n",
       "3000  King Shrewd is dead at the hands of his son Re...         4.18   \n",
       "3001  Crop circles magically appear in Farmer Johnso...         3.99   \n",
       "\n",
       "                                  book_title   genres  \\\n",
       "92                           Clockwork Angel  Fantasy   \n",
       "98       Harry Potter and the Goblet of Fire  Fantasy   \n",
       "100                                   Eragon  Fantasy   \n",
       "104                     The Name of the Wind  Fantasy   \n",
       "111   Harry Potter and the Half-Blood Prince  Fantasy   \n",
       "...                                      ...      ...   \n",
       "2997                             Predestined  Fantasy   \n",
       "2998                   Men at Arms: The Play  Fantasy   \n",
       "2999                         Magic's Promise  Fantasy   \n",
       "3000                        Assassin's Quest  Fantasy   \n",
       "3001                           First Contact  Fantasy   \n",
       "\n",
       "                                                   MISC  \\\n",
       "92                                      [Shadowhunters]   \n",
       "98                        [International Quidditch Cup]   \n",
       "100                      [Dragon Riders, Dragon Riders]   \n",
       "104                              [The Name of the Wind]   \n",
       "111   [the Half-Blood Prince, Wizarding, Muggles, Ap...   \n",
       "...                                                 ...   \n",
       "2997                                                 []   \n",
       "2998                             [Discworld, Discworld]   \n",
       "2999                [Herald-Mage, Yfandes, Herald-Mage]   \n",
       "3000  [Six Duchies, Assassin ’s Quest “ Fantasy, Kir...   \n",
       "3001                   [Martian, Aoléon, Martian, Mars]   \n",
       "\n",
       "                                  LOC  \\\n",
       "92           [London, British Empire]   \n",
       "98                         [Hogwarts]   \n",
       "100          [Empire, Empire, Empire]   \n",
       "104                                []   \n",
       "111          [Hogwarts, Parseltongue]   \n",
       "...                               ...   \n",
       "2997                               []   \n",
       "2998                               []   \n",
       "2999                         [Lineas]   \n",
       "3000                               []   \n",
       "3001  [Farmer Johnson, Aoléon, Earth]   \n",
       "\n",
       "                                                    ORG  \\\n",
       "92    [Shadowhunters, New York Times, Pandemonium Club]   \n",
       "98                                                   []   \n",
       "100                                                  []   \n",
       "104                                                  []   \n",
       "111   [Order of the Phoenix, Gryffindor Quidditch team]   \n",
       "...                                                 ...   \n",
       "2997                                                 []   \n",
       "2998                           [Soul Music, City Watch]   \n",
       "2999                                        [Companion]   \n",
       "3000                                                 []   \n",
       "3001                           [U.S. Air Force.Gilbert]   \n",
       "\n",
       "                                                    PER  PER_len  ORG_len  \\\n",
       "92                       [Tessa Gray, Will, Jem, Tessa]        4        3   \n",
       "98        [Harry Potter, Harry, Dursleys, Harry Potter]        4        0   \n",
       "100    [Eragon, Eragon, Eragon, Eragon, Eragon, Eragon]        6        0   \n",
       "104                                            [Kvothe]        1        0   \n",
       "111   [Harry Potter, Voldemort, Dumbledore, on.Harry...       22        2   \n",
       "...                                                 ...      ...      ...   \n",
       "2997  [Hell, Pagan Moore, Leif Montgomery, Pagan, Le...       15        0   \n",
       "2998                                                 []        0        2   \n",
       "2999                                           [Vanyel]        1        1   \n",
       "3000  [Shrewd, Regal, Fitz, Regal, Prince Verity, Ve...       13        0   \n",
       "3001  [Farmer Johnson, Gilbert, Gilbert, Johnson, Gi...        9        1   \n",
       "\n",
       "      LOC_len  MISC_len  \n",
       "92          2         1  \n",
       "98          1         1  \n",
       "100         3         2  \n",
       "104         0         1  \n",
       "111         2         8  \n",
       "...       ...       ...  \n",
       "2997        0         0  \n",
       "2998        0         2  \n",
       "2999        1         3  \n",
       "3000        0         3  \n",
       "3001        3         4  \n",
       "\n",
       "[738 rows x 13 columns]"
      ]
     },
     "execution_count": 42,
     "metadata": {},
     "output_type": "execute_result"
    }
   ],
   "source": [
    "ner_fantasy[12:750]"
   ]
  },
  {
   "cell_type": "code",
   "execution_count": 20,
   "metadata": {},
   "outputs": [
    {
     "data": {
      "text/html": [
       "<div>\n",
       "<style scoped>\n",
       "    .dataframe tbody tr th:only-of-type {\n",
       "        vertical-align: middle;\n",
       "    }\n",
       "\n",
       "    .dataframe tbody tr th {\n",
       "        vertical-align: top;\n",
       "    }\n",
       "\n",
       "    .dataframe thead th {\n",
       "        text-align: right;\n",
       "    }\n",
       "</style>\n",
       "<table border=\"1\" class=\"dataframe\">\n",
       "  <thead>\n",
       "    <tr style=\"text-align: right;\">\n",
       "      <th></th>\n",
       "      <th>book_authors</th>\n",
       "      <th>book_desc</th>\n",
       "      <th>book_rating</th>\n",
       "      <th>book_title</th>\n",
       "      <th>genres</th>\n",
       "      <th>MISC</th>\n",
       "      <th>LOC</th>\n",
       "      <th>ORG</th>\n",
       "      <th>PER</th>\n",
       "      <th>PER_len</th>\n",
       "      <th>ORG_len</th>\n",
       "      <th>LOC_len</th>\n",
       "      <th>MISC_len</th>\n",
       "    </tr>\n",
       "  </thead>\n",
       "  <tbody>\n",
       "  </tbody>\n",
       "</table>\n",
       "</div>"
      ],
      "text/plain": [
       "Empty DataFrame\n",
       "Columns: [book_authors, book_desc, book_rating, book_title, genres, MISC, LOC, ORG, PER, PER_len, ORG_len, LOC_len, MISC_len]\n",
       "Index: []"
      ]
     },
     "execution_count": 20,
     "metadata": {},
     "output_type": "execute_result"
    }
   ],
   "source": [
    "ner_fantasy[ner_fantasy[\"book_title\"] ==\"The Lord Of The Rings\"]"
   ]
  },
  {
   "cell_type": "code",
   "execution_count": 53,
   "metadata": {},
   "outputs": [
    {
     "name": "stderr",
     "output_type": "stream",
     "text": [
      "<ipython-input-53-15ba7e886b17>:1: FutureWarning: The frame.append method is deprecated and will be removed from pandas in a future version. Use pandas.concat instead.\n",
      "  stacked = ner_fantasy.append([ner_mistery, ner_romance, ner_scifi])\n"
     ]
    }
   ],
   "source": [
    "stacked = ner_fantasy.append([ner_mistery, ner_romance, ner_scifi])"
   ]
  },
  {
   "cell_type": "code",
   "execution_count": 100,
   "metadata": {},
   "outputs": [
    {
     "name": "stderr",
     "output_type": "stream",
     "text": [
      "<ipython-input-100-faec342112a0>:1: FutureWarning: Indexing with multiple keys (implicitly converted to a tuple of keys) will be deprecated, use a list instead.\n",
      "  grpByGenre = stacked.groupby(['genres'])['PER_len','ORG_len','MISC_len', 'LOC_len'].aggregate(np.sum)\n"
     ]
    },
    {
     "data": {
      "image/png": "[encoded data removed]",
      "text/plain": [
       "<Figure size 432x288 with 1 Axes>"
      ]
     },
     "metadata": {
      "needs_background": "light"
     },
     "output_type": "display_data"
    }
   ],
   "source": [
    "grpByGenre = stacked.groupby(['genres'])['PER_len','ORG_len','MISC_len', 'LOC_len'].aggregate(np.sum)\n",
    "genre_norm = grpByGenre.div(grpByRole.sum(1).astype(float), axis=0)\n",
    "ax = genre_norm.plot(kind = 'bar', stacked = True, colormap = customPalette,\n",
    " title = 'Named-entities by Genre', rot = 0)\n",
    "plt.legend(loc='lower right')# bbox_to_anchor=(1.0, 0.5))\n",
    "plt.savefig(\"plots/NER_genre.png\")"
   ]
  },
  {
   "cell_type": "code",
   "execution_count": null,
   "metadata": {},
   "outputs": [],
   "source": []
  },
  {
   "cell_type": "code",
   "execution_count": null,
   "metadata": {},
   "outputs": [],
   "source": []
  }
 ],
 "metadata": {
  "kernelspec": {
   "display_name": "Python 3",
   "language": "python",
   "name": "python3"
  },
  "language_info": {
   "codemirror_mode": {
    "name": "ipython",
    "version": 3
   },
   "file_extension": ".py",
   "mimetype": "text/x-python",
   "name": "python",
   "nbconvert_exporter": "python",
   "pygments_lexer": "ipython3",
   "version": "3.8.5"
  }
 },
 "nbformat": 4,
 "nbformat_minor": 4
}
