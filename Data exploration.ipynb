{
 "cells": [
  {
   "cell_type": "markdown",
   "metadata": {},
   "source": [
    "# Data Exploration"
   ]
  },
  {
   "cell_type": "markdown",
   "metadata": {},
   "source": [
    "## Import libraries and dataset"
   ]
  },
  {
   "cell_type": "code",
   "execution_count": 2,
   "metadata": {},
   "outputs": [],
   "source": [
    "import pandas as pd\n",
    "import spacy\n",
    "import matplotlib.pyplot as plt\n",
    "import seaborn as sns\n",
    "import numpy as np\n",
    "\n"
   ]
  },
  {
   "cell_type": "code",
   "execution_count": 3,
   "metadata": {},
   "outputs": [],
   "source": [
    "nlp = spacy.load('en_core_web_sm')\n"
   ]
  },
  {
   "cell_type": "code",
   "execution_count": 15,
   "metadata": {},
   "outputs": [],
   "source": [
    "df = pd.read_csv(\"data/books_fgo.csv\")\n",
    "df_def = pd.read_csv(\"data/books_def.csv\")"
   ]
  },
  {
   "cell_type": "code",
   "execution_count": 5,
   "metadata": {},
   "outputs": [
    {
     "data": {
      "text/html": [
       "<div>\n",
       "<style scoped>\n",
       "    .dataframe tbody tr th:only-of-type {\n",
       "        vertical-align: middle;\n",
       "    }\n",
       "\n",
       "    .dataframe tbody tr th {\n",
       "        vertical-align: top;\n",
       "    }\n",
       "\n",
       "    .dataframe thead th {\n",
       "        text-align: right;\n",
       "    }\n",
       "</style>\n",
       "<table border=\"1\" class=\"dataframe\">\n",
       "  <thead>\n",
       "    <tr style=\"text-align: right;\">\n",
       "      <th></th>\n",
       "      <th>book_authors</th>\n",
       "      <th>book_desc</th>\n",
       "      <th>book_format</th>\n",
       "      <th>book_pages</th>\n",
       "      <th>book_rating</th>\n",
       "      <th>book_rating_count</th>\n",
       "      <th>book_review_count</th>\n",
       "      <th>book_title</th>\n",
       "      <th>genres</th>\n",
       "    </tr>\n",
       "  </thead>\n",
       "  <tbody>\n",
       "    <tr>\n",
       "      <th>0</th>\n",
       "      <td>Suzanne Collins</td>\n",
       "      <td>Winning will make you famous. Losing means cer...</td>\n",
       "      <td>Hardcover</td>\n",
       "      <td>374.0</td>\n",
       "      <td>4.33</td>\n",
       "      <td>5519135</td>\n",
       "      <td>160706</td>\n",
       "      <td>The Hunger Games</td>\n",
       "      <td>Young Adult</td>\n",
       "    </tr>\n",
       "    <tr>\n",
       "      <th>1</th>\n",
       "      <td>J.K. Rowling|Mary GrandPré</td>\n",
       "      <td>There is a door at the end of a silent corrido...</td>\n",
       "      <td>Paperback</td>\n",
       "      <td>870.0</td>\n",
       "      <td>4.48</td>\n",
       "      <td>2041594</td>\n",
       "      <td>33264</td>\n",
       "      <td>Harry Potter and the Order of the Phoenix</td>\n",
       "      <td>Fantasy</td>\n",
       "    </tr>\n",
       "    <tr>\n",
       "      <th>2</th>\n",
       "      <td>Harper Lee</td>\n",
       "      <td>The unforgettable novel of a childhood in a sl...</td>\n",
       "      <td>Paperback</td>\n",
       "      <td>324.0</td>\n",
       "      <td>4.27</td>\n",
       "      <td>3745197</td>\n",
       "      <td>79450</td>\n",
       "      <td>To Kill a Mockingbird</td>\n",
       "      <td>Classics</td>\n",
       "    </tr>\n",
       "    <tr>\n",
       "      <th>3</th>\n",
       "      <td>Stephenie Meyer</td>\n",
       "      <td>About three things I was absolutely positive.F...</td>\n",
       "      <td>Paperback</td>\n",
       "      <td>498.0</td>\n",
       "      <td>3.58</td>\n",
       "      <td>4281268</td>\n",
       "      <td>97991</td>\n",
       "      <td>Twilight</td>\n",
       "      <td>Young Adult</td>\n",
       "    </tr>\n",
       "    <tr>\n",
       "      <th>4</th>\n",
       "      <td>Markus Zusak</td>\n",
       "      <td>Trying to make sense of the horrors of World W...</td>\n",
       "      <td>Hardcover</td>\n",
       "      <td>552.0</td>\n",
       "      <td>4.36</td>\n",
       "      <td>1485632</td>\n",
       "      <td>100821</td>\n",
       "      <td>The Book Thief</td>\n",
       "      <td>Historical</td>\n",
       "    </tr>\n",
       "  </tbody>\n",
       "</table>\n",
       "</div>"
      ],
      "text/plain": [
       "                 book_authors  \\\n",
       "0             Suzanne Collins   \n",
       "1  J.K. Rowling|Mary GrandPré   \n",
       "2                  Harper Lee   \n",
       "3             Stephenie Meyer   \n",
       "4                Markus Zusak   \n",
       "\n",
       "                                           book_desc book_format  book_pages  \\\n",
       "0  Winning will make you famous. Losing means cer...   Hardcover       374.0   \n",
       "1  There is a door at the end of a silent corrido...   Paperback       870.0   \n",
       "2  The unforgettable novel of a childhood in a sl...   Paperback       324.0   \n",
       "3  About three things I was absolutely positive.F...   Paperback       498.0   \n",
       "4  Trying to make sense of the horrors of World W...   Hardcover       552.0   \n",
       "\n",
       "   book_rating  book_rating_count  book_review_count  \\\n",
       "0         4.33            5519135             160706   \n",
       "1         4.48            2041594              33264   \n",
       "2         4.27            3745197              79450   \n",
       "3         3.58            4281268              97991   \n",
       "4         4.36            1485632             100821   \n",
       "\n",
       "                                  book_title       genres  \n",
       "0                           The Hunger Games  Young Adult  \n",
       "1  Harry Potter and the Order of the Phoenix      Fantasy  \n",
       "2                      To Kill a Mockingbird     Classics  \n",
       "3                                   Twilight  Young Adult  \n",
       "4                             The Book Thief   Historical  "
      ]
     },
     "execution_count": 5,
     "metadata": {},
     "output_type": "execute_result"
    }
   ],
   "source": [
    "df.head()"
   ]
  },
  {
   "cell_type": "code",
   "execution_count": 6,
   "metadata": {},
   "outputs": [
    {
     "data": {
      "text/plain": [
       "(43793, 9)"
      ]
     },
     "execution_count": 6,
     "metadata": {},
     "output_type": "execute_result"
    }
   ],
   "source": [
    "df.shape"
   ]
  },
  {
   "cell_type": "code",
   "execution_count": 7,
   "metadata": {},
   "outputs": [
    {
     "name": "stdout",
     "output_type": "stream",
     "text": [
      "<class 'pandas.core.frame.DataFrame'>\n",
      "RangeIndex: 43793 entries, 0 to 43792\n",
      "Data columns (total 9 columns):\n",
      " #   Column             Non-Null Count  Dtype  \n",
      "---  ------             --------------  -----  \n",
      " 0   book_authors       43793 non-null  object \n",
      " 1   book_desc          43793 non-null  object \n",
      " 2   book_format        43064 non-null  object \n",
      " 3   book_pages         42276 non-null  float64\n",
      " 4   book_rating        43793 non-null  float64\n",
      " 5   book_rating_count  43793 non-null  int64  \n",
      " 6   book_review_count  43793 non-null  int64  \n",
      " 7   book_title         43793 non-null  object \n",
      " 8   genres             43793 non-null  object \n",
      "dtypes: float64(2), int64(2), object(5)\n",
      "memory usage: 3.0+ MB\n"
     ]
    }
   ],
   "source": [
    "df.info()"
   ]
  },
  {
   "cell_type": "code",
   "execution_count": 8,
   "metadata": {},
   "outputs": [
    {
     "data": {
      "text/html": [
       "<div>\n",
       "<style scoped>\n",
       "    .dataframe tbody tr th:only-of-type {\n",
       "        vertical-align: middle;\n",
       "    }\n",
       "\n",
       "    .dataframe tbody tr th {\n",
       "        vertical-align: top;\n",
       "    }\n",
       "\n",
       "    .dataframe thead th {\n",
       "        text-align: right;\n",
       "    }\n",
       "</style>\n",
       "<table border=\"1\" class=\"dataframe\">\n",
       "  <thead>\n",
       "    <tr style=\"text-align: right;\">\n",
       "      <th></th>\n",
       "      <th>book_pages</th>\n",
       "      <th>book_rating</th>\n",
       "      <th>book_rating_count</th>\n",
       "      <th>book_review_count</th>\n",
       "    </tr>\n",
       "  </thead>\n",
       "  <tbody>\n",
       "    <tr>\n",
       "      <th>count</th>\n",
       "      <td>42276.000000</td>\n",
       "      <td>43793.000000</td>\n",
       "      <td>4.379300e+04</td>\n",
       "      <td>43793.000000</td>\n",
       "    </tr>\n",
       "    <tr>\n",
       "      <th>mean</th>\n",
       "      <td>340.699049</td>\n",
       "      <td>4.007238</td>\n",
       "      <td>3.908529e+04</td>\n",
       "      <td>1874.504944</td>\n",
       "    </tr>\n",
       "    <tr>\n",
       "      <th>std</th>\n",
       "      <td>251.079845</td>\n",
       "      <td>0.292369</td>\n",
       "      <td>1.888062e+05</td>\n",
       "      <td>6891.501920</td>\n",
       "    </tr>\n",
       "    <tr>\n",
       "      <th>min</th>\n",
       "      <td>0.000000</td>\n",
       "      <td>0.000000</td>\n",
       "      <td>0.000000e+00</td>\n",
       "      <td>0.000000</td>\n",
       "    </tr>\n",
       "    <tr>\n",
       "      <th>25%</th>\n",
       "      <td>224.000000</td>\n",
       "      <td>3.830000</td>\n",
       "      <td>7.380000e+02</td>\n",
       "      <td>59.000000</td>\n",
       "    </tr>\n",
       "    <tr>\n",
       "      <th>50%</th>\n",
       "      <td>316.000000</td>\n",
       "      <td>4.020000</td>\n",
       "      <td>3.656000e+03</td>\n",
       "      <td>240.000000</td>\n",
       "    </tr>\n",
       "    <tr>\n",
       "      <th>75%</th>\n",
       "      <td>400.000000</td>\n",
       "      <td>4.200000</td>\n",
       "      <td>1.446200e+04</td>\n",
       "      <td>908.000000</td>\n",
       "    </tr>\n",
       "    <tr>\n",
       "      <th>max</th>\n",
       "      <td>14777.000000</td>\n",
       "      <td>5.000000</td>\n",
       "      <td>5.588580e+06</td>\n",
       "      <td>160762.000000</td>\n",
       "    </tr>\n",
       "  </tbody>\n",
       "</table>\n",
       "</div>"
      ],
      "text/plain": [
       "         book_pages   book_rating  book_rating_count  book_review_count\n",
       "count  42276.000000  43793.000000       4.379300e+04       43793.000000\n",
       "mean     340.699049      4.007238       3.908529e+04        1874.504944\n",
       "std      251.079845      0.292369       1.888062e+05        6891.501920\n",
       "min        0.000000      0.000000       0.000000e+00           0.000000\n",
       "25%      224.000000      3.830000       7.380000e+02          59.000000\n",
       "50%      316.000000      4.020000       3.656000e+03         240.000000\n",
       "75%      400.000000      4.200000       1.446200e+04         908.000000\n",
       "max    14777.000000      5.000000       5.588580e+06      160762.000000"
      ]
     },
     "execution_count": 8,
     "metadata": {},
     "output_type": "execute_result"
    }
   ],
   "source": [
    "df.describe()"
   ]
  },
  {
   "cell_type": "code",
   "execution_count": null,
   "metadata": {},
   "outputs": [],
   "source": []
  },
  {
   "cell_type": "markdown",
   "metadata": {},
   "source": [
    "## Plot"
   ]
  },
  {
   "cell_type": "code",
   "execution_count": 16,
   "metadata": {},
   "outputs": [
    {
     "data": {
      "text/plain": [
       "Text(0.5, 1.0, 'Book format')"
      ]
     },
     "execution_count": 16,
     "metadata": {},
     "output_type": "execute_result"
    },
    {
     "data": {
      "image/png": "[encoded data removed]",
      "text/plain": [
       "<Figure size 432x288 with 1 Axes>"
      ]
     },
     "metadata": {
      "needs_background": "light"
     },
     "output_type": "display_data"
    }
   ],
   "source": [
    "#Book format distribution\n",
    "\n",
    "sns.set_theme(style=\"darkgrid\")\n",
    "ax = sns.countplot(data = df, y = df[\"book_format\"], palette=\"Set2\", order=df.book_format.value_counts().iloc[:10].index)\n",
    "plt.title(\"Book format\")"
   ]
  },
  {
   "cell_type": "code",
   "execution_count": 92,
   "metadata": {},
   "outputs": [
    {
     "data": {
      "text/plain": [
       "Text(0.5, 1.0, 'Average book rating per genre')"
      ]
     },
     "execution_count": 92,
     "metadata": {},
     "output_type": "execute_result"
    },
    {
     "data": {
      "image/png": "[encoded data removed]",
      "text/plain": [
       "<Figure size 432x288 with 1 Axes>"
      ]
     },
     "metadata": {},
     "output_type": "display_data"
    }
   ],
   "source": [
    "# Avg rating per genre\n",
    "\n",
    "rating_per_genre = df_def.groupby('genres')['book_rating'].mean().sort_values(ascending=True)\n",
    "rating_per_genre.plot.barh(color = \"c\")\n",
    "plt.ylabel(\"Genres\")\n",
    "plt.xlabel(\"Avg. rating\")\n",
    "\n",
    "plt.title(\"Average book rating per genre\")\n"
   ]
  },
  {
   "cell_type": "code",
   "execution_count": 73,
   "metadata": {},
   "outputs": [
    {
     "data": {
      "text/plain": [
       "genres\n",
       "Classics           3.986348\n",
       "Fantasy            4.044680\n",
       "Fiction            3.901392\n",
       "Historical         4.012020\n",
       "Mystery            3.955169\n",
       "Nonfiction         4.058398\n",
       "Romance            4.028462\n",
       "Science Fiction    3.960606\n",
       "Sequential Art     4.175368\n",
       "Young Adult        3.903194\n",
       "Name: book_rating, dtype: float64"
      ]
     },
     "execution_count": 73,
     "metadata": {},
     "output_type": "execute_result"
    }
   ],
   "source": [
    "rating_per_genre"
   ]
  },
  {
   "cell_type": "code",
   "execution_count": 98,
   "metadata": {},
   "outputs": [],
   "source": [
    "from math import pi\n"
   ]
  },
  {
   "cell_type": "code",
   "execution_count": 106,
   "metadata": {},
   "outputs": [],
   "source": [
    "df_spider = df[[\"book_pages\", \"book_rating\", \"book_review_count\", \"genres\"]].copy()"
   ]
  },
  {
   "cell_type": "markdown",
   "metadata": {},
   "source": [
    "### Correlation Matrix"
   ]
  },
  {
   "cell_type": "code",
   "execution_count": 62,
   "metadata": {},
   "outputs": [
    {
     "data": {
      "image/png": "[encoded data removed]",
      "text/plain": [
       "<Figure size 960x640 with 2 Axes>"
      ]
     },
     "metadata": {},
     "output_type": "display_data"
    }
   ],
   "source": [
    "plt.figure(figsize=(12, 8), dpi = 80)\n",
    "cm = df.corr()\n",
    "sns.heatmap(cm, annot=True)\n",
    "plt.show()"
   ]
  }
 ],
 "metadata": {
  "kernelspec": {
   "display_name": "Python 3",
   "language": "python",
   "name": "python3"
  },
  "language_info": {
   "codemirror_mode": {
    "name": "ipython",
    "version": 3
   },
   "file_extension": ".py",
   "mimetype": "text/x-python",
   "name": "python",
   "nbconvert_exporter": "python",
   "pygments_lexer": "ipython3",
   "version": "3.8.5"
  }
 },
 "nbformat": 4,
 "nbformat_minor": 4
}
