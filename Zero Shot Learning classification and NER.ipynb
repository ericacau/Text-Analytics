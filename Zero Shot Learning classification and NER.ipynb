{
  "cells": [
    {
      "cell_type": "code",
      "source": [
        "!pip install flair"
      ],
      "metadata": {
        "id": "SXwzWelUEEAv"
      },
      "execution_count": null,
      "outputs": []
    },
    {
      "cell_type": "code",
      "source": [
        "!pip install tqdm\n"
      ],
      "metadata": {
        "id": "Rr4zVcCuJ4bX"
      },
      "execution_count": 34,
      "outputs": []
    },
    {
      "cell_type": "markdown",
      "source": [
        "# Zero Shot Learning (ZSL)"
      ],
      "metadata": {
        "id": "vBKae-gDD3ed"
      }
    },
    {
      "cell_type": "code",
      "source": [
        "import pandas as pd\n",
        "import flair\n",
        "import tqdm\n",
        "\n",
        "from itertools import islice\n"
      ],
      "metadata": {
        "id": "wcUYnoMZD2xJ"
      },
      "execution_count": 201,
      "outputs": []
    },
    {
      "cell_type": "code",
      "source": [
        "df = pd.read_csv(\"to_ZSL.csv\")"
      ],
      "metadata": {
        "id": "Chhdmq32EnnP"
      },
      "execution_count": 214,
      "outputs": []
    },
    {
      "cell_type": "code",
      "source": [
        "df.head()"
      ],
      "metadata": {
        "colab": {
          "base_uri": "https://localhost:8080/",
          "height": 206
        },
        "id": "m1zMAvQLEvxp",
        "outputId": "926b554b-630e-43a5-f892-7575713e2680"
      },
      "execution_count": 215,
      "outputs": [
        {
          "output_type": "execute_result",
          "data": {
            "text/plain": [
              "                 book_authors                                 book_title  \\\n",
              "0             Suzanne Collins                           The Hunger Games   \n",
              "1  J.K. Rowling|Mary GrandPré  Harry Potter and the Order of the Phoenix   \n",
              "2                  Harper Lee                      To Kill a Mockingbird   \n",
              "3             Stephenie Meyer                                   Twilight   \n",
              "4                Markus Zusak                             The Book Thief   \n",
              "\n",
              "                                           book_desc        genre  \n",
              "0  Winning will make you famous. Losing means cer...  Young Adult  \n",
              "1  There is a door at the end of a silent corrido...      Fantasy  \n",
              "2  The unforgettable novel of a childhood in a sl...     Classics  \n",
              "3  About three things I was absolutely positive.F...  Young Adult  \n",
              "4  Trying to make sense of the horrors of World W...   Historical  "
            ],
            "text/html": [
              "\n",
              "  <div id=\"df-18aac84c-8a42-45ad-a241-fc1d45ff00a3\">\n",
              "    <div class=\"colab-df-container\">\n",
              "      <div>\n",
              "<style scoped>\n",
              "    .dataframe tbody tr th:only-of-type {\n",
              "        vertical-align: middle;\n",
              "    }\n",
              "\n",
              "    .dataframe tbody tr th {\n",
              "        vertical-align: top;\n",
              "    }\n",
              "\n",
              "    .dataframe thead th {\n",
              "        text-align: right;\n",
              "    }\n",
              "</style>\n",
              "<table border=\"1\" class=\"dataframe\">\n",
              "  <thead>\n",
              "    <tr style=\"text-align: right;\">\n",
              "      <th></th>\n",
              "      <th>book_authors</th>\n",
              "      <th>book_title</th>\n",
              "      <th>book_desc</th>\n",
              "      <th>genre</th>\n",
              "    </tr>\n",
              "  </thead>\n",
              "  <tbody>\n",
              "    <tr>\n",
              "      <th>0</th>\n",
              "      <td>Suzanne Collins</td>\n",
              "      <td>The Hunger Games</td>\n",
              "      <td>Winning will make you famous. Losing means cer...</td>\n",
              "      <td>Young Adult</td>\n",
              "    </tr>\n",
              "    <tr>\n",
              "      <th>1</th>\n",
              "      <td>J.K. Rowling|Mary GrandPré</td>\n",
              "      <td>Harry Potter and the Order of the Phoenix</td>\n",
              "      <td>There is a door at the end of a silent corrido...</td>\n",
              "      <td>Fantasy</td>\n",
              "    </tr>\n",
              "    <tr>\n",
              "      <th>2</th>\n",
              "      <td>Harper Lee</td>\n",
              "      <td>To Kill a Mockingbird</td>\n",
              "      <td>The unforgettable novel of a childhood in a sl...</td>\n",
              "      <td>Classics</td>\n",
              "    </tr>\n",
              "    <tr>\n",
              "      <th>3</th>\n",
              "      <td>Stephenie Meyer</td>\n",
              "      <td>Twilight</td>\n",
              "      <td>About three things I was absolutely positive.F...</td>\n",
              "      <td>Young Adult</td>\n",
              "    </tr>\n",
              "    <tr>\n",
              "      <th>4</th>\n",
              "      <td>Markus Zusak</td>\n",
              "      <td>The Book Thief</td>\n",
              "      <td>Trying to make sense of the horrors of World W...</td>\n",
              "      <td>Historical</td>\n",
              "    </tr>\n",
              "  </tbody>\n",
              "</table>\n",
              "</div>\n",
              "      <button class=\"colab-df-convert\" onclick=\"convertToInteractive('df-18aac84c-8a42-45ad-a241-fc1d45ff00a3')\"\n",
              "              title=\"Convert this dataframe to an interactive table.\"\n",
              "              style=\"display:none;\">\n",
              "        \n",
              "  <svg xmlns=\"http://www.w3.org/2000/svg\" height=\"24px\"viewBox=\"0 0 24 24\"\n",
              "       width=\"24px\">\n",
              "    <path d=\"M0 0h24v24H0V0z\" fill=\"none\"/>\n",
              "    <path d=\"M18.56 5.44l.94 2.06.94-2.06 2.06-.94-2.06-.94-.94-2.06-.94 2.06-2.06.94zm-11 1L8.5 8.5l.94-2.06 2.06-.94-2.06-.94L8.5 2.5l-.94 2.06-2.06.94zm10 10l.94 2.06.94-2.06 2.06-.94-2.06-.94-.94-2.06-.94 2.06-2.06.94z\"/><path d=\"M17.41 7.96l-1.37-1.37c-.4-.4-.92-.59-1.43-.59-.52 0-1.04.2-1.43.59L10.3 9.45l-7.72 7.72c-.78.78-.78 2.05 0 2.83L4 21.41c.39.39.9.59 1.41.59.51 0 1.02-.2 1.41-.59l7.78-7.78 2.81-2.81c.8-.78.8-2.07 0-2.86zM5.41 20L4 18.59l7.72-7.72 1.47 1.35L5.41 20z\"/>\n",
              "  </svg>\n",
              "      </button>\n",
              "      \n",
              "  <style>\n",
              "    .colab-df-container {\n",
              "      display:flex;\n",
              "      flex-wrap:wrap;\n",
              "      gap: 12px;\n",
              "    }\n",
              "\n",
              "    .colab-df-convert {\n",
              "      background-color: #E8F0FE;\n",
              "      border: none;\n",
              "      border-radius: 50%;\n",
              "      cursor: pointer;\n",
              "      display: none;\n",
              "      fill: #1967D2;\n",
              "      height: 32px;\n",
              "      padding: 0 0 0 0;\n",
              "      width: 32px;\n",
              "    }\n",
              "\n",
              "    .colab-df-convert:hover {\n",
              "      background-color: #E2EBFA;\n",
              "      box-shadow: 0px 1px 2px rgba(60, 64, 67, 0.3), 0px 1px 3px 1px rgba(60, 64, 67, 0.15);\n",
              "      fill: #174EA6;\n",
              "    }\n",
              "\n",
              "    [theme=dark] .colab-df-convert {\n",
              "      background-color: #3B4455;\n",
              "      fill: #D2E3FC;\n",
              "    }\n",
              "\n",
              "    [theme=dark] .colab-df-convert:hover {\n",
              "      background-color: #434B5C;\n",
              "      box-shadow: 0px 1px 3px 1px rgba(0, 0, 0, 0.15);\n",
              "      filter: drop-shadow(0px 1px 2px rgba(0, 0, 0, 0.3));\n",
              "      fill: #FFFFFF;\n",
              "    }\n",
              "  </style>\n",
              "\n",
              "      <script>\n",
              "        const buttonEl =\n",
              "          document.querySelector('#df-18aac84c-8a42-45ad-a241-fc1d45ff00a3 button.colab-df-convert');\n",
              "        buttonEl.style.display =\n",
              "          google.colab.kernel.accessAllowed ? 'block' : 'none';\n",
              "\n",
              "        async function convertToInteractive(key) {\n",
              "          const element = document.querySelector('#df-18aac84c-8a42-45ad-a241-fc1d45ff00a3');\n",
              "          const dataTable =\n",
              "            await google.colab.kernel.invokeFunction('convertToInteractive',\n",
              "                                                     [key], {});\n",
              "          if (!dataTable) return;\n",
              "\n",
              "          const docLinkHtml = 'Like what you see? Visit the ' +\n",
              "            '<a target=\"_blank\" href=https://colab.research.google.com/notebooks/data_table.ipynb>data table notebook</a>'\n",
              "            + ' to learn more about interactive tables.';\n",
              "          element.innerHTML = '';\n",
              "          dataTable['output_type'] = 'display_data';\n",
              "          await google.colab.output.renderOutput(dataTable, element);\n",
              "          const docLink = document.createElement('div');\n",
              "          docLink.innerHTML = docLinkHtml;\n",
              "          element.appendChild(docLink);\n",
              "        }\n",
              "      </script>\n",
              "    </div>\n",
              "  </div>\n",
              "  "
            ]
          },
          "metadata": {},
          "execution_count": 215
        }
      ]
    },
    {
      "cell_type": "code",
      "source": [
        "from flair.models import TARSClassifier\n",
        "from flair.data import Sentence"
      ],
      "metadata": {
        "id": "X9ryr83kEujL"
      },
      "execution_count": 216,
      "outputs": []
    },
    {
      "cell_type": "code",
      "source": [
        "# TARS: Task-aware representation of sentences\n",
        "tars = TARSClassifier.load('tars-base')\n"
      ],
      "metadata": {
        "colab": {
          "base_uri": "https://localhost:8080/"
        },
        "id": "Q57F9lC1E4wu",
        "outputId": "a6764cfd-27e8-4cc6-8106-14ff149fa945"
      },
      "execution_count": 217,
      "outputs": [
        {
          "output_type": "stream",
          "name": "stdout",
          "text": [
            "2022-05-24 09:55:36,680 loading file /root/.flair/models/tars-base-v8.pt\n"
          ]
        }
      ]
    },
    {
      "cell_type": "code",
      "source": [
        "# the labels to be applied\n",
        "# try another - smaller - taxonomy\n",
        "genres = df.genre.unique().tolist()"
      ],
      "metadata": {
        "id": "xJ5tIJT_Ib8v"
      },
      "execution_count": 218,
      "outputs": []
    },
    {
      "cell_type": "code",
      "source": [
        "df_pred_genres = df.copy()\n"
      ],
      "metadata": {
        "id": "CkfqtzJ-MOI0"
      },
      "execution_count": 221,
      "outputs": []
    },
    {
      "cell_type": "code",
      "source": [
        "def genre_tagger(summary, genre, tars):\n",
        "  s = Sentence(summary)\n",
        "  tars.predict_zero_shot(s, genre, multi_label=True)\n",
        "  dict_tag = {}\n",
        "  for label in s.labels:\n",
        "      dict_tag[label.value] = label.score\n",
        "  dict_tag = {k: dict_tag[k] for k in sorted(dict_tag, key=dict_tag.get, reverse=True)}\n",
        "  top_genres = {k: dict_tag[k] for k in list(dict_tag)[:3]}\n",
        "\n",
        "\n",
        "  return top_genres\n",
        "  "
      ],
      "metadata": {
        "id": "VdE1IiE8NzeF"
      },
      "execution_count": 222,
      "outputs": []
    },
    {
      "cell_type": "code",
      "source": [
        "df_pred_genres[['tag_1', 'tag_2', 'tag_3']] = df_pred_genres[\"book_desc\"].apply(lambda x: genre_tagger(x, genres, tars))"
      ],
      "metadata": {
        "id": "s4WN2udTOJ7g"
      },
      "execution_count": null,
      "outputs": []
    },
    {
      "cell_type": "code",
      "source": [
        "df_pred_genres"
      ],
      "metadata": {
        "id": "L7N3v7fPQdfq"
      },
      "execution_count": null,
      "outputs": []
    },
    {
      "cell_type": "markdown",
      "source": [
        "# Few Shot Learning (FSL)"
      ],
      "metadata": {
        "id": "60iHt4r5D8x0"
      }
    },
    {
      "cell_type": "code",
      "source": [
        ""
      ],
      "metadata": {
        "id": "D4ohOZbwEA74"
      },
      "execution_count": null,
      "outputs": []
    },
    {
      "cell_type": "markdown",
      "source": [
        "# NER x ZSL"
      ],
      "metadata": {
        "id": "0RMRFZx0fzyS"
      }
    },
    {
      "cell_type": "code",
      "source": [
        "def ner_extraction(summary, model): \n",
        "  s = Sentence(summary)\n",
        "  tars.predict(s)\n",
        "  print(sentence.to_tagged_string(\"ner\"))"
      ],
      "metadata": {
        "id": "83ST9HH-f2EX"
      },
      "execution_count": null,
      "outputs": []
    },
    {
      "cell_type": "code",
      "source": [
        ""
      ],
      "metadata": {
        "id": "PnwWDveqgGVq"
      },
      "execution_count": null,
      "outputs": []
    }
  ],
  "metadata": {
    "accelerator": "GPU",
    "colab": {
      "collapsed_sections": [],
      "name": "ZSL_genre_classification.ipynb",
      "provenance": []
    },
    "kernelspec": {
      "display_name": "Python 3",
      "name": "python3"
    },
    "language_info": {
      "name": "python"
    }
  },
  "nbformat": 4,
  "nbformat_minor": 0
}