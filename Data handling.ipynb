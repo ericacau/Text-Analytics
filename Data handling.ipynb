{
 "cells": [
  {
   "cell_type": "code",
   "execution_count": 1,
   "id": "72a03346-70dd-4396-b557-b84d4e1bac7e",
   "metadata": {},
   "outputs": [],
   "source": [
    "import pandas as pd\n",
    "import matplotlib.pyplot as plt\n",
    "import langdetect as ld"
   ]
  },
  {
   "cell_type": "code",
   "execution_count": 2,
   "id": "967b93d2-9c7d-4fed-b492-a0f9b3881d50",
   "metadata": {},
   "outputs": [],
   "source": [
    "df = pd.read_csv('data/book_data.csv')"
   ]
  },
  {
   "cell_type": "code",
   "execution_count": 3,
   "id": "811a724b-52f1-4bda-962b-d8ee1d4000d1",
   "metadata": {},
   "outputs": [],
   "source": [
    "df = df.dropna(subset=['genres']) # drop nans in genre"
   ]
  },
  {
   "cell_type": "code",
   "execution_count": 4,
   "id": "c5692b61-1f88-4e26-8882-07c997dc980f",
   "metadata": {},
   "outputs": [],
   "source": [
    "# detect language\n",
    "lang = []\n",
    "for text in df.book_desc:\n",
    "    try:\n",
    "        l = ld.detect(text)\n",
    "        lang.append(l)\n",
    "    except (TypeError, ld.LangDetectException): # no features in text\n",
    "        lang.append('') "
   ]
  },
  {
   "cell_type": "code",
   "execution_count": 5,
   "id": "f9f45c3c-dcb3-40b6-930c-998221f80008",
   "metadata": {},
   "outputs": [],
   "source": [
    "df['lang'] = lang\n",
    "df = df[df['lang'] == 'en'] # remove nonenglish texts"
   ]
  },
  {
   "cell_type": "code",
   "execution_count": 6,
   "id": "95f23aba-9fcf-4501-9a02-0de7141c8cd7",
   "metadata": {},
   "outputs": [],
   "source": [
    "# remove useless features\n",
    "to_remove = ['book_edition', 'book_isbn', 'image_url', 'lang']\n",
    "for feat in to_remove:\n",
    "    del df[feat]"
   ]
  },
  {
   "cell_type": "code",
   "execution_count": 7,
   "id": "47d59902-2d83-4ebe-89b6-9c80a6cddd9c",
   "metadata": {},
   "outputs": [],
   "source": [
    "# list all genres\n",
    "all_genres = []\n",
    "for gs in df.genres:\n",
    "    gs_list = gs.split('|')\n",
    "    all_genres.extend(gs_list)"
   ]
  },
  {
   "cell_type": "code",
   "execution_count": 8,
   "id": "00d8f007-c839-48d2-9702-3452bf6dc092",
   "metadata": {},
   "outputs": [
    {
     "data": {
      "image/png": "[encoded data removed]",
      "text/plain": [
       "<Figure size 432x288 with 1 Axes>"
      ]
     },
     "metadata": {
      "needs_background": "light"
     },
     "output_type": "display_data"
    }
   ],
   "source": [
    "from collections import Counter\n",
    "def plot_most_common(values, n):\n",
    "    freq = Counter(values).most_common(n)\n",
    "    y = [count for tag, count in freq]\n",
    "    x = [tag for tag, count in freq]\n",
    "\n",
    "    plt.bar(x, y, color='crimson')\n",
    "    plt.ylabel(\"Frequency (log scale)\")\n",
    "    plt.yscale('log') # optionally set a log scale for the y-axis\n",
    "    plt.xticks(rotation=90)\n",
    "    for i, (tag, count) in enumerate(freq):\n",
    "        plt.text(i, count, f' {count} ', rotation=90,\n",
    "                 ha='center', va='top' if i < 10 else 'bottom', color='white' if i < 10 else 'black')\n",
    "    plt.xlim(-0.6, len(x)-0.4) # optionally set tighter x lims\n",
    "    plt.tight_layout() # change the whitespace such that all labels fit nicely\n",
    "    plt.savefig('plots/top_genres.png')\n",
    "    plt.show()\n",
    "plot_most_common(all_genres, 20)\n"
   ]
  },
  {
   "cell_type": "code",
   "execution_count": 9,
   "id": "7a38268f-9e42-47d5-a0e1-0513ec787c12",
   "metadata": {},
   "outputs": [],
   "source": [
    "# fix book pages format\n",
    "bookpages = lambda x: int(x.split()[0]) if isinstance(x, str) else None\n",
    "df['book_pages'] = df.book_pages.apply(bookpages)"
   ]
  },
  {
   "cell_type": "code",
   "execution_count": 10,
   "id": "7cb14cfc-fd1f-4952-a1c5-0fd4654970d7",
   "metadata": {},
   "outputs": [],
   "source": [
    "first_genre_only = df.copy()\n",
    "set_genre = lambda x: x.split('|')[0]\n",
    "first_genre_only['genres'] = first_genre_only['genres'].apply(set_genre)"
   ]
  },
  {
   "cell_type": "code",
   "execution_count": 11,
   "id": "80ef7b91-100c-41ab-8a93-3084ba08ed47",
   "metadata": {},
   "outputs": [],
   "source": [
    "first_genre_only.to_csv('data/books_fgo.csv', index=False)"
   ]
  },
  {
   "cell_type": "code",
   "execution_count": 64,
   "id": "6d3150e5-805e-4bf1-a6f3-39e0ecd5fe08",
   "metadata": {},
   "outputs": [],
   "source": [
    "encoded = dict()\n",
    "for key in set(all_genres):\n",
    "    encoded[key] = [0] * len(df)"
   ]
  },
  {
   "cell_type": "code",
   "execution_count": 65,
   "id": "7467bd91-81cc-4ed9-bd40-fa27d0fadb86",
   "metadata": {},
   "outputs": [],
   "source": [
    "# encode genres\n",
    "for i, gs in enumerate(df.genres):\n",
    "    gs_list = gs.split('|')\n",
    "    for j, g in enumerate(gs_list):\n",
    "        if j == 0:\n",
    "            encoded[g][i] = 2\n",
    "        elif j in [1,2]:\n",
    "            encoded[g][i] = 1\n"
   ]
  },
  {
   "cell_type": "code",
   "execution_count": 66,
   "id": "44433232-330d-4abb-b53d-7995b8982ec5",
   "metadata": {},
   "outputs": [],
   "source": [
    "genres = pd.DataFrame(encoded)"
   ]
  },
  {
   "cell_type": "code",
   "execution_count": 73,
   "id": "8d526cdf-2dc9-4a2c-9057-b2ee51c191e4",
   "metadata": {},
   "outputs": [],
   "source": [
    "# filter out least important\n",
    "for col in genres.columns:\n",
    "    if genres[col].sum() < 100:\n",
    "        del genres[col]\n",
    "    if 2 in genres[col].tolist():\n",
    "        pass\n",
    "    else:\n",
    "        del genres[col]"
   ]
  },
  {
   "cell_type": "code",
   "execution_count": 81,
   "id": "38164b53-7d09-4c4b-aa80-9e6cd6586626",
   "metadata": {},
   "outputs": [
    {
     "data": {
      "text/plain": [
       "True"
      ]
     },
     "execution_count": 81,
     "metadata": {},
     "output_type": "execute_result"
    }
   ],
   "source": [
    "len(df) == len(genres)"
   ]
  },
  {
   "cell_type": "code",
   "execution_count": 84,
   "id": "e5976cf1-371f-4d87-a509-240cf8054b6f",
   "metadata": {},
   "outputs": [],
   "source": [
    "final = pd.concat([df.reset_index(drop=True), genres.reset_index(drop=True)], axis=1)"
   ]
  },
  {
   "cell_type": "code",
   "execution_count": 86,
   "id": "3adf002f-aecc-4b2f-98c0-fa6b4a2075f8",
   "metadata": {},
   "outputs": [],
   "source": [
    "del final['genres']"
   ]
  },
  {
   "cell_type": "code",
   "execution_count": 91,
   "id": "6522f780-771d-40a5-b73d-c6e5040b618f",
   "metadata": {},
   "outputs": [],
   "source": [
    "# fix book pages format\n",
    "bookpages = lambda x: int(x.split()[0]) if isinstance(x, str) else None\n",
    "final['book_pages'] = final.book_pages.apply(bookpages)"
   ]
  },
  {
   "cell_type": "code",
   "execution_count": 94,
   "id": "fa0dd34f-37f5-463d-9c96-a52977c6fb12",
   "metadata": {},
   "outputs": [],
   "source": [
    "final.to_csv('data/books_processed.csv')"
   ]
  },
  {
   "cell_type": "code",
   "execution_count": 106,
   "id": "0602f436-77de-4156-8c21-a4f0958ec18d",
   "metadata": {},
   "outputs": [],
   "source": [
    "import tqdm"
   ]
  },
  {
   "cell_type": "code",
   "execution_count": 115,
   "id": "3bac2cae-bc17-459a-a527-16eefa24b269",
   "metadata": {},
   "outputs": [
    {
     "name": "stderr",
     "output_type": "stream",
     "text": [
      "43793it [00:10, 4162.60it/s]\n"
     ]
    }
   ],
   "source": [
    "for i, descr in tqdm.tqdm(final.book_desc.iteritems()):\n",
    "    with open(f'data/descr/{i}.txt', 'w') as file:\n",
    "        file.write(descr)"
   ]
  },
  {
   "cell_type": "code",
   "execution_count": 119,
   "id": "a387513f-5f73-4e52-855a-5f2b2c1fadd0",
   "metadata": {},
   "outputs": [],
   "source": [
    "for_ZSL = [] # for zero shot learning\n",
    "for i, items in df.iterrows():\n",
    "    authors = items['book_authors']\n",
    "    title = items['book_title']\n",
    "    desc = items['book_desc']\n",
    "    genre = items['genres'].split('|')[0]\n",
    "    \n",
    "    for_ZSL.append((authors, title, desc, genre))\n"
   ]
  },
  {
   "cell_type": "code",
   "execution_count": 122,
   "id": "cbe8e715-5a17-4f7d-8061-bdc89f24771c",
   "metadata": {},
   "outputs": [],
   "source": [
    "pd.DataFrame(for_ZSL, columns=['book_authors', 'book_title', 'book_desc', 'genre']).to_csv('data/to_ZSL.csv', index=False)"
   ]
  },
  {
   "cell_type": "code",
   "execution_count": null,
   "id": "8c83cde9-d3fa-4ded-af65-3776e40a1f58",
   "metadata": {},
   "outputs": [],
   "source": []
  }
 ],
 "metadata": {
  "kernelspec": {
   "display_name": "Python 3",
   "language": "python",
   "name": "python3"
  },
  "language_info": {
   "codemirror_mode": {
    "name": "ipython",
    "version": 3
   },
   "file_extension": ".py",
   "mimetype": "text/x-python",
   "name": "python",
   "nbconvert_exporter": "python",
   "pygments_lexer": "ipython3",
   "version": "3.8.8"
  }
 },
 "nbformat": 4,
 "nbformat_minor": 5
}
