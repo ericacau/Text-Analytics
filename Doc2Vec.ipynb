{
 "cells": [
  {
   "cell_type": "code",
   "execution_count": 25,
   "metadata": {},
   "outputs": [],
   "source": [
    "import pandas as pd\n",
    "import numpy as np\n",
    "from tqdm import tqdm\n",
    "tqdm.pandas(desc=\"progress-bar\")\n",
    "from gensim.models import Doc2Vec\n",
    "from sklearn import utils\n",
    "from sklearn.model_selection import train_test_split\n",
    "import gensim\n",
    "from sklearn.linear_model import LogisticRegression\n",
    "from gensim.models.doc2vec import TaggedDocument\n",
    "import re\n",
    "import seaborn as sns\n",
    "import matplotlib.pyplot as plt\n",
    "import nltk\n",
    "from nltk.corpus import stopwords\n",
    "from sklearn.metrics import accuracy_score, f1_score\n",
    "from gensim.test.test_doc2vec import ConcatenatedDoc2Vec\n",
    "from bs4 import BeautifulSoup\n",
    "from sklearn.ensemble import RandomForestClassifier\n",
    "from sklearn.model_selection import RandomizedSearchCV\n",
    "from sklearn.metrics import classification_report, confusion_matrix, plot_confusion_matrix\n",
    "import multiprocessing\n",
    "from sklearn import model_selection, svm\n",
    "cores = multiprocessing.cpu_count()\n"
   ]
  },
  {
   "cell_type": "code",
   "execution_count": 73,
   "metadata": {},
   "outputs": [],
   "source": [
    "df = pd.read_csv(\"books_def.csv\", index_col=0)\n",
    "df = df.reset_index()\n",
    "for col in ['book_authors', 'book_rating', 'book_title']:\n",
    "    del df[col]"
   ]
  },
  {
   "cell_type": "code",
   "execution_count": 74,
   "metadata": {},
   "outputs": [],
   "source": [
    "df = df[(df['genres'] == 'Fiction') | (df['genres'] == 'Nonfiction')]"
   ]
  },
  {
   "cell_type": "code",
   "execution_count": 75,
   "metadata": {},
   "outputs": [],
   "source": [
    "df = df.reset_index()\n",
    "del df['index']"
   ]
  },
  {
   "cell_type": "code",
   "execution_count": 76,
   "metadata": {},
   "outputs": [
    {
     "data": {
      "text/html": [
       "<div>\n",
       "<style scoped>\n",
       "    .dataframe tbody tr th:only-of-type {\n",
       "        vertical-align: middle;\n",
       "    }\n",
       "\n",
       "    .dataframe tbody tr th {\n",
       "        vertical-align: top;\n",
       "    }\n",
       "\n",
       "    .dataframe thead th {\n",
       "        text-align: right;\n",
       "    }\n",
       "</style>\n",
       "<table border=\"1\" class=\"dataframe\">\n",
       "  <thead>\n",
       "    <tr style=\"text-align: right;\">\n",
       "      <th></th>\n",
       "      <th>book_desc</th>\n",
       "      <th>genres</th>\n",
       "    </tr>\n",
       "  </thead>\n",
       "  <tbody>\n",
       "    <tr>\n",
       "      <th>0</th>\n",
       "      <td>An ingenious code hidden in the works of Leona...</td>\n",
       "      <td>Fiction</td>\n",
       "    </tr>\n",
       "    <tr>\n",
       "      <th>1</th>\n",
       "      <td>A literary sensation and runaway bestseller, t...</td>\n",
       "      <td>Fiction</td>\n",
       "    </tr>\n",
       "    <tr>\n",
       "      <th>2</th>\n",
       "      <td>﻿Written in his distinctively dazzling manner,...</td>\n",
       "      <td>Fiction</td>\n",
       "    </tr>\n",
       "    <tr>\n",
       "      <th>3</th>\n",
       "      <td>Paulo Coelho's masterpiece tells the mystical ...</td>\n",
       "      <td>Fiction</td>\n",
       "    </tr>\n",
       "    <tr>\n",
       "      <th>4</th>\n",
       "      <td>Be prepared to meet three unforgettable women:...</td>\n",
       "      <td>Fiction</td>\n",
       "    </tr>\n",
       "    <tr>\n",
       "      <th>...</th>\n",
       "      <td>...</td>\n",
       "      <td>...</td>\n",
       "    </tr>\n",
       "    <tr>\n",
       "      <th>13613</th>\n",
       "      <td>A brilliant, provocative novel about an artist...</td>\n",
       "      <td>Fiction</td>\n",
       "    </tr>\n",
       "    <tr>\n",
       "      <th>13614</th>\n",
       "      <td>Avi Steinberg is stumped. After defecting from...</td>\n",
       "      <td>Nonfiction</td>\n",
       "    </tr>\n",
       "    <tr>\n",
       "      <th>13615</th>\n",
       "      <td>In this fearless and half-crazy story, Howard ...</td>\n",
       "      <td>Nonfiction</td>\n",
       "    </tr>\n",
       "    <tr>\n",
       "      <th>13616</th>\n",
       "      <td>From the icons of the game to the players who ...</td>\n",
       "      <td>Nonfiction</td>\n",
       "    </tr>\n",
       "    <tr>\n",
       "      <th>13617</th>\n",
       "      <td>Soon to be a major motion picture, from Brad P...</td>\n",
       "      <td>Nonfiction</td>\n",
       "    </tr>\n",
       "  </tbody>\n",
       "</table>\n",
       "<p>13618 rows × 2 columns</p>\n",
       "</div>"
      ],
      "text/plain": [
       "                                               book_desc      genres\n",
       "0      An ingenious code hidden in the works of Leona...     Fiction\n",
       "1      A literary sensation and runaway bestseller, t...     Fiction\n",
       "2      ﻿Written in his distinctively dazzling manner,...     Fiction\n",
       "3      Paulo Coelho's masterpiece tells the mystical ...     Fiction\n",
       "4      Be prepared to meet three unforgettable women:...     Fiction\n",
       "...                                                  ...         ...\n",
       "13613  A brilliant, provocative novel about an artist...     Fiction\n",
       "13614  Avi Steinberg is stumped. After defecting from...  Nonfiction\n",
       "13615  In this fearless and half-crazy story, Howard ...  Nonfiction\n",
       "13616  From the icons of the game to the players who ...  Nonfiction\n",
       "13617  Soon to be a major motion picture, from Brad P...  Nonfiction\n",
       "\n",
       "[13618 rows x 2 columns]"
      ]
     },
     "execution_count": 76,
     "metadata": {},
     "output_type": "execute_result"
    }
   ],
   "source": [
    "df"
   ]
  },
  {
   "cell_type": "code",
   "execution_count": 77,
   "metadata": {},
   "outputs": [],
   "source": [
    "def cleanText(text):\n",
    "    text = BeautifulSoup(text, \"lxml\").text\n",
    "    text = re.sub(r'\\|\\|\\|', r' ', text) \n",
    "    text = re.sub(r'http\\S+', r'<URL>', text)\n",
    "    text = text.lower()\n",
    "    text = text.replace('x', '')\n",
    "    return text\n",
    "df['book_desc'] = df['book_desc'].apply(cleanText)"
   ]
  },
  {
   "cell_type": "code",
   "execution_count": 78,
   "metadata": {},
   "outputs": [],
   "source": [
    "def tokenize_text(text):\n",
    "    tokens = []\n",
    "    for sent in nltk.sent_tokenize(text):\n",
    "        for word in nltk.word_tokenize(sent):\n",
    "            if len(word) < 2:\n",
    "                continue\n",
    "            tokens.append(word.lower())\n",
    "    return tokens\n"
   ]
  },
  {
   "cell_type": "code",
   "execution_count": 79,
   "metadata": {},
   "outputs": [],
   "source": [
    "# tags=[r.genres] per motivi ignoti SI PRENDE L'INDICE\n",
    "df['to_ind'] = df['genres']\n",
    "df = df.set_index('to_ind')"
   ]
  },
  {
   "cell_type": "code",
   "execution_count": 80,
   "metadata": {},
   "outputs": [
    {
     "data": {
      "text/html": [
       "<div>\n",
       "<style scoped>\n",
       "    .dataframe tbody tr th:only-of-type {\n",
       "        vertical-align: middle;\n",
       "    }\n",
       "\n",
       "    .dataframe tbody tr th {\n",
       "        vertical-align: top;\n",
       "    }\n",
       "\n",
       "    .dataframe thead th {\n",
       "        text-align: right;\n",
       "    }\n",
       "</style>\n",
       "<table border=\"1\" class=\"dataframe\">\n",
       "  <thead>\n",
       "    <tr style=\"text-align: right;\">\n",
       "      <th></th>\n",
       "      <th>book_desc</th>\n",
       "      <th>genres</th>\n",
       "    </tr>\n",
       "    <tr>\n",
       "      <th>to_ind</th>\n",
       "      <th></th>\n",
       "      <th></th>\n",
       "    </tr>\n",
       "  </thead>\n",
       "  <tbody>\n",
       "    <tr>\n",
       "      <th>Fiction</th>\n",
       "      <td>an ingenious code hidden in the works of leona...</td>\n",
       "      <td>Fiction</td>\n",
       "    </tr>\n",
       "    <tr>\n",
       "      <th>Fiction</th>\n",
       "      <td>a literary sensation and runaway bestseller, t...</td>\n",
       "      <td>Fiction</td>\n",
       "    </tr>\n",
       "    <tr>\n",
       "      <th>Fiction</th>\n",
       "      <td>﻿written in his distinctively dazzling manner,...</td>\n",
       "      <td>Fiction</td>\n",
       "    </tr>\n",
       "    <tr>\n",
       "      <th>Fiction</th>\n",
       "      <td>paulo coelho's masterpiece tells the mystical ...</td>\n",
       "      <td>Fiction</td>\n",
       "    </tr>\n",
       "    <tr>\n",
       "      <th>Fiction</th>\n",
       "      <td>be prepared to meet three unforgettable women:...</td>\n",
       "      <td>Fiction</td>\n",
       "    </tr>\n",
       "    <tr>\n",
       "      <th>...</th>\n",
       "      <td>...</td>\n",
       "      <td>...</td>\n",
       "    </tr>\n",
       "    <tr>\n",
       "      <th>Fiction</th>\n",
       "      <td>a brilliant, provocative novel about an artist...</td>\n",
       "      <td>Fiction</td>\n",
       "    </tr>\n",
       "    <tr>\n",
       "      <th>Nonfiction</th>\n",
       "      <td>avi steinberg is stumped. after defecting from...</td>\n",
       "      <td>Nonfiction</td>\n",
       "    </tr>\n",
       "    <tr>\n",
       "      <th>Nonfiction</th>\n",
       "      <td>in this fearless and half-crazy story, howard ...</td>\n",
       "      <td>Nonfiction</td>\n",
       "    </tr>\n",
       "    <tr>\n",
       "      <th>Nonfiction</th>\n",
       "      <td>from the icons of the game to the players who ...</td>\n",
       "      <td>Nonfiction</td>\n",
       "    </tr>\n",
       "    <tr>\n",
       "      <th>Nonfiction</th>\n",
       "      <td>soon to be a major motion picture, from brad p...</td>\n",
       "      <td>Nonfiction</td>\n",
       "    </tr>\n",
       "  </tbody>\n",
       "</table>\n",
       "<p>13618 rows × 2 columns</p>\n",
       "</div>"
      ],
      "text/plain": [
       "                                                    book_desc      genres\n",
       "to_ind                                                                   \n",
       "Fiction     an ingenious code hidden in the works of leona...     Fiction\n",
       "Fiction     a literary sensation and runaway bestseller, t...     Fiction\n",
       "Fiction     ﻿written in his distinctively dazzling manner,...     Fiction\n",
       "Fiction     paulo coelho's masterpiece tells the mystical ...     Fiction\n",
       "Fiction     be prepared to meet three unforgettable women:...     Fiction\n",
       "...                                                       ...         ...\n",
       "Fiction     a brilliant, provocative novel about an artist...     Fiction\n",
       "Nonfiction  avi steinberg is stumped. after defecting from...  Nonfiction\n",
       "Nonfiction  in this fearless and half-crazy story, howard ...  Nonfiction\n",
       "Nonfiction  from the icons of the game to the players who ...  Nonfiction\n",
       "Nonfiction  soon to be a major motion picture, from brad p...  Nonfiction\n",
       "\n",
       "[13618 rows x 2 columns]"
      ]
     },
     "execution_count": 80,
     "metadata": {},
     "output_type": "execute_result"
    }
   ],
   "source": [
    "df"
   ]
  },
  {
   "cell_type": "code",
   "execution_count": null,
   "metadata": {},
   "outputs": [],
   "source": []
  },
  {
   "cell_type": "code",
   "execution_count": 81,
   "metadata": {},
   "outputs": [],
   "source": [
    "train, test = train_test_split(df, test_size=0.3, random_state=42)\n",
    "\n",
    "train_tagged = train.apply(lambda r: TaggedDocument(words=tokenize_text(r['book_desc']), tags=[r.genres]), axis=1)\n",
    "\n",
    "test_tagged = test.apply(lambda r: TaggedDocument(words=tokenize_text(r['book_desc']), tags=[r.genres]), axis=1)"
   ]
  },
  {
   "cell_type": "code",
   "execution_count": 82,
   "metadata": {},
   "outputs": [],
   "source": [
    "def vec_for_learning(model, tagged_docs):\n",
    "    sents = tagged_docs.values\n",
    "    targets, regressors = zip(*[(doc.tags[0], model.infer_vector(doc.words, epochs=200)) for doc in sents])\n",
    "    return targets, regressors"
   ]
  },
  {
   "cell_type": "markdown",
   "metadata": {},
   "source": [
    "Distributed Bag of Words"
   ]
  },
  {
   "cell_type": "code",
   "execution_count": 83,
   "metadata": {},
   "outputs": [],
   "source": [
    "#model_dbow = Doc2Vec(dm=0, vector_size=300, negative=5, hs=0, min_count=2, sample = 0, workers=cores)\n",
    "#model_dbow.build_vocab([x for x in tqdm(train_tagged.values)])"
   ]
  },
  {
   "cell_type": "code",
   "execution_count": 84,
   "metadata": {},
   "outputs": [],
   "source": [
    "#%%time\n",
    "#for epoch in range(30):\n",
    " #   model_dbow.train(utils.shuffle([x for x in tqdm(train_tagged.values)]), total_examples=len(train_tagged.values), epochs=1)\n",
    "  #  model_dbow.alpha -= 0.002\n",
    "   # model_dbow.min_alpha = model_dbow.alpha"
   ]
  },
  {
   "cell_type": "code",
   "execution_count": null,
   "metadata": {},
   "outputs": [],
   "source": []
  },
  {
   "cell_type": "code",
   "execution_count": null,
   "metadata": {},
   "outputs": [],
   "source": []
  },
  {
   "cell_type": "code",
   "execution_count": 85,
   "metadata": {},
   "outputs": [],
   "source": [
    "#y_train, X_train = vec_for_learning(model_dbow, train_tagged)\n",
    "#y_test, X_test = vec_for_learning(model_dbow, test_tagged)\n"
   ]
  },
  {
   "cell_type": "code",
   "execution_count": 86,
   "metadata": {},
   "outputs": [],
   "source": [
    "\n",
    "#logreg = LogisticRegression(n_jobs=1, C=1e5,  max_iter=10000))\n",
    "#logreg.fit(X_train, y_train)\n",
    "\n",
    "#y_pred = logreg.predict(X_test)\n",
    "\n",
    "#print('Testing accuracy %s' % accuracy_score(y_test, y_pred))\n",
    "#print('Testing F1 score: {}'.format(f1_score(y_test, y_pred, average='weighted')))\n"
   ]
  },
  {
   "cell_type": "code",
   "execution_count": 87,
   "metadata": {},
   "outputs": [],
   "source": [
    "\n",
    "#SVM = svm.SVC(C=1.0, kernel='linear', degree=3, gamma='auto')\n",
    "#SVM.fit(X_train, y_train)\n",
    "\n",
    "#y_pred = SVM.predict(X_test)\n",
    "\n",
    "#print('Testing accuracy %s' % accuracy_score(y_test, y_pred))\n",
    "#print('Testing F1 score: {}'.format(f1_score(y_test, y_pred, average='weighted')))\n"
   ]
  },
  {
   "cell_type": "code",
   "execution_count": 88,
   "metadata": {},
   "outputs": [],
   "source": [
    "#clf = RandomForestClassifier(bootstrap=True)\n",
    "\n",
    "#clf = rand_search.best_estimator_\n",
    "\n",
    "#clf = clf.fit(X_train, y_train)\n",
    "#y_pred = clf.predict(X_test)\n",
    "#print('Testing accuracy %s' % accuracy_score(y_test, y_pred))\n",
    "#print('Testing F1 score: {}'.format(f1_score(y_test, y_pred, average='weighted')))"
   ]
  },
  {
   "cell_type": "markdown",
   "metadata": {},
   "source": [
    "Distributed Memory (DM)"
   ]
  },
  {
   "cell_type": "code",
   "execution_count": 89,
   "metadata": {},
   "outputs": [
    {
     "name": "stderr",
     "output_type": "stream",
     "text": [
      "100%|██████████| 9532/9532 [00:00<00:00, 6409122.43it/s]\n"
     ]
    }
   ],
   "source": [
    "model_dmm = Doc2Vec(dm=1, dm_mean=1, vector_size=300, window=10, negative=5, min_count=5, workers=15, alpha=0.065, min_alpha=0.065)\n",
    "#model_dmm = Doc2Vec(dm=1, dm_mean=1, vector_size=300, window=10, negative=5, min_count=5, workers=15, alpha=0.065, min_alpha=0.065)\n",
    "model_dmm.build_vocab([x for x in tqdm(train_tagged.values)])"
   ]
  },
  {
   "cell_type": "code",
   "execution_count": 90,
   "metadata": {},
   "outputs": [
    {
     "name": "stderr",
     "output_type": "stream",
     "text": [
      "100%|██████████| 9532/9532 [00:00<00:00, 6153625.63it/s]\n",
      "100%|██████████| 9532/9532 [00:00<00:00, 7077377.54it/s]\n",
      "100%|██████████| 9532/9532 [00:00<00:00, 7311650.65it/s]\n",
      "100%|██████████| 9532/9532 [00:00<00:00, 6560568.71it/s]\n",
      "100%|██████████| 9532/9532 [00:00<00:00, 7303636.41it/s]\n",
      "100%|██████████| 9532/9532 [00:00<00:00, 7505182.23it/s]\n",
      "100%|██████████| 9532/9532 [00:00<00:00, 7333108.17it/s]\n",
      "100%|██████████| 9532/9532 [00:00<00:00, 7422968.01it/s]\n",
      "100%|██████████| 9532/9532 [00:00<00:00, 7457583.61it/s]\n",
      "100%|██████████| 9532/9532 [00:00<00:00, 7510822.04it/s]\n",
      "100%|██████████| 9532/9532 [00:00<00:00, 7517883.74it/s]\n",
      "100%|██████████| 9532/9532 [00:00<00:00, 7481307.21it/s]\n",
      "100%|██████████| 9532/9532 [00:00<00:00, 7523542.67it/s]\n",
      "100%|██████████| 9532/9532 [00:00<00:00, 7499550.88it/s]\n",
      "100%|██████████| 9532/9532 [00:00<00:00, 7416083.42it/s]\n",
      "100%|██████████| 9532/9532 [00:00<00:00, 7372322.65it/s]\n",
      "100%|██████████| 9532/9532 [00:00<00:00, 7551965.57it/s]\n",
      "100%|██████████| 9532/9532 [00:00<00:00, 7493927.97it/s]\n",
      "100%|██████████| 9532/9532 [00:00<00:00, 7527792.45it/s]\n",
      "100%|██████████| 9532/9532 [00:00<00:00, 7429865.40it/s]\n",
      "100%|██████████| 9532/9532 [00:00<00:00, 7292978.06it/s]\n",
      "100%|██████████| 9532/9532 [00:00<00:00, 7097480.16it/s]\n",
      "100%|██████████| 9532/9532 [00:00<00:00, 6355127.28it/s]\n",
      "100%|██████████| 9532/9532 [00:00<00:00, 6943401.48it/s]\n",
      "100%|██████████| 9532/9532 [00:00<00:00, 7044952.55it/s]\n",
      "100%|██████████| 9532/9532 [00:00<00:00, 5777471.93it/s]\n",
      "100%|██████████| 9532/9532 [00:00<00:00, 7172605.98it/s]\n",
      "100%|██████████| 9532/9532 [00:00<00:00, 7018979.24it/s]\n",
      "100%|██████████| 9532/9532 [00:00<00:00, 7102523.67it/s]\n",
      "100%|██████████| 9532/9532 [00:00<00:00, 7155916.54it/s]\n"
     ]
    },
    {
     "name": "stdout",
     "output_type": "stream",
     "text": [
      "CPU times: user 1min 35s, sys: 6.22 s, total: 1min 41s\n",
      "Wall time: 29.4 s\n"
     ]
    }
   ],
   "source": [
    "%%time\n",
    "for epoch in range(30):\n",
    "    model_dmm.train(utils.shuffle([x for x in tqdm(train_tagged.values)]), total_examples=len(train_tagged.values), epochs=1)\n",
    "    model_dmm.alpha -= 0.002\n",
    "    model_dmm.min_alpha = model_dmm.alpha"
   ]
  },
  {
   "cell_type": "code",
   "execution_count": 91,
   "metadata": {},
   "outputs": [],
   "source": [
    "y_train, X_train = vec_for_learning(model_dmm, train_tagged)\n",
    "y_test, X_test = vec_for_learning(model_dmm, test_tagged)"
   ]
  },
  {
   "cell_type": "code",
   "execution_count": 92,
   "metadata": {},
   "outputs": [
    {
     "name": "stdout",
     "output_type": "stream",
     "text": [
      "Testing accuracy 0.8409202153695545\n",
      "Testing F1 score: 0.8410255395701087\n"
     ]
    }
   ],
   "source": [
    "\n",
    "SVM = svm.SVC(C=1.0, kernel='linear', degree=3, gamma='auto')\n",
    "SVM.fit(X_train, y_train)\n",
    "\n",
    "y_pred = SVM.predict(X_test)\n",
    "\n",
    "print('Testing accuracy %s' % accuracy_score(y_test, y_pred))\n",
    "print('Testing F1 score: {}'.format(f1_score(y_test, y_pred, average='weighted')))\n"
   ]
  },
  {
   "cell_type": "code",
   "execution_count": 94,
   "metadata": {},
   "outputs": [
    {
     "name": "stdout",
     "output_type": "stream",
     "text": [
      "Testing accuracy 0.8470386686245717\n",
      "Testing F1 score: 0.8471158575508124\n"
     ]
    }
   ],
   "source": [
    "logreg = LogisticRegression(n_jobs=1, C=1e5,  max_iter=10000)\n",
    "logreg.fit(X_train, y_train)\n",
    "y_pred = logreg.predict(X_test)\n",
    "print('Testing accuracy %s' % accuracy_score(y_test, y_pred))\n",
    "print('Testing F1 score: {}'.format(f1_score(y_test, y_pred, average='weighted')))"
   ]
  },
  {
   "cell_type": "code",
   "execution_count": null,
   "metadata": {},
   "outputs": [],
   "source": []
  },
  {
   "cell_type": "code",
   "execution_count": 95,
   "metadata": {},
   "outputs": [
    {
     "name": "stdout",
     "output_type": "stream",
     "text": [
      "Testing accuracy 0.7440039158100832\n",
      "Testing F1 score: 0.7426584809804719\n"
     ]
    }
   ],
   "source": [
    "clf = RandomForestClassifier(bootstrap=True)\n",
    "\n",
    "clf = clf.fit(X_train, y_train)\n",
    "y_pred = clf.predict(X_test)\n",
    "print('Testing accuracy %s' % accuracy_score(y_test, y_pred))\n",
    "print('Testing F1 score: {}'.format(f1_score(y_test, y_pred, average='weighted')))"
   ]
  },
  {
   "cell_type": "markdown",
   "metadata": {},
   "source": [
    "Combined!"
   ]
  },
  {
   "cell_type": "code",
   "execution_count": 22,
   "metadata": {},
   "outputs": [],
   "source": [
    "#model_dbow.delete_temporary_training_data(keep_doctags_vectors=True, keep_inference=True)\n",
    "#model_dmm.delete_temporary_training_data(keep_doctags_vectors=True, keep_inference=True)"
   ]
  },
  {
   "cell_type": "code",
   "execution_count": 23,
   "metadata": {},
   "outputs": [],
   "source": [
    "#new_model = ConcatenatedDoc2Vec([model_dbow, model_dmm])"
   ]
  },
  {
   "cell_type": "code",
   "execution_count": 24,
   "metadata": {},
   "outputs": [],
   "source": [
    "#def get_vectors(model, tagged_docs):\n",
    "#    sents = tagged_docs.values\n",
    " #   targets, regressors = zip(*[(doc.tags[0], model.infer_vector(doc.words)) for doc in sents])\n",
    " #   return targets, regressors"
   ]
  },
  {
   "cell_type": "code",
   "execution_count": 25,
   "metadata": {},
   "outputs": [],
   "source": [
    "#y_train, X_train = get_vectors(new_model, train_tagged)\n",
    "#y_test, X_test = get_vectors(new_model, test_tagged)"
   ]
  },
  {
   "cell_type": "code",
   "execution_count": 26,
   "metadata": {},
   "outputs": [
    {
     "name": "stdout",
     "output_type": "stream",
     "text": [
      "Testing accuracy 0.1826783114992722\n",
      "Testing F1 score: 0.13060293283431898\n"
     ]
    }
   ],
   "source": [
    "\n",
    "#SVM = svm.SVC(C=1.0, kernel='linear', degree=3, gamma='auto')\n",
    "#SVM.fit(X_train, y_train)\n",
    "\n",
    "#y_pred = SVM.predict(X_test)\n",
    "\n",
    "#print('Testing accuracy %s' % accuracy_score(y_test, y_pred))\n",
    "#print('Testing F1 score: {}'.format(f1_score(y_test, y_pred, average='weighted')))\n"
   ]
  },
  {
   "cell_type": "code",
   "execution_count": 27,
   "metadata": {},
   "outputs": [
    {
     "name": "stdout",
     "output_type": "stream",
     "text": [
      "Testing accuracy 0.12527292576419213\n",
      "Testing F1 score: 0.11406939588161567\n"
     ]
    },
    {
     "name": "stderr",
     "output_type": "stream",
     "text": [
      "/Users/federico/miniforge3/envs/tf/lib/python3.8/site-packages/sklearn/linear_model/_logistic.py:763: ConvergenceWarning: lbfgs failed to converge (status=1):\n",
      "STOP: TOTAL NO. of ITERATIONS REACHED LIMIT.\n",
      "\n",
      "Increase the number of iterations (max_iter) or scale the data as shown in:\n",
      "    https://scikit-learn.org/stable/modules/preprocessing.html\n",
      "Please also refer to the documentation for alternative solver options:\n",
      "    https://scikit-learn.org/stable/modules/linear_model.html#logistic-regression\n",
      "  n_iter_i = _check_optimize_result(\n"
     ]
    }
   ],
   "source": [
    "\n",
    "#logreg.fit(X_train, y_train)\n",
    "#y_pred = logreg.predict(X_test)\n",
    "#print('Testing accuracy %s' % accuracy_score(y_test, y_pred))\n",
    "#print('Testing F1 score: {}'.format(f1_score(y_test, y_pred, average='weighted')))"
   ]
  },
  {
   "cell_type": "code",
   "execution_count": 28,
   "metadata": {},
   "outputs": [
    {
     "name": "stdout",
     "output_type": "stream",
     "text": [
      "Testing accuracy 0.18340611353711792\n",
      "Testing F1 score: 0.1421811719743764\n"
     ]
    }
   ],
   "source": [
    "#clf = RandomForestClassifier(bootstrap=True)\n",
    "\n",
    "#clf = clf.fit(X_train, y_train)\n",
    "#y_pred = clf.predict(X_test)\n",
    "#print('Testing accuracy %s' % accuracy_score(y_test, y_pred))\n",
    "#print('Testing F1 score: {}'.format(f1_score(y_test, y_pred, average='weighted')))"
   ]
  },
  {
   "cell_type": "code",
   "execution_count": null,
   "metadata": {},
   "outputs": [],
   "source": []
  },
  {
   "cell_type": "code",
   "execution_count": null,
   "metadata": {},
   "outputs": [],
   "source": []
  }
 ],
 "metadata": {
  "kernelspec": {
   "display_name": "Python 3",
   "language": "python",
   "name": "python3"
  },
  "language_info": {
   "codemirror_mode": {
    "name": "ipython",
    "version": 3
   },
   "file_extension": ".py",
   "mimetype": "text/x-python",
   "name": "python",
   "nbconvert_exporter": "python",
   "pygments_lexer": "ipython3",
   "version": "3.8.8"
  }
 },
 "nbformat": 4,
 "nbformat_minor": 4
}
