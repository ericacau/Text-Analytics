{
 "cells": [
  {
   "cell_type": "code",
   "execution_count": 10,
   "metadata": {
    "id": "LnOGpHMheUBJ"
   },
   "outputs": [],
   "source": [
    "# preprocessing & visualization\n",
    "import pandas as pd\n",
    "import numpy as np\n",
    "import matplotlib.pyplot as plt\n",
    "import seaborn as sns\n",
    "import nltk\n",
    "import re\n",
    "import spacy\n",
    "import pickle\n",
    "from nltk.corpus import stopwords\n",
    "from sklearn.model_selection import train_test_split\n",
    "\n",
    "# models for classification\n",
    "from sklearn.feature_extraction.text import TfidfTransformer, CountVectorizer, TfidfVectorizer\n",
    "from sklearn.feature_selection import SelectKBest, chi2\n",
    "from sklearn.model_selection import GridSearchCV\n",
    "from sklearn.pipeline import Pipeline\n",
    "from sklearn.naive_bayes import MultinomialNB\n",
    "from sklearn.tree import DecisionTreeClassifier\n",
    "from sklearn.svm import LinearSVC\n",
    "from sklearn.ensemble import RandomForestClassifier\n",
    "from sklearn.metrics import confusion_matrix, classification_report\n",
    "from sklearn.metrics import plot_confusion_matrix\n",
    "from sklearn.metrics import accuracy_score\n",
    "from sklearn.metrics import f1_score"
   ]
  },
  {
   "cell_type": "code",
   "execution_count": 2,
   "metadata": {
    "id": "0165RZ8efAjj"
   },
   "outputs": [],
   "source": [
    "df = pd.read_csv(\"data/books_def.csv\", index_col=0)"
   ]
  },
  {
   "cell_type": "code",
   "execution_count": 3,
   "metadata": {
    "colab": {
     "base_uri": "https://localhost:8080/"
    },
    "id": "CzPnZrsgf0wq",
    "outputId": "e13477b6-83bc-43bb-c5a5-9b91578e9ca8"
   },
   "outputs": [
    {
     "name": "stdout",
     "output_type": "stream",
     "text": [
      "<class 'pandas.core.frame.DataFrame'>\n",
      "Index: 36638 entries, Suzanne Collins to Mimi Baird|Eve Claxton\n",
      "Data columns (total 4 columns):\n",
      " #   Column       Non-Null Count  Dtype  \n",
      "---  ------       --------------  -----  \n",
      " 0   book_desc    36638 non-null  object \n",
      " 1   book_rating  36638 non-null  float64\n",
      " 2   book_title   36638 non-null  object \n",
      " 3   genres       36638 non-null  object \n",
      "dtypes: float64(1), object(3)\n",
      "memory usage: 1.4+ MB\n"
     ]
    }
   ],
   "source": [
    "df.info()"
   ]
  },
  {
   "cell_type": "code",
   "execution_count": 4,
   "metadata": {
    "colab": {
     "base_uri": "https://localhost:8080/",
     "height": 237
    },
    "id": "2z57UGQBf35h",
    "outputId": "8c9cd218-38c5-4122-ab5e-b51ceaf0d08b"
   },
   "outputs": [
    {
     "data": {
      "text/html": [
       "<div>\n",
       "<style scoped>\n",
       "    .dataframe tbody tr th:only-of-type {\n",
       "        vertical-align: middle;\n",
       "    }\n",
       "\n",
       "    .dataframe tbody tr th {\n",
       "        vertical-align: top;\n",
       "    }\n",
       "\n",
       "    .dataframe thead th {\n",
       "        text-align: right;\n",
       "    }\n",
       "</style>\n",
       "<table border=\"1\" class=\"dataframe\">\n",
       "  <thead>\n",
       "    <tr style=\"text-align: right;\">\n",
       "      <th></th>\n",
       "      <th>book_desc</th>\n",
       "      <th>book_rating</th>\n",
       "      <th>book_title</th>\n",
       "      <th>genres</th>\n",
       "    </tr>\n",
       "    <tr>\n",
       "      <th>book_authors</th>\n",
       "      <th></th>\n",
       "      <th></th>\n",
       "      <th></th>\n",
       "      <th></th>\n",
       "    </tr>\n",
       "  </thead>\n",
       "  <tbody>\n",
       "    <tr>\n",
       "      <th>Suzanne Collins</th>\n",
       "      <td>Winning will make you famous. Losing means cer...</td>\n",
       "      <td>4.33</td>\n",
       "      <td>The Hunger Games</td>\n",
       "      <td>Young Adult</td>\n",
       "    </tr>\n",
       "    <tr>\n",
       "      <th>J.K. Rowling|Mary GrandPré</th>\n",
       "      <td>There is a door at the end of a silent corrido...</td>\n",
       "      <td>4.48</td>\n",
       "      <td>Harry Potter and the Order of the Phoenix</td>\n",
       "      <td>Fantasy</td>\n",
       "    </tr>\n",
       "    <tr>\n",
       "      <th>Harper Lee</th>\n",
       "      <td>The unforgettable novel of a childhood in a sl...</td>\n",
       "      <td>4.27</td>\n",
       "      <td>To Kill a Mockingbird</td>\n",
       "      <td>Classics</td>\n",
       "    </tr>\n",
       "    <tr>\n",
       "      <th>Stephenie Meyer</th>\n",
       "      <td>About three things I was absolutely positive.F...</td>\n",
       "      <td>3.58</td>\n",
       "      <td>Twilight</td>\n",
       "      <td>Young Adult</td>\n",
       "    </tr>\n",
       "    <tr>\n",
       "      <th>Markus Zusak</th>\n",
       "      <td>Trying to make sense of the horrors of World W...</td>\n",
       "      <td>4.36</td>\n",
       "      <td>The Book Thief</td>\n",
       "      <td>Historical</td>\n",
       "    </tr>\n",
       "  </tbody>\n",
       "</table>\n",
       "</div>"
      ],
      "text/plain": [
       "                                                                    book_desc  \\\n",
       "book_authors                                                                    \n",
       "Suzanne Collins             Winning will make you famous. Losing means cer...   \n",
       "J.K. Rowling|Mary GrandPré  There is a door at the end of a silent corrido...   \n",
       "Harper Lee                  The unforgettable novel of a childhood in a sl...   \n",
       "Stephenie Meyer             About three things I was absolutely positive.F...   \n",
       "Markus Zusak                Trying to make sense of the horrors of World W...   \n",
       "\n",
       "                            book_rating  \\\n",
       "book_authors                              \n",
       "Suzanne Collins                    4.33   \n",
       "J.K. Rowling|Mary GrandPré         4.48   \n",
       "Harper Lee                         4.27   \n",
       "Stephenie Meyer                    3.58   \n",
       "Markus Zusak                       4.36   \n",
       "\n",
       "                                                           book_title  \\\n",
       "book_authors                                                            \n",
       "Suzanne Collins                                      The Hunger Games   \n",
       "J.K. Rowling|Mary GrandPré  Harry Potter and the Order of the Phoenix   \n",
       "Harper Lee                                      To Kill a Mockingbird   \n",
       "Stephenie Meyer                                              Twilight   \n",
       "Markus Zusak                                           The Book Thief   \n",
       "\n",
       "                                 genres  \n",
       "book_authors                             \n",
       "Suzanne Collins             Young Adult  \n",
       "J.K. Rowling|Mary GrandPré      Fantasy  \n",
       "Harper Lee                     Classics  \n",
       "Stephenie Meyer             Young Adult  \n",
       "Markus Zusak                 Historical  "
      ]
     },
     "execution_count": 4,
     "metadata": {},
     "output_type": "execute_result"
    }
   ],
   "source": [
    "df.head()"
   ]
  },
  {
   "cell_type": "code",
   "execution_count": 5,
   "metadata": {
    "id": "7_XYgPAGrssF"
   },
   "outputs": [],
   "source": [
    "df = df.reset_index()"
   ]
  },
  {
   "cell_type": "code",
   "execution_count": 6,
   "metadata": {
    "colab": {
     "base_uri": "https://localhost:8080/"
    },
    "id": "H7TuDUKArykb",
    "outputId": "aae19fd6-eba3-4716-f4e8-2b79b710de6c"
   },
   "outputs": [
    {
     "data": {
      "text/plain": [
       "0        Winning will make you famous. Losing means cer...\n",
       "1        There is a door at the end of a silent corrido...\n",
       "2        The unforgettable novel of a childhood in a sl...\n",
       "3        About three things I was absolutely positive.F...\n",
       "4        Trying to make sense of the horrors of World W...\n",
       "                               ...                        \n",
       "36633    A brilliant, provocative novel about an artist...\n",
       "36634    Avi Steinberg is stumped. After defecting from...\n",
       "36635    In this fearless and half-crazy story, Howard ...\n",
       "36636    From the icons of the game to the players who ...\n",
       "36637    Soon to be a major motion picture, from Brad P...\n",
       "Name: book_desc, Length: 36638, dtype: object"
      ]
     },
     "execution_count": 6,
     "metadata": {},
     "output_type": "execute_result"
    }
   ],
   "source": [
    "df[\"book_desc\"]"
   ]
  },
  {
   "cell_type": "code",
   "execution_count": 11,
   "metadata": {
    "id": "EO5gYWB2f8JH"
   },
   "outputs": [],
   "source": [
    "nlp = spacy.load(\"en_core_web_sm\")"
   ]
  },
  {
   "cell_type": "code",
   "execution_count": 12,
   "metadata": {
    "id": "uzshl0WNgLcH"
   },
   "outputs": [],
   "source": [
    "# leggo testi & etichette\n",
    "X = df[\"book_desc\"]\n",
    "y = df[\"genres\"]\n",
    "\n",
    "X_train, X_test, y_train, y_test = train_test_split(X, y, test_size=0.30, stratify=y, random_state=1)"
   ]
  },
  {
   "cell_type": "code",
   "execution_count": 13,
   "metadata": {
    "colab": {
     "base_uri": "https://localhost:8080/",
     "height": 145
    },
    "id": "-Ok_E7xLrieS",
    "outputId": "3c61396a-2a3f-4c69-fb9f-7b9f91537f1d"
   },
   "outputs": [
    {
     "data": {
      "text/plain": [
       "'Winner of the 2007 BookBrowse Award for Most Popular Book.An atmospheric, gritty, and compelling novel of star-crossed lovers, set in the circus world circa 1932, by the bestselling author of Riding Lessons. When Jacob Jankowski, recently orphaned and suddenly adrift, jumps onto a passing train, he enters a world of freaks, drifters, and misfits, a second-rate circus struggling to survive during the Great Depression, making one-night stands in town after endless town. A veterinary student who almost earned his degree, Jacob is put in charge of caring for the circus menagerie. It is there that he meets Marlena, the beautiful young star of the equestrian act, who is married to August, the charismatic but twisted animal trainer. He also meets Rosie, an elephant who seems untrainable until he discovers a way to reach her. Beautifully written, Water for Elephants is illuminated by a wonderful sense of time and place. It tells a story of a love between two people that overcomes incredible odds in a world in which even love is a luxury that few can afford.'"
      ]
     },
     "execution_count": 13,
     "metadata": {},
     "output_type": "execute_result"
    }
   ],
   "source": [
    "sample_idx = 50\n",
    "X_train[sample_idx]"
   ]
  },
  {
   "cell_type": "code",
   "execution_count": 14,
   "metadata": {
    "colab": {
     "base_uri": "https://localhost:8080/",
     "height": 36
    },
    "id": "aB2f64Mc_RLV",
    "outputId": "3ae2b3a9-f03b-47b6-dfc9-286adb9f367b"
   },
   "outputs": [
    {
     "data": {
      "text/plain": [
       "'Fiction'"
      ]
     },
     "execution_count": 14,
     "metadata": {},
     "output_type": "execute_result"
    }
   ],
   "source": [
    "y_train[sample_idx]\n"
   ]
  },
  {
   "cell_type": "code",
   "execution_count": 15,
   "metadata": {
    "colab": {
     "base_uri": "https://localhost:8080/"
    },
    "id": "7oqv78eff8LG",
    "outputId": "4401d132-758a-495e-c998-faf5627987d9"
   },
   "outputs": [
    {
     "name": "stderr",
     "output_type": "stream",
     "text": [
      "[nltk_data] Downloading package stopwords to\n",
      "[nltk_data]     C:\\Users\\Erica\\AppData\\Roaming\\nltk_data...\n",
      "[nltk_data]   Unzipping corpora\\stopwords.zip.\n",
      "[nltk_data] Downloading package wordnet to\n",
      "[nltk_data]     C:\\Users\\Erica\\AppData\\Roaming\\nltk_data...\n",
      "[nltk_data]   Package wordnet is already up-to-date!\n",
      "[nltk_data] Downloading package punkt to\n",
      "[nltk_data]     C:\\Users\\Erica\\AppData\\Roaming\\nltk_data...\n",
      "[nltk_data]   Package punkt is already up-to-date!\n",
      "[nltk_data] Downloading package averaged_perceptron_tagger to\n",
      "[nltk_data]     C:\\Users\\Erica\\AppData\\Roaming\\nltk_data...\n",
      "[nltk_data]   Unzipping taggers\\averaged_perceptron_tagger.zip.\n"
     ]
    }
   ],
   "source": [
    "import string\n",
    "nltk.download('stopwords')\n",
    "nltk.download('wordnet')\n",
    "nltk.download('punkt')\n",
    "nltk.download('averaged_perceptron_tagger')\n",
    "from nltk.corpus import stopwords, wordnet\n",
    "from nltk import word_tokenize, pos_tag\n",
    "from nltk.stem.wordnet import WordNetLemmatizer\n",
    "\n",
    "stopword_list = stopwords.words('english')\n",
    "punctuations = string.punctuation\n",
    "\n",
    "def spacy_nlp_tokenizer(text):\n",
    "\n",
    "    # substituting all space characters with a single space\n",
    "    text = re.sub('\\s+', ' ', text)\n",
    "    text = re.sub('\\r', ' ', text)\n",
    "\n",
    "    # removing Url\n",
    "    text = re.sub(r\"\\S*https?:\\S*\", \"\", text, flags=re.MULTILINE)\n",
    "    #removing mention\n",
    "    text = re.sub(r'@[\\w]+', \"\", text, flags=re.MULTILINE)\n",
    "    \n",
    "    doc = nlp(text)\n",
    "    \n",
    "    # lemmatizing tokens and lowering case\n",
    "    lemmas = [token.lemma_.lower() for token in doc]\n",
    "    \n",
    "    \n",
    "    # removing stopwords and punctuations\n",
    "    lemmas_nostop = [token for token in lemmas if token not in stopword_list and token not in punctuations]\n",
    "    \n",
    "    \n",
    "    # creating ngrams\n",
    "    lemma_bigrams = ['BI_'+p1+'_'+p2 for p1,p2 in nltk.ngrams(lemmas_nostop,2)]\n",
    "    lemma_trigrams = ['TRI_'+p1+'_'+p2+'_'+p3 for p1,p2,p3 in nltk.ngrams(lemmas_nostop,3)]\n",
    "    \n",
    "    \n",
    "\n",
    "    all_tokens = list()\n",
    "    all_tokens.extend(lemmas_nostop)\n",
    "    all_tokens.extend(lemma_bigrams)\n",
    "    all_tokens.extend(lemma_trigrams)\n",
    "    return all_tokens"
   ]
  },
  {
   "cell_type": "code",
   "execution_count": 16,
   "metadata": {
    "id": "hN1uUyisgBNI"
   },
   "outputs": [],
   "source": [
    "vect=CountVectorizer(analyzer=spacy_nlp_tokenizer, min_df = 5)\n"
   ]
  },
  {
   "cell_type": "code",
   "execution_count": 17,
   "metadata": {
    "colab": {
     "base_uri": "https://localhost:8080/",
     "height": 467
    },
    "id": "XCkQW9FCqoI-",
    "outputId": "ddd6d6a1-0e47-49a6-f5d7-62e79232db2b"
   },
   "outputs": [
    {
     "name": "stdout",
     "output_type": "stream",
     "text": [
      "fit\n",
      "transform\n",
      "done\n"
     ]
    }
   ],
   "source": [
    "print('fit')\n",
    "# Just creating the features space. It define the dimensions.\n",
    "vect.fit(X_train) \n",
    "print('transform')\n",
    "#Creating the vectors\n",
    "X_train_tok = vect.transform(X_train) \n",
    "print('done')\n",
    "\n",
    "\n",
    "X_test_tok =vect.transform(X_test)"
   ]
  },
  {
   "cell_type": "code",
   "execution_count": 18,
   "metadata": {
    "id": "2eG_Ps6uVZnM"
   },
   "outputs": [],
   "source": [
    "with open('data/pickle/svm_train_tok.pkl','wb') as outfile:\n",
    "    pickle.dump(X_train_tok,outfile)\n",
    "with open('data/pickle/svm_test_tok.pkl','wb') as outfile:\n",
    "    pickle.dump(X_test_tok,outfile)"
   ]
  },
  {
   "cell_type": "code",
   "execution_count": null,
   "metadata": {},
   "outputs": [],
   "source": [
    "with open('data/pickle/svm_train_tok.pkl',mode='br') as inputfile:\n",
    "    X_train_tok = pickle.load(inputfile)\n",
    "with open('data/pickle/svm_test_tok.pkl',mode='br') as inputfile:\n",
    "    X_test_tok = pickle.load(inputfile)"
   ]
  },
  {
   "cell_type": "code",
   "execution_count": 20,
   "metadata": {
    "colab": {
     "base_uri": "https://localhost:8080/"
    },
    "id": "wKphrzXPgNO5",
    "outputId": "06f6f710-9140-4b1b-f43a-02f6f9373d2b"
   },
   "outputs": [
    {
     "name": "stdout",
     "output_type": "stream",
     "text": [
      "Summary:  25646 Genres:  10992\n"
     ]
    }
   ],
   "source": [
    "print(\"Summary: \", len(X_train), \"Genres: \", len(X_test))"
   ]
  },
  {
   "cell_type": "code",
   "execution_count": 21,
   "metadata": {
    "colab": {
     "base_uri": "https://localhost:8080/"
    },
    "id": "CoF6GjJxhP27",
    "outputId": "fddafe66-0a30-4fb6-cb2a-4c9ac7ed0f96"
   },
   "outputs": [
    {
     "name": "stdout",
     "output_type": "stream",
     "text": [
      "{'Fiction', 'Science Fiction', 'Classics', 'Historical', 'Mystery', 'Sequential Art', 'Nonfiction', 'Young Adult', 'Fantasy', 'Romance'} \n",
      " {'Fiction', 'Science Fiction', 'Classics', 'Historical', 'Mystery', 'Sequential Art', 'Nonfiction', 'Young Adult', 'Fantasy', 'Romance'}\n"
     ]
    }
   ],
   "source": [
    "print(set(y_test), \"\\n\", set(y_train))"
   ]
  },
  {
   "cell_type": "code",
   "execution_count": 22,
   "metadata": {
    "colab": {
     "base_uri": "https://localhost:8080/"
    },
    "id": "NK-ONlKSgBK6",
    "outputId": "754d2a4b-b106-49f3-b349-11a83d002808"
   },
   "outputs": [
    {
     "name": "stdout",
     "output_type": "stream",
     "text": [
      "Classification report:\n",
      "                 precision    recall  f1-score   support\n",
      "\n",
      "       Classics       0.65      0.53      0.58       477\n",
      "        Fantasy       0.71      0.75      0.73      1891\n",
      "        Fiction       0.58      0.61      0.60      2134\n",
      "     Historical       0.62      0.50      0.55       643\n",
      "        Mystery       0.65      0.60      0.62       612\n",
      "     Nonfiction       0.80      0.87      0.83      1951\n",
      "        Romance       0.68      0.70      0.69      1362\n",
      "Science Fiction       0.68      0.60      0.64       525\n",
      " Sequential Art       0.81      0.64      0.71       399\n",
      "    Young Adult       0.56      0.56      0.56       998\n",
      "\n",
      "       accuracy                           0.68     10992\n",
      "      macro avg       0.67      0.64      0.65     10992\n",
      "   weighted avg       0.68      0.68      0.68     10992\n",
      "\n",
      "Confusion matrix:\n",
      "[[ 253   17  122   17    3   42    8    8    1    6]\n",
      " [  13 1414  117   22   20   48  111   35   17   94]\n",
      " [  71  125 1310   76   83  188  119   36   15  111]\n",
      " [  13   41  124  323   15   45   40   10    3   29]\n",
      " [   9   26  123   10  367    9   29    3    3   33]\n",
      " [  22   17  140   12   11 1690   12   19   10   18]\n",
      " [   3  128   99   33   24   19  956   10    2   88]\n",
      " [   1   56   56    8   11   18   19  316    4   36]\n",
      " [   1   32   32    4    6   25   13   12  254   20]\n",
      " [   5  125  118   16   24   23  102   16    6  563]]\n"
     ]
    }
   ],
   "source": [
    "svm_pipeline = Pipeline([\n",
    "    ('vect', TfidfVectorizer(min_df = 5)), #tokenization\n",
    "    ('sel', SelectKBest(chi2, k=7000)),  # feature selection\n",
    "    ('tfidf', TfidfTransformer()),  # weighting\n",
    "    ('learner', LinearSVC())  # learning algorithm\n",
    "])\n",
    "\n",
    "svm_pipeline.fit(X_train,y_train)\n",
    "predictions = svm_pipeline.predict(X_test)\n",
    "\n",
    "print('Classification report:')\n",
    "print(classification_report(y_test, predictions))\n",
    "print('Confusion matrix:')\n",
    "cm = confusion_matrix(y_test, predictions)\n",
    "print(cm)\n"
   ]
  },
  {
   "cell_type": "code",
   "execution_count": 23,
   "metadata": {
    "colab": {
     "base_uri": "https://localhost:8080/",
     "height": 403
    },
    "id": "92qn3l8znT90",
    "outputId": "197037d1-fef9-4091-8bbf-04d386e53828"
   },
   "outputs": [
    {
     "data": {
      "text/plain": [
       "<Figure size 1080x1080 with 0 Axes>"
      ]
     },
     "metadata": {},
     "output_type": "display_data"
    },
    {
     "data": {
      "image/png": "[encoded data removed]",
      "text/plain": [
       "<Figure size 432x288 with 2 Axes>"
      ]
     },
     "metadata": {
      "needs_background": "light"
     },
     "output_type": "display_data"
    }
   ],
   "source": [
    "plt.figure(figsize=(15,15))\n",
    "plot_confusion_matrix(svm_pipeline, X_test, y_test)  \n",
    "plt.xticks(rotation=45, fontsize = 10)\n",
    "plt.yticks(rotation=0, fontsize = 10)\n",
    "plt.show()"
   ]
  },
  {
   "cell_type": "code",
   "execution_count": 24,
   "metadata": {
    "colab": {
     "base_uri": "https://localhost:8080/"
    },
    "id": "oEbb4yiUgBJJ",
    "outputId": "a8ba88be-4271-47b9-f456-9cc2fd2761e6"
   },
   "outputs": [
    {
     "name": "stdout",
     "output_type": "stream",
     "text": [
      "Classification report:\n",
      "                 precision    recall  f1-score   support\n",
      "\n",
      "       Classics       0.66      0.52      0.58       477\n",
      "        Fantasy       0.71      0.75      0.73      1891\n",
      "        Fiction       0.58      0.63      0.60      2134\n",
      "     Historical       0.64      0.51      0.57       643\n",
      "        Mystery       0.67      0.62      0.64       612\n",
      "     Nonfiction       0.79      0.85      0.82      1951\n",
      "        Romance       0.70      0.72      0.71      1362\n",
      "Science Fiction       0.73      0.60      0.66       525\n",
      " Sequential Art       0.82      0.62      0.71       399\n",
      "    Young Adult       0.58      0.57      0.57       998\n",
      "\n",
      "       accuracy                           0.68     10992\n",
      "      macro avg       0.69      0.64      0.66     10992\n",
      "   weighted avg       0.68      0.68      0.68     10992\n",
      "\n",
      "Confusion matrix:\n",
      "[[ 249   17  124   14    5   52    4    5    2    5]\n",
      " [  15 1425  106   23   27   44  106   34   17   94]\n",
      " [  64  134 1336   67   77  204  110   21   14  107]\n",
      " [  14   48  130  331   10   42   32    9    3   24]\n",
      " [   6   27  123    7  377   15   25    4    1   27]\n",
      " [  21   23  165   24    9 1657   17   13    4   18]\n",
      " [   5  118   92   27   29   24  978    8    2   79]\n",
      " [   1   48   60    4    8   24   24  317    7   32]\n",
      " [   1   36   31    9    5   21   11   13  248   24]\n",
      " [   3  135  132   14   19   18   92   13    5  567]]\n"
     ]
    }
   ],
   "source": [
    "svm_pipeline = Pipeline([\n",
    "    ('sel', SelectKBest(chi2, k=7000)),  # feature selection\n",
    "    ('tfidf', TfidfTransformer()),  # weighting\n",
    "    ('learner', LinearSVC())  # learning algorithm\n",
    "])\n",
    "\n",
    "svm_pipeline.fit(X_train_tok,y_train)\n",
    "predictions = svm_pipeline.predict(X_test_tok)\n",
    "\n",
    "print('Classification report:')\n",
    "print(classification_report(y_test, predictions))\n",
    "print('Confusion matrix:')\n",
    "cm = confusion_matrix(y_test, predictions)\n",
    "print(cm)"
   ]
  },
  {
   "cell_type": "code",
   "execution_count": 25,
   "metadata": {
    "colab": {
     "base_uri": "https://localhost:8080/",
     "height": 134
    },
    "id": "Ctrnwpt_gBG1",
    "outputId": "ff9ae24e-e5ea-4ddc-b454-952facf1d543"
   },
   "outputs": [
    {
     "ename": "SyntaxError",
     "evalue": "invalid syntax (<ipython-input-25-d44867b3f574>, line 1)",
     "output_type": "error",
     "traceback": [
      "\u001b[1;36m  File \u001b[1;32m\"<ipython-input-25-d44867b3f574>\"\u001b[1;36m, line \u001b[1;32m1\u001b[0m\n\u001b[1;33m    param_grid = [{'sel__k': [3000, 5000, 7000,'all'], 'learner__C': [0.01, 0.1, 1, 10, 100, 'kernel':[\"linear\", \"poly\", \"rbf\"]]}]\u001b[0m\n\u001b[1;37m                                                                                                     ^\u001b[0m\n\u001b[1;31mSyntaxError\u001b[0m\u001b[1;31m:\u001b[0m invalid syntax\n"
     ]
    }
   ],
   "source": [
    "param_grid = [{'sel__k': [3000, 5000, 7000,'all'], 'learner__C': [0.01, 0.1, 1, 10, 100, 'kernel':[\"linear\", \"poly\", \"rbf\"]]}]\n",
    "\n",
    "opt_pipeline = Pipeline([\n",
    "    ('sel', SelectKBest(chi2)),  # feature selection\n",
    "    ('tfidf', TfidfTransformer()),  # weighting\n",
    "    ('learner', LinearSVC())  # learning algorithm\n",
    "])\n",
    "\n",
    "n_jobs = 3 #Number of jobs to run in parallel\n",
    "SVM_opt_search = GridSearchCV(opt_pipeline, param_grid, cv=7, n_jobs = n_jobs, verbose=True).fit(X_train_tok,y_train)"
   ]
  },
  {
   "cell_type": "code",
   "execution_count": null,
   "metadata": {
    "colab": {
     "base_uri": "https://localhost:8080/"
    },
    "id": "oSMjs7dceo0U",
    "outputId": "01d265f4-3d17-4d62-e8bc-eb1061fc984f"
   },
   "outputs": [],
   "source": [
    "SVM_opt_search.best_params_\n"
   ]
  },
  {
   "cell_type": "code",
   "execution_count": null,
   "metadata": {
    "colab": {
     "base_uri": "https://localhost:8080/"
    },
    "id": "D1AACRx0qJ1S",
    "outputId": "4ab883bf-0858-4758-bdd5-ce7937fb8a9c"
   },
   "outputs": [],
   "source": [
    "SVM_opt_search.best_estimator_\n"
   ]
  },
  {
   "cell_type": "code",
   "execution_count": 23,
   "metadata": {
    "colab": {
     "base_uri": "https://localhost:8080/"
    },
    "id": "cSt6XDmFqLK3",
    "outputId": "d4ca87cb-70c5-44bb-ab7c-b92d9bb8dea9"
   },
   "outputs": [
    {
     "name": "stdout",
     "output_type": "stream",
     "text": [
      "Classification report:\n",
      "                 precision    recall  f1-score   support\n",
      "\n",
      "       Classics       0.74      0.52      0.61       477\n",
      "        Fantasy       0.71      0.78      0.74      1891\n",
      "        Fiction       0.60      0.65      0.62      2134\n",
      "     Historical       0.67      0.50      0.57       643\n",
      "        Mystery       0.67      0.63      0.65       612\n",
      "     Nonfiction       0.81      0.87      0.84      1951\n",
      "        Romance       0.70      0.76      0.73      1362\n",
      "Science Fiction       0.76      0.60      0.67       525\n",
      " Sequential Art       0.90      0.61      0.73       399\n",
      "    Young Adult       0.60      0.57      0.58       998\n",
      "\n",
      "       accuracy                           0.70     10992\n",
      "      macro avg       0.72      0.65      0.68     10992\n",
      "   weighted avg       0.70      0.70      0.70     10992\n",
      "\n",
      "Confusion matrix:\n",
      "[[ 248   18  133   13    4   42   11    3    1    4]\n",
      " [  11 1466  116   16   19   37  108   24    8   86]\n",
      " [  36  122 1397   59   84  179  121   30    4  102]\n",
      " [   9   50  134  321   14   40   43    4    1   27]\n",
      " [   5   27  120    9  386   11   23    1    0   30]\n",
      " [  17   18  157   14    9 1703   10    6    6   11]\n",
      " [   3   95   88   20   26   22 1036    6    1   65]\n",
      " [   2   68   52    2   11   19   24  314    4   29]\n",
      " [   0   50   29    6    4   20    6   14  244   26]\n",
      " [   2  140  119   19   17   20   98   11    3  569]]\n"
     ]
    }
   ],
   "source": [
    "opt_predictions = SVM_opt_search.best_estimator_.predict(X_test_tok)\n",
    "\n",
    "print('Classification report:')\n",
    "print(classification_report(y_test, opt_predictions))\n",
    "print('Confusion matrix:')\n",
    "cm = confusion_matrix(y_test, opt_predictions)\n",
    "print(cm)"
   ]
  },
  {
   "cell_type": "code",
   "execution_count": 24,
   "metadata": {
    "id": "bHWWCjLkqUd5"
   },
   "outputs": [],
   "source": [
    "tokenizer = vect\n",
    "selector = svm_pipeline.named_steps['sel']\n",
    "classifier = svm_pipeline.named_steps['learner']"
   ]
  },
  {
   "cell_type": "code",
   "execution_count": 25,
   "metadata": {
    "colab": {
     "base_uri": "https://localhost:8080/"
    },
    "id": "SuigEck-qWkO",
    "outputId": "7c5e9159-729e-4883-9b7e-fedae93b52a6"
   },
   "outputs": [
    {
     "name": "stderr",
     "output_type": "stream",
     "text": [
      "/usr/local/lib/python3.7/dist-packages/sklearn/utils/deprecation.py:87: FutureWarning: Function get_feature_names is deprecated; get_feature_names is deprecated in 1.0 and will be removed in 1.2. Please use get_feature_names_out instead.\n",
      "  warnings.warn(msg, category=FutureWarning)\n"
     ]
    },
    {
     "data": {
      "text/plain": [
       "81324"
      ]
     },
     "execution_count": 25,
     "metadata": {},
     "output_type": "execute_result"
    }
   ],
   "source": [
    "feature_names = tokenizer.get_feature_names()\n",
    "feats_w_score = list()\n",
    "for index,(selected,score) in enumerate(zip(selector.get_support(),selector.scores_)):\n",
    "    feats_w_score.append((score,selected,feature_names[index]))\n",
    "feats_w_score = sorted(feats_w_score)\n",
    "len(feats_w_score)"
   ]
  },
  {
   "cell_type": "code",
   "execution_count": 25,
   "metadata": {
    "id": "l5VH85U1qYyY"
   },
   "outputs": [],
   "source": []
  },
  {
   "cell_type": "code",
   "execution_count": null,
   "metadata": {
    "id": "B2JafFG1eq_C"
   },
   "outputs": [],
   "source": []
  },
  {
   "cell_type": "code",
   "execution_count": null,
   "metadata": {
    "id": "QQQxvCVKes1D"
   },
   "outputs": [],
   "source": []
  }
 ],
 "metadata": {
  "accelerator": "GPU",
  "colab": {
   "collapsed_sections": [],
   "name": "Untitled7.ipynb",
   "provenance": []
  },
  "kernelspec": {
   "display_name": "Python 3",
   "language": "python",
   "name": "python3"
  },
  "language_info": {
   "codemirror_mode": {
    "name": "ipython",
    "version": 3
   },
   "file_extension": ".py",
   "mimetype": "text/x-python",
   "name": "python",
   "nbconvert_exporter": "python",
   "pygments_lexer": "ipython3",
   "version": "3.8.5"
  }
 },
 "nbformat": 4,
 "nbformat_minor": 4
}
