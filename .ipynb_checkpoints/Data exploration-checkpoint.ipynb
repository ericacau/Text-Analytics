{
 "cells": [
  {
   "cell_type": "markdown",
   "metadata": {},
   "source": [
    "# Data Exploration"
   ]
  },
  {
   "cell_type": "markdown",
   "metadata": {},
   "source": [
    "## Import libraries and dataset"
   ]
  },
  {
   "cell_type": "code",
   "execution_count": 1,
   "metadata": {},
   "outputs": [],
   "source": [
    "import pandas as pd\n",
    "import spacy\n",
    "import matplotlib.pyplot as plt\n",
    "import seaborn as sns\n",
    "import numpy as np\n",
    "\n"
   ]
  },
  {
   "cell_type": "code",
   "execution_count": 2,
   "metadata": {},
   "outputs": [
    {
     "ename": "NameError",
     "evalue": "name 'df' is not defined",
     "output_type": "error",
     "traceback": [
      "\u001b[1;31m---------------------------------------------------------------------------\u001b[0m",
      "\u001b[1;31mNameError\u001b[0m                                 Traceback (most recent call last)",
      "\u001b[1;32m<ipython-input-2-149bd3605ab2>\u001b[0m in \u001b[0;36m<module>\u001b[1;34m\u001b[0m\n\u001b[0;32m      1\u001b[0m \u001b[0mnlp\u001b[0m \u001b[1;33m=\u001b[0m \u001b[0mspacy\u001b[0m\u001b[1;33m.\u001b[0m\u001b[0mload\u001b[0m\u001b[1;33m(\u001b[0m\u001b[1;34m'en_core_web_sm'\u001b[0m\u001b[1;33m)\u001b[0m\u001b[1;33m\u001b[0m\u001b[1;33m\u001b[0m\u001b[0m\n\u001b[1;32m----> 2\u001b[1;33m \u001b[0mdf\u001b[0m\u001b[1;33m\u001b[0m\u001b[1;33m\u001b[0m\u001b[0m\n\u001b[0m",
      "\u001b[1;31mNameError\u001b[0m: name 'df' is not defined"
     ]
    }
   ],
   "source": [
    "nlp = spacy.load('en_core_web_sm')\n",
    "df"
   ]
  },
  {
   "cell_type": "code",
   "execution_count": null,
   "metadata": {},
   "outputs": [],
   "source": [
    "df = pd.read_csv(\"data/books_fgo.csv\")\n",
    "df_def = pd.read_csv(\"data/books_def.csv\")"
   ]
  },
  {
   "cell_type": "code",
   "execution_count": null,
   "metadata": {},
   "outputs": [],
   "source": [
    "df.head()"
   ]
  },
  {
   "cell_type": "code",
   "execution_count": 6,
   "metadata": {},
   "outputs": [
    {
     "data": {
      "text/plain": [
       "(43793, 9)"
      ]
     },
     "execution_count": 6,
     "metadata": {},
     "output_type": "execute_result"
    }
   ],
   "source": [
    "df.shape"
   ]
  },
  {
   "cell_type": "code",
   "execution_count": 7,
   "metadata": {},
   "outputs": [
    {
     "name": "stdout",
     "output_type": "stream",
     "text": [
      "<class 'pandas.core.frame.DataFrame'>\n",
      "RangeIndex: 43793 entries, 0 to 43792\n",
      "Data columns (total 9 columns):\n",
      " #   Column             Non-Null Count  Dtype  \n",
      "---  ------             --------------  -----  \n",
      " 0   book_authors       43793 non-null  object \n",
      " 1   book_desc          43793 non-null  object \n",
      " 2   book_format        43064 non-null  object \n",
      " 3   book_pages         42276 non-null  float64\n",
      " 4   book_rating        43793 non-null  float64\n",
      " 5   book_rating_count  43793 non-null  int64  \n",
      " 6   book_review_count  43793 non-null  int64  \n",
      " 7   book_title         43793 non-null  object \n",
      " 8   genres             43793 non-null  object \n",
      "dtypes: float64(2), int64(2), object(5)\n",
      "memory usage: 3.0+ MB\n"
     ]
    }
   ],
   "source": [
    "df.info()"
   ]
  },
  {
   "cell_type": "code",
   "execution_count": 8,
   "metadata": {},
   "outputs": [
    {
     "data": {
      "text/html": [
       "<div>\n",
       "<style scoped>\n",
       "    .dataframe tbody tr th:only-of-type {\n",
       "        vertical-align: middle;\n",
       "    }\n",
       "\n",
       "    .dataframe tbody tr th {\n",
       "        vertical-align: top;\n",
       "    }\n",
       "\n",
       "    .dataframe thead th {\n",
       "        text-align: right;\n",
       "    }\n",
       "</style>\n",
       "<table border=\"1\" class=\"dataframe\">\n",
       "  <thead>\n",
       "    <tr style=\"text-align: right;\">\n",
       "      <th></th>\n",
       "      <th>book_pages</th>\n",
       "      <th>book_rating</th>\n",
       "      <th>book_rating_count</th>\n",
       "      <th>book_review_count</th>\n",
       "    </tr>\n",
       "  </thead>\n",
       "  <tbody>\n",
       "    <tr>\n",
       "      <th>count</th>\n",
       "      <td>42276.000000</td>\n",
       "      <td>43793.000000</td>\n",
       "      <td>4.379300e+04</td>\n",
       "      <td>43793.000000</td>\n",
       "    </tr>\n",
       "    <tr>\n",
       "      <th>mean</th>\n",
       "      <td>340.699049</td>\n",
       "      <td>4.007238</td>\n",
       "      <td>3.908529e+04</td>\n",
       "      <td>1874.504944</td>\n",
       "    </tr>\n",
       "    <tr>\n",
       "      <th>std</th>\n",
       "      <td>251.079845</td>\n",
       "      <td>0.292369</td>\n",
       "      <td>1.888062e+05</td>\n",
       "      <td>6891.501920</td>\n",
       "    </tr>\n",
       "    <tr>\n",
       "      <th>min</th>\n",
       "      <td>0.000000</td>\n",
       "      <td>0.000000</td>\n",
       "      <td>0.000000e+00</td>\n",
       "      <td>0.000000</td>\n",
       "    </tr>\n",
       "    <tr>\n",
       "      <th>25%</th>\n",
       "      <td>224.000000</td>\n",
       "      <td>3.830000</td>\n",
       "      <td>7.380000e+02</td>\n",
       "      <td>59.000000</td>\n",
       "    </tr>\n",
       "    <tr>\n",
       "      <th>50%</th>\n",
       "      <td>316.000000</td>\n",
       "      <td>4.020000</td>\n",
       "      <td>3.656000e+03</td>\n",
       "      <td>240.000000</td>\n",
       "    </tr>\n",
       "    <tr>\n",
       "      <th>75%</th>\n",
       "      <td>400.000000</td>\n",
       "      <td>4.200000</td>\n",
       "      <td>1.446200e+04</td>\n",
       "      <td>908.000000</td>\n",
       "    </tr>\n",
       "    <tr>\n",
       "      <th>max</th>\n",
       "      <td>14777.000000</td>\n",
       "      <td>5.000000</td>\n",
       "      <td>5.588580e+06</td>\n",
       "      <td>160762.000000</td>\n",
       "    </tr>\n",
       "  </tbody>\n",
       "</table>\n",
       "</div>"
      ],
      "text/plain": [
       "         book_pages   book_rating  book_rating_count  book_review_count\n",
       "count  42276.000000  43793.000000       4.379300e+04       43793.000000\n",
       "mean     340.699049      4.007238       3.908529e+04        1874.504944\n",
       "std      251.079845      0.292369       1.888062e+05        6891.501920\n",
       "min        0.000000      0.000000       0.000000e+00           0.000000\n",
       "25%      224.000000      3.830000       7.380000e+02          59.000000\n",
       "50%      316.000000      4.020000       3.656000e+03         240.000000\n",
       "75%      400.000000      4.200000       1.446200e+04         908.000000\n",
       "max    14777.000000      5.000000       5.588580e+06      160762.000000"
      ]
     },
     "execution_count": 8,
     "metadata": {},
     "output_type": "execute_result"
    }
   ],
   "source": [
    "df.describe()"
   ]
  },
  {
   "cell_type": "code",
   "execution_count": null,
   "metadata": {},
   "outputs": [],
   "source": []
  },
  {
   "cell_type": "markdown",
   "metadata": {},
   "source": [
    "## Plot"
   ]
  },
  {
   "cell_type": "code",
   "execution_count": 19,
   "metadata": {},
   "outputs": [
    {
     "data": {
      "image/png": "[encoded data removed]",
      "text/plain": [
       "<Figure size 432x288 with 1 Axes>"
      ]
     },
     "metadata": {},
     "output_type": "display_data"
    }
   ],
   "source": [
    "#Book format distribution\n",
    "\n",
    "sns.set_theme(style=\"darkgrid\")\n",
    "ax = sns.countplot(data = df, y = df[\"book_format\"], palette=\"Set2\", order=df.book_format.value_counts().iloc[:10].index)\n",
    "plt.title(\"Book format\")\n",
    "plt.savefig(\"plots/book_format.png\", dpi = 80)"
   ]
  },
  {
   "cell_type": "code",
   "execution_count": 18,
   "metadata": {},
   "outputs": [
    {
     "data": {
      "image/png": "[encoded data removed]",
      "text/plain": [
       "<Figure size 432x288 with 1 Axes>"
      ]
     },
     "metadata": {
      "needs_background": "light"
     },
     "output_type": "display_data"
    }
   ],
   "source": [
    "# Avg rating per genre\n",
    "\n",
    "rating_per_genre = df_def.groupby('genres')['book_rating'].mean().sort_values(ascending=True)\n",
    "rating_per_genre.plot.barh(color = \"c\")\n",
    "plt.ylabel(\"Genres\")\n",
    "plt.xlabel(\"Avg. rating\")\n",
    "\n",
    "plt.title(\"Average book rating per genre\")\n",
    "plt.savefig(\"plots/avg_book_rating.png\", dpi = 80)"
   ]
  },
  {
   "cell_type": "code",
   "execution_count": null,
   "metadata": {},
   "outputs": [],
   "source": [
    "rating_per_genre"
   ]
  },
  {
   "cell_type": "markdown",
   "metadata": {},
   "source": [
    "### Correlation Matrix"
   ]
  },
  {
   "cell_type": "code",
   "execution_count": 17,
   "metadata": {},
   "outputs": [
    {
     "data": {
      "image/png": "[encoded data removed]",
      "text/plain": [
       "<Figure size 960x640 with 2 Axes>"
      ]
     },
     "metadata": {
      "needs_background": "light"
     },
     "output_type": "display_data"
    },
    {
     "data": {
      "text/plain": [
       "<Figure size 432x288 with 0 Axes>"
      ]
     },
     "metadata": {},
     "output_type": "display_data"
    }
   ],
   "source": [
    "plt.figure(figsize=(12, 8), dpi = 80)\n",
    "cm = df.corr()\n",
    "sns.heatmap(cm, annot=True)\n",
    "plt.show()\n",
    "plt.savefig(\"plots/CorrMatrix.png\", dpi = 80)"
   ]
  },
  {
   "cell_type": "code",
   "execution_count": null,
   "metadata": {},
   "outputs": [],
   "source": []
  },
  {
   "cell_type": "code",
   "execution_count": 43,
   "metadata": {},
   "outputs": [],
   "source": [
    "ner_fantasy = pd.read_csv(\"data/ner_fantasy.csv\", index_col=0)\n",
    "ner_mistery = pd.read_csv(\"data/ner_mistery.csv\", index_col=0)\n",
    "ner_romance = pd.read_csv(\"data/ner_romance.csv\", index_col=0)\n",
    "ner_scifi = pd.read_csv(\"data/ner_scifi.csv\", index_col=0)\n"
   ]
  },
  {
   "cell_type": "code",
   "execution_count": 44,
   "metadata": {},
   "outputs": [],
   "source": [
    "def eval_column(df):\n",
    "    df[\"PER\"] = df.PER.map(eval)\n",
    "    df[\"ORG\"] = df.ORG.map(eval)\n",
    "    df[\"LOC\"] = df.LOC.map(eval)\n",
    "    df[\"MISC\"] = df.MISC.map(eval)\n",
    "    \n",
    "def quantify_NER(df):\n",
    "    df['PER_len'] = df[\"PER\"].apply(lambda x: len(x))\n",
    "    df['ORG_len'] = df[\"ORG\"].apply(lambda x: len(x))\n",
    "    df['LOC_len'] = df[\"LOC\"].apply(lambda x: len(x))\n",
    "    df['MISC_len'] = df[\"MISC\"].apply(lambda x: len(x))\n"
   ]
  },
  {
   "cell_type": "code",
   "execution_count": 45,
   "metadata": {},
   "outputs": [],
   "source": [
    "eval_column(ner_fantasy)\n",
    "quantify_NER(ner_fantasy)"
   ]
  },
  {
   "cell_type": "code",
   "execution_count": 46,
   "metadata": {},
   "outputs": [],
   "source": [
    "eval_column(ner_mistery)\n",
    "quantify_NER(ner_mistery)"
   ]
  },
  {
   "cell_type": "code",
   "execution_count": 47,
   "metadata": {},
   "outputs": [],
   "source": [
    "eval_column(ner_scifi)\n",
    "quantify_NER(ner_scifi)"
   ]
  },
  {
   "cell_type": "code",
   "execution_count": 48,
   "metadata": {},
   "outputs": [],
   "source": [
    "eval_column(ner_romance)\n",
    "quantify_NER(ner_romance)"
   ]
  },
  {
   "cell_type": "code",
   "execution_count": 53,
   "metadata": {},
   "outputs": [
    {
     "name": "stderr",
     "output_type": "stream",
     "text": [
      "<ipython-input-53-15ba7e886b17>:1: FutureWarning: The frame.append method is deprecated and will be removed from pandas in a future version. Use pandas.concat instead.\n",
      "  stacked = ner_fantasy.append([ner_mistery, ner_romance, ner_scifi])\n"
     ]
    }
   ],
   "source": [
    "stacked = ner_fantasy.append([ner_mistery, ner_romance, ner_scifi])"
   ]
  },
  {
   "cell_type": "code",
   "execution_count": 94,
   "metadata": {},
   "outputs": [],
   "source": [
    "clrs= [\"#fd7f6f\", \"#7eb0d5\", \"#b2e061\", \"#bd7ebe\", \"#ffb55a\", \"#ffee65\", \"#beb9db\", \"#fdcce5\", \"#8bd3c7\"]\n",
    "customPalette = sns.set_palette(sns.color_palette(clrs))\n"
   ]
  },
  {
   "cell_type": "code",
   "execution_count": 97,
   "metadata": {},
   "outputs": [
    {
     "name": "stderr",
     "output_type": "stream",
     "text": [
      "<ipython-input-97-6842495a6f53>:1: FutureWarning: Indexing with multiple keys (implicitly converted to a tuple of keys) will be deprecated, use a list instead.\n",
      "  grpByGenre = stacked.groupby(['genres'])['PER_len','ORG_len','MISC_len', 'LOC_len'].aggregate(np.sum)\n"
     ]
    },
    {
     "data": {
      "image/png": "[encoded data removed]",
      "text/plain": [
       "<Figure size 432x288 with 1 Axes>"
      ]
     },
     "metadata": {
      "needs_background": "light"
     },
     "output_type": "display_data"
    }
   ],
   "source": [
    "grpByGenre = stacked.groupby(['genres'])['PER_len','ORG_len','MISC_len', 'LOC_len'].aggregate(np.sum)\n",
    "genre_norm = grpByGenre.div(grpByRole.sum(1).astype(float), axis=0)\n",
    "ax = genre_norm.plot(kind = 'bar', stacked = True, colormap = customPalette,\n",
    " title = 'Named-entities by Genre', rot = 0)\n",
    "plt.legend(loc='center left', bbox_to_anchor=(1.0, 0.5))\n",
    "plt.savefig(\"plots/NER_genre.png\")"
   ]
  },
  {
   "cell_type": "code",
   "execution_count": null,
   "metadata": {},
   "outputs": [],
   "source": []
  },
  {
   "cell_type": "code",
   "execution_count": null,
   "metadata": {},
   "outputs": [],
   "source": []
  }
 ],
 "metadata": {
  "kernelspec": {
   "display_name": "Python 3",
   "language": "python",
   "name": "python3"
  },
  "language_info": {
   "codemirror_mode": {
    "name": "ipython",
    "version": 3
   },
   "file_extension": ".py",
   "mimetype": "text/x-python",
   "name": "python",
   "nbconvert_exporter": "python",
   "pygments_lexer": "ipython3",
   "version": "3.8.5"
  }
 },
 "nbformat": 4,
 "nbformat_minor": 4
}
