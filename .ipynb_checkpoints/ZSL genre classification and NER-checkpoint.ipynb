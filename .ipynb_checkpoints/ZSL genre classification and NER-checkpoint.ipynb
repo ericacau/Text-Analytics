{
 "cells": [
  {
   "cell_type": "markdown",
   "metadata": {
    "id": "vBKae-gDD3ed"
   },
   "source": [
    "# Zero Shot Learning (ZSL)"
   ]
  },
  {
   "cell_type": "code",
   "execution_count": 1,
   "metadata": {
    "id": "wcUYnoMZD2xJ"
   },
   "outputs": [],
   "source": [
    "import pandas as pd\n",
    "import flair\n",
    "import tqdm\n",
    "\n",
    "from flair.models import SequenceTagger\n",
    "from itertools import islice\n"
   ]
  },
  {
   "cell_type": "code",
   "execution_count": 2,
   "metadata": {
    "id": "Chhdmq32EnnP"
   },
   "outputs": [],
   "source": [
    "df = pd.read_csv(\"data/to_ZSL.csv\")"
   ]
  },
  {
   "cell_type": "code",
   "execution_count": 3,
   "metadata": {
    "colab": {
     "base_uri": "https://localhost:8080/",
     "height": 206
    },
    "id": "m1zMAvQLEvxp",
    "outputId": "46b07136-4fb1-4689-9df9-d5a62725e6d6"
   },
   "outputs": [
    {
     "data": {
      "text/html": [
       "<div>\n",
       "<style scoped>\n",
       "    .dataframe tbody tr th:only-of-type {\n",
       "        vertical-align: middle;\n",
       "    }\n",
       "\n",
       "    .dataframe tbody tr th {\n",
       "        vertical-align: top;\n",
       "    }\n",
       "\n",
       "    .dataframe thead th {\n",
       "        text-align: right;\n",
       "    }\n",
       "</style>\n",
       "<table border=\"1\" class=\"dataframe\">\n",
       "  <thead>\n",
       "    <tr style=\"text-align: right;\">\n",
       "      <th></th>\n",
       "      <th>book_authors</th>\n",
       "      <th>book_title</th>\n",
       "      <th>book_desc</th>\n",
       "      <th>genre</th>\n",
       "    </tr>\n",
       "  </thead>\n",
       "  <tbody>\n",
       "    <tr>\n",
       "      <th>0</th>\n",
       "      <td>Suzanne Collins</td>\n",
       "      <td>The Hunger Games</td>\n",
       "      <td>Winning will make you famous. Losing means cer...</td>\n",
       "      <td>Young Adult</td>\n",
       "    </tr>\n",
       "    <tr>\n",
       "      <th>1</th>\n",
       "      <td>J.K. Rowling|Mary GrandPré</td>\n",
       "      <td>Harry Potter and the Order of the Phoenix</td>\n",
       "      <td>There is a door at the end of a silent corrido...</td>\n",
       "      <td>Fantasy</td>\n",
       "    </tr>\n",
       "    <tr>\n",
       "      <th>2</th>\n",
       "      <td>Harper Lee</td>\n",
       "      <td>To Kill a Mockingbird</td>\n",
       "      <td>The unforgettable novel of a childhood in a sl...</td>\n",
       "      <td>Classics</td>\n",
       "    </tr>\n",
       "    <tr>\n",
       "      <th>3</th>\n",
       "      <td>Stephenie Meyer</td>\n",
       "      <td>Twilight</td>\n",
       "      <td>About three things I was absolutely positive.F...</td>\n",
       "      <td>Young Adult</td>\n",
       "    </tr>\n",
       "    <tr>\n",
       "      <th>4</th>\n",
       "      <td>Markus Zusak</td>\n",
       "      <td>The Book Thief</td>\n",
       "      <td>Trying to make sense of the horrors of World W...</td>\n",
       "      <td>Historical</td>\n",
       "    </tr>\n",
       "  </tbody>\n",
       "</table>\n",
       "</div>"
      ],
      "text/plain": [
       "                 book_authors                                 book_title  \\\n",
       "0             Suzanne Collins                           The Hunger Games   \n",
       "1  J.K. Rowling|Mary GrandPré  Harry Potter and the Order of the Phoenix   \n",
       "2                  Harper Lee                      To Kill a Mockingbird   \n",
       "3             Stephenie Meyer                                   Twilight   \n",
       "4                Markus Zusak                             The Book Thief   \n",
       "\n",
       "                                           book_desc        genre  \n",
       "0  Winning will make you famous. Losing means cer...  Young Adult  \n",
       "1  There is a door at the end of a silent corrido...      Fantasy  \n",
       "2  The unforgettable novel of a childhood in a sl...     Classics  \n",
       "3  About three things I was absolutely positive.F...  Young Adult  \n",
       "4  Trying to make sense of the horrors of World W...   Historical  "
      ]
     },
     "execution_count": 3,
     "metadata": {},
     "output_type": "execute_result"
    }
   ],
   "source": [
    "df.head()"
   ]
  },
  {
   "cell_type": "code",
   "execution_count": 5,
   "metadata": {
    "colab": {
     "base_uri": "https://localhost:8080/"
    },
    "id": "kaV6DMaJLW7W",
    "outputId": "e9a7e8d1-f3e6-4283-d570-27925861caa8"
   },
   "outputs": [
    {
     "name": "stdout",
     "output_type": "stream",
     "text": [
      "(43793, 4)\n"
     ]
    }
   ],
   "source": [
    "print(df.shape)\n"
   ]
  },
  {
   "cell_type": "markdown",
   "metadata": {
    "id": "PZo7KQ1BLcyS"
   },
   "source": [
    "### Genre prediction"
   ]
  },
  {
   "cell_type": "code",
   "execution_count": 6,
   "metadata": {
    "id": "X9ryr83kEujL"
   },
   "outputs": [],
   "source": [
    "from flair.models import TARSClassifier\n",
    "from flair.data import Sentence"
   ]
  },
  {
   "cell_type": "code",
   "execution_count": 7,
   "metadata": {
    "colab": {
     "base_uri": "https://localhost:8080/"
    },
    "id": "Q57F9lC1E4wu",
    "outputId": "319998de-c824-4974-e683-b3e6ddf1dab4"
   },
   "outputs": [
    {
     "name": "stdout",
     "output_type": "stream",
     "text": [
      "2022-05-28 12:51:42,884 loading file C:\\Users\\Erica\\.flair\\models\\tars-base-v8.pt\n"
     ]
    },
    {
     "data": {
      "application/vnd.jupyter.widget-view+json": {
       "model_id": "74e5763e04be408aa06998c2cf48ebfc",
       "version_major": 2,
       "version_minor": 0
      },
      "text/plain": [
       "Downloading:   0%|          | 0.00/232k [00:00<?, ?B/s]"
      ]
     },
     "metadata": {},
     "output_type": "display_data"
    },
    {
     "data": {
      "text/plain": [
       "{'AGNews',\n",
       " 'Amazon',\n",
       " 'DBPedia',\n",
       " 'GO_EMOTIONS',\n",
       " 'IMDB',\n",
       " 'NEWS_CATEGORY',\n",
       " 'SST',\n",
       " 'TREC_6',\n",
       " 'Yelp'}"
      ]
     },
     "execution_count": 7,
     "metadata": {},
     "output_type": "execute_result"
    }
   ],
   "source": [
    "# TARS: Task-aware representation of sentences\n",
    "tars = TARSClassifier.load('tars-base')\n",
    "existing_tasks = tars.list_existing_tasks()\n",
    "existing_tasks"
   ]
  },
  {
   "cell_type": "code",
   "execution_count": 8,
   "metadata": {
    "id": "ml5VS63GVg1p"
   },
   "outputs": [],
   "source": [
    "genre = df.genre.unique()"
   ]
  },
  {
   "cell_type": "code",
   "execution_count": 9,
   "metadata": {
    "colab": {
     "base_uri": "https://localhost:8080/",
     "height": 206
    },
    "id": "CkfqtzJ-MOI0",
    "outputId": "ee815c1d-a3d6-45d3-f55e-30a385e242f4"
   },
   "outputs": [
    {
     "data": {
      "text/html": [
       "<div>\n",
       "<style scoped>\n",
       "    .dataframe tbody tr th:only-of-type {\n",
       "        vertical-align: middle;\n",
       "    }\n",
       "\n",
       "    .dataframe tbody tr th {\n",
       "        vertical-align: top;\n",
       "    }\n",
       "\n",
       "    .dataframe thead th {\n",
       "        text-align: right;\n",
       "    }\n",
       "</style>\n",
       "<table border=\"1\" class=\"dataframe\">\n",
       "  <thead>\n",
       "    <tr style=\"text-align: right;\">\n",
       "      <th></th>\n",
       "      <th>book_authors</th>\n",
       "      <th>book_title</th>\n",
       "      <th>book_desc</th>\n",
       "      <th>genre</th>\n",
       "    </tr>\n",
       "  </thead>\n",
       "  <tbody>\n",
       "    <tr>\n",
       "      <th>0</th>\n",
       "      <td>Suzanne Collins</td>\n",
       "      <td>The Hunger Games</td>\n",
       "      <td>Winning will make you famous. Losing means cer...</td>\n",
       "      <td>Young Adult</td>\n",
       "    </tr>\n",
       "    <tr>\n",
       "      <th>1</th>\n",
       "      <td>J.K. Rowling|Mary GrandPré</td>\n",
       "      <td>Harry Potter and the Order of the Phoenix</td>\n",
       "      <td>There is a door at the end of a silent corrido...</td>\n",
       "      <td>Fantasy</td>\n",
       "    </tr>\n",
       "    <tr>\n",
       "      <th>2</th>\n",
       "      <td>Harper Lee</td>\n",
       "      <td>To Kill a Mockingbird</td>\n",
       "      <td>The unforgettable novel of a childhood in a sl...</td>\n",
       "      <td>Classics</td>\n",
       "    </tr>\n",
       "    <tr>\n",
       "      <th>3</th>\n",
       "      <td>Stephenie Meyer</td>\n",
       "      <td>Twilight</td>\n",
       "      <td>About three things I was absolutely positive.F...</td>\n",
       "      <td>Young Adult</td>\n",
       "    </tr>\n",
       "    <tr>\n",
       "      <th>4</th>\n",
       "      <td>Markus Zusak</td>\n",
       "      <td>The Book Thief</td>\n",
       "      <td>Trying to make sense of the horrors of World W...</td>\n",
       "      <td>Historical</td>\n",
       "    </tr>\n",
       "  </tbody>\n",
       "</table>\n",
       "</div>"
      ],
      "text/plain": [
       "                 book_authors                                 book_title  \\\n",
       "0             Suzanne Collins                           The Hunger Games   \n",
       "1  J.K. Rowling|Mary GrandPré  Harry Potter and the Order of the Phoenix   \n",
       "2                  Harper Lee                      To Kill a Mockingbird   \n",
       "3             Stephenie Meyer                                   Twilight   \n",
       "4                Markus Zusak                             The Book Thief   \n",
       "\n",
       "                                           book_desc        genre  \n",
       "0  Winning will make you famous. Losing means cer...  Young Adult  \n",
       "1  There is a door at the end of a silent corrido...      Fantasy  \n",
       "2  The unforgettable novel of a childhood in a sl...     Classics  \n",
       "3  About three things I was absolutely positive.F...  Young Adult  \n",
       "4  Trying to make sense of the horrors of World W...   Historical  "
      ]
     },
     "execution_count": 9,
     "metadata": {},
     "output_type": "execute_result"
    }
   ],
   "source": [
    "df_pred_genres = df[:5].copy()\n",
    "df_pred_genres"
   ]
  },
  {
   "cell_type": "code",
   "execution_count": 12,
   "metadata": {
    "id": "VdE1IiE8NzeF"
   },
   "outputs": [],
   "source": [
    "def genre_tagger(summary, genre, tars):\n",
    "    s = Sentence(summary)\n",
    "    tars.predict_zero_shot(s, genre, multi_label=True)\n",
    "    dict_tag = {}\n",
    "    for label in s.labels:\n",
    "        dict_tag[label.value] = label.score\n",
    "    sorted_tag = sorted(dict_tag, key=dict_tag.get, reverse=True)[:3]\n",
    "    return [sorted_tag[0], sorted_tag[1],sorted_tag[2]]"
   ]
  },
  {
   "cell_type": "code",
   "execution_count": null,
   "metadata": {
    "id": "s4WN2udTOJ7g"
   },
   "outputs": [],
   "source": [
    "df_pred_genres['tag_1'], df_pred_genres['tag_2'], df_pred_genres['tag_3'] = zip(*df_pred_genres[\"book_desc\"].apply(lambda x: genre_tagger(x, genre, tars)))"
   ]
  },
  {
   "cell_type": "code",
   "execution_count": null,
   "metadata": {
    "colab": {
     "base_uri": "https://localhost:8080/",
     "height": 175
    },
    "id": "L7N3v7fPQdfq",
    "outputId": "b4ba7e57-fcd8-4d0a-bfe4-8f1827c53542"
   },
   "outputs": [],
   "source": [
    "df_pred_genres"
   ]
  },
  {
   "cell_type": "markdown",
   "metadata": {
    "id": "cJ8w9WcceisL"
   },
   "source": [
    "### Another ZSL model"
   ]
  },
  {
   "cell_type": "code",
   "execution_count": 85,
   "metadata": {
    "id": "8fyrb11NehyG"
   },
   "outputs": [],
   "source": [
    "from transformers import pipeline\n",
    "\n",
    "classifier = pipeline(\"zero-shot-classification\")\n"
   ]
  },
  {
   "cell_type": "code",
   "execution_count": 90,
   "metadata": {
    "id": "WAUeKolDgw0Y"
   },
   "outputs": [],
   "source": [
    "def genre_tagger_transformer(summary, genre, classifier):\n",
    "    genres = classifier(summary, candidate_labels)[\"labels\"]\n",
    "    return [genres[0], genres[1],genres[2]]"
   ]
  },
  {
   "cell_type": "code",
   "execution_count": 91,
   "metadata": {
    "id": "5LcanrbEhTIc"
   },
   "outputs": [],
   "source": [
    "df_pred_genres['tag_1'], df_pred_genres['tag_2'], df_pred_genres['tag_3'] = zip(*df_pred_genres[\"book_desc\"].apply(lambda x: genre_tagger_transformer(x, genre, classifier)))"
   ]
  },
  {
   "cell_type": "code",
   "execution_count": 92,
   "metadata": {
    "colab": {
     "base_uri": "https://localhost:8080/",
     "height": 206
    },
    "id": "atexFx7Ou2vE",
    "outputId": "90166a1e-ac16-444a-8f1c-6780a9e7b973"
   },
   "outputs": [
    {
     "data": {
      "text/html": [
       "<div>\n",
       "<style scoped>\n",
       "    .dataframe tbody tr th:only-of-type {\n",
       "        vertical-align: middle;\n",
       "    }\n",
       "\n",
       "    .dataframe tbody tr th {\n",
       "        vertical-align: top;\n",
       "    }\n",
       "\n",
       "    .dataframe thead th {\n",
       "        text-align: right;\n",
       "    }\n",
       "</style>\n",
       "<table border=\"1\" class=\"dataframe\">\n",
       "  <thead>\n",
       "    <tr style=\"text-align: right;\">\n",
       "      <th></th>\n",
       "      <th>book_authors</th>\n",
       "      <th>book_title</th>\n",
       "      <th>book_desc</th>\n",
       "      <th>genre</th>\n",
       "      <th>tag_1</th>\n",
       "      <th>tag_2</th>\n",
       "      <th>tag_3</th>\n",
       "    </tr>\n",
       "  </thead>\n",
       "  <tbody>\n",
       "    <tr>\n",
       "      <th>0</th>\n",
       "      <td>Suzanne Collins</td>\n",
       "      <td>The Hunger Games</td>\n",
       "      <td>Winning will make you famous. Losing means cer...</td>\n",
       "      <td>Young Adult</td>\n",
       "      <td>young adult</td>\n",
       "      <td>politics</td>\n",
       "      <td>novel</td>\n",
       "    </tr>\n",
       "    <tr>\n",
       "      <th>1</th>\n",
       "      <td>J.K. Rowling|Mary GrandPré</td>\n",
       "      <td>Harry Potter and the Order of the Phoenix</td>\n",
       "      <td>There is a door at the end of a silent corrido...</td>\n",
       "      <td>Fantasy</td>\n",
       "      <td>young adult</td>\n",
       "      <td>novel</td>\n",
       "      <td>fantasy</td>\n",
       "    </tr>\n",
       "    <tr>\n",
       "      <th>2</th>\n",
       "      <td>Harper Lee</td>\n",
       "      <td>To Kill a Mockingbird</td>\n",
       "      <td>The unforgettable novel of a childhood in a sl...</td>\n",
       "      <td>Classics</td>\n",
       "      <td>novel</td>\n",
       "      <td>young adult</td>\n",
       "      <td>politics</td>\n",
       "    </tr>\n",
       "    <tr>\n",
       "      <th>3</th>\n",
       "      <td>Stephenie Meyer</td>\n",
       "      <td>Twilight</td>\n",
       "      <td>About three things I was absolutely positive.F...</td>\n",
       "      <td>Young Adult</td>\n",
       "      <td>novel</td>\n",
       "      <td>young adult</td>\n",
       "      <td>fantasy</td>\n",
       "    </tr>\n",
       "    <tr>\n",
       "      <th>4</th>\n",
       "      <td>Markus Zusak</td>\n",
       "      <td>The Book Thief</td>\n",
       "      <td>Trying to make sense of the horrors of World W...</td>\n",
       "      <td>Historical</td>\n",
       "      <td>novel</td>\n",
       "      <td>young adult</td>\n",
       "      <td>fantasy</td>\n",
       "    </tr>\n",
       "  </tbody>\n",
       "</table>\n",
       "</div>"
      ],
      "text/plain": [
       "                 book_authors                                 book_title  \\\n",
       "0             Suzanne Collins                           The Hunger Games   \n",
       "1  J.K. Rowling|Mary GrandPré  Harry Potter and the Order of the Phoenix   \n",
       "2                  Harper Lee                      To Kill a Mockingbird   \n",
       "3             Stephenie Meyer                                   Twilight   \n",
       "4                Markus Zusak                             The Book Thief   \n",
       "\n",
       "                                           book_desc        genre  \\\n",
       "0  Winning will make you famous. Losing means cer...  Young Adult   \n",
       "1  There is a door at the end of a silent corrido...      Fantasy   \n",
       "2  The unforgettable novel of a childhood in a sl...     Classics   \n",
       "3  About three things I was absolutely positive.F...  Young Adult   \n",
       "4  Trying to make sense of the horrors of World W...   Historical   \n",
       "\n",
       "         tag_1        tag_2     tag_3  \n",
       "0  young adult     politics     novel  \n",
       "1  young adult        novel   fantasy  \n",
       "2        novel  young adult  politics  \n",
       "3        novel  young adult   fantasy  \n",
       "4        novel  young adult   fantasy  "
      ]
     },
     "execution_count": 92,
     "metadata": {},
     "output_type": "execute_result"
    }
   ],
   "source": [
    "df_pred_genres"
   ]
  },
  {
   "cell_type": "markdown",
   "metadata": {
    "id": "0RMRFZx0fzyS"
   },
   "source": [
    "# NER & ZSL"
   ]
  },
  {
   "cell_type": "code",
   "execution_count": 11,
   "metadata": {
    "colab": {
     "base_uri": "https://localhost:8080/",
     "height": 105,
     "referenced_widgets": [
      "f7e1df9ba59548b98b9401385a84c438",
      "9d2de31365e047eca953642e263ca593",
      "2e16672a532541bfb923b758909d88d2",
      "4c45dea8cb774b17bd44fc5bd3085d70",
      "beaf129223fd4a7ebdb47910619e7a7d",
      "5efb81dbde3144769f615955914f22f6",
      "63f50467ad514fd18fc1ee61a636dac2",
      "6201aa81d13b45439f9351e6f3de0fb7",
      "0153cc3f3818478398ec51a72ca01f15",
      "403c113dcff44f7cb3a5ce2bc708055f",
      "a2cf3143d002452babb1297f485a4f30"
     ]
    },
    "id": "PIVC464Wjicp",
    "outputId": "d120bfd7-9383-439f-d076-ae427884223a"
   },
   "outputs": [
    {
     "data": {
      "application/vnd.jupyter.widget-view+json": {
       "model_id": "f7e1df9ba59548b98b9401385a84c438",
       "version_major": 2,
       "version_minor": 0
      },
      "text/plain": [
       "Downloading:   0%|          | 0.00/432M [00:00<?, ?B/s]"
      ]
     },
     "metadata": {},
     "output_type": "display_data"
    },
    {
     "name": "stdout",
     "output_type": "stream",
     "text": [
      "2022-05-24 14:50:29,451 loading file /root/.flair/models/ner-english/4f4cdab26f24cb98b732b389e6cebc646c36f54cfd6e0b7d3b90b25656e4262f.8baa8ae8795f4df80b28e7f7b61d788ecbb057d1dc85aacb316f1bd02837a4a4\n",
      "2022-05-24 14:50:31,905 SequenceTagger predicts: Dictionary with 20 tags: <unk>, O, S-ORG, S-MISC, B-PER, E-PER, S-LOC, B-ORG, E-ORG, I-PER, S-PER, B-MISC, I-MISC, E-MISC, I-ORG, B-LOC, E-LOC, I-LOC, <START>, <STOP>\n"
     ]
    }
   ],
   "source": [
    "tagger = SequenceTagger.load('ner')"
   ]
  },
  {
   "cell_type": "code",
   "execution_count": 52,
   "metadata": {
    "id": "83ST9HH-f2EX"
   },
   "outputs": [],
   "source": [
    "def ner_extraction(summary): \n",
    "  sentence = Sentence(summary)\n",
    "  tagger.predict(sentence)\n",
    "  misc = []\n",
    "  loc = []\n",
    "  org = []\n",
    "  per = []\n",
    "  for label in sentence.get_labels('ner'):\n",
    "    if label.value == \"MISC\": \n",
    "      misc.append(label.data_point.text)\n",
    "    elif label.value == \"LOC\":\n",
    "      loc.append(label.data_point.text)\n",
    "    elif label.value == \"ORG\":\n",
    "      org.append(label.data_point.text)\n",
    "    elif label.value == \"PER\":\n",
    "      per.append(label.data_point.text)\n",
    " \n",
    "  return [misc, loc, org, per]"
   ]
  },
  {
   "cell_type": "code",
   "execution_count": 53,
   "metadata": {
    "id": "PnwWDveqgGVq"
   },
   "outputs": [],
   "source": [
    "df_pred_genres['MISC'], df_pred_genres['LOC'], df_pred_genres['ORG'], df_pred_genres[\"PER\"] = zip(*df_pred_genres[\"book_desc\"].apply(lambda x: ner_extraction(x)))"
   ]
  },
  {
   "cell_type": "code",
   "execution_count": 54,
   "metadata": {
    "colab": {
     "base_uri": "https://localhost:8080/",
     "height": 262
    },
    "id": "QM-SES5UiYF6",
    "outputId": "c439bcda-691b-4838-f235-2e49291da5b0"
   },
   "outputs": [
    {
     "data": {
      "text/html": [
       "<div>\n",
       "<style scoped>\n",
       "    .dataframe tbody tr th:only-of-type {\n",
       "        vertical-align: middle;\n",
       "    }\n",
       "\n",
       "    .dataframe tbody tr th {\n",
       "        vertical-align: top;\n",
       "    }\n",
       "\n",
       "    .dataframe thead th {\n",
       "        text-align: right;\n",
       "    }\n",
       "</style>\n",
       "<table border=\"1\" class=\"dataframe\">\n",
       "  <thead>\n",
       "    <tr style=\"text-align: right;\">\n",
       "      <th></th>\n",
       "      <th>book_authors</th>\n",
       "      <th>book_title</th>\n",
       "      <th>book_desc</th>\n",
       "      <th>genre</th>\n",
       "      <th>ner</th>\n",
       "      <th>MISC</th>\n",
       "      <th>LOC</th>\n",
       "      <th>ORG</th>\n",
       "      <th>PER</th>\n",
       "    </tr>\n",
       "  </thead>\n",
       "  <tbody>\n",
       "    <tr>\n",
       "      <th>0</th>\n",
       "      <td>Suzanne Collins</td>\n",
       "      <td>The Hunger Games</td>\n",
       "      <td>Winning will make you famous. Losing means cer...</td>\n",
       "      <td>Young Adult</td>\n",
       "      <td>{'PER': ['Katniss', 'Prim', 'Katniss', 'Peeta'...</td>\n",
       "      <td>[Panem, Hunger Games, Reaping]</td>\n",
       "      <td>[North America, Capitol, Capitol]</td>\n",
       "      <td>[Capitol, District 12]</td>\n",
       "      <td>[Katniss, Prim, Katniss, Peeta, Katniss]</td>\n",
       "    </tr>\n",
       "    <tr>\n",
       "      <th>1</th>\n",
       "      <td>J.K. Rowling|Mary GrandPré</td>\n",
       "      <td>Harry Potter and the Order of the Phoenix</td>\n",
       "      <td>There is a door at the end of a silent corrido...</td>\n",
       "      <td>Fantasy</td>\n",
       "      <td>{'PER': ['Harry Pottter', 'Harry', 'Harry'], '...</td>\n",
       "      <td>[He-Who-Must-Not-Be-Named]</td>\n",
       "      <td>[Hogwarts]</td>\n",
       "      <td>[Hogwarts, Gryffindor Quidditch team]</td>\n",
       "      <td>[Harry Pottter, Harry, Harry]</td>\n",
       "    </tr>\n",
       "    <tr>\n",
       "      <th>2</th>\n",
       "      <td>Harper Lee</td>\n",
       "      <td>To Kill a Mockingbird</td>\n",
       "      <td>The unforgettable novel of a childhood in a sl...</td>\n",
       "      <td>Classics</td>\n",
       "      <td>{'PER': ['Harper Lee'], 'ORG': [], 'MISC': ['S...</td>\n",
       "      <td>[Southern, To Kill A Mockingbird, Pulitzer Pri...</td>\n",
       "      <td>[Alabama]</td>\n",
       "      <td>[]</td>\n",
       "      <td>[Harper Lee]</td>\n",
       "    </tr>\n",
       "    <tr>\n",
       "      <th>3</th>\n",
       "      <td>Stephenie Meyer</td>\n",
       "      <td>Twilight</td>\n",
       "      <td>About three things I was absolutely positive.F...</td>\n",
       "      <td>Young Adult</td>\n",
       "      <td>{'PER': ['Edward', 'Stephenie Meyer', 'Bella S...</td>\n",
       "      <td>[Twilight Saga]</td>\n",
       "      <td>[]</td>\n",
       "      <td>[]</td>\n",
       "      <td>[Edward, Stephenie Meyer, Bella Swan, Edward C...</td>\n",
       "    </tr>\n",
       "  </tbody>\n",
       "</table>\n",
       "</div>"
      ],
      "text/plain": [
       "                 book_authors                                 book_title  \\\n",
       "0             Suzanne Collins                           The Hunger Games   \n",
       "1  J.K. Rowling|Mary GrandPré  Harry Potter and the Order of the Phoenix   \n",
       "2                  Harper Lee                      To Kill a Mockingbird   \n",
       "3             Stephenie Meyer                                   Twilight   \n",
       "\n",
       "                                           book_desc        genre  \\\n",
       "0  Winning will make you famous. Losing means cer...  Young Adult   \n",
       "1  There is a door at the end of a silent corrido...      Fantasy   \n",
       "2  The unforgettable novel of a childhood in a sl...     Classics   \n",
       "3  About three things I was absolutely positive.F...  Young Adult   \n",
       "\n",
       "                                                 ner  \\\n",
       "0  {'PER': ['Katniss', 'Prim', 'Katniss', 'Peeta'...   \n",
       "1  {'PER': ['Harry Pottter', 'Harry', 'Harry'], '...   \n",
       "2  {'PER': ['Harper Lee'], 'ORG': [], 'MISC': ['S...   \n",
       "3  {'PER': ['Edward', 'Stephenie Meyer', 'Bella S...   \n",
       "\n",
       "                                                MISC  \\\n",
       "0                     [Panem, Hunger Games, Reaping]   \n",
       "1                         [He-Who-Must-Not-Be-Named]   \n",
       "2  [Southern, To Kill A Mockingbird, Pulitzer Pri...   \n",
       "3                                    [Twilight Saga]   \n",
       "\n",
       "                                 LOC                                    ORG  \\\n",
       "0  [North America, Capitol, Capitol]                 [Capitol, District 12]   \n",
       "1                         [Hogwarts]  [Hogwarts, Gryffindor Quidditch team]   \n",
       "2                          [Alabama]                                     []   \n",
       "3                                 []                                     []   \n",
       "\n",
       "                                                 PER  \n",
       "0           [Katniss, Prim, Katniss, Peeta, Katniss]  \n",
       "1                      [Harry Pottter, Harry, Harry]  \n",
       "2                                       [Harper Lee]  \n",
       "3  [Edward, Stephenie Meyer, Bella Swan, Edward C...  "
      ]
     },
     "execution_count": 54,
     "metadata": {},
     "output_type": "execute_result"
    }
   ],
   "source": [
    "df_pred_genres"
   ]
  },
  {
   "cell_type": "code",
   "execution_count": null,
   "metadata": {
    "id": "jdCaXrJSm0cR"
   },
   "outputs": [],
   "source": []
  }
 ],
 "metadata": {
  "accelerator": "GPU",
  "colab": {
   "collapsed_sections": [],
   "name": "ZSL_genre_classification&NER.ipynb",
   "provenance": []
  },
  "kernelspec": {
   "display_name": "Python 3",
   "language": "python",
   "name": "python3"
  },
  "language_info": {
   "codemirror_mode": {
    "name": "ipython",
    "version": 3
   },
   "file_extension": ".py",
   "mimetype": "text/x-python",
   "name": "python",
   "nbconvert_exporter": "python",
   "pygments_lexer": "ipython3",
   "version": "3.8.5"
  },
  "widgets": {
   "application/vnd.jupyter.widget-state+json": {
    "0153cc3f3818478398ec51a72ca01f15": {
     "model_module": "@jupyter-widgets/controls",
     "model_module_version": "1.5.0",
     "model_name": "ProgressStyleModel",
     "state": {
      "_model_module": "@jupyter-widgets/controls",
      "_model_module_version": "1.5.0",
      "_model_name": "ProgressStyleModel",
      "_view_count": null,
      "_view_module": "@jupyter-widgets/base",
      "_view_module_version": "1.2.0",
      "_view_name": "StyleView",
      "bar_color": null,
      "description_width": ""
     }
    },
    "2e16672a532541bfb923b758909d88d2": {
     "model_module": "@jupyter-widgets/controls",
     "model_module_version": "1.5.0",
     "model_name": "FloatProgressModel",
     "state": {
      "_dom_classes": [],
      "_model_module": "@jupyter-widgets/controls",
      "_model_module_version": "1.5.0",
      "_model_name": "FloatProgressModel",
      "_view_count": null,
      "_view_module": "@jupyter-widgets/controls",
      "_view_module_version": "1.5.0",
      "_view_name": "ProgressView",
      "bar_style": "success",
      "description": "",
      "description_tooltip": null,
      "layout": "IPY_MODEL_6201aa81d13b45439f9351e6f3de0fb7",
      "max": 432176557,
      "min": 0,
      "orientation": "horizontal",
      "style": "IPY_MODEL_0153cc3f3818478398ec51a72ca01f15",
      "value": 432176557
     }
    },
    "403c113dcff44f7cb3a5ce2bc708055f": {
     "model_module": "@jupyter-widgets/base",
     "model_module_version": "1.2.0",
     "model_name": "LayoutModel",
     "state": {
      "_model_module": "@jupyter-widgets/base",
      "_model_module_version": "1.2.0",
      "_model_name": "LayoutModel",
      "_view_count": null,
      "_view_module": "@jupyter-widgets/base",
      "_view_module_version": "1.2.0",
      "_view_name": "LayoutView",
      "align_content": null,
      "align_items": null,
      "align_self": null,
      "border": null,
      "bottom": null,
      "display": null,
      "flex": null,
      "flex_flow": null,
      "grid_area": null,
      "grid_auto_columns": null,
      "grid_auto_flow": null,
      "grid_auto_rows": null,
      "grid_column": null,
      "grid_gap": null,
      "grid_row": null,
      "grid_template_areas": null,
      "grid_template_columns": null,
      "grid_template_rows": null,
      "height": null,
      "justify_content": null,
      "justify_items": null,
      "left": null,
      "margin": null,
      "max_height": null,
      "max_width": null,
      "min_height": null,
      "min_width": null,
      "object_fit": null,
      "object_position": null,
      "order": null,
      "overflow": null,
      "overflow_x": null,
      "overflow_y": null,
      "padding": null,
      "right": null,
      "top": null,
      "visibility": null,
      "width": null
     }
    },
    "4c45dea8cb774b17bd44fc5bd3085d70": {
     "model_module": "@jupyter-widgets/controls",
     "model_module_version": "1.5.0",
     "model_name": "HTMLModel",
     "state": {
      "_dom_classes": [],
      "_model_module": "@jupyter-widgets/controls",
      "_model_module_version": "1.5.0",
      "_model_name": "HTMLModel",
      "_view_count": null,
      "_view_module": "@jupyter-widgets/controls",
      "_view_module_version": "1.5.0",
      "_view_name": "HTMLView",
      "description": "",
      "description_tooltip": null,
      "layout": "IPY_MODEL_403c113dcff44f7cb3a5ce2bc708055f",
      "placeholder": "​",
      "style": "IPY_MODEL_a2cf3143d002452babb1297f485a4f30",
      "value": " 432M/432M [00:06&lt;00:00, 60.9MB/s]"
     }
    },
    "5efb81dbde3144769f615955914f22f6": {
     "model_module": "@jupyter-widgets/base",
     "model_module_version": "1.2.0",
     "model_name": "LayoutModel",
     "state": {
      "_model_module": "@jupyter-widgets/base",
      "_model_module_version": "1.2.0",
      "_model_name": "LayoutModel",
      "_view_count": null,
      "_view_module": "@jupyter-widgets/base",
      "_view_module_version": "1.2.0",
      "_view_name": "LayoutView",
      "align_content": null,
      "align_items": null,
      "align_self": null,
      "border": null,
      "bottom": null,
      "display": null,
      "flex": null,
      "flex_flow": null,
      "grid_area": null,
      "grid_auto_columns": null,
      "grid_auto_flow": null,
      "grid_auto_rows": null,
      "grid_column": null,
      "grid_gap": null,
      "grid_row": null,
      "grid_template_areas": null,
      "grid_template_columns": null,
      "grid_template_rows": null,
      "height": null,
      "justify_content": null,
      "justify_items": null,
      "left": null,
      "margin": null,
      "max_height": null,
      "max_width": null,
      "min_height": null,
      "min_width": null,
      "object_fit": null,
      "object_position": null,
      "order": null,
      "overflow": null,
      "overflow_x": null,
      "overflow_y": null,
      "padding": null,
      "right": null,
      "top": null,
      "visibility": null,
      "width": null
     }
    },
    "6201aa81d13b45439f9351e6f3de0fb7": {
     "model_module": "@jupyter-widgets/base",
     "model_module_version": "1.2.0",
     "model_name": "LayoutModel",
     "state": {
      "_model_module": "@jupyter-widgets/base",
      "_model_module_version": "1.2.0",
      "_model_name": "LayoutModel",
      "_view_count": null,
      "_view_module": "@jupyter-widgets/base",
      "_view_module_version": "1.2.0",
      "_view_name": "LayoutView",
      "align_content": null,
      "align_items": null,
      "align_self": null,
      "border": null,
      "bottom": null,
      "display": null,
      "flex": null,
      "flex_flow": null,
      "grid_area": null,
      "grid_auto_columns": null,
      "grid_auto_flow": null,
      "grid_auto_rows": null,
      "grid_column": null,
      "grid_gap": null,
      "grid_row": null,
      "grid_template_areas": null,
      "grid_template_columns": null,
      "grid_template_rows": null,
      "height": null,
      "justify_content": null,
      "justify_items": null,
      "left": null,
      "margin": null,
      "max_height": null,
      "max_width": null,
      "min_height": null,
      "min_width": null,
      "object_fit": null,
      "object_position": null,
      "order": null,
      "overflow": null,
      "overflow_x": null,
      "overflow_y": null,
      "padding": null,
      "right": null,
      "top": null,
      "visibility": null,
      "width": null
     }
    },
    "63f50467ad514fd18fc1ee61a636dac2": {
     "model_module": "@jupyter-widgets/controls",
     "model_module_version": "1.5.0",
     "model_name": "DescriptionStyleModel",
     "state": {
      "_model_module": "@jupyter-widgets/controls",
      "_model_module_version": "1.5.0",
      "_model_name": "DescriptionStyleModel",
      "_view_count": null,
      "_view_module": "@jupyter-widgets/base",
      "_view_module_version": "1.2.0",
      "_view_name": "StyleView",
      "description_width": ""
     }
    },
    "9d2de31365e047eca953642e263ca593": {
     "model_module": "@jupyter-widgets/controls",
     "model_module_version": "1.5.0",
     "model_name": "HTMLModel",
     "state": {
      "_dom_classes": [],
      "_model_module": "@jupyter-widgets/controls",
      "_model_module_version": "1.5.0",
      "_model_name": "HTMLModel",
      "_view_count": null,
      "_view_module": "@jupyter-widgets/controls",
      "_view_module_version": "1.5.0",
      "_view_name": "HTMLView",
      "description": "",
      "description_tooltip": null,
      "layout": "IPY_MODEL_5efb81dbde3144769f615955914f22f6",
      "placeholder": "​",
      "style": "IPY_MODEL_63f50467ad514fd18fc1ee61a636dac2",
      "value": "Downloading: 100%"
     }
    },
    "a2cf3143d002452babb1297f485a4f30": {
     "model_module": "@jupyter-widgets/controls",
     "model_module_version": "1.5.0",
     "model_name": "DescriptionStyleModel",
     "state": {
      "_model_module": "@jupyter-widgets/controls",
      "_model_module_version": "1.5.0",
      "_model_name": "DescriptionStyleModel",
      "_view_count": null,
      "_view_module": "@jupyter-widgets/base",
      "_view_module_version": "1.2.0",
      "_view_name": "StyleView",
      "description_width": ""
     }
    },
    "beaf129223fd4a7ebdb47910619e7a7d": {
     "model_module": "@jupyter-widgets/base",
     "model_module_version": "1.2.0",
     "model_name": "LayoutModel",
     "state": {
      "_model_module": "@jupyter-widgets/base",
      "_model_module_version": "1.2.0",
      "_model_name": "LayoutModel",
      "_view_count": null,
      "_view_module": "@jupyter-widgets/base",
      "_view_module_version": "1.2.0",
      "_view_name": "LayoutView",
      "align_content": null,
      "align_items": null,
      "align_self": null,
      "border": null,
      "bottom": null,
      "display": null,
      "flex": null,
      "flex_flow": null,
      "grid_area": null,
      "grid_auto_columns": null,
      "grid_auto_flow": null,
      "grid_auto_rows": null,
      "grid_column": null,
      "grid_gap": null,
      "grid_row": null,
      "grid_template_areas": null,
      "grid_template_columns": null,
      "grid_template_rows": null,
      "height": null,
      "justify_content": null,
      "justify_items": null,
      "left": null,
      "margin": null,
      "max_height": null,
      "max_width": null,
      "min_height": null,
      "min_width": null,
      "object_fit": null,
      "object_position": null,
      "order": null,
      "overflow": null,
      "overflow_x": null,
      "overflow_y": null,
      "padding": null,
      "right": null,
      "top": null,
      "visibility": null,
      "width": null
     }
    },
    "f7e1df9ba59548b98b9401385a84c438": {
     "model_module": "@jupyter-widgets/controls",
     "model_module_version": "1.5.0",
     "model_name": "HBoxModel",
     "state": {
      "_dom_classes": [],
      "_model_module": "@jupyter-widgets/controls",
      "_model_module_version": "1.5.0",
      "_model_name": "HBoxModel",
      "_view_count": null,
      "_view_module": "@jupyter-widgets/controls",
      "_view_module_version": "1.5.0",
      "_view_name": "HBoxView",
      "box_style": "",
      "children": [
       "IPY_MODEL_9d2de31365e047eca953642e263ca593",
       "IPY_MODEL_2e16672a532541bfb923b758909d88d2",
       "IPY_MODEL_4c45dea8cb774b17bd44fc5bd3085d70"
      ],
      "layout": "IPY_MODEL_beaf129223fd4a7ebdb47910619e7a7d"
     }
    }
   }
  }
 },
 "nbformat": 4,
 "nbformat_minor": 4
}
