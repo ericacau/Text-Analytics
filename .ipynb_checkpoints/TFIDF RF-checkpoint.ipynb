{
 "cells": [
  {
   "cell_type": "code",
   "execution_count": 3,
   "metadata": {},
   "outputs": [],
   "source": [
    "# preprocessing & visualization\n",
    "import pandas as pd\n",
    "import numpy as np\n",
    "import matplotlib.pyplot as plt\n",
    "import seaborn as sns\n",
    "import nltk\n",
    "import re\n",
    "import spacy\n",
    "import pickle\n",
    "from nltk.corpus import stopwords\n",
    "from sklearn.model_selection import train_test_split\n",
    "\n",
    "# models for classification\n",
    "from sklearn.feature_extraction.text import TfidfTransformer, CountVectorizer, TfidfVectorizer\n",
    "from sklearn.feature_selection import SelectKBest, chi2\n",
    "from sklearn.model_selection import GridSearchCV\n",
    "from sklearn.pipeline import Pipeline\n",
    "from sklearn.naive_bayes import MultinomialNB\n",
    "from sklearn.tree import DecisionTreeClassifier\n",
    "from sklearn.svm import LinearSVC\n",
    "from sklearn.ensemble import RandomForestClassifier\n",
    "from sklearn.metrics import confusion_matrix, classification_report\n",
    "from sklearn.metrics import plot_confusion_matrix\n",
    "from sklearn.metrics import accuracy_score\n",
    "from sklearn.metrics import f1_score\n",
    "from sklearn.multiclass import OneVsRestClassifier, OneVsOneClassifier\n"
   ]
  },
  {
   "cell_type": "code",
   "execution_count": 4,
   "metadata": {},
   "outputs": [],
   "source": [
    "def plot_cm(pipeline, X_test, y_test):\n",
    "    plt.figure(figsize=(15,15))\n",
    "    plot_confusion_matrix(pipeline, X_test, y_test)  \n",
    "    plt.xticks(rotation=45, fontsize = 10)\n",
    "    plt.yticks(rotation=0, fontsize = 10)\n",
    "    plt.show()"
   ]
  },
  {
   "cell_type": "code",
   "execution_count": 5,
   "metadata": {},
   "outputs": [],
   "source": [
    "df = pd.read_csv(\"data/books_def.csv\", index_col=0)"
   ]
  },
  {
   "cell_type": "code",
   "execution_count": 6,
   "metadata": {},
   "outputs": [],
   "source": [
    "nlp = spacy.load(\"en_core_web_sm\")"
   ]
  },
  {
   "cell_type": "code",
   "execution_count": 7,
   "metadata": {},
   "outputs": [],
   "source": [
    "# leggo testi & etichette\n",
    "X = df[\"book_desc\"]\n",
    "y = df[\"genres\"]\n",
    "\n",
    "X_train, X_test, y_train, y_test = train_test_split(X, y, test_size=0.30, stratify=y, random_state=1)"
   ]
  },
  {
   "cell_type": "code",
   "execution_count": null,
   "metadata": {},
   "outputs": [],
   "source": []
  },
  {
   "cell_type": "code",
   "execution_count": 8,
   "metadata": {},
   "outputs": [],
   "source": [
    "with open('data/pickle/svm_train_tok.pkl',mode='br') as inputfile:\n",
    "    X_train_tok = pickle.load(inputfile)\n",
    "with open('data/pickle/svm_test_tok.pkl',mode='br') as inputfile:\n",
    "    X_test_tok = pickle.load(inputfile)"
   ]
  },
  {
   "cell_type": "code",
   "execution_count": null,
   "metadata": {},
   "outputs": [],
   "source": []
  },
  {
   "cell_type": "code",
   "execution_count": 9,
   "metadata": {},
   "outputs": [
    {
     "name": "stdout",
     "output_type": "stream",
     "text": [
      "Classification report:\n",
      "                 precision    recall  f1-score   support\n",
      "\n",
      "       Classics       0.81      0.16      0.26       477\n",
      "        Fantasy       0.55      0.75      0.63      1891\n",
      "        Fiction       0.44      0.63      0.52      2134\n",
      "     Historical       0.83      0.07      0.13       643\n",
      "        Mystery       0.65      0.44      0.52       612\n",
      "     Nonfiction       0.68      0.84      0.75      1951\n",
      "        Romance       0.59      0.65      0.62      1362\n",
      "Science Fiction       0.71      0.31      0.44       525\n",
      " Sequential Art       0.88      0.18      0.30       399\n",
      "    Young Adult       0.59      0.32      0.41       998\n",
      "\n",
      "       accuracy                           0.57     10992\n",
      "      macro avg       0.67      0.43      0.46     10992\n",
      "   weighted avg       0.61      0.57      0.54     10992\n",
      "\n",
      "Confusion matrix:\n",
      "[[  75   36  212    1    4  137    6    2    1    3]\n",
      " [   2 1420  203    0   16   73  120   13    5   39]\n",
      " [  11  240 1349    5   45  256  150   21    0   57]\n",
      " [   1  118  323   45   13   83   43    3    0   14]\n",
      " [   0   75  178    0  269   29   43    1    1   16]\n",
      " [   4   47  208    0   11 1643   26    3    0    9]\n",
      " [   0  186  193    2   17   30  879    4    0   51]\n",
      " [   0  133  111    0   11   48   42  165    2   13]\n",
      " [   0  108   84    0   11   69   19   15   72   21]\n",
      " [   0  241  217    1   16   42  161    4    1  315]]\n"
     ]
    }
   ],
   "source": [
    "RF_pipeline = Pipeline([\n",
    "    ('sel', SelectKBest(chi2, k=5000)),  # feature selection\n",
    "    ('tfidf', TfidfTransformer()),  # weighting\n",
    "    ('learner', RandomForestClassifier())  # learning algorithm\n",
    "])\n",
    "\n",
    "RF_pipeline.fit(X_train_tok,y_train)\n",
    "predictions = RF_pipeline.predict(X_test_tok)\n",
    "\n",
    "print('Classification report:')\n",
    "print(classification_report(y_test, predictions))\n",
    "print('Confusion matrix:')\n",
    "cm = confusion_matrix(y_test, predictions)\n",
    "print(cm)\n",
    "\n"
   ]
  },
  {
   "cell_type": "code",
   "execution_count": 10,
   "metadata": {},
   "outputs": [
    {
     "name": "stdout",
     "output_type": "stream",
     "text": [
      "Fitting 5 folds for each of 18 candidates, totalling 90 fits\n"
     ]
    },
    {
     "name": "stderr",
     "output_type": "stream",
     "text": [
      "[Parallel(n_jobs=5)]: Using backend LokyBackend with 5 concurrent workers.\n",
      "[Parallel(n_jobs=5)]: Done  40 tasks      | elapsed: 25.1min\n",
      "[Parallel(n_jobs=5)]: Done  90 out of  90 | elapsed: 56.5min finished\n"
     ]
    }
   ],
   "source": [
    "param_grid = [{'sel__k': [3000, 5000, 7000],'learner__criterion': [\"entropy\", \"gini\"], 'learner__n_estimators': [100, 300, 500]}]\n",
    "\n",
    "opt_pipeline = Pipeline([\n",
    "    ('sel', SelectKBest(chi2)),  # feature selection\n",
    "    ('tfidf', TfidfTransformer()),  # weighting\n",
    "    ('learner', RandomForestClassifier(bootstrap = True))  # learning algorithm\n",
    "])\n",
    "\n",
    "n_jobs = 5  #Number of jobs to run in parallel\n",
    "opt_search = GridSearchCV(opt_pipeline, param_grid, cv=5, n_jobs = n_jobs, verbose=True).fit(X_train_tok,y_train)"
   ]
  },
  {
   "cell_type": "code",
   "execution_count": 11,
   "metadata": {},
   "outputs": [
    {
     "data": {
      "text/plain": [
       "{'learner__criterion': 'gini', 'learner__n_estimators': 500, 'sel__k': 7000}"
      ]
     },
     "execution_count": 11,
     "metadata": {},
     "output_type": "execute_result"
    }
   ],
   "source": [
    "opt_search.best_params_\n"
   ]
  },
  {
   "cell_type": "code",
   "execution_count": 12,
   "metadata": {},
   "outputs": [
    {
     "data": {
      "text/plain": [
       "Pipeline(steps=[('sel',\n",
       "                 SelectKBest(k=7000,\n",
       "                             score_func=<function chi2 at 0x0000019A15962A60>)),\n",
       "                ('tfidf', TfidfTransformer()),\n",
       "                ('learner', RandomForestClassifier(n_estimators=500))])"
      ]
     },
     "execution_count": 12,
     "metadata": {},
     "output_type": "execute_result"
    }
   ],
   "source": [
    "opt_search.best_estimator_\n"
   ]
  },
  {
   "cell_type": "code",
   "execution_count": 13,
   "metadata": {},
   "outputs": [
    {
     "name": "stdout",
     "output_type": "stream",
     "text": [
      "Classification report:\n",
      "                 precision    recall  f1-score   support\n",
      "\n",
      "       Classics       0.80      0.16      0.27       477\n",
      "        Fantasy       0.55      0.76      0.64      1891\n",
      "        Fiction       0.44      0.63      0.52      2134\n",
      "     Historical       0.92      0.05      0.10       643\n",
      "        Mystery       0.67      0.43      0.52       612\n",
      "     Nonfiction       0.68      0.87      0.76      1951\n",
      "        Romance       0.61      0.67      0.64      1362\n",
      "Science Fiction       0.74      0.33      0.45       525\n",
      " Sequential Art       0.87      0.17      0.28       399\n",
      "    Young Adult       0.60      0.34      0.43       998\n",
      "\n",
      "       accuracy                           0.58     10992\n",
      "      macro avg       0.69      0.44      0.46     10992\n",
      "   weighted avg       0.63      0.58      0.54     10992\n",
      "\n",
      "Confusion matrix:\n",
      "[[  78   33  209    1    5  141    5    2    1    2]\n",
      " [   4 1431  192    0   15   80  115   13    4   37]\n",
      " [  10  220 1345    2   45  272  153   20    0   67]\n",
      " [   1  118  337   33    9   91   41    2    0   11]\n",
      " [   0   76  174    0  262   35   44    1    0   20]\n",
      " [   5   34  186    0    6 1697   16    2    1    4]\n",
      " [   0  169  179    0   17   32  916    3    0   46]\n",
      " [   0  150  107    0    9   43   32  171    2   11]\n",
      " [   0  107   91    0   10   71   17   13   66   24]\n",
      " [   0  249  204    0   13   36  152    4    2  338]]\n"
     ]
    }
   ],
   "source": [
    "opt_predictions = opt_search.best_estimator_.predict(X_test_tok)\n",
    "\n",
    "print('Classification report:')\n",
    "print(classification_report(y_test, opt_predictions))\n",
    "print('Confusion matrix:')\n",
    "cm = confusion_matrix(y_test, opt_predictions)\n",
    "print(cm)"
   ]
  },
  {
   "cell_type": "code",
   "execution_count": null,
   "metadata": {},
   "outputs": [],
   "source": [
    "RF_pipeline = Pipeline([\n",
    "    ('sel', SelectKBest(chi2, k=7000)),  # feature selection\n",
    "    ('tfidf', TfidfTransformer()),  # weighting\n",
    "    ('learner', RandomForestClassifier(n_estimators=500, criterion = \"gini\"))  # learning algorithm\n",
    "])\n",
    "\n",
    "RF_pipeline.fit(X_train_tok,y_train)\n",
    "predictions = RF_pipeline.predict(X_test_tok)\n",
    "\n",
    "print('Classification report:')\n",
    "print(classification_report(y_test, predictions))\n",
    "print('Confusion matrix:')\n",
    "cm = confusion_matrix(y_test, predictions)\n",
    "print(cm)\n",
    "\n"
   ]
  },
  {
   "cell_type": "code",
   "execution_count": null,
   "metadata": {},
   "outputs": [],
   "source": [
    "plot_cm(dt_pipeline, X_test, y_test)"
   ]
  },
  {
   "cell_type": "code",
   "execution_count": null,
   "metadata": {},
   "outputs": [],
   "source": []
  }
 ],
 "metadata": {
  "kernelspec": {
   "display_name": "Python 3",
   "language": "python",
   "name": "python3"
  },
  "language_info": {
   "codemirror_mode": {
    "name": "ipython",
    "version": 3
   },
   "file_extension": ".py",
   "mimetype": "text/x-python",
   "name": "python",
   "nbconvert_exporter": "python",
   "pygments_lexer": "ipython3",
   "version": "3.8.5"
  }
 },
 "nbformat": 4,
 "nbformat_minor": 4
}
