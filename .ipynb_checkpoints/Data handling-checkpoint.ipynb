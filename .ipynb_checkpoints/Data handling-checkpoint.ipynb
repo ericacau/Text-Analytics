{
 "cells": [
  {
   "cell_type": "code",
   "execution_count": 1,
   "metadata": {},
   "outputs": [],
   "source": [
    "import pandas as pd\n",
    "import matplotlib.pyplot as plt\n",
    "import langdetect as ld"
   ]
  },
  {
   "cell_type": "code",
   "execution_count": 2,
   "metadata": {},
   "outputs": [],
   "source": [
    "df = pd.read_csv('data/book_data.csv')"
   ]
  },
  {
   "cell_type": "code",
   "execution_count": 3,
   "metadata": {},
   "outputs": [],
   "source": [
    "df = df.dropna(subset=['genres']) # drop nans in genre"
   ]
  },
  {
   "cell_type": "code",
   "execution_count": 4,
   "metadata": {},
   "outputs": [],
   "source": [
    "# detect language\n",
    "lang = []\n",
    "for text in df.book_desc:\n",
    "    try:\n",
    "        l = ld.detect(text)\n",
    "        lang.append(l)\n",
    "    except (TypeError, ld.LangDetectException): # no features in text\n",
    "        lang.append('') "
   ]
  },
  {
   "cell_type": "code",
   "execution_count": 5,
   "metadata": {},
   "outputs": [],
   "source": [
    "df['lang'] = lang\n",
    "df = df[df['lang'] == 'en'] # remove nonenglish texts"
   ]
  },
  {
   "cell_type": "code",
   "execution_count": 6,
   "metadata": {},
   "outputs": [],
   "source": [
    "# remove useless features\n",
    "to_remove = ['book_edition', 'book_isbn', 'image_url', 'lang']\n",
    "for feat in to_remove:\n",
    "    del df[feat]"
   ]
  },
  {
   "cell_type": "code",
   "execution_count": 7,
   "metadata": {},
   "outputs": [],
   "source": [
    "# list all genres\n",
    "all_genres = []\n",
    "for gs in df.genres:\n",
    "    gs_list = gs.split('|')\n",
    "    all_genres.extend(gs_list)"
   ]
  },
  {
   "cell_type": "code",
   "execution_count": 8,
   "metadata": {},
   "outputs": [
    {
     "data": {
      "text/plain": [
       "264389"
      ]
     },
     "execution_count": 8,
     "metadata": {},
     "output_type": "execute_result"
    }
   ],
   "source": [
    "len(all_genres)"
   ]
  },
  {
   "cell_type": "code",
   "execution_count": 37,
   "metadata": {},
   "outputs": [
    {
     "data": {
      "image/png": "[encoded data removed]",
      "text/plain": [
       "<Figure size 432x288 with 1 Axes>"
      ]
     },
     "metadata": {
      "needs_background": "light"
     },
     "output_type": "display_data"
    }
   ],
   "source": [
    "from collections import Counter\n",
    "def plot_most_common(values, n):\n",
    "    freq = Counter(values).most_common(n)\n",
    "    y = [count for tag, count in freq]\n",
    "    x = [tag for tag, count in freq]\n",
    "\n",
    "    plt.bar(x, y, color= \"#fd7f6f\")\n",
    "   # plt.ylabel(\"Frequency (log scale)\")\n",
    "    plt.yscale('log') # optionally set a log scale for the y-axis\n",
    "  #  plt.yticks([])\n",
    "    plt.xticks(rotation=90)\n",
    "    for i, (tag, count) in enumerate(freq):\n",
    "        plt.text(i, count, f' {count} ', rotation=90,\n",
    "                 ha='center', va='top' if i < 10 else 'bottom', color='white' if i < 10 else 'black')\n",
    "    plt.xlim(-0.6, len(x)-0.4) # optionally set tighter x lims\n",
    "    plt.tight_layout() # change the whitespace such that all labels fit nicely\n",
    "    plt.savefig('plots/top_genres.png')\n",
    "    plt.show()\n",
    "plot_most_common(all_genres, 20)\n"
   ]
  },
  {
   "cell_type": "code",
   "execution_count": 10,
   "metadata": {},
   "outputs": [],
   "source": [
    "# fix book pages format\n",
    "bookpages = lambda x: int(x.split()[0]) if isinstance(x, str) else None\n",
    "df['book_pages'] = df.book_pages.apply(bookpages)"
   ]
  },
  {
   "cell_type": "code",
   "execution_count": 11,
   "metadata": {},
   "outputs": [],
   "source": [
    "first_genre_only = df.copy()\n",
    "set_genre = lambda x: x.split('|')[0]\n",
    "first_genre_only['genres'] = first_genre_only['genres'].apply(set_genre)"
   ]
  },
  {
   "cell_type": "code",
   "execution_count": 12,
   "metadata": {},
   "outputs": [],
   "source": [
    "first_genre_only.to_csv('data/books_fgo.csv', index=False)"
   ]
  },
  {
   "cell_type": "code",
   "execution_count": 13,
   "metadata": {},
   "outputs": [],
   "source": [
    "encoded = dict()\n",
    "for key in set(all_genres):\n",
    "    encoded[key] = [0] * len(df)"
   ]
  },
  {
   "cell_type": "code",
   "execution_count": 14,
   "metadata": {},
   "outputs": [],
   "source": [
    "# encode genres\n",
    "for i, gs in enumerate(df.genres):\n",
    "    gs_list = gs.split('|')\n",
    "    for j, g in enumerate(gs_list):\n",
    "        if j == 0:\n",
    "            encoded[g][i] = 2\n",
    "        elif j in [1,2]:\n",
    "            encoded[g][i] = 1\n"
   ]
  },
  {
   "cell_type": "code",
   "execution_count": 15,
   "metadata": {},
   "outputs": [],
   "source": [
    "genres = pd.DataFrame(encoded)"
   ]
  },
  {
   "cell_type": "code",
   "execution_count": null,
   "metadata": {},
   "outputs": [],
   "source": [
    "# filter out least important\n",
    "for col in genres.columns:\n",
    "    if genres[col].sum() < 100:\n",
    "        del genres[col]\n",
    "    if 2 in genres[col].tolist():\n",
    "        pass\n",
    "    else:\n",
    "        del genres[col]"
   ]
  },
  {
   "cell_type": "code",
   "execution_count": null,
   "metadata": {},
   "outputs": [],
   "source": [
    "len(df) == len(genres)"
   ]
  },
  {
   "cell_type": "code",
   "execution_count": null,
   "metadata": {},
   "outputs": [],
   "source": [
    "final = pd.concat([df.reset_index(drop=True), genres.reset_index(drop=True)], axis=1)"
   ]
  },
  {
   "cell_type": "code",
   "execution_count": null,
   "metadata": {},
   "outputs": [],
   "source": [
    "del final['genres']"
   ]
  },
  {
   "cell_type": "code",
   "execution_count": null,
   "metadata": {},
   "outputs": [],
   "source": [
    "# fix book pages format\n",
    "bookpages = lambda x: int(x.split()[0]) if isinstance(x, str) else None\n",
    "final['book_pages'] = final.book_pages.apply(bookpages)"
   ]
  },
  {
   "cell_type": "code",
   "execution_count": null,
   "metadata": {},
   "outputs": [],
   "source": [
    "final.to_csv('data/books_processed.csv')"
   ]
  },
  {
   "cell_type": "code",
   "execution_count": null,
   "metadata": {},
   "outputs": [],
   "source": [
    "import tqdm"
   ]
  },
  {
   "cell_type": "code",
   "execution_count": null,
   "metadata": {},
   "outputs": [],
   "source": [
    "for i, descr in tqdm.tqdm(final.book_desc.iteritems()):\n",
    "    with open(f'data/descr/{i}.txt', 'w') as file:\n",
    "        file.write(descr)"
   ]
  },
  {
   "cell_type": "code",
   "execution_count": null,
   "metadata": {},
   "outputs": [],
   "source": [
    "for_ZSL = [] # for zero shot learning\n",
    "for i, items in df.iterrows():\n",
    "    authors = items['book_authors']\n",
    "    title = items['book_title']\n",
    "    desc = items['book_desc']\n",
    "    genre = items['genres'].split('|')[0]\n",
    "    \n",
    "    for_ZSL.append((authors, title, desc, genre))\n"
   ]
  },
  {
   "cell_type": "code",
   "execution_count": null,
   "metadata": {},
   "outputs": [],
   "source": [
    "pd.DataFrame(for_ZSL, columns=['book_authors', 'book_title', 'book_desc', 'genre']).to_csv('data/to_ZSL.csv', index=False)"
   ]
  },
  {
   "cell_type": "code",
   "execution_count": null,
   "metadata": {},
   "outputs": [],
   "source": []
  }
 ],
 "metadata": {
  "kernelspec": {
   "display_name": "Python 3",
   "language": "python",
   "name": "python3"
  },
  "language_info": {
   "codemirror_mode": {
    "name": "ipython",
    "version": 3
   },
   "file_extension": ".py",
   "mimetype": "text/x-python",
   "name": "python",
   "nbconvert_exporter": "python",
   "pygments_lexer": "ipython3",
   "version": "3.8.5"
  }
 },
 "nbformat": 4,
 "nbformat_minor": 5
}
