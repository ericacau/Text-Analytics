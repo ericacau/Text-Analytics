{
 "cells": [
  {
   "cell_type": "code",
   "execution_count": 1,
   "metadata": {},
   "outputs": [],
   "source": [
    "import pandas as pd\n",
    "import numpy as np\n",
    "import matplotlib.pyplot as plt\n",
    "import seaborn as sns\n",
    "import pickle\n",
    "\n",
    "# text handling \n",
    "import nltk\n",
    "import re\n",
    "import spacy\n",
    "import string\n",
    "from nltk.corpus import stopwords\n",
    "\n",
    "from sklearn.preprocessing import LabelEncoder\n",
    "from sklearn.feature_extraction.text import TfidfVectorizer, CountVectorizer\n",
    "from sklearn.model_selection import train_test_split\n",
    "from sklearn.linear_model import LogisticRegression\n",
    "from sklearn.multiclass import OneVsRestClassifier, OneVsOneClassifier\n",
    "from sklearn.metrics import classification_report"
   ]
  },
  {
   "cell_type": "code",
   "execution_count": 2,
   "metadata": {},
   "outputs": [],
   "source": [
    "df = pd.read_csv('data/books_def.csv')"
   ]
  },
  {
   "cell_type": "code",
   "execution_count": 3,
   "metadata": {},
   "outputs": [
    {
     "name": "stderr",
     "output_type": "stream",
     "text": [
      "[nltk_data] Downloading package stopwords to\n",
      "[nltk_data]     C:\\Users\\Erica\\AppData\\Roaming\\nltk_data...\n",
      "[nltk_data]   Package stopwords is already up-to-date!\n",
      "[nltk_data] Downloading package wordnet to\n",
      "[nltk_data]     C:\\Users\\Erica\\AppData\\Roaming\\nltk_data...\n",
      "[nltk_data]   Package wordnet is already up-to-date!\n",
      "[nltk_data] Downloading package punkt to\n",
      "[nltk_data]     C:\\Users\\Erica\\AppData\\Roaming\\nltk_data...\n",
      "[nltk_data]   Package punkt is already up-to-date!\n",
      "[nltk_data] Downloading package averaged_perceptron_tagger to\n",
      "[nltk_data]     C:\\Users\\Erica\\AppData\\Roaming\\nltk_data...\n",
      "[nltk_data]   Package averaged_perceptron_tagger is already up-to-\n",
      "[nltk_data]       date!\n"
     ]
    }
   ],
   "source": [
    "nltk.download('stopwords')\n",
    "nltk.download('wordnet')\n",
    "nltk.download('punkt')\n",
    "nltk.download('averaged_perceptron_tagger')\n",
    "from nltk.corpus import stopwords, wordnet\n",
    "from nltk import word_tokenize, pos_tag\n",
    "from nltk.stem.wordnet import WordNetLemmatizer\n"
   ]
  },
  {
   "cell_type": "code",
   "execution_count": 4,
   "metadata": {},
   "outputs": [],
   "source": [
    "df = df.reset_index()"
   ]
  },
  {
   "cell_type": "code",
   "execution_count": 5,
   "metadata": {},
   "outputs": [],
   "source": [
    "nlp = spacy.load(\"en_core_web_sm\")"
   ]
  },
  {
   "cell_type": "code",
   "execution_count": 6,
   "metadata": {},
   "outputs": [],
   "source": [
    "# leggo testi & etichette\n",
    "X = df[\"book_desc\"]\n",
    "y = df[\"genres\"]\n",
    "\n",
    "X_train, X_test, y_train, y_test = train_test_split(X, y, test_size=0.30, stratify=y, random_state=1)"
   ]
  },
  {
   "cell_type": "code",
   "execution_count": 7,
   "metadata": {},
   "outputs": [],
   "source": [
    "stopword_list = stopwords.words('english')\n",
    "punctuations = string.punctuation\n",
    "\n",
    "def spacy_nlp_tokenizer(text):\n",
    "    # substituting all space characters with a single space\n",
    "    text = re.sub('\\s+', ' ', text)\n",
    "    text = re.sub('\\r+', ' ', text)\n",
    "    # removing Url\n",
    "    text = re.sub(r\"\\S*https?:\\S*\", \"\", text, flags=re.MULTILINE)\n",
    "    #removing mention\n",
    "    text = re.sub(r'@[\\w]+', \"\", text, flags=re.MULTILINE)\n",
    "    doc = nlp(text)\n",
    "    # lemmatizing tokens and lowering case\n",
    "    lemmas = [token.lemma_.lower() for token in doc]\n",
    "    \n",
    "    # removing stopwords and punctuations\n",
    "    lemmas_nostop = [token for token in lemmas if token not in stopword_list and token not in punctuations]\n",
    "\n",
    "    # creating ngrams\n",
    "    lemma_bigrams = ['BI_'+p1+'_'+p2 for p1,p2 in nltk.ngrams(lemmas_nostop,2)]\n",
    "    lemma_trigrams = ['TRI_'+p1+'_'+p2+'_'+p3 for p1,p2,p3 in nltk.ngrams(lemmas_nostop,3)]\n",
    "    \n",
    "    all_tokens = list()\n",
    "    all_tokens.extend(lemmas_nostop)\n",
    "    all_tokens.extend(lemma_bigrams)\n",
    "    all_tokens.extend(lemma_trigrams)\n",
    "    return all_tokens"
   ]
  },
  {
   "cell_type": "code",
   "execution_count": null,
   "metadata": {
    "tags": []
   },
   "outputs": [],
   "source": [
    "# vect=TfidfVectorizer(analyzer=spacy_nlp_tokenizer, min_df = 5)\n",
    "# print('fit')\n",
    "# # Just creating the features space. It define the dimensions.\n",
    "# vect.fit(X_train) \n",
    "# print('transform')\n",
    "# #Creating the vectors\n",
    "# X_train_tok = vect.transform(X_train)\n",
    "# print('done')\n",
    "# X_test_tok = vect.transform(X_test)"
   ]
  },
  {
   "cell_type": "code",
   "execution_count": 10,
   "metadata": {},
   "outputs": [],
   "source": [
    "with open('data/pickle/svm_train_tok.pkl',mode='br') as inputfile:\n",
    "    X_train_tok = pickle.load(inputfile)\n",
    "with open('data/pickle/svm_test_tok.pkl',mode='br') as inputfile:\n",
    "    X_test_tok = pickle.load(inputfile)\n",
    "with open('data/pickle/vect.pkl',mode='br') as inputfile:\n",
    "    vect = pickle.load(inputfile)"
   ]
  },
  {
   "cell_type": "code",
   "execution_count": null,
   "metadata": {},
   "outputs": [],
   "source": []
  },
  {
   "cell_type": "code",
   "execution_count": 11,
   "metadata": {},
   "outputs": [
    {
     "data": {
      "text/plain": [
       "LogisticRegression(max_iter=5000)"
      ]
     },
     "execution_count": 11,
     "metadata": {},
     "output_type": "execute_result"
    }
   ],
   "source": [
    "lr = LogisticRegression(max_iter=5000)\n",
    "lr.fit(X_train_tok, y_train)"
   ]
  },
  {
   "cell_type": "code",
   "execution_count": 12,
   "metadata": {},
   "outputs": [],
   "source": [
    "train_pred = lr.predict(X_train_tok)\n",
    "test_pred = lr.predict(X_test_tok)"
   ]
  },
  {
   "cell_type": "code",
   "execution_count": 13,
   "metadata": {},
   "outputs": [
    {
     "name": "stdout",
     "output_type": "stream",
     "text": [
      "                 precision    recall  f1-score   support\n",
      "\n",
      "       Classics       0.99      1.00      0.99      1111\n",
      "        Fantasy       1.00      1.00      1.00      4412\n",
      "        Fiction       1.00      1.00      1.00      4980\n",
      "     Historical       1.00      1.00      1.00      1501\n",
      "        Mystery       1.00      1.00      1.00      1429\n",
      "     Nonfiction       1.00      1.00      1.00      4553\n",
      "        Romance       1.00      1.00      1.00      3177\n",
      "Science Fiction       1.00      1.00      1.00      1225\n",
      " Sequential Art       1.00      1.00      1.00       931\n",
      "    Young Adult       1.00      1.00      1.00      2327\n",
      "\n",
      "       accuracy                           1.00     25646\n",
      "      macro avg       1.00      1.00      1.00     25646\n",
      "   weighted avg       1.00      1.00      1.00     25646\n",
      "\n"
     ]
    }
   ],
   "source": [
    "print(classification_report(y_train, train_pred))"
   ]
  },
  {
   "cell_type": "code",
   "execution_count": 14,
   "metadata": {},
   "outputs": [
    {
     "name": "stdout",
     "output_type": "stream",
     "text": [
      "                 precision    recall  f1-score   support\n",
      "\n",
      "       Classics       0.53      0.47      0.50       477\n",
      "        Fantasy       0.64      0.67      0.65      1891\n",
      "        Fiction       0.51      0.54      0.53      2134\n",
      "     Historical       0.49      0.44      0.47       643\n",
      "        Mystery       0.61      0.54      0.58       612\n",
      "     Nonfiction       0.78      0.80      0.79      1951\n",
      "        Romance       0.65      0.67      0.66      1362\n",
      "Science Fiction       0.61      0.52      0.56       525\n",
      " Sequential Art       0.66      0.53      0.59       399\n",
      "    Young Adult       0.48      0.52      0.50       998\n",
      "\n",
      "       accuracy                           0.61     10992\n",
      "      macro avg       0.60      0.57      0.58     10992\n",
      "   weighted avg       0.61      0.61      0.61     10992\n",
      "\n"
     ]
    }
   ],
   "source": [
    "print(classification_report(y_test, test_pred))"
   ]
  },
  {
   "cell_type": "code",
   "execution_count": 15,
   "metadata": {},
   "outputs": [],
   "source": [
    "fic_nonfic = ['Fiction', 'Nonfiction']\n",
    "df_binary = df.loc[df['genres'].isin(fic_nonfic)]\n"
   ]
  },
  {
   "cell_type": "code",
   "execution_count": 16,
   "metadata": {},
   "outputs": [],
   "source": [
    "X_binary = df_binary[\"book_desc\"]\n",
    "y_binary = df_binary[\"genres\"]\n",
    "\n",
    "\n",
    "X_train_binary, X_test_binary, y_train_binary, y_test_binary = train_test_split(X_binary, y_binary,  test_size=0.30, random_state=1)"
   ]
  },
  {
   "cell_type": "code",
   "execution_count": 17,
   "metadata": {},
   "outputs": [
    {
     "name": "stdout",
     "output_type": "stream",
     "text": [
      "fit\n",
      "transform\n",
      "done\n"
     ]
    }
   ],
   "source": [
    "print('fit')\n",
    "# Just creating the features space. It define the dimensions.\n",
    "vect.fit(X_train_binary) \n",
    "print('transform')\n",
    "#Creating the vectors\n",
    "X_train_tok_binary = vect.transform(X_train_binary)\n",
    "print('done')\n",
    "X_test_tok_binary = vect.transform(X_test_binary)"
   ]
  },
  {
   "cell_type": "code",
   "execution_count": 18,
   "metadata": {},
   "outputs": [
    {
     "data": {
      "text/plain": [
       "LogisticRegression(max_iter=5000)"
      ]
     },
     "execution_count": 18,
     "metadata": {},
     "output_type": "execute_result"
    }
   ],
   "source": [
    "lr = LogisticRegression(max_iter=5000)\n",
    "lr.fit(X_train_tok_binary, y_train_binary)"
   ]
  },
  {
   "cell_type": "code",
   "execution_count": 28,
   "metadata": {},
   "outputs": [],
   "source": [
    "train_pred = lr.predict(X_train_tok_binary)\n",
    "test_pred = lr.predict(X_test_tok_binary)"
   ]
  },
  {
   "cell_type": "code",
   "execution_count": 29,
   "metadata": {},
   "outputs": [
    {
     "name": "stdout",
     "output_type": "stream",
     "text": [
      "              precision    recall  f1-score   support\n",
      "\n",
      "     Fiction       0.95      0.96      0.95      4990\n",
      "  Nonfiction       0.95      0.94      0.95      4542\n",
      "\n",
      "    accuracy                           0.95      9532\n",
      "   macro avg       0.95      0.95      0.95      9532\n",
      "weighted avg       0.95      0.95      0.95      9532\n",
      "\n"
     ]
    }
   ],
   "source": [
    "print(classification_report(y_train_binary, train_pred))"
   ]
  },
  {
   "cell_type": "code",
   "execution_count": 21,
   "metadata": {},
   "outputs": [
    {
     "name": "stdout",
     "output_type": "stream",
     "text": [
      "              precision    recall  f1-score   support\n",
      "\n",
      "     Fiction       0.89      0.92      0.90      2124\n",
      "  Nonfiction       0.91      0.88      0.89      1962\n",
      "\n",
      "    accuracy                           0.90      4086\n",
      "   macro avg       0.90      0.90      0.90      4086\n",
      "weighted avg       0.90      0.90      0.90      4086\n",
      "\n"
     ]
    }
   ],
   "source": [
    "print(classification_report(y_test_binary, test_pred))"
   ]
  }
 ],
 "metadata": {
  "kernelspec": {
   "display_name": "Python 3",
   "language": "python",
   "name": "python3"
  },
  "language_info": {
   "codemirror_mode": {
    "name": "ipython",
    "version": 3
   },
   "file_extension": ".py",
   "mimetype": "text/x-python",
   "name": "python",
   "nbconvert_exporter": "python",
   "pygments_lexer": "ipython3",
   "version": "3.8.5"
  }
 },
 "nbformat": 4,
 "nbformat_minor": 5
}
