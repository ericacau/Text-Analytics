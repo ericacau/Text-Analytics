{
 "cells": [
  {
   "cell_type": "markdown",
   "metadata": {},
   "source": [
    "# NN"
   ]
  },
  {
   "cell_type": "code",
   "execution_count": 67,
   "metadata": {},
   "outputs": [],
   "source": [
    "import pandas as pd\n",
    "import numpy as np\n",
    "import re\n",
    "import matplotlib.pyplot as plt\n",
    "import tensorflow as tf\n",
    "import pickle\n",
    "\n",
    "from tensorflow import keras\n",
    "from tensorflow.keras.preprocessing.text import Tokenizer\n",
    "from tensorflow.keras.preprocessing.sequence import pad_sequences \n",
    "from tensorflow.keras import Model\n",
    "from tensorflow.keras.utils import to_categorical\n",
    "from keras.regularizers import l2\n",
    "\n",
    "from keras.preprocessing import sequence\n",
    "from keras.models import Sequential\n",
    "from keras.layers import Dense, Dropout, Activation, Input\n",
    "from keras.layers import Embedding \n",
    "from keras.layers import Conv1D, GlobalMaxPooling1D, GlobalMaxPool1D\n",
    "from keras.layers import LSTM"
   ]
  },
  {
   "cell_type": "code",
   "execution_count": 68,
   "metadata": {},
   "outputs": [],
   "source": [
    "df = pd.read_csv(\"data/books_def.csv\", index_col=0)\n"
   ]
  },
  {
   "cell_type": "code",
   "execution_count": 69,
   "metadata": {},
   "outputs": [
    {
     "data": {
      "text/plain": [
       "array([9, 1, 0, ..., 5, 5, 5])"
      ]
     },
     "execution_count": 69,
     "metadata": {},
     "output_type": "execute_result"
    }
   ],
   "source": [
    "from sklearn.preprocessing import LabelEncoder\n",
    "\n",
    "encoder = LabelEncoder()\n",
    "labels= encoder.fit_transform(df['genres'].values)\n",
    "labels"
   ]
  },
  {
   "cell_type": "code",
   "execution_count": 70,
   "metadata": {},
   "outputs": [
    {
     "data": {
      "text/html": [
       "<div>\n",
       "<style scoped>\n",
       "    .dataframe tbody tr th:only-of-type {\n",
       "        vertical-align: middle;\n",
       "    }\n",
       "\n",
       "    .dataframe tbody tr th {\n",
       "        vertical-align: top;\n",
       "    }\n",
       "\n",
       "    .dataframe thead th {\n",
       "        text-align: right;\n",
       "    }\n",
       "</style>\n",
       "<table border=\"1\" class=\"dataframe\">\n",
       "  <thead>\n",
       "    <tr style=\"text-align: right;\">\n",
       "      <th></th>\n",
       "      <th>book_desc</th>\n",
       "      <th>book_rating</th>\n",
       "      <th>book_title</th>\n",
       "      <th>genres</th>\n",
       "      <th>label</th>\n",
       "    </tr>\n",
       "    <tr>\n",
       "      <th>book_authors</th>\n",
       "      <th></th>\n",
       "      <th></th>\n",
       "      <th></th>\n",
       "      <th></th>\n",
       "      <th></th>\n",
       "    </tr>\n",
       "  </thead>\n",
       "  <tbody>\n",
       "    <tr>\n",
       "      <th>Jack London</th>\n",
       "      <td>Of all Jack London's fictions none have been a...</td>\n",
       "      <td>3.98</td>\n",
       "      <td>The Call of the Wild, White Fang, and Other St...</td>\n",
       "      <td>Classics</td>\n",
       "      <td>0</td>\n",
       "    </tr>\n",
       "    <tr>\n",
       "      <th>Constantinos P. Cavafis|Edmund Keeley|Philip Sherrard|George Savidis|C.P. Cavafy</th>\n",
       "      <td>C.P. Cavafy (1863-1933) lived in relative obsc...</td>\n",
       "      <td>4.38</td>\n",
       "      <td>C. P. Cavafy: Collected Poems</td>\n",
       "      <td>Classics</td>\n",
       "      <td>0</td>\n",
       "    </tr>\n",
       "    <tr>\n",
       "      <th>Sinclair Lewis</th>\n",
       "      <td>With Commentary by E. M. Forster, Dorothy Park...</td>\n",
       "      <td>3.76</td>\n",
       "      <td>Main Street</td>\n",
       "      <td>Classics</td>\n",
       "      <td>0</td>\n",
       "    </tr>\n",
       "    <tr>\n",
       "      <th>Colette</th>\n",
       "      <td>In Ripening Seed Colette captures that preciou...</td>\n",
       "      <td>3.54</td>\n",
       "      <td>The Ripening Seed</td>\n",
       "      <td>Classics</td>\n",
       "      <td>0</td>\n",
       "    </tr>\n",
       "    <tr>\n",
       "      <th>T.S. Eliot|Mary Karr</th>\n",
       "      <td>Also includes Prufrock and Other Observations,...</td>\n",
       "      <td>4.21</td>\n",
       "      <td>The Waste Land and Other Writings</td>\n",
       "      <td>Classics</td>\n",
       "      <td>0</td>\n",
       "    </tr>\n",
       "    <tr>\n",
       "      <th>...</th>\n",
       "      <td>...</td>\n",
       "      <td>...</td>\n",
       "      <td>...</td>\n",
       "      <td>...</td>\n",
       "      <td>...</td>\n",
       "    </tr>\n",
       "    <tr>\n",
       "      <th>Robert Muchamore</th>\n",
       "      <td>CHERUB agents are highly trained, extremely ta...</td>\n",
       "      <td>4.25</td>\n",
       "      <td>Maximum Security</td>\n",
       "      <td>Young Adult</td>\n",
       "      <td>9</td>\n",
       "    </tr>\n",
       "    <tr>\n",
       "      <th>Adrienne Torrisi</th>\n",
       "      <td>Sometimes you think you know exactly what life...</td>\n",
       "      <td>3.78</td>\n",
       "      <td>Accidental Crush</td>\n",
       "      <td>Young Adult</td>\n",
       "      <td>9</td>\n",
       "    </tr>\n",
       "    <tr>\n",
       "      <th>Katherine Paterson</th>\n",
       "      <td>Jess Aarons' greatest ambition is to be the fa...</td>\n",
       "      <td>3.98</td>\n",
       "      <td>Bridge To Terabithia</td>\n",
       "      <td>Young Adult</td>\n",
       "      <td>9</td>\n",
       "    </tr>\n",
       "    <tr>\n",
       "      <th>Irene Hunt</th>\n",
       "      <td>The Newbery Award-winning novel From the autho...</td>\n",
       "      <td>4.02</td>\n",
       "      <td>Up a Road Slowly</td>\n",
       "      <td>Young Adult</td>\n",
       "      <td>9</td>\n",
       "    </tr>\n",
       "    <tr>\n",
       "      <th>Suzanne Collins</th>\n",
       "      <td>Winning will make you famous. Losing means cer...</td>\n",
       "      <td>4.33</td>\n",
       "      <td>The Hunger Games</td>\n",
       "      <td>Young Adult</td>\n",
       "      <td>9</td>\n",
       "    </tr>\n",
       "  </tbody>\n",
       "</table>\n",
       "<p>36638 rows × 5 columns</p>\n",
       "</div>"
      ],
      "text/plain": [
       "                                                                                            book_desc  \\\n",
       "book_authors                                                                                            \n",
       "Jack London                                         Of all Jack London's fictions none have been a...   \n",
       "Constantinos P. Cavafis|Edmund Keeley|Philip Sh...  C.P. Cavafy (1863-1933) lived in relative obsc...   \n",
       "Sinclair Lewis                                      With Commentary by E. M. Forster, Dorothy Park...   \n",
       "Colette                                             In Ripening Seed Colette captures that preciou...   \n",
       "T.S. Eliot|Mary Karr                                Also includes Prufrock and Other Observations,...   \n",
       "...                                                                                               ...   \n",
       "Robert Muchamore                                    CHERUB agents are highly trained, extremely ta...   \n",
       "Adrienne Torrisi                                    Sometimes you think you know exactly what life...   \n",
       "Katherine Paterson                                  Jess Aarons' greatest ambition is to be the fa...   \n",
       "Irene Hunt                                          The Newbery Award-winning novel From the autho...   \n",
       "Suzanne Collins                                     Winning will make you famous. Losing means cer...   \n",
       "\n",
       "                                                    book_rating  \\\n",
       "book_authors                                                      \n",
       "Jack London                                                3.98   \n",
       "Constantinos P. Cavafis|Edmund Keeley|Philip Sh...         4.38   \n",
       "Sinclair Lewis                                             3.76   \n",
       "Colette                                                    3.54   \n",
       "T.S. Eliot|Mary Karr                                       4.21   \n",
       "...                                                         ...   \n",
       "Robert Muchamore                                           4.25   \n",
       "Adrienne Torrisi                                           3.78   \n",
       "Katherine Paterson                                         3.98   \n",
       "Irene Hunt                                                 4.02   \n",
       "Suzanne Collins                                            4.33   \n",
       "\n",
       "                                                                                           book_title  \\\n",
       "book_authors                                                                                            \n",
       "Jack London                                         The Call of the Wild, White Fang, and Other St...   \n",
       "Constantinos P. Cavafis|Edmund Keeley|Philip Sh...                      C. P. Cavafy: Collected Poems   \n",
       "Sinclair Lewis                                                                            Main Street   \n",
       "Colette                                                                             The Ripening Seed   \n",
       "T.S. Eliot|Mary Karr                                                The Waste Land and Other Writings   \n",
       "...                                                                                               ...   \n",
       "Robert Muchamore                                                                     Maximum Security   \n",
       "Adrienne Torrisi                                                                     Accidental Crush   \n",
       "Katherine Paterson                                                               Bridge To Terabithia   \n",
       "Irene Hunt                                                                           Up a Road Slowly   \n",
       "Suzanne Collins                                                                      The Hunger Games   \n",
       "\n",
       "                                                         genres  label  \n",
       "book_authors                                                            \n",
       "Jack London                                            Classics      0  \n",
       "Constantinos P. Cavafis|Edmund Keeley|Philip Sh...     Classics      0  \n",
       "Sinclair Lewis                                         Classics      0  \n",
       "Colette                                                Classics      0  \n",
       "T.S. Eliot|Mary Karr                                   Classics      0  \n",
       "...                                                         ...    ...  \n",
       "Robert Muchamore                                    Young Adult      9  \n",
       "Adrienne Torrisi                                    Young Adult      9  \n",
       "Katherine Paterson                                  Young Adult      9  \n",
       "Irene Hunt                                          Young Adult      9  \n",
       "Suzanne Collins                                     Young Adult      9  \n",
       "\n",
       "[36638 rows x 5 columns]"
      ]
     },
     "execution_count": 70,
     "metadata": {},
     "output_type": "execute_result"
    }
   ],
   "source": [
    "df['label'] = labels\n",
    "df = df.sort_values(by=[\"label\"])\n",
    "df\n"
   ]
  },
  {
   "cell_type": "code",
   "execution_count": 71,
   "metadata": {
    "tags": []
   },
   "outputs": [],
   "source": [
    "from sklearn.model_selection import train_test_split\n",
    "\n",
    "x_train, x_test, y_train, y_test = train_test_split(df['book_desc'].values, df['label'].values, test_size = 0.2, random_state = 0)"
   ]
  },
  {
   "cell_type": "code",
   "execution_count": 72,
   "metadata": {},
   "outputs": [],
   "source": [
    "max_features = 20000\n",
    "tokenizer = Tokenizer(num_words=max_features)\n",
    "tokenizer.fit_on_texts(list(x_train))\n",
    "#Transforms each text in texts to a sequence of integers.\n",
    "list_tokenized_train = tokenizer.texts_to_sequences(x_train)\n",
    "list_tokenized_test = tokenizer.texts_to_sequences(x_test)"
   ]
  },
  {
   "cell_type": "code",
   "execution_count": 73,
   "metadata": {},
   "outputs": [],
   "source": [
    "#default batch size 32\n",
    "#Optional Int, maximum length of all sequences. \n",
    "#If not provided, sequences will be padded to the length of the longest individual sequence.\n",
    "maxlen = 100 \n",
    "embed_size = 64 \n",
    "#Pads sequences to the same length.\n",
    "X_train_final = pad_sequences(list_tokenized_train, maxlen=maxlen)\n",
    "X_test_final = pad_sequences(list_tokenized_test, maxlen=maxlen)"
   ]
  },
  {
   "cell_type": "code",
   "execution_count": 74,
   "metadata": {},
   "outputs": [],
   "source": [
    "input = Input(shape=(maxlen, )) \n",
    "x   =  Embedding(max_features, embed_size)(input)\n",
    "x   =  Dropout(0.2)(x)\n",
    "x   =  Conv1D(10, 3, padding='valid',activation='relu', strides=1)(x)\n",
    "x   =  GlobalMaxPooling1D()(x)\n",
    "x   =  Dense(264, activation=\"relu\", kernel_regularizer=l2(0.01), bias_regularizer=l2(0.02))(x)\n",
    "x   =  Dropout(0.2)(x)\n",
    "x   =  Dense(128, activation=\"relu\", kernel_regularizer=l2(0.01), bias_regularizer=l2(0.02))(x)\n",
    "x   =  Dropout(0.2)(x)\n",
    "x   =  Dense(64, activation=\"relu\", kernel_regularizer=l2(0.01), bias_regularizer=l2(0.02))(x)\n",
    "x   =  Dropout(0.2)(x)\n",
    "x   =  Dense(32, activation=\"softmax\", kernel_regularizer=l2(0.01), bias_regularizer=l2(0.02))(x)\n"
   ]
  },
  {
   "cell_type": "code",
   "execution_count": 75,
   "metadata": {},
   "outputs": [],
   "source": [
    "model = Model(inputs=input, outputs=x)\n",
    "model.compile(loss='sparse_categorical_crossentropy',\n",
    "              optimizer='adam',\n",
    "              metrics=['accuracy'])"
   ]
  },
  {
   "cell_type": "code",
   "execution_count": 76,
   "metadata": {},
   "outputs": [
    {
     "name": "stdout",
     "output_type": "stream",
     "text": [
      "Epoch 1/20\n",
      "733/733 [==============================] - 31s 36ms/step - loss: 2.5972 - accuracy: 0.1825 - val_loss: 2.2279 - val_accuracy: 0.1718\n",
      "Epoch 2/20\n",
      "733/733 [==============================] - 26s 36ms/step - loss: 2.2135 - accuracy: 0.1881 - val_loss: 2.1775 - val_accuracy: 0.1812\n",
      "Epoch 3/20\n",
      "733/733 [==============================] - 26s 36ms/step - loss: 2.1573 - accuracy: 0.2107 - val_loss: 2.1419 - val_accuracy: 0.2153\n",
      "Epoch 4/20\n",
      "733/733 [==============================] - 26s 35ms/step - loss: 2.1139 - accuracy: 0.2407 - val_loss: 2.1155 - val_accuracy: 0.2474\n",
      "Epoch 5/20\n",
      "733/733 [==============================] - 28s 38ms/step - loss: 2.0720 - accuracy: 0.2601 - val_loss: 2.1101 - val_accuracy: 0.2943\n",
      "Epoch 6/20\n",
      "733/733 [==============================] - 26s 36ms/step - loss: 2.0373 - accuracy: 0.2752 - val_loss: 2.1101 - val_accuracy: 0.3105\n",
      "Epoch 7/20\n",
      "733/733 [==============================] - 26s 36ms/step - loss: 2.0032 - accuracy: 0.2889 - val_loss: 2.1217 - val_accuracy: 0.3132\n",
      "Epoch 8/20\n",
      "733/733 [==============================] - 26s 36ms/step - loss: 1.9695 - accuracy: 0.3065 - val_loss: 2.1432 - val_accuracy: 0.3139\n",
      "Epoch 9/20\n",
      "733/733 [==============================] - 24s 33ms/step - loss: 1.9337 - accuracy: 0.3303 - val_loss: 2.1883 - val_accuracy: 0.3006\n",
      "Epoch 10/20\n",
      "733/733 [==============================] - 25s 34ms/step - loss: 1.9054 - accuracy: 0.3535 - val_loss: 2.1944 - val_accuracy: 0.3072\n",
      "Epoch 11/20\n",
      "733/733 [==============================] - 25s 34ms/step - loss: 1.8779 - accuracy: 0.3682 - val_loss: 2.2339 - val_accuracy: 0.3008\n",
      "Epoch 12/20\n",
      "733/733 [==============================] - 25s 34ms/step - loss: 1.8501 - accuracy: 0.3818 - val_loss: 2.2854 - val_accuracy: 0.2910\n",
      "Epoch 13/20\n",
      "733/733 [==============================] - 25s 35ms/step - loss: 1.8289 - accuracy: 0.3930 - val_loss: 2.3519 - val_accuracy: 0.3028\n",
      "Epoch 14/20\n",
      "733/733 [==============================] - 25s 34ms/step - loss: 1.8083 - accuracy: 0.4038 - val_loss: 2.3826 - val_accuracy: 0.2955\n",
      "Epoch 15/20\n",
      "733/733 [==============================] - 25s 34ms/step - loss: 1.7517 - accuracy: 0.4175 - val_loss: 2.6317 - val_accuracy: 0.2932\n",
      "Epoch 16/20\n",
      "733/733 [==============================] - 25s 34ms/step - loss: 1.6226 - accuracy: 0.4501 - val_loss: 2.7500 - val_accuracy: 0.3072\n",
      "Epoch 17/20\n",
      "733/733 [==============================] - 25s 34ms/step - loss: 1.5167 - accuracy: 0.4854 - val_loss: 2.9672 - val_accuracy: 0.3095\n",
      "Epoch 18/20\n",
      "733/733 [==============================] - 25s 34ms/step - loss: 1.4544 - accuracy: 0.5124 - val_loss: 2.9064 - val_accuracy: 0.3021\n",
      "Epoch 19/20\n",
      "733/733 [==============================] - 25s 34ms/step - loss: 1.3986 - accuracy: 0.5302 - val_loss: 3.0861 - val_accuracy: 0.3072\n",
      "Epoch 20/20\n",
      "733/733 [==============================] - 25s 34ms/step - loss: 1.3675 - accuracy: 0.5432 - val_loss: 3.3147 - val_accuracy: 0.3127\n"
     ]
    }
   ],
   "source": [
    "cnn5 = model.fit(X_train_final, y_train, epochs=20,validation_split=0.2)\n"
   ]
  },
  {
   "cell_type": "code",
   "execution_count": 77,
   "metadata": {},
   "outputs": [
    {
     "data": {
      "text/plain": [
       "<matplotlib.legend.Legend at 0x2d680544a60>"
      ]
     },
     "execution_count": 77,
     "metadata": {},
     "output_type": "execute_result"
    },
    {
     "data": {
      "image/png": "[encoded data removed]",
      "text/plain": [
       "<Figure size 432x288 with 1 Axes>"
      ]
     },
     "metadata": {
      "needs_background": "light"
     },
     "output_type": "display_data"
    }
   ],
   "source": [
    "plt.plot(cnn5.history['loss'], label='loss', marker = 'o')\n",
    "plt.plot(cnn5.history['val_loss'], label = 'val_loss', marker = 'o')\n",
    "plt.xlabel('Epoch')\n",
    "plt.ylabel('Loss')\n",
    "plt.grid()\n",
    "plt.legend(loc='upper right')"
   ]
  }
 ],
 "metadata": {
  "kernelspec": {
   "display_name": "Python 3",
   "language": "python",
   "name": "python3"
  },
  "language_info": {
   "codemirror_mode": {
    "name": "ipython",
    "version": 3
   },
   "file_extension": ".py",
   "mimetype": "text/x-python",
   "name": "python",
   "nbconvert_exporter": "python",
   "pygments_lexer": "ipython3",
   "version": "3.8.5"
  }
 },
 "nbformat": 4,
 "nbformat_minor": 4
}
