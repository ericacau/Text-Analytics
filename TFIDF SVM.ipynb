{
 "cells": [
  {
   "cell_type": "markdown",
   "metadata": {},
   "source": [
    "# TF-IDF and SVM classification"
   ]
  },
  {
   "cell_type": "code",
   "execution_count": 1,
   "metadata": {
    "id": "LnOGpHMheUBJ"
   },
   "outputs": [],
   "source": [
    "# preprocessing & utilities\n",
    "import pandas as pd\n",
    "import numpy as np\n",
    "import matplotlib.pyplot as plt\n",
    "import seaborn as sns\n",
    "import pickle\n",
    "\n",
    "# text handling \n",
    "import nltk\n",
    "import re\n",
    "import spacy\n",
    "import string\n",
    "from nltk.corpus import stopwords\n",
    "\n",
    "# models for classification\n",
    "from sklearn.feature_extraction.text import TfidfTransformer, CountVectorizer, TfidfVectorizer\n",
    "from sklearn.feature_selection import SelectKBest, chi2\n",
    "from sklearn.model_selection import GridSearchCV\n",
    "from sklearn import svm\n",
    "from sklearn.pipeline import Pipeline\n",
    "from sklearn.metrics import confusion_matrix, classification_report, ConfusionMatrixDisplay\n",
    "\n",
    "from sklearn.metrics import plot_confusion_matrix\n",
    "from sklearn.metrics import accuracy_score\n",
    "from sklearn.metrics import f1_score\n",
    "from sklearn.model_selection import train_test_split\n"
   ]
  },
  {
   "cell_type": "code",
   "execution_count": 2,
   "metadata": {},
   "outputs": [
    {
     "name": "stderr",
     "output_type": "stream",
     "text": [
      "[nltk_data] Downloading package stopwords to\n",
      "[nltk_data]     C:\\Users\\Erica\\AppData\\Roaming\\nltk_data...\n",
      "[nltk_data]   Package stopwords is already up-to-date!\n",
      "[nltk_data] Downloading package wordnet to\n",
      "[nltk_data]     C:\\Users\\Erica\\AppData\\Roaming\\nltk_data...\n",
      "[nltk_data]   Package wordnet is already up-to-date!\n",
      "[nltk_data] Downloading package punkt to\n",
      "[nltk_data]     C:\\Users\\Erica\\AppData\\Roaming\\nltk_data...\n",
      "[nltk_data]   Package punkt is already up-to-date!\n",
      "[nltk_data] Downloading package averaged_perceptron_tagger to\n",
      "[nltk_data]     C:\\Users\\Erica\\AppData\\Roaming\\nltk_data...\n",
      "[nltk_data]   Package averaged_perceptron_tagger is already up-to-\n",
      "[nltk_data]       date!\n"
     ]
    }
   ],
   "source": [
    "nltk.download('stopwords')\n",
    "nltk.download('wordnet')\n",
    "nltk.download('punkt')\n",
    "nltk.download('averaged_perceptron_tagger')\n",
    "from nltk.corpus import stopwords, wordnet\n",
    "from nltk import word_tokenize, pos_tag\n",
    "from nltk.stem.wordnet import WordNetLemmatizer\n"
   ]
  },
  {
   "cell_type": "markdown",
   "metadata": {},
   "source": [
    "### Functions"
   ]
  },
  {
   "cell_type": "code",
   "execution_count": 3,
   "metadata": {},
   "outputs": [],
   "source": [
    "def plot_cm(pipeline, X_test, y_test):\n",
    "    plot = plt.figure(figsize=(15,15))\n",
    "    plot_confusion_matrix(pipeline, X_test, y_test, cmap=\"Blues\")  \n",
    "    plt.xticks(rotation=45, fontsize = 8)\n",
    "    plt.yticks(rotation=0, fontsize = 8)\n",
    "    \n",
    "    plt.title(\"Confusion matrix\")\n",
    "    plt.show()\n",
    "    return plot \n",
    "    \n",
    "def eval_accuracy (pred, test):\n",
    "    correct = 0\n",
    "    for prediction,true_label in zip(predictions, y_test):\n",
    "        if prediction==true_label:\n",
    "            correct += 1\n",
    "    return (correct/len(predictions))"
   ]
  },
  {
   "cell_type": "code",
   "execution_count": null,
   "metadata": {},
   "outputs": [],
   "source": []
  },
  {
   "cell_type": "code",
   "execution_count": 4,
   "metadata": {
    "id": "0165RZ8efAjj"
   },
   "outputs": [],
   "source": [
    "df = pd.read_csv(\"data/books_def.csv\", index_col=0)"
   ]
  },
  {
   "cell_type": "code",
   "execution_count": 5,
   "metadata": {
    "colab": {
     "base_uri": "https://localhost:8080/"
    },
    "id": "CzPnZrsgf0wq",
    "outputId": "e13477b6-83bc-43bb-c5a5-9b91578e9ca8"
   },
   "outputs": [
    {
     "name": "stdout",
     "output_type": "stream",
     "text": [
      "<class 'pandas.core.frame.DataFrame'>\n",
      "Index: 36638 entries, Suzanne Collins to Mimi Baird|Eve Claxton\n",
      "Data columns (total 4 columns):\n",
      " #   Column       Non-Null Count  Dtype  \n",
      "---  ------       --------------  -----  \n",
      " 0   book_desc    36638 non-null  object \n",
      " 1   book_rating  36638 non-null  float64\n",
      " 2   book_title   36638 non-null  object \n",
      " 3   genres       36638 non-null  object \n",
      "dtypes: float64(1), object(3)\n",
      "memory usage: 1.4+ MB\n"
     ]
    }
   ],
   "source": [
    "df.info()"
   ]
  },
  {
   "cell_type": "code",
   "execution_count": 6,
   "metadata": {
    "colab": {
     "base_uri": "https://localhost:8080/",
     "height": 237
    },
    "id": "2z57UGQBf35h",
    "outputId": "8c9cd218-38c5-4122-ab5e-b51ceaf0d08b"
   },
   "outputs": [
    {
     "data": {
      "text/html": [
       "<div>\n",
       "<style scoped>\n",
       "    .dataframe tbody tr th:only-of-type {\n",
       "        vertical-align: middle;\n",
       "    }\n",
       "\n",
       "    .dataframe tbody tr th {\n",
       "        vertical-align: top;\n",
       "    }\n",
       "\n",
       "    .dataframe thead th {\n",
       "        text-align: right;\n",
       "    }\n",
       "</style>\n",
       "<table border=\"1\" class=\"dataframe\">\n",
       "  <thead>\n",
       "    <tr style=\"text-align: right;\">\n",
       "      <th></th>\n",
       "      <th>book_desc</th>\n",
       "      <th>book_rating</th>\n",
       "      <th>book_title</th>\n",
       "      <th>genres</th>\n",
       "    </tr>\n",
       "    <tr>\n",
       "      <th>book_authors</th>\n",
       "      <th></th>\n",
       "      <th></th>\n",
       "      <th></th>\n",
       "      <th></th>\n",
       "    </tr>\n",
       "  </thead>\n",
       "  <tbody>\n",
       "    <tr>\n",
       "      <th>Suzanne Collins</th>\n",
       "      <td>Winning will make you famous. Losing means cer...</td>\n",
       "      <td>4.33</td>\n",
       "      <td>The Hunger Games</td>\n",
       "      <td>Young Adult</td>\n",
       "    </tr>\n",
       "    <tr>\n",
       "      <th>J.K. Rowling|Mary GrandPré</th>\n",
       "      <td>There is a door at the end of a silent corrido...</td>\n",
       "      <td>4.48</td>\n",
       "      <td>Harry Potter and the Order of the Phoenix</td>\n",
       "      <td>Fantasy</td>\n",
       "    </tr>\n",
       "    <tr>\n",
       "      <th>Harper Lee</th>\n",
       "      <td>The unforgettable novel of a childhood in a sl...</td>\n",
       "      <td>4.27</td>\n",
       "      <td>To Kill a Mockingbird</td>\n",
       "      <td>Classics</td>\n",
       "    </tr>\n",
       "    <tr>\n",
       "      <th>Stephenie Meyer</th>\n",
       "      <td>About three things I was absolutely positive.F...</td>\n",
       "      <td>3.58</td>\n",
       "      <td>Twilight</td>\n",
       "      <td>Young Adult</td>\n",
       "    </tr>\n",
       "    <tr>\n",
       "      <th>Markus Zusak</th>\n",
       "      <td>Trying to make sense of the horrors of World W...</td>\n",
       "      <td>4.36</td>\n",
       "      <td>The Book Thief</td>\n",
       "      <td>Historical</td>\n",
       "    </tr>\n",
       "  </tbody>\n",
       "</table>\n",
       "</div>"
      ],
      "text/plain": [
       "                                                                    book_desc  \\\n",
       "book_authors                                                                    \n",
       "Suzanne Collins             Winning will make you famous. Losing means cer...   \n",
       "J.K. Rowling|Mary GrandPré  There is a door at the end of a silent corrido...   \n",
       "Harper Lee                  The unforgettable novel of a childhood in a sl...   \n",
       "Stephenie Meyer             About three things I was absolutely positive.F...   \n",
       "Markus Zusak                Trying to make sense of the horrors of World W...   \n",
       "\n",
       "                            book_rating  \\\n",
       "book_authors                              \n",
       "Suzanne Collins                    4.33   \n",
       "J.K. Rowling|Mary GrandPré         4.48   \n",
       "Harper Lee                         4.27   \n",
       "Stephenie Meyer                    3.58   \n",
       "Markus Zusak                       4.36   \n",
       "\n",
       "                                                           book_title  \\\n",
       "book_authors                                                            \n",
       "Suzanne Collins                                      The Hunger Games   \n",
       "J.K. Rowling|Mary GrandPré  Harry Potter and the Order of the Phoenix   \n",
       "Harper Lee                                      To Kill a Mockingbird   \n",
       "Stephenie Meyer                                              Twilight   \n",
       "Markus Zusak                                           The Book Thief   \n",
       "\n",
       "                                 genres  \n",
       "book_authors                             \n",
       "Suzanne Collins             Young Adult  \n",
       "J.K. Rowling|Mary GrandPré      Fantasy  \n",
       "Harper Lee                     Classics  \n",
       "Stephenie Meyer             Young Adult  \n",
       "Markus Zusak                 Historical  "
      ]
     },
     "execution_count": 6,
     "metadata": {},
     "output_type": "execute_result"
    }
   ],
   "source": [
    "df.head()"
   ]
  },
  {
   "cell_type": "code",
   "execution_count": 7,
   "metadata": {
    "id": "7_XYgPAGrssF"
   },
   "outputs": [],
   "source": [
    "df = df.reset_index()"
   ]
  },
  {
   "cell_type": "code",
   "execution_count": 8,
   "metadata": {
    "colab": {
     "base_uri": "https://localhost:8080/"
    },
    "id": "H7TuDUKArykb",
    "outputId": "aae19fd6-eba3-4716-f4e8-2b79b710de6c"
   },
   "outputs": [],
   "source": [
    "fic_nonfic = ['Fiction', 'Nonfiction']\n",
    "df_binary = df.loc[df['genres'].isin(fic_nonfic)]\n"
   ]
  },
  {
   "cell_type": "code",
   "execution_count": 9,
   "metadata": {
    "id": "EO5gYWB2f8JH"
   },
   "outputs": [],
   "source": [
    "nlp = spacy.load(\"en_core_web_sm\")"
   ]
  },
  {
   "cell_type": "code",
   "execution_count": 10,
   "metadata": {
    "id": "uzshl0WNgLcH"
   },
   "outputs": [],
   "source": [
    "# leggo testi & etichette\n",
    "X = df[\"book_desc\"]\n",
    "y = df[\"genres\"]\n",
    "\n",
    "X_train, X_test, y_train, y_test = train_test_split(X, y, test_size=0.30, stratify=y, random_state=1)"
   ]
  },
  {
   "cell_type": "code",
   "execution_count": 11,
   "metadata": {
    "colab": {
     "base_uri": "https://localhost:8080/",
     "height": 145
    },
    "id": "-Ok_E7xLrieS",
    "outputId": "3c61396a-2a3f-4c69-fb9f-7b9f91537f1d"
   },
   "outputs": [
    {
     "data": {
      "text/plain": [
       "'Winner of the 2007 BookBrowse Award for Most Popular Book.An atmospheric, gritty, and compelling novel of star-crossed lovers, set in the circus world circa 1932, by the bestselling author of Riding Lessons. When Jacob Jankowski, recently orphaned and suddenly adrift, jumps onto a passing train, he enters a world of freaks, drifters, and misfits, a second-rate circus struggling to survive during the Great Depression, making one-night stands in town after endless town. A veterinary student who almost earned his degree, Jacob is put in charge of caring for the circus menagerie. It is there that he meets Marlena, the beautiful young star of the equestrian act, who is married to August, the charismatic but twisted animal trainer. He also meets Rosie, an elephant who seems untrainable until he discovers a way to reach her. Beautifully written, Water for Elephants is illuminated by a wonderful sense of time and place. It tells a story of a love between two people that overcomes incredible odds in a world in which even love is a luxury that few can afford.'"
      ]
     },
     "execution_count": 11,
     "metadata": {},
     "output_type": "execute_result"
    }
   ],
   "source": [
    "sample_idx = 50\n",
    "X_train[sample_idx]"
   ]
  },
  {
   "cell_type": "code",
   "execution_count": 12,
   "metadata": {
    "colab": {
     "base_uri": "https://localhost:8080/",
     "height": 36
    },
    "id": "aB2f64Mc_RLV",
    "outputId": "3ae2b3a9-f03b-47b6-dfc9-286adb9f367b"
   },
   "outputs": [
    {
     "data": {
      "text/plain": [
       "'Fiction'"
      ]
     },
     "execution_count": 12,
     "metadata": {},
     "output_type": "execute_result"
    }
   ],
   "source": [
    "y_train[sample_idx]\n"
   ]
  },
  {
   "cell_type": "code",
   "execution_count": 13,
   "metadata": {
    "colab": {
     "base_uri": "https://localhost:8080/"
    },
    "id": "7oqv78eff8LG",
    "outputId": "4401d132-758a-495e-c998-faf5627987d9"
   },
   "outputs": [],
   "source": [
    "stopword_list = stopwords.words('english')\n",
    "punctuations = string.punctuation\n",
    "\n",
    "def spacy_nlp_tokenizer(text):\n",
    "    # substituting all space characters with a single space\n",
    "    text = re.sub('\\s+', ' ', text)\n",
    "    text = re.sub('\\r+', ' ', text)\n",
    "    # removing Url\n",
    "    text = re.sub(r\"\\S*https?:\\S*\", \"\", text, flags=re.MULTILINE)\n",
    "    #removing mention\n",
    "    doc = nlp(text)\n",
    "    # lemmatizing tokens and lowering case\n",
    "    lemmas = [token.lemma_.lower() for token in doc]\n",
    "    \n",
    "    # removing stopwords and punctuations\n",
    "    lemmas_nostop = [token for token in lemmas if token not in stopword_list and token not in punctuations]\n",
    "\n",
    "    # creating ngrams\n",
    "    lemma_bigrams = ['BI_'+p1+'_'+p2 for p1,p2 in nltk.ngrams(lemmas_nostop,2)]\n",
    "    lemma_trigrams = ['TRI_'+p1+'_'+p2+'_'+p3 for p1,p2,p3 in nltk.ngrams(lemmas_nostop,3)]\n",
    "    \n",
    "    all_tokens = list()\n",
    "    all_tokens.extend(lemmas_nostop)\n",
    "    all_tokens.extend(lemma_bigrams)\n",
    "    all_tokens.extend(lemma_trigrams)\n",
    "    return all_tokens"
   ]
  },
  {
   "cell_type": "code",
   "execution_count": 14,
   "metadata": {
    "id": "hN1uUyisgBNI"
   },
   "outputs": [],
   "source": [
    "vect= TfidfVectorizer(max_df=0.8, max_features=10000)\n",
    "\n"
   ]
  },
  {
   "cell_type": "code",
   "execution_count": 15,
   "metadata": {
    "colab": {
     "base_uri": "https://localhost:8080/",
     "height": 467
    },
    "id": "XCkQW9FCqoI-",
    "outputId": "ddd6d6a1-0e47-49a6-f5d7-62e79232db2b"
   },
   "outputs": [
    {
     "name": "stdout",
     "output_type": "stream",
     "text": [
      "fit\n",
      "transform\n",
      "done\n"
     ]
    }
   ],
   "source": [
    "print('fit')\n",
    "# Just creating the features space. It define the dimensions.\n",
    "vect.fit(X_train) \n",
    "print('transform')\n",
    "#Creating the vectors\n",
    "X_train_tok = vect.transform(X_train)\n",
    "print('done')\n",
    "X_test_tok = vect.transform(X_test)"
   ]
  },
  {
   "cell_type": "code",
   "execution_count": 23,
   "metadata": {
    "id": "2eG_Ps6uVZnM"
   },
   "outputs": [],
   "source": [
    "with open('data/pickle/svm_train_tok.pkl','wb') as outfile:\n",
    "    pickle.dump(X_train_tok,outfile)\n",
    "with open('data/pickle/svm_test_tok.pkl','wb') as outfile:\n",
    "    pickle.dump(X_test_tok,outfile)\n",
    "with open('data/pickle/vect.pkl','wb') as outfile:\n",
    "    pickle.dump(vect,outfile)"
   ]
  },
  {
   "cell_type": "code",
   "execution_count": 103,
   "metadata": {},
   "outputs": [],
   "source": [
    "# with open('data/pickle/svm_train_tok.pkl',mode='br') as inputfile:\n",
    "#     X_train_tok = pickle.load(inputfile)\n",
    "# with open('data/pickle/svm_test_tok.pkl',mode='br') as inputfile:\n",
    "#     X_test_tok = pickle.load(inputfile)\n",
    "# with open('data/pickle/vect.pkl',mode='br') as inputfile:\n",
    "#     vect = pickle.load(inputfile)"
   ]
  },
  {
   "cell_type": "code",
   "execution_count": 24,
   "metadata": {},
   "outputs": [],
   "source": [
    "from sklearn.preprocessing import StandardScaler"
   ]
  },
  {
   "cell_type": "code",
   "execution_count": 25,
   "metadata": {},
   "outputs": [],
   "source": [
    "scaler = StandardScaler(with_mean=False)"
   ]
  },
  {
   "cell_type": "code",
   "execution_count": 26,
   "metadata": {},
   "outputs": [],
   "source": [
    "X_train_tok = scaler.fit_transform(X_train_tok)\n",
    "X_test_tok = scaler.fit_transform(X_test_tok)\n"
   ]
  },
  {
   "cell_type": "code",
   "execution_count": 27,
   "metadata": {
    "colab": {
     "base_uri": "https://localhost:8080/"
    },
    "id": "wKphrzXPgNO5",
    "outputId": "06f6f710-9140-4b1b-f43a-02f6f9373d2b"
   },
   "outputs": [
    {
     "name": "stdout",
     "output_type": "stream",
     "text": [
      "Summary:  25646 Genres:  25646\n"
     ]
    }
   ],
   "source": [
    "print(\"Summary: \", len(X_train), \"Genres: \", len(y_train))"
   ]
  },
  {
   "cell_type": "code",
   "execution_count": 28,
   "metadata": {},
   "outputs": [
    {
     "name": "stdout",
     "output_type": "stream",
     "text": [
      "Summary:  10992 Genres:  10992\n"
     ]
    }
   ],
   "source": [
    "print(\"Summary: \", len(X_test), \"Genres: \", len(y_test))"
   ]
  },
  {
   "cell_type": "code",
   "execution_count": 29,
   "metadata": {
    "colab": {
     "base_uri": "https://localhost:8080/"
    },
    "id": "CoF6GjJxhP27",
    "outputId": "fddafe66-0a30-4fb6-cb2a-4c9ac7ed0f96"
   },
   "outputs": [
    {
     "name": "stdout",
     "output_type": "stream",
     "text": [
      "{'Sequential Art', 'Fiction', 'Historical', 'Nonfiction', 'Science Fiction', 'Fantasy', 'Romance', 'Young Adult', 'Mystery', 'Classics'} \n",
      " {'Sequential Art', 'Fiction', 'Historical', 'Nonfiction', 'Science Fiction', 'Fantasy', 'Romance', 'Young Adult', 'Mystery', 'Classics'}\n"
     ]
    }
   ],
   "source": [
    "print(set(y_test), \"\\n\", set(y_train))"
   ]
  },
  {
   "cell_type": "code",
   "execution_count": null,
   "metadata": {
    "tags": []
   },
   "outputs": [],
   "source": []
  },
  {
   "cell_type": "markdown",
   "metadata": {},
   "source": [
    "# SVM classification"
   ]
  },
  {
   "cell_type": "code",
   "execution_count": 30,
   "metadata": {},
   "outputs": [],
   "source": [
    "from sklearn.svm import LinearSVC"
   ]
  },
  {
   "cell_type": "code",
   "execution_count": 31,
   "metadata": {
    "colab": {
     "base_uri": "https://localhost:8080/"
    },
    "id": "NK-ONlKSgBK6",
    "outputId": "754d2a4b-b106-49f3-b349-11a83d002808"
   },
   "outputs": [],
   "source": [
    "svm_pipeline = Pipeline([\n",
    "    ('vect', TfidfVectorizer(min_df = 5)), #tokenization\n",
    "    ('sel', SelectKBest(chi2, k=7000)),  # feature selection\n",
    "    ('tfidf', TfidfTransformer()),  # weighting\n",
    "    ('learner', LinearSVC())  # learning algorithm\n",
    "])\n",
    "\n",
    "svm_pipeline.fit(X_train, y_train)\n",
    "predictions_test = svm_pipeline.predict(X_test)\n",
    "predictions_train = svm_pipeline.predict(X_train)\n"
   ]
  },
  {
   "cell_type": "code",
   "execution_count": 32,
   "metadata": {},
   "outputs": [
    {
     "name": "stdout",
     "output_type": "stream",
     "text": [
      "Classification report:\n",
      "                 precision    recall  f1-score   support\n",
      "\n",
      "       Classics       0.95      0.92      0.93      1111\n",
      "        Fantasy       0.91      0.94      0.93      4412\n",
      "        Fiction       0.91      0.90      0.90      4980\n",
      "     Historical       0.96      0.90      0.93      1501\n",
      "        Mystery       0.94      0.93      0.93      1429\n",
      "     Nonfiction       0.96      0.98      0.97      4553\n",
      "        Romance       0.92      0.93      0.92      3177\n",
      "Science Fiction       0.96      0.93      0.95      1225\n",
      " Sequential Art       0.98      0.95      0.97       931\n",
      "    Young Adult       0.89      0.89      0.89      2327\n",
      "\n",
      "       accuracy                           0.93     25646\n",
      "      macro avg       0.94      0.93      0.93     25646\n",
      "   weighted avg       0.93      0.93      0.93     25646\n",
      "\n",
      "Confusion matrix:\n",
      "[[1017    9   51    4    4   20    5    1    0    0]\n",
      " [   3 4152   69    9   11   17   63   15    4   69]\n",
      " [  38  103 4489   28   36  100   85   13    3   85]\n",
      " [   0   16   71 1357    4   19   23    1    0   10]\n",
      " [   2   10   61    0 1324    5   12    0    1   14]\n",
      " [  13    8   43    6    4 4465    5    1    2    6]\n",
      " [   0   94   70    5   13    5 2948    2    1   39]\n",
      " [   0   29   19    1    1    7   11 1143    1   13]\n",
      " [   0   16    6    1    1    5    1    3  889    9]\n",
      " [   2  104   66    3    6   11   61   10    3 2061]]\n"
     ]
    }
   ],
   "source": [
    "print('Classification report:')\n",
    "print(classification_report(y_train, predictions_train))\n",
    "print('Confusion matrix:')\n",
    "cm = confusion_matrix(y_train, predictions_train)\n",
    "print(cm)"
   ]
  },
  {
   "cell_type": "code",
   "execution_count": 33,
   "metadata": {},
   "outputs": [
    {
     "name": "stdout",
     "output_type": "stream",
     "text": [
      "Classification report:\n",
      "                 precision    recall  f1-score   support\n",
      "\n",
      "       Classics       0.65      0.53      0.58       477\n",
      "        Fantasy       0.71      0.75      0.73      1891\n",
      "        Fiction       0.58      0.61      0.60      2134\n",
      "     Historical       0.62      0.50      0.55       643\n",
      "        Mystery       0.65      0.60      0.62       612\n",
      "     Nonfiction       0.80      0.87      0.83      1951\n",
      "        Romance       0.68      0.70      0.69      1362\n",
      "Science Fiction       0.68      0.60      0.64       525\n",
      " Sequential Art       0.81      0.64      0.71       399\n",
      "    Young Adult       0.56      0.56      0.56       998\n",
      "\n",
      "       accuracy                           0.68     10992\n",
      "      macro avg       0.67      0.64      0.65     10992\n",
      "   weighted avg       0.68      0.68      0.68     10992\n",
      "\n",
      "Confusion matrix:\n",
      "[[ 253   17  122   17    3   42    8    8    1    6]\n",
      " [  13 1414  117   22   20   48  111   35   17   94]\n",
      " [  71  125 1310   76   83  188  119   36   15  111]\n",
      " [  13   41  124  323   15   45   40   10    3   29]\n",
      " [   9   26  123   10  367    9   29    3    3   33]\n",
      " [  22   17  140   12   11 1690   12   19   10   18]\n",
      " [   3  128   99   33   24   19  956   10    2   88]\n",
      " [   1   56   56    8   11   18   19  316    4   36]\n",
      " [   1   32   32    4    6   25   13   12  254   20]\n",
      " [   5  125  118   16   24   23  102   16    6  563]]\n"
     ]
    }
   ],
   "source": [
    "print('Classification report:')\n",
    "print(classification_report(y_test, predictions_test))\n",
    "print('Confusion matrix:')\n",
    "cm = confusion_matrix(y_test, predictions_test)\n",
    "print(cm)"
   ]
  },
  {
   "cell_type": "code",
   "execution_count": 34,
   "metadata": {},
   "outputs": [
    {
     "data": {
      "text/plain": [
       "<Figure size 1080x1080 with 0 Axes>"
      ]
     },
     "metadata": {},
     "output_type": "display_data"
    },
    {
     "data": {
      "image/png": "[encoded data removed]",
      "text/plain": [
       "<Figure size 432x288 with 2 Axes>"
      ]
     },
     "metadata": {
      "needs_background": "light"
     },
     "output_type": "display_data"
    },
    {
     "data": {
      "text/plain": [
       "<Figure size 1080x1080 with 0 Axes>"
      ]
     },
     "execution_count": 34,
     "metadata": {},
     "output_type": "execute_result"
    }
   ],
   "source": [
    "plot_cm(svm_pipeline, X_test, y_test)"
   ]
  },
  {
   "cell_type": "code",
   "execution_count": null,
   "metadata": {},
   "outputs": [],
   "source": []
  },
  {
   "cell_type": "code",
   "execution_count": 35,
   "metadata": {},
   "outputs": [],
   "source": [
    "svm_pipeline = Pipeline([\n",
    "    ('sel', SelectKBest(chi2, k=5000)),  # feature selection\n",
    "    ('tfidf', TfidfTransformer()),  # weighting\n",
    "    ('learner', LinearSVC(C = 0.1))  # learning algorithm\n",
    "])\n",
    "\n",
    "svm_pipeline.fit(X_train_tok,y_train)\n",
    "predictions = svm_pipeline.predict(X_test_tok)\n"
   ]
  },
  {
   "cell_type": "code",
   "execution_count": 36,
   "metadata": {},
   "outputs": [
    {
     "name": "stdout",
     "output_type": "stream",
     "text": [
      "Classification report:\n",
      "                 precision    recall  f1-score   support\n",
      "\n",
      "       Classics       0.35      0.71      0.47       232\n",
      "        Fantasy       0.79      0.66      0.72      2268\n",
      "        Fiction       0.62      0.55      0.58      2409\n",
      "     Historical       0.38      0.68      0.49       359\n",
      "        Mystery       0.56      0.66      0.60       519\n",
      "     Nonfiction       0.87      0.72      0.79      2365\n",
      "        Romance       0.71      0.65      0.68      1504\n",
      "Science Fiction       0.46      0.76      0.57       316\n",
      " Sequential Art       0.46      0.87      0.60       212\n",
      "    Young Adult       0.48      0.59      0.53       808\n",
      "\n",
      "       accuracy                           0.65     10992\n",
      "      macro avg       0.57      0.68      0.60     10992\n",
      "   weighted avg       0.69      0.65      0.66     10992\n",
      "\n",
      "Confusion matrix:\n",
      "[[ 165    6   33    8    2   13    2    1    0    2]\n",
      " [  36 1487  137   78   34   22  140   91   70  173]\n",
      " [ 164  113 1321  167  138  162   93   79   40  132]\n",
      " [   8   11   44  244    8   15   15    5    4    5]\n",
      " [   5   18   75   10  341   14   24   10    5   17]\n",
      " [  84   54  284   67   18 1696   35   45   37   45]\n",
      " [  10  120  129   53   39   11  971   27   16  128]\n",
      " [   3   16   16    3    0    4    5  241   13   15]\n",
      " [   1    7    7    1    2    4    3    2  184    1]\n",
      " [   1   59   88   12   30   10   74   24   30  480]]\n"
     ]
    }
   ],
   "source": [
    "\n",
    "print('Classification report:')\n",
    "print(classification_report(predictions, y_test))\n",
    "print('Confusion matrix:')\n",
    "cm = confusion_matrix(predictions, y_test)\n",
    "print(cm)"
   ]
  },
  {
   "cell_type": "code",
   "execution_count": 37,
   "metadata": {},
   "outputs": [
    {
     "data": {
      "text/plain": [
       "<Figure size 1080x1080 with 0 Axes>"
      ]
     },
     "metadata": {},
     "output_type": "display_data"
    },
    {
     "data": {
      "image/png": "[encoded data removed]",
      "text/plain": [
       "<Figure size 432x288 with 2 Axes>"
      ]
     },
     "metadata": {
      "needs_background": "light"
     },
     "output_type": "display_data"
    },
    {
     "data": {
      "text/plain": [
       "<Figure size 1080x1080 with 0 Axes>"
      ]
     },
     "execution_count": 37,
     "metadata": {},
     "output_type": "execute_result"
    }
   ],
   "source": [
    "plot_cm(svm_pipeline, X_test_tok, y_test)"
   ]
  },
  {
   "cell_type": "markdown",
   "metadata": {},
   "source": [
    "### Grid Search"
   ]
  },
  {
   "cell_type": "code",
   "execution_count": 38,
   "metadata": {
    "colab": {
     "base_uri": "https://localhost:8080/",
     "height": 134
    },
    "id": "Ctrnwpt_gBG1",
    "outputId": "ff9ae24e-e5ea-4ddc-b454-952facf1d543"
   },
   "outputs": [
    {
     "name": "stdout",
     "output_type": "stream",
     "text": [
      "Fitting 10 folds for each of 20 candidates, totalling 200 fits\n"
     ]
    },
    {
     "name": "stderr",
     "output_type": "stream",
     "text": [
      "[Parallel(n_jobs=5)]: Using backend LokyBackend with 5 concurrent workers.\n",
      "[Parallel(n_jobs=5)]: Done  40 tasks      | elapsed:   16.3s\n",
      "[Parallel(n_jobs=5)]: Done 190 tasks      | elapsed:  4.8min\n",
      "[Parallel(n_jobs=5)]: Done 200 out of 200 | elapsed:  6.2min finished\n"
     ]
    }
   ],
   "source": [
    "param_grid = [{'sel__k': [3000, 5000, 7000,'all'], 'learner__C': [0.01, 0.1, 1, 10, 100]}]\n",
    "\n",
    "opt_pipeline = Pipeline([\n",
    "    ('sel', SelectKBest(chi2)),  \n",
    "    ('tfidf', TfidfTransformer()), \n",
    "    ('learner', LinearSVC())\n",
    "])\n",
    "\n",
    "n_jobs = 5 \n",
    "SVM_opt_search = GridSearchCV(opt_pipeline, param_grid, cv=10, n_jobs = n_jobs, verbose=True).fit(X_train_tok, y_train)"
   ]
  },
  {
   "cell_type": "code",
   "execution_count": 39,
   "metadata": {
    "colab": {
     "base_uri": "https://localhost:8080/"
    },
    "id": "oSMjs7dceo0U",
    "outputId": "01d265f4-3d17-4d62-e8bc-eb1061fc984f"
   },
   "outputs": [
    {
     "data": {
      "text/plain": [
       "{'learner__C': 0.1, 'sel__k': 5000}"
      ]
     },
     "execution_count": 39,
     "metadata": {},
     "output_type": "execute_result"
    }
   ],
   "source": [
    "SVM_opt_search.best_params_\n"
   ]
  },
  {
   "cell_type": "code",
   "execution_count": 40,
   "metadata": {
    "colab": {
     "base_uri": "https://localhost:8080/"
    },
    "id": "D1AACRx0qJ1S",
    "outputId": "4ab883bf-0858-4758-bdd5-ce7937fb8a9c"
   },
   "outputs": [
    {
     "data": {
      "text/plain": [
       "Pipeline(steps=[('sel',\n",
       "                 SelectKBest(k=5000,\n",
       "                             score_func=<function chi2 at 0x00000231855D30D0>)),\n",
       "                ('tfidf', TfidfTransformer()), ('learner', LinearSVC(C=0.1))])"
      ]
     },
     "execution_count": 40,
     "metadata": {},
     "output_type": "execute_result"
    }
   ],
   "source": [
    "SVM_opt_search.best_estimator_\n"
   ]
  },
  {
   "cell_type": "code",
   "execution_count": 41,
   "metadata": {},
   "outputs": [
    {
     "ename": "NameError",
     "evalue": "name 'opt_predictions' is not defined",
     "output_type": "error",
     "traceback": [
      "\u001b[1;31m---------------------------------------------------------------------------\u001b[0m",
      "\u001b[1;31mNameError\u001b[0m                                 Traceback (most recent call last)",
      "\u001b[1;32m<ipython-input-41-7a2bc1cea17c>\u001b[0m in \u001b[0;36m<module>\u001b[1;34m\u001b[0m\n\u001b[1;32m----> 1\u001b[1;33m \u001b[0mlen\u001b[0m\u001b[1;33m(\u001b[0m\u001b[0mopt_predictions\u001b[0m\u001b[1;33m)\u001b[0m\u001b[1;33m\u001b[0m\u001b[1;33m\u001b[0m\u001b[0m\n\u001b[0m",
      "\u001b[1;31mNameError\u001b[0m: name 'opt_predictions' is not defined"
     ]
    }
   ],
   "source": [
    "len(opt_predictions)"
   ]
  },
  {
   "cell_type": "code",
   "execution_count": null,
   "metadata": {
    "colab": {
     "base_uri": "https://localhost:8080/"
    },
    "id": "cSt6XDmFqLK3",
    "outputId": "d4ca87cb-70c5-44bb-ab7c-b92d9bb8dea9"
   },
   "outputs": [],
   "source": [
    "opt_predictions = SVM_opt_search.best_estimator_.predict(X_test_tok)\n",
    "\n",
    "print('Classification report:')\n",
    "print(classification_report(y_test, opt_predictions))\n",
    "print('Confusion matrix:')\n",
    "cm = confusion_matrix(y_test, opt_predictions)\n",
    "print(cm)"
   ]
  },
  {
   "cell_type": "code",
   "execution_count": null,
   "metadata": {},
   "outputs": [],
   "source": [
    "eval_accuracy(y_test, opt_predictions)"
   ]
  },
  {
   "cell_type": "code",
   "execution_count": null,
   "metadata": {},
   "outputs": [],
   "source": []
  },
  {
   "cell_type": "code",
   "execution_count": null,
   "metadata": {
    "id": "bHWWCjLkqUd5"
   },
   "outputs": [],
   "source": [
    "tokenizer = vect\n",
    "selector = svm_pipeline.named_steps['sel']\n",
    "classifier = svm_pipeline.named_steps['learner']"
   ]
  },
  {
   "cell_type": "code",
   "execution_count": null,
   "metadata": {
    "colab": {
     "base_uri": "https://localhost:8080/"
    },
    "id": "SuigEck-qWkO",
    "outputId": "7c5e9159-729e-4883-9b7e-fedae93b52a6"
   },
   "outputs": [],
   "source": [
    "feature_names = tokenizer.get_feature_names()\n",
    "feats_w_score = list()\n",
    "for index,(selected,score) in enumerate(zip(selector.get_support(),selector.scores_)):\n",
    "    feats_w_score.append((score,selected,feature_names[index]))\n",
    "feats_w_score = sorted(feats_w_score)\n",
    "len(feats_w_score)"
   ]
  },
  {
   "cell_type": "code",
   "execution_count": null,
   "metadata": {
    "id": "l5VH85U1qYyY",
    "tags": []
   },
   "outputs": [],
   "source": [
    "feats_w_score[:100]"
   ]
  },
  {
   "cell_type": "code",
   "execution_count": null,
   "metadata": {},
   "outputs": [],
   "source": [
    "feats_w_score[-100:]\n"
   ]
  },
  {
   "cell_type": "code",
   "execution_count": null,
   "metadata": {
    "id": "B2JafFG1eq_C"
   },
   "outputs": [],
   "source": [
    "feats_w_classifier_weight = list()\n",
    "for index,weight in enumerate(selector.inverse_transform(classifier.coef_)[0]):\n",
    "    if weight!=0:\n",
    "        feats_w_classifier_weight.append((weight,feature_names[index]))\n",
    "feats_w_classifier_weight = sorted(feats_w_classifier_weight)\n",
    "len(feats_w_classifier_weight)"
   ]
  },
  {
   "cell_type": "code",
   "execution_count": null,
   "metadata": {
    "tags": []
   },
   "outputs": [],
   "source": [
    "feats_w_classifier_weight[-100:]\n"
   ]
  },
  {
   "cell_type": "code",
   "execution_count": null,
   "metadata": {},
   "outputs": [],
   "source": [
    "feats_w_classifier_weight[100:]\n"
   ]
  },
  {
   "cell_type": "code",
   "execution_count": null,
   "metadata": {
    "id": "QQQxvCVKes1D"
   },
   "outputs": [],
   "source": []
  },
  {
   "cell_type": "markdown",
   "metadata": {},
   "source": [
    "### SVM binary"
   ]
  },
  {
   "cell_type": "code",
   "execution_count": 114,
   "metadata": {},
   "outputs": [
    {
     "data": {
      "text/html": [
       "<div>\n",
       "<style scoped>\n",
       "    .dataframe tbody tr th:only-of-type {\n",
       "        vertical-align: middle;\n",
       "    }\n",
       "\n",
       "    .dataframe tbody tr th {\n",
       "        vertical-align: top;\n",
       "    }\n",
       "\n",
       "    .dataframe thead th {\n",
       "        text-align: right;\n",
       "    }\n",
       "</style>\n",
       "<table border=\"1\" class=\"dataframe\">\n",
       "  <thead>\n",
       "    <tr style=\"text-align: right;\">\n",
       "      <th></th>\n",
       "      <th>book_authors</th>\n",
       "      <th>book_desc</th>\n",
       "      <th>book_rating</th>\n",
       "      <th>book_title</th>\n",
       "      <th>genres</th>\n",
       "    </tr>\n",
       "  </thead>\n",
       "  <tbody>\n",
       "    <tr>\n",
       "      <th>11</th>\n",
       "      <td>Dan Brown</td>\n",
       "      <td>An ingenious code hidden in the works of Leona...</td>\n",
       "      <td>3.81</td>\n",
       "      <td>The Da Vinci Code</td>\n",
       "      <td>Fiction</td>\n",
       "    </tr>\n",
       "    <tr>\n",
       "      <th>12</th>\n",
       "      <td>Arthur Golden</td>\n",
       "      <td>A literary sensation and runaway bestseller, t...</td>\n",
       "      <td>4.09</td>\n",
       "      <td>Memoirs of a Geisha</td>\n",
       "      <td>Fiction</td>\n",
       "    </tr>\n",
       "    <tr>\n",
       "      <th>14</th>\n",
       "      <td>Oscar Wilde|Jeffrey Eugenides</td>\n",
       "      <td>﻿Written in his distinctively dazzling manner,...</td>\n",
       "      <td>4.06</td>\n",
       "      <td>The Picture of Dorian Gray</td>\n",
       "      <td>Fiction</td>\n",
       "    </tr>\n",
       "    <tr>\n",
       "      <th>20</th>\n",
       "      <td>Paulo Coelho|Alan R. Clarke|Özdemir İnce</td>\n",
       "      <td>Paulo Coelho's masterpiece tells the mystical ...</td>\n",
       "      <td>3.84</td>\n",
       "      <td>The Alchemist</td>\n",
       "      <td>Fiction</td>\n",
       "    </tr>\n",
       "    <tr>\n",
       "      <th>25</th>\n",
       "      <td>Kathryn Stockett</td>\n",
       "      <td>Be prepared to meet three unforgettable women:...</td>\n",
       "      <td>4.46</td>\n",
       "      <td>The Help</td>\n",
       "      <td>Fiction</td>\n",
       "    </tr>\n",
       "    <tr>\n",
       "      <th>...</th>\n",
       "      <td>...</td>\n",
       "      <td>...</td>\n",
       "      <td>...</td>\n",
       "      <td>...</td>\n",
       "      <td>...</td>\n",
       "    </tr>\n",
       "    <tr>\n",
       "      <th>36633</th>\n",
       "      <td>Siri Hustvedt</td>\n",
       "      <td>A brilliant, provocative novel about an artist...</td>\n",
       "      <td>3.67</td>\n",
       "      <td>The Blazing World</td>\n",
       "      <td>Fiction</td>\n",
       "    </tr>\n",
       "    <tr>\n",
       "      <th>36634</th>\n",
       "      <td>Avi Steinberg</td>\n",
       "      <td>Avi Steinberg is stumped. After defecting from...</td>\n",
       "      <td>3.51</td>\n",
       "      <td>Running the Books: The Adventures of an Accide...</td>\n",
       "      <td>Nonfiction</td>\n",
       "    </tr>\n",
       "    <tr>\n",
       "      <th>36635</th>\n",
       "      <td>Howard Megdal</td>\n",
       "      <td>In this fearless and half-crazy story, Howard ...</td>\n",
       "      <td>3.37</td>\n",
       "      <td>Taking the Field: A Fan's Quest to Run the Tea...</td>\n",
       "      <td>Nonfiction</td>\n",
       "    </tr>\n",
       "    <tr>\n",
       "      <th>36636</th>\n",
       "      <td>Howard Megdal</td>\n",
       "      <td>From the icons of the game to the players who ...</td>\n",
       "      <td>3.97</td>\n",
       "      <td>The Baseball Talmud: Koufax, Greenberg, and th...</td>\n",
       "      <td>Nonfiction</td>\n",
       "    </tr>\n",
       "    <tr>\n",
       "      <th>36637</th>\n",
       "      <td>Mimi Baird|Eve Claxton</td>\n",
       "      <td>Soon to be a major motion picture, from Brad P...</td>\n",
       "      <td>3.82</td>\n",
       "      <td>He Wanted the Moon: The Madness and Medical Ge...</td>\n",
       "      <td>Nonfiction</td>\n",
       "    </tr>\n",
       "  </tbody>\n",
       "</table>\n",
       "<p>13618 rows × 5 columns</p>\n",
       "</div>"
      ],
      "text/plain": [
       "                                   book_authors  \\\n",
       "11                                    Dan Brown   \n",
       "12                                Arthur Golden   \n",
       "14                Oscar Wilde|Jeffrey Eugenides   \n",
       "20     Paulo Coelho|Alan R. Clarke|Özdemir İnce   \n",
       "25                             Kathryn Stockett   \n",
       "...                                         ...   \n",
       "36633                             Siri Hustvedt   \n",
       "36634                             Avi Steinberg   \n",
       "36635                             Howard Megdal   \n",
       "36636                             Howard Megdal   \n",
       "36637                    Mimi Baird|Eve Claxton   \n",
       "\n",
       "                                               book_desc  book_rating  \\\n",
       "11     An ingenious code hidden in the works of Leona...         3.81   \n",
       "12     A literary sensation and runaway bestseller, t...         4.09   \n",
       "14     ﻿Written in his distinctively dazzling manner,...         4.06   \n",
       "20     Paulo Coelho's masterpiece tells the mystical ...         3.84   \n",
       "25     Be prepared to meet three unforgettable women:...         4.46   \n",
       "...                                                  ...          ...   \n",
       "36633  A brilliant, provocative novel about an artist...         3.67   \n",
       "36634  Avi Steinberg is stumped. After defecting from...         3.51   \n",
       "36635  In this fearless and half-crazy story, Howard ...         3.37   \n",
       "36636  From the icons of the game to the players who ...         3.97   \n",
       "36637  Soon to be a major motion picture, from Brad P...         3.82   \n",
       "\n",
       "                                              book_title      genres  \n",
       "11                                     The Da Vinci Code     Fiction  \n",
       "12                                   Memoirs of a Geisha     Fiction  \n",
       "14                            The Picture of Dorian Gray     Fiction  \n",
       "20                                         The Alchemist     Fiction  \n",
       "25                                              The Help     Fiction  \n",
       "...                                                  ...         ...  \n",
       "36633                                  The Blazing World     Fiction  \n",
       "36634  Running the Books: The Adventures of an Accide...  Nonfiction  \n",
       "36635  Taking the Field: A Fan's Quest to Run the Tea...  Nonfiction  \n",
       "36636  The Baseball Talmud: Koufax, Greenberg, and th...  Nonfiction  \n",
       "36637  He Wanted the Moon: The Madness and Medical Ge...  Nonfiction  \n",
       "\n",
       "[13618 rows x 5 columns]"
      ]
     },
     "execution_count": 114,
     "metadata": {},
     "output_type": "execute_result"
    }
   ],
   "source": [
    "df_binary"
   ]
  },
  {
   "cell_type": "code",
   "execution_count": 115,
   "metadata": {},
   "outputs": [],
   "source": [
    "X_binary = df_binary[\"book_desc\"]\n",
    "y_binary = df_binary[\"genres\"]\n",
    "\n",
    "\n",
    "X_train_binary, X_test_binary, y_train_binary, y_test_binary = train_test_split(X_binary, y_binary,  test_size=0.30, random_state=1)"
   ]
  },
  {
   "cell_type": "code",
   "execution_count": 116,
   "metadata": {},
   "outputs": [
    {
     "name": "stdout",
     "output_type": "stream",
     "text": [
      "fit\n",
      "transform\n",
      "done\n"
     ]
    }
   ],
   "source": [
    "print('fit')\n",
    "# Just creating the features space. It define the dimensions.\n",
    "vect.fit(X_train_binary) \n",
    "print('transform')\n",
    "#Creating the vectors\n",
    "X_train_tok_binary = vect.transform(X_train_binary)\n",
    "print('done')\n",
    "X_test_tok_binary = vect.transform(X_test_binary)"
   ]
  },
  {
   "cell_type": "code",
   "execution_count": 117,
   "metadata": {},
   "outputs": [],
   "source": [
    "svm_pipeline = Pipeline([\n",
    "    ('vect', TfidfVectorizer(min_df = 5)), #tokenization\n",
    "    ('sel', SelectKBest(chi2, k=7000)),  # feature selection\n",
    "    ('tfidf', TfidfTransformer()),  # weighting\n",
    "    ('learner', LinearSVC())  # learning algorithm\n",
    "])\n",
    "\n",
    "svm_pipeline.fit(X_train_binary, y_train_binary)\n",
    "predictions_test_binary = svm_pipeline.predict(X_test_binary)\n",
    "predictions_train_binary = svm_pipeline.predict(X_train_binary)"
   ]
  },
  {
   "cell_type": "code",
   "execution_count": 118,
   "metadata": {},
   "outputs": [
    {
     "name": "stdout",
     "output_type": "stream",
     "text": [
      "Classification report:\n",
      "              precision    recall  f1-score   support\n",
      "\n",
      "     Fiction       1.00      1.00      1.00      4990\n",
      "  Nonfiction       0.99      1.00      1.00      4542\n",
      "\n",
      "    accuracy                           1.00      9532\n",
      "   macro avg       1.00      1.00      1.00      9532\n",
      "weighted avg       1.00      1.00      1.00      9532\n",
      "\n",
      "Confusion matrix:\n",
      "[[4966   24]\n",
      " [  19 4523]]\n"
     ]
    }
   ],
   "source": [
    "print('Classification report:')\n",
    "print(classification_report(y_train_binary, predictions_train_binary))\n",
    "print('Confusion matrix:')\n",
    "cm = confusion_matrix(y_train_binary, predictions_train_binary)\n",
    "print(cm)"
   ]
  },
  {
   "cell_type": "code",
   "execution_count": 119,
   "metadata": {},
   "outputs": [
    {
     "name": "stdout",
     "output_type": "stream",
     "text": [
      "Classification report:\n",
      "              precision    recall  f1-score   support\n",
      "\n",
      "     Fiction       0.88      0.91      0.89      2124\n",
      "  Nonfiction       0.90      0.87      0.88      1962\n",
      "\n",
      "    accuracy                           0.89      4086\n",
      "   macro avg       0.89      0.89      0.89      4086\n",
      "weighted avg       0.89      0.89      0.89      4086\n",
      "\n",
      "Confusion matrix:\n",
      "[[1924  200]\n",
      " [ 253 1709]]\n"
     ]
    }
   ],
   "source": [
    "predictions_test_binary = svm_pipeline.predict(X_test_binary)\n",
    "print('Classification report:')\n",
    "print(classification_report(y_test_binary, predictions_test_binary))\n",
    "print('Confusion matrix:')\n",
    "cm = confusion_matrix(y_test_binary, predictions_test_binary)\n",
    "print(cm)"
   ]
  },
  {
   "cell_type": "code",
   "execution_count": 128,
   "metadata": {},
   "outputs": [
    {
     "data": {
      "text/plain": [
       "<Figure size 1080x1080 with 0 Axes>"
      ]
     },
     "metadata": {},
     "output_type": "display_data"
    },
    {
     "data": {
      "image/png": "[encoded data removed]",
      "text/plain": [
       "<Figure size 432x288 with 2 Axes>"
      ]
     },
     "metadata": {
      "needs_background": "light"
     },
     "output_type": "display_data"
    }
   ],
   "source": [
    "plot = plot_cm(svm_pipeline, y_test_binary, predictions_test_binary)\n"
   ]
  },
  {
   "cell_type": "code",
   "execution_count": null,
   "metadata": {},
   "outputs": [],
   "source": []
  }
 ],
 "metadata": {
  "accelerator": "GPU",
  "colab": {
   "collapsed_sections": [],
   "name": "Untitled7.ipynb",
   "provenance": []
  },
  "kernelspec": {
   "display_name": "Python 3",
   "language": "python",
   "name": "python3"
  },
  "language_info": {
   "codemirror_mode": {
    "name": "ipython",
    "version": 3
   },
   "file_extension": ".py",
   "mimetype": "text/x-python",
   "name": "python",
   "nbconvert_exporter": "python",
   "pygments_lexer": "ipython3",
   "version": "3.8.5"
  }
 },
 "nbformat": 4,
 "nbformat_minor": 4
}
