{
 "cells": [
  {
   "cell_type": "code",
   "execution_count": 30,
   "metadata": {},
   "outputs": [],
   "source": [
    "import pandas as pd\n",
    "from sklearn.preprocessing import LabelEncoder\n",
    "from sklearn.feature_extraction.text import TfidfVectorizer\n",
    "from sklearn.model_selection import train_test_split\n",
    "from sklearn.linear_model import LogisticRegression\n",
    "from sklearn.multiclass import OneVsRestClassifier, OneVsOneClassifier\n",
    "from sklearn.metrics import classification_report"
   ]
  },
  {
   "cell_type": "code",
   "execution_count": 31,
   "metadata": {},
   "outputs": [],
   "source": [
    "df = pd.read_csv('data/books_fgo.csv')"
   ]
  },
  {
   "cell_type": "code",
   "execution_count": 32,
   "metadata": {},
   "outputs": [],
   "source": [
    "top_genres = list(df.genres.value_counts()[:11].index)"
   ]
  },
  {
   "cell_type": "code",
   "execution_count": 33,
   "metadata": {},
   "outputs": [],
   "source": [
    "df = df[df.genres.isin(top_genres)]"
   ]
  },
  {
   "cell_type": "code",
   "execution_count": 34,
   "metadata": {},
   "outputs": [],
   "source": [
    "enc = LabelEncoder()\n",
    "df['genres'] = enc.fit_transform(df.genres)"
   ]
  },
  {
   "cell_type": "code",
   "execution_count": 47,
   "metadata": {},
   "outputs": [
    {
     "data": {
      "text/plain": [
       "array(['Childrens', 'Classics', 'Fantasy', 'Fiction', 'Historical',\n",
       "       'Mystery', 'Nonfiction', 'Romance', 'Science Fiction',\n",
       "       'Sequential Art', 'Young Adult'], dtype=object)"
      ]
     },
     "execution_count": 47,
     "metadata": {},
     "output_type": "execute_result"
    }
   ],
   "source": [
    "enc.classes_"
   ]
  },
  {
   "cell_type": "code",
   "execution_count": 35,
   "metadata": {},
   "outputs": [],
   "source": [
    "label = df.pop('genres')\n",
    "train_set, test_set, train_label, test_label = train_test_split(df['book_desc'], \n",
    "                                           label, stratify=label, test_size=0.30, random_state=42)"
   ]
  },
  {
   "cell_type": "code",
   "execution_count": 36,
   "metadata": {},
   "outputs": [],
   "source": [
    "tfidf_vectorizer = TfidfVectorizer(max_df=0.8, max_features=10000)\n",
    "xtrain = tfidf_vectorizer.fit_transform(train_set)\n",
    "xtest = tfidf_vectorizer.transform(test_set)"
   ]
  },
  {
   "cell_type": "code",
   "execution_count": 39,
   "metadata": {},
   "outputs": [
    {
     "data": {
      "text/plain": [
       "OneVsRestClassifier(estimator=LogisticRegression(max_iter=5000))"
      ]
     },
     "execution_count": 39,
     "metadata": {},
     "output_type": "execute_result"
    }
   ],
   "source": [
    "lr = LogisticRegression(max_iter=5000)\n",
    "clf = OneVsRestClassifier(lr)\n",
    "clf.fit(xtrain, train_label)"
   ]
  },
  {
   "cell_type": "code",
   "execution_count": 49,
   "metadata": {},
   "outputs": [],
   "source": [
    "train_pred = clf.predict(xtrain)\n",
    "test_pred = clf.predict(xtest)"
   ]
  },
  {
   "cell_type": "code",
   "execution_count": 50,
   "metadata": {},
   "outputs": [
    {
     "name": "stdout",
     "output_type": "stream",
     "text": [
      "              precision    recall  f1-score   support\n",
      "\n",
      "           0       0.92      0.45      0.61       715\n",
      "           1       0.89      0.50      0.64      1035\n",
      "           2       0.73      0.91      0.81      4731\n",
      "           3       0.63      0.88      0.73      3945\n",
      "           4       0.87      0.54      0.67      1491\n",
      "           5       0.89      0.68      0.77      1385\n",
      "           6       0.90      0.80      0.85      1644\n",
      "           7       0.79      0.82      0.81      2810\n",
      "           8       0.90      0.54      0.68      1201\n",
      "           9       0.99      0.45      0.62       934\n",
      "          10       0.73      0.74      0.73      2390\n",
      "\n",
      "    accuracy                           0.75     22281\n",
      "   macro avg       0.84      0.66      0.72     22281\n",
      "weighted avg       0.78      0.75      0.75     22281\n",
      "\n"
     ]
    }
   ],
   "source": [
    "print(classification_report(train_label, train_pred))"
   ]
  },
  {
   "cell_type": "code",
   "execution_count": 51,
   "metadata": {},
   "outputs": [
    {
     "name": "stdout",
     "output_type": "stream",
     "text": [
      "              precision    recall  f1-score   support\n",
      "\n",
      "           0       0.86      0.27      0.42       306\n",
      "           1       0.80      0.35      0.49       444\n",
      "           2       0.65      0.84      0.73      2028\n",
      "           3       0.50      0.81      0.62      1691\n",
      "           4       0.78      0.36      0.49       639\n",
      "           5       0.79      0.54      0.64       594\n",
      "           6       0.84      0.68      0.75       705\n",
      "           7       0.70      0.73      0.71      1204\n",
      "           8       0.79      0.39      0.53       514\n",
      "           9       0.94      0.29      0.44       400\n",
      "          10       0.58      0.58      0.58      1025\n",
      "\n",
      "    accuracy                           0.64      9550\n",
      "   macro avg       0.75      0.53      0.58      9550\n",
      "weighted avg       0.69      0.64      0.63      9550\n",
      "\n"
     ]
    }
   ],
   "source": [
    "print(classification_report(test_label, test_pred))"
   ]
  },
  {
   "cell_type": "code",
   "execution_count": null,
   "metadata": {},
   "outputs": [],
   "source": []
  }
 ],
 "metadata": {
  "kernelspec": {
   "display_name": "Python 3",
   "language": "python",
   "name": "python3"
  },
  "language_info": {
   "codemirror_mode": {
    "name": "ipython",
    "version": 3
   },
   "file_extension": ".py",
   "mimetype": "text/x-python",
   "name": "python",
   "nbconvert_exporter": "python",
   "pygments_lexer": "ipython3",
   "version": "3.8.5"
  }
 },
 "nbformat": 4,
 "nbformat_minor": 5
}
