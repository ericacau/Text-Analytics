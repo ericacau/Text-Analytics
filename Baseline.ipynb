{
 "cells": [
  {
   "cell_type": "code",
   "execution_count": 7,
   "id": "2795ded0-d222-4931-af6c-fdc932f99816",
   "metadata": {},
   "outputs": [],
   "source": [
    "import pandas as pd\n",
    "from sklearn.preprocessing import LabelEncoder\n",
    "from sklearn.feature_extraction.text import TfidfVectorizer\n",
    "from sklearn.model_selection import train_test_split\n",
    "from sklearn.linear_model import LogisticRegression\n",
    "from sklearn.multiclass import OneVsRestClassifier, OneVsOneClassifier\n",
    "from sklearn.metrics import classification_report"
   ]
  },
  {
   "cell_type": "code",
   "execution_count": 8,
   "id": "70e3d9c6-7246-43b2-bf72-9fa30591d546",
   "metadata": {},
   "outputs": [],
   "source": [
    "df = pd.read_csv('data/books_def.csv')"
   ]
  },
  {
   "cell_type": "code",
   "execution_count": 9,
   "id": "0c562b93-6b54-4d9a-b941-45b54daa1943",
   "metadata": {},
   "outputs": [],
   "source": [
    "enc = LabelEncoder()\n",
    "df['genres'] = enc.fit_transform(df.genres)"
   ]
  },
  {
   "cell_type": "code",
   "execution_count": 10,
   "id": "87fb67b5-b66b-4b2a-9cb1-9826ccd56a3c",
   "metadata": {},
   "outputs": [
    {
     "data": {
      "text/plain": [
       "array(['Classics', 'Fantasy', 'Fiction', 'Historical', 'Mystery',\n",
       "       'Nonfiction', 'Romance', 'Science Fiction', 'Sequential Art',\n",
       "       'Young Adult'], dtype=object)"
      ]
     },
     "execution_count": 10,
     "metadata": {},
     "output_type": "execute_result"
    }
   ],
   "source": [
    "enc.classes_"
   ]
  },
  {
   "cell_type": "code",
   "execution_count": 11,
   "id": "e7288025-9385-444c-a887-183b0b07b3a6",
   "metadata": {},
   "outputs": [],
   "source": [
    "label = df.pop('genres')\n",
    "train_set, test_set, train_label, test_label = train_test_split(df['book_desc'], \n",
    "                                           label, stratify=label, test_size=0.30, random_state=42)"
   ]
  },
  {
   "cell_type": "code",
   "execution_count": 12,
   "id": "30260fec-6bac-4351-8016-1f1a1b769c24",
   "metadata": {},
   "outputs": [],
   "source": [
    "tfidf_vectorizer = TfidfVectorizer(max_df=0.8, max_features=10000)\n",
    "xtrain = tfidf_vectorizer.fit_transform(train_set)\n",
    "xtest = tfidf_vectorizer.transform(test_set)"
   ]
  },
  {
   "cell_type": "code",
   "execution_count": 13,
   "id": "887c204f-ead6-4f5b-9d0f-3af101f647ef",
   "metadata": {},
   "outputs": [
    {
     "data": {
      "text/plain": [
       "OneVsOneClassifier(estimator=LogisticRegression(max_iter=5000))"
      ]
     },
     "execution_count": 13,
     "metadata": {},
     "output_type": "execute_result"
    }
   ],
   "source": [
    "lr = LogisticRegression(max_iter=5000)\n",
    "clf = OneVsOneClassifier(lr)\n",
    "clf.fit(xtrain, train_label)"
   ]
  },
  {
   "cell_type": "code",
   "execution_count": 14,
   "id": "24b35171-f1aa-434b-91ac-392f903d647b",
   "metadata": {},
   "outputs": [],
   "source": [
    "train_pred = clf.predict(xtrain)\n",
    "test_pred = clf.predict(xtest)"
   ]
  },
  {
   "cell_type": "code",
   "execution_count": 15,
   "id": "512b511b-5966-4184-a8cc-aae4817d2ca0",
   "metadata": {},
   "outputs": [
    {
     "name": "stdout",
     "output_type": "stream",
     "text": [
      "                 precision    recall  f1-score   support\n",
      "\n",
      "       Classics       0.88      0.39      0.54      1111\n",
      "        Fantasy       0.75      0.85      0.80      4412\n",
      "        Fiction       0.60      0.85      0.70      4980\n",
      "     Historical       0.89      0.47      0.62      1501\n",
      "        Mystery       0.86      0.60      0.71      1429\n",
      "     Nonfiction       0.85      0.93      0.89      4553\n",
      "        Romance       0.76      0.80      0.78      3177\n",
      "Science Fiction       0.91      0.50      0.64      1225\n",
      " Sequential Art       0.99      0.37      0.54       931\n",
      "    Young Adult       0.75      0.64      0.69      2327\n",
      "\n",
      "       accuracy                           0.75     25646\n",
      "      macro avg       0.82      0.64      0.69     25646\n",
      "   weighted avg       0.78      0.75      0.74     25646\n",
      "\n"
     ]
    }
   ],
   "source": [
    "print(classification_report(train_label, train_pred, target_names=enc.classes_))"
   ]
  },
  {
   "cell_type": "code",
   "execution_count": 16,
   "id": "5ea72bdc-5ceb-45fa-b3a4-65f883a31e65",
   "metadata": {},
   "outputs": [
    {
     "name": "stdout",
     "output_type": "stream",
     "text": [
      "                 precision    recall  f1-score   support\n",
      "\n",
      "       Classics       0.73      0.33      0.46       477\n",
      "        Fantasy       0.66      0.75      0.70      1891\n",
      "        Fiction       0.50      0.75      0.60      2134\n",
      "     Historical       0.71      0.28      0.40       643\n",
      "        Mystery       0.81      0.45      0.58       612\n",
      "     Nonfiction       0.79      0.87      0.83      1951\n",
      "        Romance       0.67      0.71      0.69      1362\n",
      "Science Fiction       0.84      0.39      0.53       525\n",
      " Sequential Art       0.93      0.25      0.40       399\n",
      "    Young Adult       0.60      0.51      0.55       998\n",
      "\n",
      "       accuracy                           0.65     10992\n",
      "      macro avg       0.72      0.53      0.57     10992\n",
      "   weighted avg       0.68      0.65      0.63     10992\n",
      "\n"
     ]
    }
   ],
   "source": [
    "print(classification_report(test_label, test_pred, target_names=enc.classes_))"
   ]
  },
  {
   "cell_type": "code",
   "execution_count": null,
   "id": "8e9d582e-8c44-4002-85dd-57d318f2b8f9",
   "metadata": {},
   "outputs": [],
   "source": []
  }
 ],
 "metadata": {
  "kernelspec": {
   "display_name": "Python 3",
   "language": "python",
   "name": "python3"
  },
  "language_info": {
   "codemirror_mode": {
    "name": "ipython",
    "version": 3
   },
   "file_extension": ".py",
   "mimetype": "text/x-python",
   "name": "python",
   "nbconvert_exporter": "python",
   "pygments_lexer": "ipython3",
   "version": "3.8.8"
  }
 },
 "nbformat": 4,
 "nbformat_minor": 5
}
