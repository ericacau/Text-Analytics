{
 "cells": [
  {
   "cell_type": "markdown",
   "metadata": {
    "id": "vBKae-gDD3ed"
   },
   "source": [
    "# Zero Shot Learning (ZSL)"
   ]
  },
  {
   "cell_type": "code",
   "execution_count": 39,
   "metadata": {
    "id": "wcUYnoMZD2xJ"
   },
   "outputs": [],
   "source": [
    "import pandas as pd\n",
    "import flair\n",
    "import re\n",
    "from flair.models import SequenceTagger\n",
    "import matplotlib.pyplot as plt\n",
    "import seaborn as sns\n",
    "\n",
    "\n",
    "clrs = [\"#fd7f6f\", \"#7eb0d5\", \"#b2e061\", \"#bd7ebe\", \"#ffb55a\", \"#ffee65\", \"#beb9db\", \"#fdcce5\", \"#8bd3c7\"]\n",
    "customPalette = sns.set_palette(sns.color_palette(clrs))\n"
   ]
  },
  {
   "cell_type": "code",
   "execution_count": 3,
   "metadata": {
    "id": "Chhdmq32EnnP"
   },
   "outputs": [],
   "source": [
    "df = pd.read_csv(\"data/books_def_small.csv\")"
   ]
  },
  {
   "cell_type": "code",
   "execution_count": 55,
   "metadata": {
    "colab": {
     "base_uri": "https://localhost:8080/",
     "height": 206
    },
    "id": "m1zMAvQLEvxp",
    "outputId": "46b07136-4fb1-4689-9df9-d5a62725e6d6"
   },
   "outputs": [
    {
     "data": {
      "text/html": [
       "<div>\n",
       "<style scoped>\n",
       "    .dataframe tbody tr th:only-of-type {\n",
       "        vertical-align: middle;\n",
       "    }\n",
       "\n",
       "    .dataframe tbody tr th {\n",
       "        vertical-align: top;\n",
       "    }\n",
       "\n",
       "    .dataframe thead th {\n",
       "        text-align: right;\n",
       "    }\n",
       "</style>\n",
       "<table border=\"1\" class=\"dataframe\">\n",
       "  <thead>\n",
       "    <tr style=\"text-align: right;\">\n",
       "      <th></th>\n",
       "      <th>book_authors</th>\n",
       "      <th>book_desc</th>\n",
       "      <th>book_rating</th>\n",
       "      <th>book_title</th>\n",
       "      <th>genres</th>\n",
       "    </tr>\n",
       "  </thead>\n",
       "  <tbody>\n",
       "    <tr>\n",
       "      <th>0</th>\n",
       "      <td>Suzanne Collins</td>\n",
       "      <td>Winning will make you famous. Losing means cer...</td>\n",
       "      <td>4.33</td>\n",
       "      <td>The Hunger Games</td>\n",
       "      <td>Young Adult</td>\n",
       "    </tr>\n",
       "    <tr>\n",
       "      <th>1</th>\n",
       "      <td>J.K. Rowling|Mary GrandPré</td>\n",
       "      <td>There is a door at the end of a silent corrido...</td>\n",
       "      <td>4.48</td>\n",
       "      <td>Harry Potter and the Order of the Phoenix</td>\n",
       "      <td>Fantasy</td>\n",
       "    </tr>\n",
       "    <tr>\n",
       "      <th>2</th>\n",
       "      <td>Harper Lee</td>\n",
       "      <td>The unforgettable novel of a childhood in a sl...</td>\n",
       "      <td>4.27</td>\n",
       "      <td>To Kill a Mockingbird</td>\n",
       "      <td>Classics</td>\n",
       "    </tr>\n",
       "    <tr>\n",
       "      <th>3</th>\n",
       "      <td>Stephenie Meyer</td>\n",
       "      <td>About three things I was absolutely positive.F...</td>\n",
       "      <td>3.58</td>\n",
       "      <td>Twilight</td>\n",
       "      <td>Young Adult</td>\n",
       "    </tr>\n",
       "    <tr>\n",
       "      <th>4</th>\n",
       "      <td>Markus Zusak</td>\n",
       "      <td>Trying to make sense of the horrors of World W...</td>\n",
       "      <td>4.36</td>\n",
       "      <td>The Book Thief</td>\n",
       "      <td>Historical</td>\n",
       "    </tr>\n",
       "  </tbody>\n",
       "</table>\n",
       "</div>"
      ],
      "text/plain": [
       "                 book_authors  \\\n",
       "0             Suzanne Collins   \n",
       "1  J.K. Rowling|Mary GrandPré   \n",
       "2                  Harper Lee   \n",
       "3             Stephenie Meyer   \n",
       "4                Markus Zusak   \n",
       "\n",
       "                                           book_desc  book_rating  \\\n",
       "0  Winning will make you famous. Losing means cer...         4.33   \n",
       "1  There is a door at the end of a silent corrido...         4.48   \n",
       "2  The unforgettable novel of a childhood in a sl...         4.27   \n",
       "3  About three things I was absolutely positive.F...         3.58   \n",
       "4  Trying to make sense of the horrors of World W...         4.36   \n",
       "\n",
       "                                  book_title       genres  \n",
       "0                           The Hunger Games  Young Adult  \n",
       "1  Harry Potter and the Order of the Phoenix      Fantasy  \n",
       "2                      To Kill a Mockingbird     Classics  \n",
       "3                                   Twilight  Young Adult  \n",
       "4                             The Book Thief   Historical  "
      ]
     },
     "execution_count": 55,
     "metadata": {},
     "output_type": "execute_result"
    }
   ],
   "source": [
    "df.head()"
   ]
  },
  {
   "cell_type": "code",
   "execution_count": 56,
   "metadata": {
    "colab": {
     "base_uri": "https://localhost:8080/"
    },
    "id": "kaV6DMaJLW7W",
    "outputId": "e9a7e8d1-f3e6-4283-d570-27925861caa8"
   },
   "outputs": [
    {
     "name": "stdout",
     "output_type": "stream",
     "text": [
      "(26484, 5)\n"
     ]
    }
   ],
   "source": [
    "print(df.shape)\n"
   ]
  },
  {
   "cell_type": "code",
   "execution_count": 57,
   "metadata": {},
   "outputs": [],
   "source": [
    "df.book_desc = df.book_desc.astype(str)\n",
    "df.genres = df.genres.astype(str)"
   ]
  },
  {
   "cell_type": "code",
   "execution_count": 58,
   "metadata": {},
   "outputs": [],
   "source": [
    "#genre subsets\n",
    "df_gb = [x for _, x in df.groupby('genres')]\n",
    "df_fantasy = df_gb[1].copy()\n",
    "df_mistery = df_gb[4].copy()\n",
    "df_scifi = df_gb[7].copy()\n",
    "df_romance = df_gb[6].copy()\n"
   ]
  },
  {
   "cell_type": "code",
   "execution_count": 62,
   "metadata": {
    "id": "ml5VS63GVg1p"
   },
   "outputs": [],
   "source": [
    "genre = [\"Fantasy\", \"Science Fiction\", \"Mystery\", \"Romance\"]"
   ]
  },
  {
   "cell_type": "code",
   "execution_count": 64,
   "metadata": {
    "colab": {
     "base_uri": "https://localhost:8080/",
     "height": 206
    },
    "id": "CkfqtzJ-MOI0",
    "outputId": "ee815c1d-a3d6-45d3-f55e-30a385e242f4"
   },
   "outputs": [
    {
     "data": {
      "text/html": [
       "<div>\n",
       "<style scoped>\n",
       "    .dataframe tbody tr th:only-of-type {\n",
       "        vertical-align: middle;\n",
       "    }\n",
       "\n",
       "    .dataframe tbody tr th {\n",
       "        vertical-align: top;\n",
       "    }\n",
       "\n",
       "    .dataframe thead th {\n",
       "        text-align: right;\n",
       "    }\n",
       "</style>\n",
       "<table border=\"1\" class=\"dataframe\">\n",
       "  <thead>\n",
       "    <tr style=\"text-align: right;\">\n",
       "      <th></th>\n",
       "      <th>book_authors</th>\n",
       "      <th>book_desc</th>\n",
       "      <th>book_rating</th>\n",
       "      <th>book_title</th>\n",
       "      <th>genres</th>\n",
       "    </tr>\n",
       "  </thead>\n",
       "  <tbody>\n",
       "    <tr>\n",
       "      <th>96</th>\n",
       "      <td>Agatha Christie</td>\n",
       "      <td>First, there were ten—a curious assortment of ...</td>\n",
       "      <td>4.25</td>\n",
       "      <td>And Then There Were None</td>\n",
       "      <td>Mystery</td>\n",
       "    </tr>\n",
       "    <tr>\n",
       "      <th>192</th>\n",
       "      <td>Agatha Christie</td>\n",
       "      <td>En route to London, Belgian detective Hercule ...</td>\n",
       "      <td>4.16</td>\n",
       "      <td>Murder on the Orient Express</td>\n",
       "      <td>Mystery</td>\n",
       "    </tr>\n",
       "    <tr>\n",
       "      <th>507</th>\n",
       "      <td>Ellen Raskin</td>\n",
       "      <td>A bizarre chain of events begins when sixteen ...</td>\n",
       "      <td>4.03</td>\n",
       "      <td>The Westing Game</td>\n",
       "      <td>Mystery</td>\n",
       "    </tr>\n",
       "    <tr>\n",
       "      <th>533</th>\n",
       "      <td>Janet Evanovich</td>\n",
       "      <td>Pestered by her close New Jersey family, Steph...</td>\n",
       "      <td>4.03</td>\n",
       "      <td>One for the Money</td>\n",
       "      <td>Mystery</td>\n",
       "    </tr>\n",
       "    <tr>\n",
       "      <th>559</th>\n",
       "      <td>Alexander McCall Smith</td>\n",
       "      <td>Precious Ramotswe has only just set up shop as...</td>\n",
       "      <td>3.77</td>\n",
       "      <td>The No. 1 Ladies' Detective Agency</td>\n",
       "      <td>Mystery</td>\n",
       "    </tr>\n",
       "    <tr>\n",
       "      <th>...</th>\n",
       "      <td>...</td>\n",
       "      <td>...</td>\n",
       "      <td>...</td>\n",
       "      <td>...</td>\n",
       "      <td>...</td>\n",
       "    </tr>\n",
       "    <tr>\n",
       "      <th>26358</th>\n",
       "      <td>April Henry</td>\n",
       "      <td>In this new series told from multiple perspect...</td>\n",
       "      <td>3.83</td>\n",
       "      <td>The Body in the Woods</td>\n",
       "      <td>Mystery</td>\n",
       "    </tr>\n",
       "    <tr>\n",
       "      <th>26359</th>\n",
       "      <td>James Lee Burke</td>\n",
       "      <td>A routine assignment transporting two death-ro...</td>\n",
       "      <td>4.16</td>\n",
       "      <td>A Morning for Flamingos</td>\n",
       "      <td>Mystery</td>\n",
       "    </tr>\n",
       "    <tr>\n",
       "      <th>26368</th>\n",
       "      <td>Charlaine Harris</td>\n",
       "      <td>Welcome to Shakespeare, Arkansas. Lily Bard ca...</td>\n",
       "      <td>3.76</td>\n",
       "      <td>Shakespeare's Landlord</td>\n",
       "      <td>Mystery</td>\n",
       "    </tr>\n",
       "    <tr>\n",
       "      <th>26393</th>\n",
       "      <td>Carolyn Keene</td>\n",
       "      <td>Nancy and her friends witness an explosion and...</td>\n",
       "      <td>3.94</td>\n",
       "      <td>The Clue in the Diary</td>\n",
       "      <td>Mystery</td>\n",
       "    </tr>\n",
       "    <tr>\n",
       "      <th>26441</th>\n",
       "      <td>Emma  Michaels</td>\n",
       "      <td>'Anasazi', sequel to 'The Thirteenth Chime' by...</td>\n",
       "      <td>4.16</td>\n",
       "      <td>Anasazi</td>\n",
       "      <td>Mystery</td>\n",
       "    </tr>\n",
       "  </tbody>\n",
       "</table>\n",
       "<p>1793 rows × 5 columns</p>\n",
       "</div>"
      ],
      "text/plain": [
       "                 book_authors  \\\n",
       "96            Agatha Christie   \n",
       "192           Agatha Christie   \n",
       "507              Ellen Raskin   \n",
       "533           Janet Evanovich   \n",
       "559    Alexander McCall Smith   \n",
       "...                       ...   \n",
       "26358             April Henry   \n",
       "26359         James Lee Burke   \n",
       "26368        Charlaine Harris   \n",
       "26393           Carolyn Keene   \n",
       "26441          Emma  Michaels   \n",
       "\n",
       "                                               book_desc  book_rating  \\\n",
       "96     First, there were ten—a curious assortment of ...         4.25   \n",
       "192    En route to London, Belgian detective Hercule ...         4.16   \n",
       "507    A bizarre chain of events begins when sixteen ...         4.03   \n",
       "533    Pestered by her close New Jersey family, Steph...         4.03   \n",
       "559    Precious Ramotswe has only just set up shop as...         3.77   \n",
       "...                                                  ...          ...   \n",
       "26358  In this new series told from multiple perspect...         3.83   \n",
       "26359  A routine assignment transporting two death-ro...         4.16   \n",
       "26368  Welcome to Shakespeare, Arkansas. Lily Bard ca...         3.76   \n",
       "26393  Nancy and her friends witness an explosion and...         3.94   \n",
       "26441  'Anasazi', sequel to 'The Thirteenth Chime' by...         4.16   \n",
       "\n",
       "                               book_title   genres  \n",
       "96               And Then There Were None  Mystery  \n",
       "192          Murder on the Orient Express  Mystery  \n",
       "507                      The Westing Game  Mystery  \n",
       "533                     One for the Money  Mystery  \n",
       "559    The No. 1 Ladies' Detective Agency  Mystery  \n",
       "...                                   ...      ...  \n",
       "26358               The Body in the Woods  Mystery  \n",
       "26359             A Morning for Flamingos  Mystery  \n",
       "26368              Shakespeare's Landlord  Mystery  \n",
       "26393               The Clue in the Diary  Mystery  \n",
       "26441                             Anasazi  Mystery  \n",
       "\n",
       "[1793 rows x 5 columns]"
      ]
     },
     "execution_count": 64,
     "metadata": {},
     "output_type": "execute_result"
    }
   ],
   "source": [
    "df_pred_genres = df_mistery.copy()\n",
    "df_pred_genres"
   ]
  },
  {
   "cell_type": "markdown",
   "metadata": {
    "id": "PZo7KQ1BLcyS"
   },
   "source": [
    "### Genre prediction"
   ]
  },
  {
   "cell_type": "code",
   "execution_count": 60,
   "metadata": {
    "id": "X9ryr83kEujL"
   },
   "outputs": [],
   "source": [
    "from flair.models import TARSClassifier\n",
    "from flair.data import Sentence"
   ]
  },
  {
   "cell_type": "code",
   "execution_count": 61,
   "metadata": {
    "colab": {
     "base_uri": "https://localhost:8080/"
    },
    "id": "Q57F9lC1E4wu",
    "outputId": "319998de-c824-4974-e683-b3e6ddf1dab4"
   },
   "outputs": [
    {
     "name": "stdout",
     "output_type": "stream",
     "text": [
      "2022-06-04 15:26:15,896 loading file C:\\Users\\Erica\\.flair\\models\\tars-base-v8.pt\n"
     ]
    },
    {
     "data": {
      "text/plain": [
       "{'AGNews',\n",
       " 'Amazon',\n",
       " 'DBPedia',\n",
       " 'GO_EMOTIONS',\n",
       " 'IMDB',\n",
       " 'NEWS_CATEGORY',\n",
       " 'SST',\n",
       " 'TREC_6',\n",
       " 'Yelp'}"
      ]
     },
     "execution_count": 61,
     "metadata": {},
     "output_type": "execute_result"
    }
   ],
   "source": [
    "# TARS: Task-aware representation of sentences\n",
    "tars = TARSClassifier.load('tars-base')\n",
    "existing_tasks = tars.list_existing_tasks()\n",
    "existing_tasks"
   ]
  },
  {
   "cell_type": "code",
   "execution_count": 16,
   "metadata": {
    "id": "VdE1IiE8NzeF"
   },
   "outputs": [],
   "source": [
    "def genre_tagger(summary, genre, tars):\n",
    "    s = Sentence(summary)\n",
    "    tars.predict_zero_shot(s, genre, multi_label=True)\n",
    "    dict_tag = {}\n",
    "    \n",
    "    for label in s.labels:\n",
    "        dict_tag[label.value] = label.score\n",
    "        print (label)\n",
    "    sorted_tag = sorted(dict_tag, key=dict_tag.get, reverse=True)[:3]\n",
    "    \n",
    "    return [sorted_tag[0], sorted_tag[1],sorted_tag[2]]"
   ]
  },
  {
   "cell_type": "code",
   "execution_count": 17,
   "metadata": {
    "collapsed": true,
    "id": "s4WN2udTOJ7g",
    "jupyter": {
     "outputs_hidden": true
    },
    "tags": []
   },
   "outputs": [
    {
     "ename": "IndexError",
     "evalue": "list index out of range",
     "output_type": "error",
     "traceback": [
      "\u001b[1;31m---------------------------------------------------------------------------\u001b[0m",
      "\u001b[1;31mIndexError\u001b[0m                                Traceback (most recent call last)",
      "\u001b[1;32m<ipython-input-17-c5aea37d3883>\u001b[0m in \u001b[0;36m<module>\u001b[1;34m\u001b[0m\n\u001b[1;32m----> 1\u001b[1;33m \u001b[0mdf_pred_genres\u001b[0m\u001b[1;33m[\u001b[0m\u001b[1;34m'tag_1'\u001b[0m\u001b[1;33m]\u001b[0m\u001b[1;33m,\u001b[0m \u001b[0mdf_pred_genres\u001b[0m\u001b[1;33m[\u001b[0m\u001b[1;34m'tag_2'\u001b[0m\u001b[1;33m]\u001b[0m\u001b[1;33m,\u001b[0m \u001b[0mdf_pred_genres\u001b[0m\u001b[1;33m[\u001b[0m\u001b[1;34m'tag_3'\u001b[0m\u001b[1;33m]\u001b[0m \u001b[1;33m=\u001b[0m \u001b[0mzip\u001b[0m\u001b[1;33m(\u001b[0m\u001b[1;33m*\u001b[0m\u001b[0mdf_pred_genres\u001b[0m\u001b[1;33m[\u001b[0m\u001b[1;34m\"book_desc\"\u001b[0m\u001b[1;33m]\u001b[0m\u001b[1;33m.\u001b[0m\u001b[0mapply\u001b[0m\u001b[1;33m(\u001b[0m\u001b[1;32mlambda\u001b[0m \u001b[0mx\u001b[0m\u001b[1;33m:\u001b[0m \u001b[0mgenre_tagger\u001b[0m\u001b[1;33m(\u001b[0m\u001b[0mx\u001b[0m\u001b[1;33m,\u001b[0m \u001b[0mgenre\u001b[0m\u001b[1;33m,\u001b[0m \u001b[0mtars\u001b[0m\u001b[1;33m)\u001b[0m\u001b[1;33m)\u001b[0m\u001b[1;33m)\u001b[0m\u001b[1;33m\u001b[0m\u001b[1;33m\u001b[0m\u001b[0m\n\u001b[0m",
      "\u001b[1;32m~\\anaconda3\\lib\\site-packages\\pandas\\core\\series.py\u001b[0m in \u001b[0;36mapply\u001b[1;34m(self, func, convert_dtype, args, **kwargs)\u001b[0m\n\u001b[0;32m   4431\u001b[0m         \u001b[0mdtype\u001b[0m\u001b[1;33m:\u001b[0m \u001b[0mfloat64\u001b[0m\u001b[1;33m\u001b[0m\u001b[1;33m\u001b[0m\u001b[0m\n\u001b[0;32m   4432\u001b[0m         \"\"\"\n\u001b[1;32m-> 4433\u001b[1;33m         \u001b[1;32mreturn\u001b[0m \u001b[0mSeriesApply\u001b[0m\u001b[1;33m(\u001b[0m\u001b[0mself\u001b[0m\u001b[1;33m,\u001b[0m \u001b[0mfunc\u001b[0m\u001b[1;33m,\u001b[0m \u001b[0mconvert_dtype\u001b[0m\u001b[1;33m,\u001b[0m \u001b[0margs\u001b[0m\u001b[1;33m,\u001b[0m \u001b[0mkwargs\u001b[0m\u001b[1;33m)\u001b[0m\u001b[1;33m.\u001b[0m\u001b[0mapply\u001b[0m\u001b[1;33m(\u001b[0m\u001b[1;33m)\u001b[0m\u001b[1;33m\u001b[0m\u001b[1;33m\u001b[0m\u001b[0m\n\u001b[0m\u001b[0;32m   4434\u001b[0m \u001b[1;33m\u001b[0m\u001b[0m\n\u001b[0;32m   4435\u001b[0m     def _reduce(\n",
      "\u001b[1;32m~\\anaconda3\\lib\\site-packages\\pandas\\core\\apply.py\u001b[0m in \u001b[0;36mapply\u001b[1;34m(self)\u001b[0m\n\u001b[0;32m   1080\u001b[0m             \u001b[1;32mreturn\u001b[0m \u001b[0mself\u001b[0m\u001b[1;33m.\u001b[0m\u001b[0mapply_str\u001b[0m\u001b[1;33m(\u001b[0m\u001b[1;33m)\u001b[0m\u001b[1;33m\u001b[0m\u001b[1;33m\u001b[0m\u001b[0m\n\u001b[0;32m   1081\u001b[0m \u001b[1;33m\u001b[0m\u001b[0m\n\u001b[1;32m-> 1082\u001b[1;33m         \u001b[1;32mreturn\u001b[0m \u001b[0mself\u001b[0m\u001b[1;33m.\u001b[0m\u001b[0mapply_standard\u001b[0m\u001b[1;33m(\u001b[0m\u001b[1;33m)\u001b[0m\u001b[1;33m\u001b[0m\u001b[1;33m\u001b[0m\u001b[0m\n\u001b[0m\u001b[0;32m   1083\u001b[0m \u001b[1;33m\u001b[0m\u001b[0m\n\u001b[0;32m   1084\u001b[0m     \u001b[1;32mdef\u001b[0m \u001b[0magg\u001b[0m\u001b[1;33m(\u001b[0m\u001b[0mself\u001b[0m\u001b[1;33m)\u001b[0m\u001b[1;33m:\u001b[0m\u001b[1;33m\u001b[0m\u001b[1;33m\u001b[0m\u001b[0m\n",
      "\u001b[1;32m~\\anaconda3\\lib\\site-packages\\pandas\\core\\apply.py\u001b[0m in \u001b[0;36mapply_standard\u001b[1;34m(self)\u001b[0m\n\u001b[0;32m   1135\u001b[0m                 \u001b[1;31m# List[Union[Callable[..., Any], str]]]]]\"; expected\u001b[0m\u001b[1;33m\u001b[0m\u001b[1;33m\u001b[0m\u001b[1;33m\u001b[0m\u001b[0m\n\u001b[0;32m   1136\u001b[0m                 \u001b[1;31m# \"Callable[[Any], Any]\"\u001b[0m\u001b[1;33m\u001b[0m\u001b[1;33m\u001b[0m\u001b[1;33m\u001b[0m\u001b[0m\n\u001b[1;32m-> 1137\u001b[1;33m                 mapped = lib.map_infer(\n\u001b[0m\u001b[0;32m   1138\u001b[0m                     \u001b[0mvalues\u001b[0m\u001b[1;33m,\u001b[0m\u001b[1;33m\u001b[0m\u001b[1;33m\u001b[0m\u001b[0m\n\u001b[0;32m   1139\u001b[0m                     \u001b[0mf\u001b[0m\u001b[1;33m,\u001b[0m  \u001b[1;31m# type: ignore[arg-type]\u001b[0m\u001b[1;33m\u001b[0m\u001b[1;33m\u001b[0m\u001b[0m\n",
      "\u001b[1;32m~\\anaconda3\\lib\\site-packages\\pandas\\_libs\\lib.pyx\u001b[0m in \u001b[0;36mpandas._libs.lib.map_infer\u001b[1;34m()\u001b[0m\n",
      "\u001b[1;32m<ipython-input-17-c5aea37d3883>\u001b[0m in \u001b[0;36m<lambda>\u001b[1;34m(x)\u001b[0m\n\u001b[1;32m----> 1\u001b[1;33m \u001b[0mdf_pred_genres\u001b[0m\u001b[1;33m[\u001b[0m\u001b[1;34m'tag_1'\u001b[0m\u001b[1;33m]\u001b[0m\u001b[1;33m,\u001b[0m \u001b[0mdf_pred_genres\u001b[0m\u001b[1;33m[\u001b[0m\u001b[1;34m'tag_2'\u001b[0m\u001b[1;33m]\u001b[0m\u001b[1;33m,\u001b[0m \u001b[0mdf_pred_genres\u001b[0m\u001b[1;33m[\u001b[0m\u001b[1;34m'tag_3'\u001b[0m\u001b[1;33m]\u001b[0m \u001b[1;33m=\u001b[0m \u001b[0mzip\u001b[0m\u001b[1;33m(\u001b[0m\u001b[1;33m*\u001b[0m\u001b[0mdf_pred_genres\u001b[0m\u001b[1;33m[\u001b[0m\u001b[1;34m\"book_desc\"\u001b[0m\u001b[1;33m]\u001b[0m\u001b[1;33m.\u001b[0m\u001b[0mapply\u001b[0m\u001b[1;33m(\u001b[0m\u001b[1;32mlambda\u001b[0m \u001b[0mx\u001b[0m\u001b[1;33m:\u001b[0m \u001b[0mgenre_tagger\u001b[0m\u001b[1;33m(\u001b[0m\u001b[0mx\u001b[0m\u001b[1;33m,\u001b[0m \u001b[0mgenre\u001b[0m\u001b[1;33m,\u001b[0m \u001b[0mtars\u001b[0m\u001b[1;33m)\u001b[0m\u001b[1;33m)\u001b[0m\u001b[1;33m)\u001b[0m\u001b[1;33m\u001b[0m\u001b[1;33m\u001b[0m\u001b[0m\n\u001b[0m",
      "\u001b[1;32m<ipython-input-16-02411407f414>\u001b[0m in \u001b[0;36mgenre_tagger\u001b[1;34m(summary, genre, tars)\u001b[0m\n\u001b[0;32m      9\u001b[0m     \u001b[0msorted_tag\u001b[0m \u001b[1;33m=\u001b[0m \u001b[0msorted\u001b[0m\u001b[1;33m(\u001b[0m\u001b[0mdict_tag\u001b[0m\u001b[1;33m,\u001b[0m \u001b[0mkey\u001b[0m\u001b[1;33m=\u001b[0m\u001b[0mdict_tag\u001b[0m\u001b[1;33m.\u001b[0m\u001b[0mget\u001b[0m\u001b[1;33m,\u001b[0m \u001b[0mreverse\u001b[0m\u001b[1;33m=\u001b[0m\u001b[1;32mTrue\u001b[0m\u001b[1;33m)\u001b[0m\u001b[1;33m[\u001b[0m\u001b[1;33m:\u001b[0m\u001b[1;36m3\u001b[0m\u001b[1;33m]\u001b[0m\u001b[1;33m\u001b[0m\u001b[1;33m\u001b[0m\u001b[0m\n\u001b[0;32m     10\u001b[0m \u001b[1;33m\u001b[0m\u001b[0m\n\u001b[1;32m---> 11\u001b[1;33m     \u001b[1;32mreturn\u001b[0m \u001b[1;33m[\u001b[0m\u001b[0msorted_tag\u001b[0m\u001b[1;33m[\u001b[0m\u001b[1;36m0\u001b[0m\u001b[1;33m]\u001b[0m\u001b[1;33m,\u001b[0m \u001b[0msorted_tag\u001b[0m\u001b[1;33m[\u001b[0m\u001b[1;36m1\u001b[0m\u001b[1;33m]\u001b[0m\u001b[1;33m,\u001b[0m\u001b[0msorted_tag\u001b[0m\u001b[1;33m[\u001b[0m\u001b[1;36m2\u001b[0m\u001b[1;33m]\u001b[0m\u001b[1;33m]\u001b[0m\u001b[1;33m\u001b[0m\u001b[1;33m\u001b[0m\u001b[0m\n\u001b[0m",
      "\u001b[1;31mIndexError\u001b[0m: list index out of range"
     ]
    }
   ],
   "source": [
    "df_pred_genres['tag_1'], df_pred_genres['tag_2'], df_pred_genres['tag_3'] = zip(*df_pred_genres[\"book_desc\"].apply(lambda x: genre_tagger(x, genre, tars)))"
   ]
  },
  {
   "cell_type": "markdown",
   "metadata": {
    "id": "cJ8w9WcceisL"
   },
   "source": [
    "### Another ZSL model"
   ]
  },
  {
   "cell_type": "code",
   "execution_count": 65,
   "metadata": {},
   "outputs": [
    {
     "data": {
      "text/plain": [
       "False"
      ]
     },
     "execution_count": 65,
     "metadata": {},
     "output_type": "execute_result"
    }
   ],
   "source": [
    "import torch\n",
    "torch.cuda.is_available()"
   ]
  },
  {
   "cell_type": "code",
   "execution_count": 66,
   "metadata": {
    "id": "8fyrb11NehyG"
   },
   "outputs": [],
   "source": [
    "from transformers import pipeline\n",
    "\n",
    "classifier = pipeline(\"zero-shot-classification\")\n"
   ]
  },
  {
   "cell_type": "code",
   "execution_count": 67,
   "metadata": {
    "id": "WAUeKolDgw0Y"
   },
   "outputs": [],
   "source": [
    "def genre_tagger_transformer(summary, genre, classifier):\n",
    "    genres = classifier(summary, genre)[\"labels\"]\n",
    "    return [genres[0], genres[1],genres[2]]"
   ]
  },
  {
   "cell_type": "code",
   "execution_count": 68,
   "metadata": {
    "tags": []
   },
   "outputs": [],
   "source": [
    "df_pred_genres['tag_1'], df_pred_genres['tag_2'], df_pred_genres['tag_3'] = zip(*df_pred_genres[\"book_desc\"].apply(lambda x: genre_tagger_transformer(x, genre, classifier)))"
   ]
  },
  {
   "cell_type": "code",
   "execution_count": 69,
   "metadata": {
    "colab": {
     "base_uri": "https://localhost:8080/",
     "height": 206
    },
    "id": "atexFx7Ou2vE",
    "outputId": "90166a1e-ac16-444a-8f1c-6780a9e7b973"
   },
   "outputs": [],
   "source": [
    "df_pred_genres.to_csv(\"data/ZSL_mistery.csv\")"
   ]
  },
  {
   "cell_type": "markdown",
   "metadata": {},
   "source": [
    "### Results analysis"
   ]
  },
  {
   "cell_type": "code",
   "execution_count": 66,
   "metadata": {},
   "outputs": [],
   "source": [
    "df_scifi = pd.read_csv(\"data/ZSL_scifi.csv\", index_col = 0)\n",
    "df_mystery = pd.read_csv(\"data/ZSL_mystery.csv\", index_col = 0)"
   ]
  },
  {
   "cell_type": "code",
   "execution_count": 67,
   "metadata": {},
   "outputs": [
    {
     "name": "stderr",
     "output_type": "stream",
     "text": [
      "<ipython-input-67-82ca054257f8>:1: FutureWarning: The frame.append method is deprecated and will be removed from pandas in a future version. Use pandas.concat instead.\n",
      "  df_matrix = df_mystery.append(df_scifi)\n"
     ]
    }
   ],
   "source": [
    "df_matrix = df_mystery.append(df_scifi)"
   ]
  },
  {
   "cell_type": "code",
   "execution_count": 68,
   "metadata": {},
   "outputs": [
    {
     "data": {
      "text/html": [
       "<div>\n",
       "<style scoped>\n",
       "    .dataframe tbody tr th:only-of-type {\n",
       "        vertical-align: middle;\n",
       "    }\n",
       "\n",
       "    .dataframe tbody tr th {\n",
       "        vertical-align: top;\n",
       "    }\n",
       "\n",
       "    .dataframe thead th {\n",
       "        text-align: right;\n",
       "    }\n",
       "</style>\n",
       "<table border=\"1\" class=\"dataframe\">\n",
       "  <thead>\n",
       "    <tr style=\"text-align: right;\">\n",
       "      <th></th>\n",
       "      <th>book_authors</th>\n",
       "      <th>book_desc</th>\n",
       "      <th>book_rating</th>\n",
       "      <th>book_title</th>\n",
       "      <th>genres</th>\n",
       "      <th>tag_1</th>\n",
       "      <th>tag_2</th>\n",
       "      <th>tag_3</th>\n",
       "    </tr>\n",
       "  </thead>\n",
       "  <tbody>\n",
       "    <tr>\n",
       "      <th>96</th>\n",
       "      <td>Agatha Christie</td>\n",
       "      <td>First, there were ten—a curious assortment of ...</td>\n",
       "      <td>4.25</td>\n",
       "      <td>And Then There Were None</td>\n",
       "      <td>Mystery</td>\n",
       "      <td>Mystery</td>\n",
       "      <td>Romance</td>\n",
       "      <td>Sci-fi</td>\n",
       "    </tr>\n",
       "    <tr>\n",
       "      <th>192</th>\n",
       "      <td>Agatha Christie</td>\n",
       "      <td>En route to London, Belgian detective Hercule ...</td>\n",
       "      <td>4.16</td>\n",
       "      <td>Murder on the Orient Express</td>\n",
       "      <td>Mystery</td>\n",
       "      <td>Romance</td>\n",
       "      <td>Mistery</td>\n",
       "      <td>Fantasy</td>\n",
       "    </tr>\n",
       "    <tr>\n",
       "      <th>507</th>\n",
       "      <td>Ellen Raskin</td>\n",
       "      <td>A bizarre chain of events begins when sixteen ...</td>\n",
       "      <td>4.03</td>\n",
       "      <td>The Westing Game</td>\n",
       "      <td>Mystery</td>\n",
       "      <td>Mystery</td>\n",
       "      <td>Fantasy</td>\n",
       "      <td>Sci-fi</td>\n",
       "    </tr>\n",
       "    <tr>\n",
       "      <th>533</th>\n",
       "      <td>Janet Evanovich</td>\n",
       "      <td>Pestered by her close New Jersey family, Steph...</td>\n",
       "      <td>4.03</td>\n",
       "      <td>One for the Money</td>\n",
       "      <td>Mystery</td>\n",
       "      <td>Mystery</td>\n",
       "      <td>Romance</td>\n",
       "      <td>Fantasy</td>\n",
       "    </tr>\n",
       "    <tr>\n",
       "      <th>559</th>\n",
       "      <td>Alexander McCall Smith</td>\n",
       "      <td>Precious Ramotswe has only just set up shop as...</td>\n",
       "      <td>3.77</td>\n",
       "      <td>The No. 1 Ladies' Detective Agency</td>\n",
       "      <td>Mystery</td>\n",
       "      <td>Mystery</td>\n",
       "      <td>Romance</td>\n",
       "      <td>Fantasy</td>\n",
       "    </tr>\n",
       "    <tr>\n",
       "      <th>...</th>\n",
       "      <td>...</td>\n",
       "      <td>...</td>\n",
       "      <td>...</td>\n",
       "      <td>...</td>\n",
       "      <td>...</td>\n",
       "      <td>...</td>\n",
       "      <td>...</td>\n",
       "      <td>...</td>\n",
       "    </tr>\n",
       "    <tr>\n",
       "      <th>26358</th>\n",
       "      <td>April Henry</td>\n",
       "      <td>In this new series told from multiple perspect...</td>\n",
       "      <td>3.83</td>\n",
       "      <td>The Body in the Woods</td>\n",
       "      <td>Mystery</td>\n",
       "      <td>Mystery</td>\n",
       "      <td>Romance</td>\n",
       "      <td>Sci-fi</td>\n",
       "    </tr>\n",
       "    <tr>\n",
       "      <th>26359</th>\n",
       "      <td>James Lee Burke</td>\n",
       "      <td>A routine assignment transporting two death-ro...</td>\n",
       "      <td>4.16</td>\n",
       "      <td>A Morning for Flamingos</td>\n",
       "      <td>Mystery</td>\n",
       "      <td>Mystery</td>\n",
       "      <td>Fantasy</td>\n",
       "      <td>Sci-fi</td>\n",
       "    </tr>\n",
       "    <tr>\n",
       "      <th>26368</th>\n",
       "      <td>Charlaine Harris</td>\n",
       "      <td>Welcome to Shakespeare, Arkansas. Lily Bard ca...</td>\n",
       "      <td>3.76</td>\n",
       "      <td>Shakespeare's Landlord</td>\n",
       "      <td>Mystery</td>\n",
       "      <td>Romance</td>\n",
       "      <td>Mistery</td>\n",
       "      <td>Fantasy</td>\n",
       "    </tr>\n",
       "    <tr>\n",
       "      <th>26393</th>\n",
       "      <td>Carolyn Keene</td>\n",
       "      <td>Nancy and her friends witness an explosion and...</td>\n",
       "      <td>3.94</td>\n",
       "      <td>The Clue in the Diary</td>\n",
       "      <td>Mystery</td>\n",
       "      <td>Mystery</td>\n",
       "      <td>Romance</td>\n",
       "      <td>Fantasy</td>\n",
       "    </tr>\n",
       "    <tr>\n",
       "      <th>26441</th>\n",
       "      <td>Emma  Michaels</td>\n",
       "      <td>'Anasazi', sequel to 'The Thirteenth Chime' by...</td>\n",
       "      <td>4.16</td>\n",
       "      <td>Anasazi</td>\n",
       "      <td>Mystery</td>\n",
       "      <td>Fantasy</td>\n",
       "      <td>Mistery</td>\n",
       "      <td>Sci-fi</td>\n",
       "    </tr>\n",
       "  </tbody>\n",
       "</table>\n",
       "<p>1793 rows × 8 columns</p>\n",
       "</div>"
      ],
      "text/plain": [
       "                 book_authors  \\\n",
       "96            Agatha Christie   \n",
       "192           Agatha Christie   \n",
       "507              Ellen Raskin   \n",
       "533           Janet Evanovich   \n",
       "559    Alexander McCall Smith   \n",
       "...                       ...   \n",
       "26358             April Henry   \n",
       "26359         James Lee Burke   \n",
       "26368        Charlaine Harris   \n",
       "26393           Carolyn Keene   \n",
       "26441          Emma  Michaels   \n",
       "\n",
       "                                               book_desc  book_rating  \\\n",
       "96     First, there were ten—a curious assortment of ...         4.25   \n",
       "192    En route to London, Belgian detective Hercule ...         4.16   \n",
       "507    A bizarre chain of events begins when sixteen ...         4.03   \n",
       "533    Pestered by her close New Jersey family, Steph...         4.03   \n",
       "559    Precious Ramotswe has only just set up shop as...         3.77   \n",
       "...                                                  ...          ...   \n",
       "26358  In this new series told from multiple perspect...         3.83   \n",
       "26359  A routine assignment transporting two death-ro...         4.16   \n",
       "26368  Welcome to Shakespeare, Arkansas. Lily Bard ca...         3.76   \n",
       "26393  Nancy and her friends witness an explosion and...         3.94   \n",
       "26441  'Anasazi', sequel to 'The Thirteenth Chime' by...         4.16   \n",
       "\n",
       "                               book_title   genres    tag_1    tag_2    tag_3  \n",
       "96               And Then There Were None  Mystery  Mystery  Romance   Sci-fi  \n",
       "192          Murder on the Orient Express  Mystery  Romance  Mistery  Fantasy  \n",
       "507                      The Westing Game  Mystery  Mystery  Fantasy   Sci-fi  \n",
       "533                     One for the Money  Mystery  Mystery  Romance  Fantasy  \n",
       "559    The No. 1 Ladies' Detective Agency  Mystery  Mystery  Romance  Fantasy  \n",
       "...                                   ...      ...      ...      ...      ...  \n",
       "26358               The Body in the Woods  Mystery  Mystery  Romance   Sci-fi  \n",
       "26359             A Morning for Flamingos  Mystery  Mystery  Fantasy   Sci-fi  \n",
       "26368              Shakespeare's Landlord  Mystery  Romance  Mistery  Fantasy  \n",
       "26393               The Clue in the Diary  Mystery  Mystery  Romance  Fantasy  \n",
       "26441                             Anasazi  Mystery  Fantasy  Mistery   Sci-fi  \n",
       "\n",
       "[1793 rows x 8 columns]"
      ]
     },
     "execution_count": 68,
     "metadata": {},
     "output_type": "execute_result"
    }
   ],
   "source": [
    "df_mystery"
   ]
  },
  {
   "cell_type": "code",
   "execution_count": 54,
   "metadata": {},
   "outputs": [],
   "source": [
    "# we filter only on the column with Mystery or Scifi as first genre\n",
    "# used to plot a 2-label CM\n",
    "genre_tags = [\"Mystery\", \"Science Fiction\"]\n",
    "df_matrix = df_matrix.loc[df_matrix['tag_1'].isin(genre_tags)]\n"
   ]
  },
  {
   "cell_type": "code",
   "execution_count": 69,
   "metadata": {},
   "outputs": [
    {
     "data": {
      "text/html": [
       "<div>\n",
       "<style scoped>\n",
       "    .dataframe tbody tr th:only-of-type {\n",
       "        vertical-align: middle;\n",
       "    }\n",
       "\n",
       "    .dataframe tbody tr th {\n",
       "        vertical-align: top;\n",
       "    }\n",
       "\n",
       "    .dataframe thead th {\n",
       "        text-align: right;\n",
       "    }\n",
       "</style>\n",
       "<table border=\"1\" class=\"dataframe\">\n",
       "  <thead>\n",
       "    <tr style=\"text-align: right;\">\n",
       "      <th></th>\n",
       "      <th>book_authors</th>\n",
       "      <th>book_desc</th>\n",
       "      <th>book_rating</th>\n",
       "      <th>book_title</th>\n",
       "      <th>genres</th>\n",
       "      <th>tag_1</th>\n",
       "      <th>tag_2</th>\n",
       "      <th>tag_3</th>\n",
       "    </tr>\n",
       "  </thead>\n",
       "  <tbody>\n",
       "    <tr>\n",
       "      <th>96</th>\n",
       "      <td>Agatha Christie</td>\n",
       "      <td>First, there were ten—a curious assortment of ...</td>\n",
       "      <td>4.25</td>\n",
       "      <td>And Then There Were None</td>\n",
       "      <td>Mystery</td>\n",
       "      <td>Mystery</td>\n",
       "      <td>Romance</td>\n",
       "      <td>Sci-fi</td>\n",
       "    </tr>\n",
       "    <tr>\n",
       "      <th>192</th>\n",
       "      <td>Agatha Christie</td>\n",
       "      <td>En route to London, Belgian detective Hercule ...</td>\n",
       "      <td>4.16</td>\n",
       "      <td>Murder on the Orient Express</td>\n",
       "      <td>Mystery</td>\n",
       "      <td>Romance</td>\n",
       "      <td>Mistery</td>\n",
       "      <td>Fantasy</td>\n",
       "    </tr>\n",
       "    <tr>\n",
       "      <th>507</th>\n",
       "      <td>Ellen Raskin</td>\n",
       "      <td>A bizarre chain of events begins when sixteen ...</td>\n",
       "      <td>4.03</td>\n",
       "      <td>The Westing Game</td>\n",
       "      <td>Mystery</td>\n",
       "      <td>Mystery</td>\n",
       "      <td>Fantasy</td>\n",
       "      <td>Sci-fi</td>\n",
       "    </tr>\n",
       "    <tr>\n",
       "      <th>533</th>\n",
       "      <td>Janet Evanovich</td>\n",
       "      <td>Pestered by her close New Jersey family, Steph...</td>\n",
       "      <td>4.03</td>\n",
       "      <td>One for the Money</td>\n",
       "      <td>Mystery</td>\n",
       "      <td>Mystery</td>\n",
       "      <td>Romance</td>\n",
       "      <td>Fantasy</td>\n",
       "    </tr>\n",
       "    <tr>\n",
       "      <th>559</th>\n",
       "      <td>Alexander McCall Smith</td>\n",
       "      <td>Precious Ramotswe has only just set up shop as...</td>\n",
       "      <td>3.77</td>\n",
       "      <td>The No. 1 Ladies' Detective Agency</td>\n",
       "      <td>Mystery</td>\n",
       "      <td>Mystery</td>\n",
       "      <td>Romance</td>\n",
       "      <td>Fantasy</td>\n",
       "    </tr>\n",
       "    <tr>\n",
       "      <th>...</th>\n",
       "      <td>...</td>\n",
       "      <td>...</td>\n",
       "      <td>...</td>\n",
       "      <td>...</td>\n",
       "      <td>...</td>\n",
       "      <td>...</td>\n",
       "      <td>...</td>\n",
       "      <td>...</td>\n",
       "    </tr>\n",
       "    <tr>\n",
       "      <th>26411</th>\n",
       "      <td>Paul Melko</td>\n",
       "      <td>\\r\\n\\r\\nPossessing technology that allows him ...</td>\n",
       "      <td>3.68</td>\n",
       "      <td>Broken Universe</td>\n",
       "      <td>Science Fiction</td>\n",
       "      <td>Romance</td>\n",
       "      <td>Mistery</td>\n",
       "      <td>Sci-fi</td>\n",
       "    </tr>\n",
       "    <tr>\n",
       "      <th>26417</th>\n",
       "      <td>Adam Roberts</td>\n",
       "      <td>The Universe's first mass murderer for thousan...</td>\n",
       "      <td>3.68</td>\n",
       "      <td>Stone</td>\n",
       "      <td>Science Fiction</td>\n",
       "      <td>Science Fiction</td>\n",
       "      <td>Fantasy</td>\n",
       "      <td>Mistery</td>\n",
       "    </tr>\n",
       "    <tr>\n",
       "      <th>26421</th>\n",
       "      <td>Stephen R. Donaldson</td>\n",
       "      <td>A master storyteller, Stephen R. Donaldson est...</td>\n",
       "      <td>4.08</td>\n",
       "      <td>The Gap Into Power: A Dark and Hungry God Arises</td>\n",
       "      <td>Science Fiction</td>\n",
       "      <td>Science Fiction</td>\n",
       "      <td>Mistery</td>\n",
       "      <td>Fantasy</td>\n",
       "    </tr>\n",
       "    <tr>\n",
       "      <th>26426</th>\n",
       "      <td>Michael Swanwick</td>\n",
       "      <td>Among the vanguard of today's boldest writers,...</td>\n",
       "      <td>3.83</td>\n",
       "      <td>Vacuum Flowers</td>\n",
       "      <td>Science Fiction</td>\n",
       "      <td>Science Fiction</td>\n",
       "      <td>Fantasy</td>\n",
       "      <td>Mistery</td>\n",
       "    </tr>\n",
       "    <tr>\n",
       "      <th>26430</th>\n",
       "      <td>John Meaney</td>\n",
       "      <td>Against a seething backdrop of social unrest a...</td>\n",
       "      <td>3.76</td>\n",
       "      <td>To Hold Infinity</td>\n",
       "      <td>Science Fiction</td>\n",
       "      <td>Mystery</td>\n",
       "      <td>Fantasy</td>\n",
       "      <td>Sci-fi</td>\n",
       "    </tr>\n",
       "  </tbody>\n",
       "</table>\n",
       "<p>3272 rows × 8 columns</p>\n",
       "</div>"
      ],
      "text/plain": [
       "                 book_authors  \\\n",
       "96            Agatha Christie   \n",
       "192           Agatha Christie   \n",
       "507              Ellen Raskin   \n",
       "533           Janet Evanovich   \n",
       "559    Alexander McCall Smith   \n",
       "...                       ...   \n",
       "26411              Paul Melko   \n",
       "26417            Adam Roberts   \n",
       "26421    Stephen R. Donaldson   \n",
       "26426        Michael Swanwick   \n",
       "26430             John Meaney   \n",
       "\n",
       "                                               book_desc  book_rating  \\\n",
       "96     First, there were ten—a curious assortment of ...         4.25   \n",
       "192    En route to London, Belgian detective Hercule ...         4.16   \n",
       "507    A bizarre chain of events begins when sixteen ...         4.03   \n",
       "533    Pestered by her close New Jersey family, Steph...         4.03   \n",
       "559    Precious Ramotswe has only just set up shop as...         3.77   \n",
       "...                                                  ...          ...   \n",
       "26411  \\r\\n\\r\\nPossessing technology that allows him ...         3.68   \n",
       "26417  The Universe's first mass murderer for thousan...         3.68   \n",
       "26421  A master storyteller, Stephen R. Donaldson est...         4.08   \n",
       "26426  Among the vanguard of today's boldest writers,...         3.83   \n",
       "26430  Against a seething backdrop of social unrest a...         3.76   \n",
       "\n",
       "                                             book_title           genres  \\\n",
       "96                             And Then There Were None          Mystery   \n",
       "192                        Murder on the Orient Express          Mystery   \n",
       "507                                    The Westing Game          Mystery   \n",
       "533                                   One for the Money          Mystery   \n",
       "559                  The No. 1 Ladies' Detective Agency          Mystery   \n",
       "...                                                 ...              ...   \n",
       "26411                                   Broken Universe  Science Fiction   \n",
       "26417                                             Stone  Science Fiction   \n",
       "26421  The Gap Into Power: A Dark and Hungry God Arises  Science Fiction   \n",
       "26426                                    Vacuum Flowers  Science Fiction   \n",
       "26430                                  To Hold Infinity  Science Fiction   \n",
       "\n",
       "                 tag_1    tag_2    tag_3  \n",
       "96             Mystery  Romance   Sci-fi  \n",
       "192            Romance  Mistery  Fantasy  \n",
       "507            Mystery  Fantasy   Sci-fi  \n",
       "533            Mystery  Romance  Fantasy  \n",
       "559            Mystery  Romance  Fantasy  \n",
       "...                ...      ...      ...  \n",
       "26411          Romance  Mistery   Sci-fi  \n",
       "26417  Science Fiction  Fantasy  Mistery  \n",
       "26421  Science Fiction  Mistery  Fantasy  \n",
       "26426  Science Fiction  Fantasy  Mistery  \n",
       "26430          Mystery  Fantasy   Sci-fi  \n",
       "\n",
       "[3272 rows x 8 columns]"
      ]
     },
     "execution_count": 69,
     "metadata": {},
     "output_type": "execute_result"
    }
   ],
   "source": [
    "df_matrix"
   ]
  },
  {
   "cell_type": "code",
   "execution_count": 70,
   "metadata": {},
   "outputs": [],
   "source": [
    "y_test = df_matrix.genres.to_list()\n",
    "y_pred = df_matrix.tag_1.to_list()"
   ]
  },
  {
   "cell_type": "code",
   "execution_count": 71,
   "metadata": {},
   "outputs": [
    {
     "name": "stdout",
     "output_type": "stream",
     "text": [
      "{'Romance', 'Mystery', 'Fantasy', 'Science Fiction'}\n",
      "{'Mystery', 'Science Fiction'}\n"
     ]
    }
   ],
   "source": [
    "print(set(y_pred))\n",
    "print(set(y_test))"
   ]
  },
  {
   "cell_type": "code",
   "execution_count": 9,
   "metadata": {},
   "outputs": [],
   "source": [
    "from sklearn.metrics import confusion_matrix, classification_report,ConfusionMatrixDisplay"
   ]
  },
  {
   "cell_type": "code",
   "execution_count": 10,
   "metadata": {},
   "outputs": [
    {
     "name": "stdout",
     "output_type": "stream",
     "text": [
      "Classification report:\n",
      "                 precision    recall  f1-score   support\n",
      "\n",
      "        Fantasy       0.00      0.00      0.00         0\n",
      "        Mystery       0.82      0.71      0.76      1793\n",
      "        Romance       0.00      0.00      0.00         0\n",
      "Science Fiction       0.90      0.65      0.75      1479\n",
      "\n",
      "       accuracy                           0.68      3272\n",
      "      macro avg       0.43      0.34      0.38      3272\n",
      "   weighted avg       0.86      0.68      0.76      3272\n",
      "\n",
      "Confusion matrix:\n",
      "[[   0    0    0    0]\n",
      " [  80 1269  341  103]\n",
      " [   0    0    0    0]\n",
      " [  74  280  166  959]]\n"
     ]
    },
    {
     "name": "stderr",
     "output_type": "stream",
     "text": [
      "C:\\Users\\Erica\\anaconda3\\lib\\site-packages\\sklearn\\metrics\\_classification.py:1221: UndefinedMetricWarning: Recall and F-score are ill-defined and being set to 0.0 in labels with no true samples. Use `zero_division` parameter to control this behavior.\n",
      "  _warn_prf(average, modifier, msg_start, len(result))\n"
     ]
    }
   ],
   "source": [
    "print('Classification report:')\n",
    "print(classification_report(y_test, y_pred))\n",
    "print('Confusion matrix:')\n",
    "cm = confusion_matrix(y_test, y_pred, )\n",
    "print(cm)"
   ]
  },
  {
   "cell_type": "code",
   "execution_count": 73,
   "metadata": {},
   "outputs": [],
   "source": [
    "df_cm = pd.DataFrame(cm)"
   ]
  },
  {
   "cell_type": "code",
   "execution_count": 74,
   "metadata": {},
   "outputs": [],
   "source": [
    "df_cm = df_cm.drop([0,2])\n"
   ]
  },
  {
   "cell_type": "code",
   "execution_count": 75,
   "metadata": {},
   "outputs": [
    {
     "data": {
      "text/html": [
       "<div>\n",
       "<style scoped>\n",
       "    .dataframe tbody tr th:only-of-type {\n",
       "        vertical-align: middle;\n",
       "    }\n",
       "\n",
       "    .dataframe tbody tr th {\n",
       "        vertical-align: top;\n",
       "    }\n",
       "\n",
       "    .dataframe thead th {\n",
       "        text-align: right;\n",
       "    }\n",
       "</style>\n",
       "<table border=\"1\" class=\"dataframe\">\n",
       "  <thead>\n",
       "    <tr style=\"text-align: right;\">\n",
       "      <th></th>\n",
       "      <th>0</th>\n",
       "      <th>1</th>\n",
       "      <th>2</th>\n",
       "      <th>3</th>\n",
       "    </tr>\n",
       "  </thead>\n",
       "  <tbody>\n",
       "    <tr>\n",
       "      <th>1</th>\n",
       "      <td>80</td>\n",
       "      <td>1269</td>\n",
       "      <td>341</td>\n",
       "      <td>103</td>\n",
       "    </tr>\n",
       "    <tr>\n",
       "      <th>3</th>\n",
       "      <td>74</td>\n",
       "      <td>280</td>\n",
       "      <td>166</td>\n",
       "      <td>959</td>\n",
       "    </tr>\n",
       "  </tbody>\n",
       "</table>\n",
       "</div>"
      ],
      "text/plain": [
       "    0     1    2    3\n",
       "1  80  1269  341  103\n",
       "3  74   280  166  959"
      ]
     },
     "execution_count": 75,
     "metadata": {},
     "output_type": "execute_result"
    }
   ],
   "source": [
    "df_cm"
   ]
  },
  {
   "cell_type": "code",
   "execution_count": 87,
   "metadata": {},
   "outputs": [
    {
     "data": {
      "image/png": "[encoded data removed]",
      "text/plain": [
       "<Figure size 432x288 with 2 Axes>"
      ]
     },
     "metadata": {},
     "output_type": "display_data"
    }
   ],
   "source": [
    "ax = sns.heatmap(df_cm, annot=True, fmt=\"d\", square=True, vmin = 0, cmap = customPalette)\n",
    "plt.xlabel('Assigned labels')\n",
    "plt.ylabel('Correct labels')\n",
    "ax.set_xticklabels([\"Fantasy\", \"Mystery\", \"Romance\", \"Sci-fi\"])\n",
    "ax.set_yticklabels([\"Mystery\", \"Sci-fi\"])\n",
    "plt.title(\"Confusion Matrix\")\n",
    "plt.savefig(\"plots/CM_ZSL_small.png\")"
   ]
  },
  {
   "cell_type": "code",
   "execution_count": 188,
   "metadata": {},
   "outputs": [
    {
     "data": {
      "image/png": "[encoded data removed]",
      "text/plain": [
       "<Figure size 432x288 with 2 Axes>"
      ]
     },
     "metadata": {
      "needs_background": "light"
     },
     "output_type": "display_data"
    }
   ],
   "source": [
    "ax = plt.subplot()\n",
    "sns.heatmap(cm, annot=True, fmt='g', ax=ax, cmap = \"Blues\"); \n",
    "\n",
    "# labels, title and ticks\n",
    "ax.set_xlabel('Predicted labels');ax.set_ylabel('True labels'); \n",
    "ax.set_title('ZSL Confusion Matrix'); \n",
    "ax.xaxis.set_ticklabels(genre_tags); ax.yaxis.set_ticklabels(genre_tags);"
   ]
  },
  {
   "cell_type": "markdown",
   "metadata": {
    "id": "0RMRFZx0fzyS"
   },
   "source": [
    "# NER"
   ]
  },
  {
   "cell_type": "code",
   "execution_count": 13,
   "metadata": {
    "colab": {
     "base_uri": "https://localhost:8080/",
     "height": 105,
     "referenced_widgets": [
      "f7e1df9ba59548b98b9401385a84c438",
      "9d2de31365e047eca953642e263ca593",
      "2e16672a532541bfb923b758909d88d2",
      "4c45dea8cb774b17bd44fc5bd3085d70",
      "beaf129223fd4a7ebdb47910619e7a7d",
      "5efb81dbde3144769f615955914f22f6",
      "63f50467ad514fd18fc1ee61a636dac2",
      "6201aa81d13b45439f9351e6f3de0fb7",
      "0153cc3f3818478398ec51a72ca01f15",
      "403c113dcff44f7cb3a5ce2bc708055f",
      "a2cf3143d002452babb1297f485a4f30"
     ]
    },
    "id": "PIVC464Wjicp",
    "outputId": "d120bfd7-9383-439f-d076-ae427884223a"
   },
   "outputs": [
    {
     "name": "stdout",
     "output_type": "stream",
     "text": [
      "2022-06-02 08:17:07,435 loading file C:\\Users\\Erica\\.flair\\models\\ner-english\\4f4cdab26f24cb98b732b389e6cebc646c36f54cfd6e0b7d3b90b25656e4262f.8baa8ae8795f4df80b28e7f7b61d788ecbb057d1dc85aacb316f1bd02837a4a4\n",
      "2022-06-02 08:17:09,884 SequenceTagger predicts: Dictionary with 20 tags: <unk>, O, S-ORG, S-MISC, B-PER, E-PER, S-LOC, B-ORG, E-ORG, I-PER, S-PER, B-MISC, I-MISC, E-MISC, I-ORG, B-LOC, E-LOC, I-LOC, <START>, <STOP>\n"
     ]
    }
   ],
   "source": [
    "tagger = SequenceTagger.load('ner')"
   ]
  },
  {
   "cell_type": "code",
   "execution_count": 14,
   "metadata": {
    "id": "83ST9HH-f2EX"
   },
   "outputs": [],
   "source": [
    "def ner_extraction(summary): \n",
    "    sentence = Sentence(summary)\n",
    "    tagger.predict(sentence)\n",
    "    misc = []\n",
    "    loc = []\n",
    "    org = []\n",
    "    per = []\n",
    "    for label in sentence.get_labels('ner'):\n",
    "        if label.value == \"MISC\": \n",
    "            misc.append(label.data_point.text)\n",
    "        elif label.value == \"LOC\":\n",
    "            loc.append(label.data_point.text)\n",
    "        elif label.value == \"ORG\":\n",
    "            org.append(label.data_point.text)\n",
    "        elif label.value == \"PER\":\n",
    "            per.append(label.data_point.text)\n",
    "    return [misc, loc, org, per]"
   ]
  },
  {
   "cell_type": "code",
   "execution_count": 22,
   "metadata": {
    "id": "PnwWDveqgGVq",
    "tags": []
   },
   "outputs": [],
   "source": [
    "df_mistery['MISC'], df_mistery['LOC'], df_mistery['ORG'], df_mistery[\"PER\"] = zip(*df_mistery[\"book_desc\"].apply(lambda x: ner_extraction(x)))"
   ]
  },
  {
   "cell_type": "code",
   "execution_count": 23,
   "metadata": {
    "colab": {
     "base_uri": "https://localhost:8080/",
     "height": 262
    },
    "id": "QM-SES5UiYF6",
    "outputId": "c439bcda-691b-4838-f235-2e49291da5b0"
   },
   "outputs": [
    {
     "data": {
      "text/html": [
       "<div>\n",
       "<style scoped>\n",
       "    .dataframe tbody tr th:only-of-type {\n",
       "        vertical-align: middle;\n",
       "    }\n",
       "\n",
       "    .dataframe tbody tr th {\n",
       "        vertical-align: top;\n",
       "    }\n",
       "\n",
       "    .dataframe thead th {\n",
       "        text-align: right;\n",
       "    }\n",
       "</style>\n",
       "<table border=\"1\" class=\"dataframe\">\n",
       "  <thead>\n",
       "    <tr style=\"text-align: right;\">\n",
       "      <th></th>\n",
       "      <th>book_authors</th>\n",
       "      <th>book_desc</th>\n",
       "      <th>book_rating</th>\n",
       "      <th>book_title</th>\n",
       "      <th>genres</th>\n",
       "      <th>MISC</th>\n",
       "      <th>LOC</th>\n",
       "      <th>ORG</th>\n",
       "      <th>PER</th>\n",
       "    </tr>\n",
       "  </thead>\n",
       "  <tbody>\n",
       "    <tr>\n",
       "      <th>96</th>\n",
       "      <td>Agatha Christie</td>\n",
       "      <td>First, there were ten—a curious assortment of ...</td>\n",
       "      <td>4.25</td>\n",
       "      <td>And Then There Were None</td>\n",
       "      <td>Mystery</td>\n",
       "      <td>[]</td>\n",
       "      <td>[Devon]</td>\n",
       "      <td>[]</td>\n",
       "      <td>[]</td>\n",
       "    </tr>\n",
       "    <tr>\n",
       "      <th>192</th>\n",
       "      <td>Agatha Christie</td>\n",
       "      <td>En route to London, Belgian detective Hercule ...</td>\n",
       "      <td>4.16</td>\n",
       "      <td>Murder on the Orient Express</td>\n",
       "      <td>Mystery</td>\n",
       "      <td>[Belgian, American]</td>\n",
       "      <td>[London, Calais]</td>\n",
       "      <td>[Orient Express]</td>\n",
       "      <td>[Hercule Poirot, Poirot]</td>\n",
       "    </tr>\n",
       "    <tr>\n",
       "      <th>507</th>\n",
       "      <td>Ellen Raskin</td>\n",
       "      <td>A bizarre chain of events begins when sixteen ...</td>\n",
       "      <td>4.03</td>\n",
       "      <td>The Westing Game</td>\n",
       "      <td>Mystery</td>\n",
       "      <td>[]</td>\n",
       "      <td>[]</td>\n",
       "      <td>[]</td>\n",
       "      <td>[Samuel W. Westing, Sam Westing]</td>\n",
       "    </tr>\n",
       "    <tr>\n",
       "      <th>533</th>\n",
       "      <td>Janet Evanovich</td>\n",
       "      <td>Pestered by her close New Jersey family, Steph...</td>\n",
       "      <td>4.03</td>\n",
       "      <td>One for the Money</td>\n",
       "      <td>Mystery</td>\n",
       "      <td>[]</td>\n",
       "      <td>[New Jersey]</td>\n",
       "      <td>[]</td>\n",
       "      <td>[Stephanie Plum, Joe Morelli, Vinnie, Benito R...</td>\n",
       "    </tr>\n",
       "    <tr>\n",
       "      <th>559</th>\n",
       "      <td>Alexander McCall Smith</td>\n",
       "      <td>Precious Ramotswe has only just set up shop as...</td>\n",
       "      <td>3.77</td>\n",
       "      <td>The No. 1 Ladies' Detective Agency</td>\n",
       "      <td>Mystery</td>\n",
       "      <td>[]</td>\n",
       "      <td>[Botswana]</td>\n",
       "      <td>[]</td>\n",
       "      <td>[Precious Ramotswe]</td>\n",
       "    </tr>\n",
       "    <tr>\n",
       "      <th>...</th>\n",
       "      <td>...</td>\n",
       "      <td>...</td>\n",
       "      <td>...</td>\n",
       "      <td>...</td>\n",
       "      <td>...</td>\n",
       "      <td>...</td>\n",
       "      <td>...</td>\n",
       "      <td>...</td>\n",
       "      <td>...</td>\n",
       "    </tr>\n",
       "    <tr>\n",
       "      <th>26358</th>\n",
       "      <td>April Henry</td>\n",
       "      <td>In this new series told from multiple perspect...</td>\n",
       "      <td>3.83</td>\n",
       "      <td>The Body in the Woods</td>\n",
       "      <td>Mystery</td>\n",
       "      <td>[Henry ’s Point Last Seen YA]</td>\n",
       "      <td>[]</td>\n",
       "      <td>[Portland County Sheriff ’s Search and Rescue]</td>\n",
       "      <td>[Nick, Ruby, Alexis, Nick, Ruby]</td>\n",
       "    </tr>\n",
       "    <tr>\n",
       "      <th>26359</th>\n",
       "      <td>James Lee Burke</td>\n",
       "      <td>A routine assignment transporting two death-ro...</td>\n",
       "      <td>4.16</td>\n",
       "      <td>A Morning for Flamingos</td>\n",
       "      <td>Mystery</td>\n",
       "      <td>[Cajun]</td>\n",
       "      <td>[New Orleans]</td>\n",
       "      <td>[DEA]</td>\n",
       "      <td>[Dave Robicheaux, Dave, Tony Cardo]</td>\n",
       "    </tr>\n",
       "    <tr>\n",
       "      <th>26368</th>\n",
       "      <td>Charlaine Harris</td>\n",
       "      <td>Welcome to Shakespeare, Arkansas. Lily Bard ca...</td>\n",
       "      <td>3.76</td>\n",
       "      <td>Shakespeare's Landlord</td>\n",
       "      <td>Mystery</td>\n",
       "      <td>[Shakespeare.Shakespeare's Landlord, Lily Bard]</td>\n",
       "      <td>[Shakespeare, Arkansas, Shakespeare]</td>\n",
       "      <td>[]</td>\n",
       "      <td>[Lily Bard, Lily, Charlaine Harris]</td>\n",
       "    </tr>\n",
       "    <tr>\n",
       "      <th>26393</th>\n",
       "      <td>Carolyn Keene</td>\n",
       "      <td>Nancy and her friends witness an explosion and...</td>\n",
       "      <td>3.94</td>\n",
       "      <td>The Clue in the Diary</td>\n",
       "      <td>Mystery</td>\n",
       "      <td>[]</td>\n",
       "      <td>[]</td>\n",
       "      <td>[]</td>\n",
       "      <td>[Nancy, Nancy, Nancy, Nancy Drew, Nancy Drew]</td>\n",
       "    </tr>\n",
       "    <tr>\n",
       "      <th>26441</th>\n",
       "      <td>Emma  Michaels</td>\n",
       "      <td>'Anasazi', sequel to 'The Thirteenth Chime' by...</td>\n",
       "      <td>4.16</td>\n",
       "      <td>Anasazi</td>\n",
       "      <td>Mystery</td>\n",
       "      <td>[Anasazi, The Thirteenth Chime]</td>\n",
       "      <td>[]</td>\n",
       "      <td>[]</td>\n",
       "      <td>[Emma Michaels, David, David]</td>\n",
       "    </tr>\n",
       "  </tbody>\n",
       "</table>\n",
       "<p>1793 rows × 9 columns</p>\n",
       "</div>"
      ],
      "text/plain": [
       "                 book_authors  \\\n",
       "96            Agatha Christie   \n",
       "192           Agatha Christie   \n",
       "507              Ellen Raskin   \n",
       "533           Janet Evanovich   \n",
       "559    Alexander McCall Smith   \n",
       "...                       ...   \n",
       "26358             April Henry   \n",
       "26359         James Lee Burke   \n",
       "26368        Charlaine Harris   \n",
       "26393           Carolyn Keene   \n",
       "26441          Emma  Michaels   \n",
       "\n",
       "                                               book_desc  book_rating  \\\n",
       "96     First, there were ten—a curious assortment of ...         4.25   \n",
       "192    En route to London, Belgian detective Hercule ...         4.16   \n",
       "507    A bizarre chain of events begins when sixteen ...         4.03   \n",
       "533    Pestered by her close New Jersey family, Steph...         4.03   \n",
       "559    Precious Ramotswe has only just set up shop as...         3.77   \n",
       "...                                                  ...          ...   \n",
       "26358  In this new series told from multiple perspect...         3.83   \n",
       "26359  A routine assignment transporting two death-ro...         4.16   \n",
       "26368  Welcome to Shakespeare, Arkansas. Lily Bard ca...         3.76   \n",
       "26393  Nancy and her friends witness an explosion and...         3.94   \n",
       "26441  'Anasazi', sequel to 'The Thirteenth Chime' by...         4.16   \n",
       "\n",
       "                               book_title   genres  \\\n",
       "96               And Then There Were None  Mystery   \n",
       "192          Murder on the Orient Express  Mystery   \n",
       "507                      The Westing Game  Mystery   \n",
       "533                     One for the Money  Mystery   \n",
       "559    The No. 1 Ladies' Detective Agency  Mystery   \n",
       "...                                   ...      ...   \n",
       "26358               The Body in the Woods  Mystery   \n",
       "26359             A Morning for Flamingos  Mystery   \n",
       "26368              Shakespeare's Landlord  Mystery   \n",
       "26393               The Clue in the Diary  Mystery   \n",
       "26441                             Anasazi  Mystery   \n",
       "\n",
       "                                                  MISC  \\\n",
       "96                                                  []   \n",
       "192                                [Belgian, American]   \n",
       "507                                                 []   \n",
       "533                                                 []   \n",
       "559                                                 []   \n",
       "...                                                ...   \n",
       "26358                    [Henry ’s Point Last Seen YA]   \n",
       "26359                                          [Cajun]   \n",
       "26368  [Shakespeare.Shakespeare's Landlord, Lily Bard]   \n",
       "26393                                               []   \n",
       "26441                  [Anasazi, The Thirteenth Chime]   \n",
       "\n",
       "                                        LOC  \\\n",
       "96                                  [Devon]   \n",
       "192                        [London, Calais]   \n",
       "507                                      []   \n",
       "533                            [New Jersey]   \n",
       "559                              [Botswana]   \n",
       "...                                     ...   \n",
       "26358                                    []   \n",
       "26359                         [New Orleans]   \n",
       "26368  [Shakespeare, Arkansas, Shakespeare]   \n",
       "26393                                    []   \n",
       "26441                                    []   \n",
       "\n",
       "                                                  ORG  \\\n",
       "96                                                 []   \n",
       "192                                  [Orient Express]   \n",
       "507                                                []   \n",
       "533                                                []   \n",
       "559                                                []   \n",
       "...                                               ...   \n",
       "26358  [Portland County Sheriff ’s Search and Rescue]   \n",
       "26359                                           [DEA]   \n",
       "26368                                              []   \n",
       "26393                                              []   \n",
       "26441                                              []   \n",
       "\n",
       "                                                     PER  \n",
       "96                                                    []  \n",
       "192                             [Hercule Poirot, Poirot]  \n",
       "507                     [Samuel W. Westing, Sam Westing]  \n",
       "533    [Stephanie Plum, Joe Morelli, Vinnie, Benito R...  \n",
       "559                                  [Precious Ramotswe]  \n",
       "...                                                  ...  \n",
       "26358                   [Nick, Ruby, Alexis, Nick, Ruby]  \n",
       "26359                [Dave Robicheaux, Dave, Tony Cardo]  \n",
       "26368                [Lily Bard, Lily, Charlaine Harris]  \n",
       "26393      [Nancy, Nancy, Nancy, Nancy Drew, Nancy Drew]  \n",
       "26441                      [Emma Michaels, David, David]  \n",
       "\n",
       "[1793 rows x 9 columns]"
      ]
     },
     "execution_count": 23,
     "metadata": {},
     "output_type": "execute_result"
    }
   ],
   "source": [
    "df_mistery"
   ]
  },
  {
   "cell_type": "code",
   "execution_count": 24,
   "metadata": {
    "id": "jdCaXrJSm0cR"
   },
   "outputs": [],
   "source": [
    "df_mistery.to_csv(\"data/ner_mistery.csv\")"
   ]
  },
  {
   "cell_type": "code",
   "execution_count": 34,
   "metadata": {},
   "outputs": [],
   "source": [
    "df_scifi['MISC'], df_scifi['LOC'], df_scifi['ORG'], df_scifi[\"PER\"] = zip(*df_scifi[\"book_desc\"].apply(lambda x: ner_extraction(x)))"
   ]
  },
  {
   "cell_type": "code",
   "execution_count": 35,
   "metadata": {},
   "outputs": [],
   "source": [
    "df_scifi.to_csv(\"data/ner_scifi.csv\")"
   ]
  },
  {
   "cell_type": "code",
   "execution_count": 16,
   "metadata": {},
   "outputs": [],
   "source": [
    "df_romance['MISC'], df_romance['LOC'], df_romance['ORG'], df_romance[\"PER\"] = zip(*df_romance[\"book_desc\"].apply(lambda x: ner_extraction(x)))"
   ]
  },
  {
   "cell_type": "code",
   "execution_count": 17,
   "metadata": {},
   "outputs": [],
   "source": [
    "df_romance.to_csv(\"data/ner_romance.csv\")"
   ]
  },
  {
   "cell_type": "code",
   "execution_count": 18,
   "metadata": {},
   "outputs": [],
   "source": [
    "df_fantasy['MISC'], df_fantasy['LOC'], df_fantasy['ORG'], df_fantasy[\"PER\"] = zip(*df_fantasy[\"book_desc\"].apply(lambda x: ner_extraction(x)))"
   ]
  },
  {
   "cell_type": "code",
   "execution_count": 19,
   "metadata": {},
   "outputs": [],
   "source": [
    "df_fantasy.to_csv(\"data/ner_fantasy.csv\")"
   ]
  }
 ],
 "metadata": {
  "accelerator": "GPU",
  "colab": {
   "collapsed_sections": [],
   "name": "ZSL_genre_classification&NER.ipynb",
   "provenance": []
  },
  "kernelspec": {
   "display_name": "Python 3",
   "language": "python",
   "name": "python3"
  },
  "language_info": {
   "codemirror_mode": {
    "name": "ipython",
    "version": 3
   },
   "file_extension": ".py",
   "mimetype": "text/x-python",
   "name": "python",
   "nbconvert_exporter": "python",
   "pygments_lexer": "ipython3",
   "version": "3.8.5"
  },
  "varInspector": {
   "cols": {
    "lenName": 16,
    "lenType": 16,
    "lenVar": 40
   },
   "kernels_config": {
    "python": {
     "delete_cmd_postfix": "",
     "delete_cmd_prefix": "del ",
     "library": "var_list.py",
     "varRefreshCmd": "print(var_dic_list())"
    },
    "r": {
     "delete_cmd_postfix": ") ",
     "delete_cmd_prefix": "rm(",
     "library": "var_list.r",
     "varRefreshCmd": "cat(var_dic_list()) "
    }
   },
   "types_to_exclude": [
    "module",
    "function",
    "builtin_function_or_method",
    "instance",
    "_Feature"
   ],
   "window_display": false
  },
  "widgets": {
   "application/vnd.jupyter.widget-state+json": {
    "0153cc3f3818478398ec51a72ca01f15": {
     "model_module": "@jupyter-widgets/controls",
     "model_module_version": "1.5.0",
     "model_name": "ProgressStyleModel",
     "state": {
      "_model_module": "@jupyter-widgets/controls",
      "_model_module_version": "1.5.0",
      "_model_name": "ProgressStyleModel",
      "_view_count": null,
      "_view_module": "@jupyter-widgets/base",
      "_view_module_version": "1.2.0",
      "_view_name": "StyleView",
      "bar_color": null,
      "description_width": ""
     }
    },
    "2e16672a532541bfb923b758909d88d2": {
     "model_module": "@jupyter-widgets/controls",
     "model_module_version": "1.5.0",
     "model_name": "FloatProgressModel",
     "state": {
      "_dom_classes": [],
      "_model_module": "@jupyter-widgets/controls",
      "_model_module_version": "1.5.0",
      "_model_name": "FloatProgressModel",
      "_view_count": null,
      "_view_module": "@jupyter-widgets/controls",
      "_view_module_version": "1.5.0",
      "_view_name": "ProgressView",
      "bar_style": "success",
      "description": "",
      "description_tooltip": null,
      "layout": "IPY_MODEL_6201aa81d13b45439f9351e6f3de0fb7",
      "max": 432176557,
      "min": 0,
      "orientation": "horizontal",
      "style": "IPY_MODEL_0153cc3f3818478398ec51a72ca01f15",
      "value": 432176557
     }
    },
    "403c113dcff44f7cb3a5ce2bc708055f": {
     "model_module": "@jupyter-widgets/base",
     "model_module_version": "1.2.0",
     "model_name": "LayoutModel",
     "state": {
      "_model_module": "@jupyter-widgets/base",
      "_model_module_version": "1.2.0",
      "_model_name": "LayoutModel",
      "_view_count": null,
      "_view_module": "@jupyter-widgets/base",
      "_view_module_version": "1.2.0",
      "_view_name": "LayoutView",
      "align_content": null,
      "align_items": null,
      "align_self": null,
      "border": null,
      "bottom": null,
      "display": null,
      "flex": null,
      "flex_flow": null,
      "grid_area": null,
      "grid_auto_columns": null,
      "grid_auto_flow": null,
      "grid_auto_rows": null,
      "grid_column": null,
      "grid_gap": null,
      "grid_row": null,
      "grid_template_areas": null,
      "grid_template_columns": null,
      "grid_template_rows": null,
      "height": null,
      "justify_content": null,
      "justify_items": null,
      "left": null,
      "margin": null,
      "max_height": null,
      "max_width": null,
      "min_height": null,
      "min_width": null,
      "object_fit": null,
      "object_position": null,
      "order": null,
      "overflow": null,
      "overflow_x": null,
      "overflow_y": null,
      "padding": null,
      "right": null,
      "top": null,
      "visibility": null,
      "width": null
     }
    },
    "4c45dea8cb774b17bd44fc5bd3085d70": {
     "model_module": "@jupyter-widgets/controls",
     "model_module_version": "1.5.0",
     "model_name": "HTMLModel",
     "state": {
      "_dom_classes": [],
      "_model_module": "@jupyter-widgets/controls",
      "_model_module_version": "1.5.0",
      "_model_name": "HTMLModel",
      "_view_count": null,
      "_view_module": "@jupyter-widgets/controls",
      "_view_module_version": "1.5.0",
      "_view_name": "HTMLView",
      "description": "",
      "description_tooltip": null,
      "layout": "IPY_MODEL_403c113dcff44f7cb3a5ce2bc708055f",
      "placeholder": "​",
      "style": "IPY_MODEL_a2cf3143d002452babb1297f485a4f30",
      "value": " 432M/432M [00:06&lt;00:00, 60.9MB/s]"
     }
    },
    "5efb81dbde3144769f615955914f22f6": {
     "model_module": "@jupyter-widgets/base",
     "model_module_version": "1.2.0",
     "model_name": "LayoutModel",
     "state": {
      "_model_module": "@jupyter-widgets/base",
      "_model_module_version": "1.2.0",
      "_model_name": "LayoutModel",
      "_view_count": null,
      "_view_module": "@jupyter-widgets/base",
      "_view_module_version": "1.2.0",
      "_view_name": "LayoutView",
      "align_content": null,
      "align_items": null,
      "align_self": null,
      "border": null,
      "bottom": null,
      "display": null,
      "flex": null,
      "flex_flow": null,
      "grid_area": null,
      "grid_auto_columns": null,
      "grid_auto_flow": null,
      "grid_auto_rows": null,
      "grid_column": null,
      "grid_gap": null,
      "grid_row": null,
      "grid_template_areas": null,
      "grid_template_columns": null,
      "grid_template_rows": null,
      "height": null,
      "justify_content": null,
      "justify_items": null,
      "left": null,
      "margin": null,
      "max_height": null,
      "max_width": null,
      "min_height": null,
      "min_width": null,
      "object_fit": null,
      "object_position": null,
      "order": null,
      "overflow": null,
      "overflow_x": null,
      "overflow_y": null,
      "padding": null,
      "right": null,
      "top": null,
      "visibility": null,
      "width": null
     }
    },
    "6201aa81d13b45439f9351e6f3de0fb7": {
     "model_module": "@jupyter-widgets/base",
     "model_module_version": "1.2.0",
     "model_name": "LayoutModel",
     "state": {
      "_model_module": "@jupyter-widgets/base",
      "_model_module_version": "1.2.0",
      "_model_name": "LayoutModel",
      "_view_count": null,
      "_view_module": "@jupyter-widgets/base",
      "_view_module_version": "1.2.0",
      "_view_name": "LayoutView",
      "align_content": null,
      "align_items": null,
      "align_self": null,
      "border": null,
      "bottom": null,
      "display": null,
      "flex": null,
      "flex_flow": null,
      "grid_area": null,
      "grid_auto_columns": null,
      "grid_auto_flow": null,
      "grid_auto_rows": null,
      "grid_column": null,
      "grid_gap": null,
      "grid_row": null,
      "grid_template_areas": null,
      "grid_template_columns": null,
      "grid_template_rows": null,
      "height": null,
      "justify_content": null,
      "justify_items": null,
      "left": null,
      "margin": null,
      "max_height": null,
      "max_width": null,
      "min_height": null,
      "min_width": null,
      "object_fit": null,
      "object_position": null,
      "order": null,
      "overflow": null,
      "overflow_x": null,
      "overflow_y": null,
      "padding": null,
      "right": null,
      "top": null,
      "visibility": null,
      "width": null
     }
    },
    "63f50467ad514fd18fc1ee61a636dac2": {
     "model_module": "@jupyter-widgets/controls",
     "model_module_version": "1.5.0",
     "model_name": "DescriptionStyleModel",
     "state": {
      "_model_module": "@jupyter-widgets/controls",
      "_model_module_version": "1.5.0",
      "_model_name": "DescriptionStyleModel",
      "_view_count": null,
      "_view_module": "@jupyter-widgets/base",
      "_view_module_version": "1.2.0",
      "_view_name": "StyleView",
      "description_width": ""
     }
    },
    "9d2de31365e047eca953642e263ca593": {
     "model_module": "@jupyter-widgets/controls",
     "model_module_version": "1.5.0",
     "model_name": "HTMLModel",
     "state": {
      "_dom_classes": [],
      "_model_module": "@jupyter-widgets/controls",
      "_model_module_version": "1.5.0",
      "_model_name": "HTMLModel",
      "_view_count": null,
      "_view_module": "@jupyter-widgets/controls",
      "_view_module_version": "1.5.0",
      "_view_name": "HTMLView",
      "description": "",
      "description_tooltip": null,
      "layout": "IPY_MODEL_5efb81dbde3144769f615955914f22f6",
      "placeholder": "​",
      "style": "IPY_MODEL_63f50467ad514fd18fc1ee61a636dac2",
      "value": "Downloading: 100%"
     }
    },
    "a2cf3143d002452babb1297f485a4f30": {
     "model_module": "@jupyter-widgets/controls",
     "model_module_version": "1.5.0",
     "model_name": "DescriptionStyleModel",
     "state": {
      "_model_module": "@jupyter-widgets/controls",
      "_model_module_version": "1.5.0",
      "_model_name": "DescriptionStyleModel",
      "_view_count": null,
      "_view_module": "@jupyter-widgets/base",
      "_view_module_version": "1.2.0",
      "_view_name": "StyleView",
      "description_width": ""
     }
    },
    "beaf129223fd4a7ebdb47910619e7a7d": {
     "model_module": "@jupyter-widgets/base",
     "model_module_version": "1.2.0",
     "model_name": "LayoutModel",
     "state": {
      "_model_module": "@jupyter-widgets/base",
      "_model_module_version": "1.2.0",
      "_model_name": "LayoutModel",
      "_view_count": null,
      "_view_module": "@jupyter-widgets/base",
      "_view_module_version": "1.2.0",
      "_view_name": "LayoutView",
      "align_content": null,
      "align_items": null,
      "align_self": null,
      "border": null,
      "bottom": null,
      "display": null,
      "flex": null,
      "flex_flow": null,
      "grid_area": null,
      "grid_auto_columns": null,
      "grid_auto_flow": null,
      "grid_auto_rows": null,
      "grid_column": null,
      "grid_gap": null,
      "grid_row": null,
      "grid_template_areas": null,
      "grid_template_columns": null,
      "grid_template_rows": null,
      "height": null,
      "justify_content": null,
      "justify_items": null,
      "left": null,
      "margin": null,
      "max_height": null,
      "max_width": null,
      "min_height": null,
      "min_width": null,
      "object_fit": null,
      "object_position": null,
      "order": null,
      "overflow": null,
      "overflow_x": null,
      "overflow_y": null,
      "padding": null,
      "right": null,
      "top": null,
      "visibility": null,
      "width": null
     }
    },
    "f7e1df9ba59548b98b9401385a84c438": {
     "model_module": "@jupyter-widgets/controls",
     "model_module_version": "1.5.0",
     "model_name": "HBoxModel",
     "state": {
      "_dom_classes": [],
      "_model_module": "@jupyter-widgets/controls",
      "_model_module_version": "1.5.0",
      "_model_name": "HBoxModel",
      "_view_count": null,
      "_view_module": "@jupyter-widgets/controls",
      "_view_module_version": "1.5.0",
      "_view_name": "HBoxView",
      "box_style": "",
      "children": [
       "IPY_MODEL_9d2de31365e047eca953642e263ca593",
       "IPY_MODEL_2e16672a532541bfb923b758909d88d2",
       "IPY_MODEL_4c45dea8cb774b17bd44fc5bd3085d70"
      ],
      "layout": "IPY_MODEL_beaf129223fd4a7ebdb47910619e7a7d"
     }
    }
   }
  }
 },
 "nbformat": 4,
 "nbformat_minor": 4
}
